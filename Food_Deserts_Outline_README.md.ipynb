{
 "cells": [
  {
   "cell_type": "markdown",
   "metadata": {},
   "source": [
    "# Project Proposal Outline "
   ]
  },
  {
   "cell_type": "markdown",
   "metadata": {},
   "source": [
    "### - Food Deserts - TX cities: Laredo, Austin, Houston, Dallas,Laredo"
   ]
  },
  {
   "cell_type": "raw",
   "metadata": {},
   "source": [
    "-Correlation & Analysis in relation to distances from city to nearest grocery stores via two modes of transit: Bus & Driving \n",
    "-school addresses to nearest grocery by public transportation\n",
    "-school addresses to nearest grocery by car\n",
    "\n",
    "Texas Major Cities:\n",
    "Houston\n",
    "Laredo\n",
    "Austin\n",
    "Dallas\n",
    "San Antonio"
   ]
  },
  {
   "cell_type": "markdown",
   "metadata": {},
   "source": [
    "### Questions that we will ask from this given data:\n",
    "\n",
    "1. What is the (mean) Poverty level and distance to grocery stores for neighborhoods(zipcodes) that qualify as a food desert?\n",
    "\n",
    "2. a) Is there any correlation between the poverty level in a neighborhood and the driving distance to a grocery store? \n",
    "    b)Is there any correlation between the poverty level in a neighborhood and the distance using public transporation\n",
    "    \n",
    "3. Is there any correlation between other demographic data such as (race/ethnicity) and distance to a grocery store?\n"
   ]
  },
  {
   "cell_type": "markdown",
   "metadata": {},
   "source": [
    "### Sources for data to date: \n",
    "    - USDA\n",
    "    - U.S. Census\n",
    "    - Google Maps Platform \n",
    "        *Nearby search\n",
    "        *Places\n",
    "        *Distance Matrix"
   ]
  },
  {
   "cell_type": "code",
   "execution_count": null,
   "metadata": {},
   "outputs": [],
   "source": []
  }
 ],
 "metadata": {
  "kernelspec": {
   "display_name": "Conda [PythonData]",
   "language": "python",
   "name": "pythondata"
  },
  "language_info": {
   "codemirror_mode": {
    "name": "ipython",
    "version": 3
   },
   "file_extension": ".py",
   "mimetype": "text/x-python",
   "name": "python",
   "nbconvert_exporter": "python",
   "pygments_lexer": "ipython3",
   "version": "3.6.9"
  }
 },
 "nbformat": 4,
 "nbformat_minor": 2
}

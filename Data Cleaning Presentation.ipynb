{
 "cells": [
  {
   "cell_type": "code",
   "execution_count": 52,
   "metadata": {},
   "outputs": [],
   "source": [
    "import pandas as pd\n",
    "from config import gkey\n",
    "import numpy as np\n",
    "import requests\n",
    "import json\n",
    "import geopy.distance as gp"
   ]
  },
  {
   "cell_type": "markdown",
   "metadata": {},
   "source": [
    "I created a csv of school names, addresses, and poverty level from a PDF provided by the U.S. Department of Education. Obtaining and cleaning that data took roughly six hours. Using the csv I made, I used Google's geolocation API to get each school's latitude and longitude. \n",
    "\n",
    "Next I needed to find nearby grocery stores. I decided to look up grocery stores within a 10-kilometer radius of the center of Austin by the type 'supermarket'. My rationale for taking this approach was that I could use geopy to compare school coordinates to grocery store coordinates and find the closest sets. It worked, but turned out to be not the most efficient route to take.\n",
    "\n",
    "Using the nearby search API, I pulled the data on grocery stores."
   ]
  },
  {
   "cell_type": "code",
   "execution_count": 44,
   "metadata": {},
   "outputs": [],
   "source": [
    "Austin_lat = 30.267153\n",
    "Austin_long = -97.7430608 \n",
    "lat_long = [Austin_lat,Austin_long]\n",
    "base_url = \"https://maps.googleapis.com/maps/api/place/nearbysearch/json?\"\n",
    "\n",
    "params = {\"key\": gkey, \n",
    "          \"location\": f\"{Austin_lat},{Austin_long}\", \n",
    "          \"radius\": 10000, \n",
    "          \"type\": \"supermarket\"}"
   ]
  },
  {
   "cell_type": "code",
   "execution_count": 45,
   "metadata": {},
   "outputs": [],
   "source": [
    "data = requests.get(base_url, params = params).json()"
   ]
  },
  {
   "cell_type": "markdown",
   "metadata": {},
   "source": [
    "I created a series of arrays to hold output. This loop uses i as a counter and runs through the first 20 google returns (page 1). "
   ]
  },
  {
   "cell_type": "code",
   "execution_count": 46,
   "metadata": {},
   "outputs": [],
   "source": [
    "name = []\n",
    "lat = []\n",
    "long = []\n",
    "address = []\n",
    "\n",
    "i = 0\n",
    "\n",
    "while i < 20:\n",
    "    \n",
    "    name.append(data[\"results\"][i][\"name\"]),\n",
    "    lat.append(data[\"results\"][i][\"geometry\"][\"location\"][\"lat\"]),\n",
    "    long.append(data[\"results\"][i][\"geometry\"][\"location\"][\"lng\"]),\n",
    "    address.append(data[\"results\"][i][\"vicinity\"])\n",
    "    \n",
    "    i += 1"
   ]
  },
  {
   "cell_type": "markdown",
   "metadata": {},
   "source": [
    "A quick look at the first 10 entries in the list 'name' shows that HEB and Randalls are both missing. Moreover, Family Dollar, a store that doesn't meet our criteria of having fresh fruits and vegetables available, needed to be cleaned from the dataset. "
   ]
  },
  {
   "cell_type": "code",
   "execution_count": 48,
   "metadata": {},
   "outputs": [
    {
     "data": {
      "text/plain": [
       "[\"Trader Joe's\",\n",
       " 'Walmart Supercenter',\n",
       " 'Wheatsville Food Co-Op',\n",
       " 'Walmart Supercenter',\n",
       " 'Fiesta Mart',\n",
       " 'Walmart Supercenter',\n",
       " 'Fiesta Mart',\n",
       " 'Family Dollar',\n",
       " 'Family Dollar',\n",
       " 'Walmart Supercenter']"
      ]
     },
     "execution_count": 48,
     "metadata": {},
     "output_type": "execute_result"
    }
   ],
   "source": [
    "name[0:10]"
   ]
  },
  {
   "cell_type": "markdown",
   "metadata": {},
   "source": [
    "I used next_page_token to continue the Google search (not shown). To find HEB and, later, Randalls stores in Austin, I used the same procedure as above, but changed the type from supermarket and instead chose to use a name to match."
   ]
  },
  {
   "cell_type": "code",
   "execution_count": 4,
   "metadata": {},
   "outputs": [],
   "source": [
    "params = {\"key\": gkey, \n",
    "          \"location\": f\"{Austin_lat},{Austin_long}\", \n",
    "          \"radius\": 10000, \n",
    "          \"name\": \"HEB\"}\n"
   ]
  },
  {
   "cell_type": "markdown",
   "metadata": {},
   "source": [
    "Checking the data assured me that I was on the right track."
   ]
  },
  {
   "cell_type": "code",
   "execution_count": 17,
   "metadata": {},
   "outputs": [
    {
     "data": {
      "text/plain": [
       "'H-E-B'"
      ]
     },
     "execution_count": 17,
     "metadata": {},
     "output_type": "execute_result"
    }
   ],
   "source": [
    "data[\"results\"][0][\"name\"]"
   ]
  },
  {
   "cell_type": "markdown",
   "metadata": {},
   "source": [
    "Again, I created a series of arrays to hold output and dropped them into a dataframe."
   ]
  },
  {
   "cell_type": "code",
   "execution_count": 34,
   "metadata": {},
   "outputs": [],
   "source": [
    "df = pd.DataFrame()\n",
    "df[\"Store Name\"] = name\n",
    "df[\"Store Address\"] = address\n",
    "df[\"Lat\"] = lat\n",
    "df[\"Long\"] = long"
   ]
  },
  {
   "cell_type": "markdown",
   "metadata": {},
   "source": [
    "The head looks good, but as you get to the tail, you see that there are stores that show up multiple times. They have bakeries within them that have slightly different latitudes/longitudes. Similarly, a fuel station also appeared in the dataset."
   ]
  },
  {
   "cell_type": "code",
   "execution_count": 36,
   "metadata": {},
   "outputs": [
    {
     "data": {
      "text/html": [
       "<div>\n",
       "<style scoped>\n",
       "    .dataframe tbody tr th:only-of-type {\n",
       "        vertical-align: middle;\n",
       "    }\n",
       "\n",
       "    .dataframe tbody tr th {\n",
       "        vertical-align: top;\n",
       "    }\n",
       "\n",
       "    .dataframe thead th {\n",
       "        text-align: right;\n",
       "    }\n",
       "</style>\n",
       "<table border=\"1\" class=\"dataframe\">\n",
       "  <thead>\n",
       "    <tr style=\"text-align: right;\">\n",
       "      <th></th>\n",
       "      <th>Store Name</th>\n",
       "      <th>Store Address</th>\n",
       "      <th>Lat</th>\n",
       "      <th>Long</th>\n",
       "    </tr>\n",
       "  </thead>\n",
       "  <tbody>\n",
       "    <tr>\n",
       "      <th>18</th>\n",
       "      <td>H-E-B Bakery</td>\n",
       "      <td>West Lake Hills</td>\n",
       "      <td>30.291743</td>\n",
       "      <td>-97.824836</td>\n",
       "    </tr>\n",
       "    <tr>\n",
       "      <th>19</th>\n",
       "      <td>H-E-B Bakery</td>\n",
       "      <td>2400 S Congress Ave, Austin</td>\n",
       "      <td>30.238694</td>\n",
       "      <td>-97.754756</td>\n",
       "    </tr>\n",
       "  </tbody>\n",
       "</table>\n",
       "</div>"
      ],
      "text/plain": [
       "      Store Name                Store Address        Lat       Long\n",
       "18  H-E-B Bakery              West Lake Hills  30.291743 -97.824836\n",
       "19  H-E-B Bakery  2400 S Congress Ave, Austin  30.238694 -97.754756"
      ]
     },
     "execution_count": 36,
     "metadata": {},
     "output_type": "execute_result"
    }
   ],
   "source": [
    "df.tail(2)"
   ]
  },
  {
   "cell_type": "code",
   "execution_count": 37,
   "metadata": {},
   "outputs": [],
   "source": [
    "df = df.drop_duplicates(subset = [\"Store Address\"])"
   ]
  },
  {
   "cell_type": "markdown",
   "metadata": {},
   "source": [
    "Getting rid of duplicates by address was helpful, but not all bakeries had the full address listed."
   ]
  },
  {
   "cell_type": "code",
   "execution_count": 38,
   "metadata": {},
   "outputs": [
    {
     "data": {
      "text/html": [
       "<div>\n",
       "<style scoped>\n",
       "    .dataframe tbody tr th:only-of-type {\n",
       "        vertical-align: middle;\n",
       "    }\n",
       "\n",
       "    .dataframe tbody tr th {\n",
       "        vertical-align: top;\n",
       "    }\n",
       "\n",
       "    .dataframe thead th {\n",
       "        text-align: right;\n",
       "    }\n",
       "</style>\n",
       "<table border=\"1\" class=\"dataframe\">\n",
       "  <thead>\n",
       "    <tr style=\"text-align: right;\">\n",
       "      <th></th>\n",
       "      <th>Store Name</th>\n",
       "      <th>Store Address</th>\n",
       "      <th>Lat</th>\n",
       "      <th>Long</th>\n",
       "    </tr>\n",
       "  </thead>\n",
       "  <tbody>\n",
       "    <tr>\n",
       "      <th>13</th>\n",
       "      <td>H-E-B</td>\n",
       "      <td>2110 W Slaughter Ln, Austin</td>\n",
       "      <td>30.175379</td>\n",
       "      <td>-97.825078</td>\n",
       "    </tr>\n",
       "    <tr>\n",
       "      <th>16</th>\n",
       "      <td>H-E-B Bakery</td>\n",
       "      <td>Austin</td>\n",
       "      <td>30.216230</td>\n",
       "      <td>-97.831086</td>\n",
       "    </tr>\n",
       "    <tr>\n",
       "      <th>18</th>\n",
       "      <td>H-E-B Bakery</td>\n",
       "      <td>West Lake Hills</td>\n",
       "      <td>30.291743</td>\n",
       "      <td>-97.824836</td>\n",
       "    </tr>\n",
       "  </tbody>\n",
       "</table>\n",
       "</div>"
      ],
      "text/plain": [
       "      Store Name                Store Address        Lat       Long\n",
       "13         H-E-B  2110 W Slaughter Ln, Austin  30.175379 -97.825078\n",
       "16  H-E-B Bakery                       Austin  30.216230 -97.831086\n",
       "18  H-E-B Bakery              West Lake Hills  30.291743 -97.824836"
      ]
     },
     "execution_count": 38,
     "metadata": {},
     "output_type": "execute_result"
    }
   ],
   "source": [
    "df.tail(3)"
   ]
  },
  {
   "cell_type": "markdown",
   "metadata": {},
   "source": [
    "A quick look at the entire dataframe showed that stores 11, 16, and 18 are duplicates. I dropped those by index."
   ]
  },
  {
   "cell_type": "code",
   "execution_count": 39,
   "metadata": {},
   "outputs": [
    {
     "data": {
      "text/html": [
       "<div>\n",
       "<style scoped>\n",
       "    .dataframe tbody tr th:only-of-type {\n",
       "        vertical-align: middle;\n",
       "    }\n",
       "\n",
       "    .dataframe tbody tr th {\n",
       "        vertical-align: top;\n",
       "    }\n",
       "\n",
       "    .dataframe thead th {\n",
       "        text-align: right;\n",
       "    }\n",
       "</style>\n",
       "<table border=\"1\" class=\"dataframe\">\n",
       "  <thead>\n",
       "    <tr style=\"text-align: right;\">\n",
       "      <th></th>\n",
       "      <th>Store Name</th>\n",
       "      <th>Store Address</th>\n",
       "      <th>Lat</th>\n",
       "      <th>Long</th>\n",
       "    </tr>\n",
       "  </thead>\n",
       "  <tbody>\n",
       "    <tr>\n",
       "      <th>0</th>\n",
       "      <td>H-E-B</td>\n",
       "      <td>6900 Brodie Ln, Austin</td>\n",
       "      <td>30.216283</td>\n",
       "      <td>-97.830987</td>\n",
       "    </tr>\n",
       "    <tr>\n",
       "      <th>1</th>\n",
       "      <td>H-E-B</td>\n",
       "      <td>600 W William Cannon Dr, Austin</td>\n",
       "      <td>30.197923</td>\n",
       "      <td>-97.786481</td>\n",
       "    </tr>\n",
       "    <tr>\n",
       "      <th>2</th>\n",
       "      <td>H-E-B</td>\n",
       "      <td>2400 S Congress Ave, Austin</td>\n",
       "      <td>30.238729</td>\n",
       "      <td>-97.755227</td>\n",
       "    </tr>\n",
       "    <tr>\n",
       "      <th>3</th>\n",
       "      <td>H-E-B</td>\n",
       "      <td>6607 S IH 35 Frontage Rd, Austin</td>\n",
       "      <td>30.188724</td>\n",
       "      <td>-97.768718</td>\n",
       "    </tr>\n",
       "    <tr>\n",
       "      <th>4</th>\n",
       "      <td>H-E-B</td>\n",
       "      <td>701 N Capital of Texas Hwy Bld C, West Lake Hills</td>\n",
       "      <td>30.291796</td>\n",
       "      <td>-97.825190</td>\n",
       "    </tr>\n",
       "    <tr>\n",
       "      <th>5</th>\n",
       "      <td>H-E-B</td>\n",
       "      <td>1000 E 41st St, Austin</td>\n",
       "      <td>30.300637</td>\n",
       "      <td>-97.719957</td>\n",
       "    </tr>\n",
       "    <tr>\n",
       "      <th>6</th>\n",
       "      <td>H-E-B plus!</td>\n",
       "      <td>2508 E Riverside Dr, Austin</td>\n",
       "      <td>30.236523</td>\n",
       "      <td>-97.722073</td>\n",
       "    </tr>\n",
       "    <tr>\n",
       "      <th>7</th>\n",
       "      <td>H-E-B</td>\n",
       "      <td>2701 E 7th St, Austin</td>\n",
       "      <td>30.259124</td>\n",
       "      <td>-97.711619</td>\n",
       "    </tr>\n",
       "    <tr>\n",
       "      <th>8</th>\n",
       "      <td>H-E-B</td>\n",
       "      <td>5808 Burnet Rd, Austin</td>\n",
       "      <td>30.334406</td>\n",
       "      <td>-97.741126</td>\n",
       "    </tr>\n",
       "    <tr>\n",
       "      <th>9</th>\n",
       "      <td>H-E-B</td>\n",
       "      <td>1801 E 51st St, Austin</td>\n",
       "      <td>30.301166</td>\n",
       "      <td>-97.698715</td>\n",
       "    </tr>\n",
       "    <tr>\n",
       "      <th>10</th>\n",
       "      <td>H-E-B</td>\n",
       "      <td>7015 Village Center Dr, Austin</td>\n",
       "      <td>30.351837</td>\n",
       "      <td>-97.755112</td>\n",
       "    </tr>\n",
       "    <tr>\n",
       "      <th>11</th>\n",
       "      <td>H‑E‑B Fuel</td>\n",
       "      <td>2512 E Riverside Dr, Austin</td>\n",
       "      <td>30.234722</td>\n",
       "      <td>-97.722724</td>\n",
       "    </tr>\n",
       "    <tr>\n",
       "      <th>12</th>\n",
       "      <td>H-E-B</td>\n",
       "      <td>7112 Ed Bluestein Blvd #125, Austin</td>\n",
       "      <td>30.312068</td>\n",
       "      <td>-97.664756</td>\n",
       "    </tr>\n",
       "    <tr>\n",
       "      <th>13</th>\n",
       "      <td>H-E-B</td>\n",
       "      <td>2110 W Slaughter Ln, Austin</td>\n",
       "      <td>30.175379</td>\n",
       "      <td>-97.825078</td>\n",
       "    </tr>\n",
       "    <tr>\n",
       "      <th>16</th>\n",
       "      <td>H-E-B Bakery</td>\n",
       "      <td>Austin</td>\n",
       "      <td>30.216230</td>\n",
       "      <td>-97.831086</td>\n",
       "    </tr>\n",
       "    <tr>\n",
       "      <th>18</th>\n",
       "      <td>H-E-B Bakery</td>\n",
       "      <td>West Lake Hills</td>\n",
       "      <td>30.291743</td>\n",
       "      <td>-97.824836</td>\n",
       "    </tr>\n",
       "  </tbody>\n",
       "</table>\n",
       "</div>"
      ],
      "text/plain": [
       "      Store Name                                      Store Address  \\\n",
       "0          H-E-B                             6900 Brodie Ln, Austin   \n",
       "1          H-E-B                    600 W William Cannon Dr, Austin   \n",
       "2          H-E-B                        2400 S Congress Ave, Austin   \n",
       "3          H-E-B                   6607 S IH 35 Frontage Rd, Austin   \n",
       "4          H-E-B  701 N Capital of Texas Hwy Bld C, West Lake Hills   \n",
       "5          H-E-B                             1000 E 41st St, Austin   \n",
       "6    H-E-B plus!                        2508 E Riverside Dr, Austin   \n",
       "7          H-E-B                              2701 E 7th St, Austin   \n",
       "8          H-E-B                             5808 Burnet Rd, Austin   \n",
       "9          H-E-B                             1801 E 51st St, Austin   \n",
       "10         H-E-B                     7015 Village Center Dr, Austin   \n",
       "11    H‑E‑B Fuel                        2512 E Riverside Dr, Austin   \n",
       "12         H-E-B                7112 Ed Bluestein Blvd #125, Austin   \n",
       "13         H-E-B                        2110 W Slaughter Ln, Austin   \n",
       "16  H-E-B Bakery                                             Austin   \n",
       "18  H-E-B Bakery                                    West Lake Hills   \n",
       "\n",
       "          Lat       Long  \n",
       "0   30.216283 -97.830987  \n",
       "1   30.197923 -97.786481  \n",
       "2   30.238729 -97.755227  \n",
       "3   30.188724 -97.768718  \n",
       "4   30.291796 -97.825190  \n",
       "5   30.300637 -97.719957  \n",
       "6   30.236523 -97.722073  \n",
       "7   30.259124 -97.711619  \n",
       "8   30.334406 -97.741126  \n",
       "9   30.301166 -97.698715  \n",
       "10  30.351837 -97.755112  \n",
       "11  30.234722 -97.722724  \n",
       "12  30.312068 -97.664756  \n",
       "13  30.175379 -97.825078  \n",
       "16  30.216230 -97.831086  \n",
       "18  30.291743 -97.824836  "
      ]
     },
     "execution_count": 39,
     "metadata": {},
     "output_type": "execute_result"
    }
   ],
   "source": [
    "df"
   ]
  },
  {
   "cell_type": "code",
   "execution_count": 40,
   "metadata": {},
   "outputs": [],
   "source": [
    "df = df.drop(11)\n",
    "df = df.drop(16)\n",
    "df = df.drop(18)"
   ]
  },
  {
   "cell_type": "markdown",
   "metadata": {},
   "source": [
    "The HEB data is ready to go. Later I combined it with Randalls and with the cleaned data from other grocery stores."
   ]
  },
  {
   "cell_type": "code",
   "execution_count": 43,
   "metadata": {},
   "outputs": [
    {
     "data": {
      "text/html": [
       "<div>\n",
       "<style scoped>\n",
       "    .dataframe tbody tr th:only-of-type {\n",
       "        vertical-align: middle;\n",
       "    }\n",
       "\n",
       "    .dataframe tbody tr th {\n",
       "        vertical-align: top;\n",
       "    }\n",
       "\n",
       "    .dataframe thead th {\n",
       "        text-align: right;\n",
       "    }\n",
       "</style>\n",
       "<table border=\"1\" class=\"dataframe\">\n",
       "  <thead>\n",
       "    <tr style=\"text-align: right;\">\n",
       "      <th></th>\n",
       "      <th>Store Name</th>\n",
       "      <th>Store Address</th>\n",
       "      <th>Lat</th>\n",
       "      <th>Long</th>\n",
       "    </tr>\n",
       "  </thead>\n",
       "  <tbody>\n",
       "    <tr>\n",
       "      <th>0</th>\n",
       "      <td>H-E-B</td>\n",
       "      <td>6900 Brodie Ln, Austin</td>\n",
       "      <td>30.216283</td>\n",
       "      <td>-97.830987</td>\n",
       "    </tr>\n",
       "    <tr>\n",
       "      <th>1</th>\n",
       "      <td>H-E-B</td>\n",
       "      <td>600 W William Cannon Dr, Austin</td>\n",
       "      <td>30.197923</td>\n",
       "      <td>-97.786481</td>\n",
       "    </tr>\n",
       "    <tr>\n",
       "      <th>2</th>\n",
       "      <td>H-E-B</td>\n",
       "      <td>2400 S Congress Ave, Austin</td>\n",
       "      <td>30.238729</td>\n",
       "      <td>-97.755227</td>\n",
       "    </tr>\n",
       "    <tr>\n",
       "      <th>3</th>\n",
       "      <td>H-E-B</td>\n",
       "      <td>6607 S IH 35 Frontage Rd, Austin</td>\n",
       "      <td>30.188724</td>\n",
       "      <td>-97.768718</td>\n",
       "    </tr>\n",
       "    <tr>\n",
       "      <th>4</th>\n",
       "      <td>H-E-B</td>\n",
       "      <td>701 N Capital of Texas Hwy Bld C, West Lake Hills</td>\n",
       "      <td>30.291796</td>\n",
       "      <td>-97.825190</td>\n",
       "    </tr>\n",
       "    <tr>\n",
       "      <th>5</th>\n",
       "      <td>H-E-B</td>\n",
       "      <td>1000 E 41st St, Austin</td>\n",
       "      <td>30.300637</td>\n",
       "      <td>-97.719957</td>\n",
       "    </tr>\n",
       "    <tr>\n",
       "      <th>6</th>\n",
       "      <td>H-E-B plus!</td>\n",
       "      <td>2508 E Riverside Dr, Austin</td>\n",
       "      <td>30.236523</td>\n",
       "      <td>-97.722073</td>\n",
       "    </tr>\n",
       "    <tr>\n",
       "      <th>7</th>\n",
       "      <td>H-E-B</td>\n",
       "      <td>2701 E 7th St, Austin</td>\n",
       "      <td>30.259124</td>\n",
       "      <td>-97.711619</td>\n",
       "    </tr>\n",
       "    <tr>\n",
       "      <th>8</th>\n",
       "      <td>H-E-B</td>\n",
       "      <td>5808 Burnet Rd, Austin</td>\n",
       "      <td>30.334406</td>\n",
       "      <td>-97.741126</td>\n",
       "    </tr>\n",
       "    <tr>\n",
       "      <th>9</th>\n",
       "      <td>H-E-B</td>\n",
       "      <td>1801 E 51st St, Austin</td>\n",
       "      <td>30.301166</td>\n",
       "      <td>-97.698715</td>\n",
       "    </tr>\n",
       "    <tr>\n",
       "      <th>10</th>\n",
       "      <td>H-E-B</td>\n",
       "      <td>7015 Village Center Dr, Austin</td>\n",
       "      <td>30.351837</td>\n",
       "      <td>-97.755112</td>\n",
       "    </tr>\n",
       "    <tr>\n",
       "      <th>12</th>\n",
       "      <td>H-E-B</td>\n",
       "      <td>7112 Ed Bluestein Blvd #125, Austin</td>\n",
       "      <td>30.312068</td>\n",
       "      <td>-97.664756</td>\n",
       "    </tr>\n",
       "    <tr>\n",
       "      <th>13</th>\n",
       "      <td>H-E-B</td>\n",
       "      <td>2110 W Slaughter Ln, Austin</td>\n",
       "      <td>30.175379</td>\n",
       "      <td>-97.825078</td>\n",
       "    </tr>\n",
       "  </tbody>\n",
       "</table>\n",
       "</div>"
      ],
      "text/plain": [
       "     Store Name                                      Store Address        Lat  \\\n",
       "0         H-E-B                             6900 Brodie Ln, Austin  30.216283   \n",
       "1         H-E-B                    600 W William Cannon Dr, Austin  30.197923   \n",
       "2         H-E-B                        2400 S Congress Ave, Austin  30.238729   \n",
       "3         H-E-B                   6607 S IH 35 Frontage Rd, Austin  30.188724   \n",
       "4         H-E-B  701 N Capital of Texas Hwy Bld C, West Lake Hills  30.291796   \n",
       "5         H-E-B                             1000 E 41st St, Austin  30.300637   \n",
       "6   H-E-B plus!                        2508 E Riverside Dr, Austin  30.236523   \n",
       "7         H-E-B                              2701 E 7th St, Austin  30.259124   \n",
       "8         H-E-B                             5808 Burnet Rd, Austin  30.334406   \n",
       "9         H-E-B                             1801 E 51st St, Austin  30.301166   \n",
       "10        H-E-B                     7015 Village Center Dr, Austin  30.351837   \n",
       "12        H-E-B                7112 Ed Bluestein Blvd #125, Austin  30.312068   \n",
       "13        H-E-B                        2110 W Slaughter Ln, Austin  30.175379   \n",
       "\n",
       "         Long  \n",
       "0  -97.830987  \n",
       "1  -97.786481  \n",
       "2  -97.755227  \n",
       "3  -97.768718  \n",
       "4  -97.825190  \n",
       "5  -97.719957  \n",
       "6  -97.722073  \n",
       "7  -97.711619  \n",
       "8  -97.741126  \n",
       "9  -97.698715  \n",
       "10 -97.755112  \n",
       "12 -97.664756  \n",
       "13 -97.825078  "
      ]
     },
     "execution_count": 43,
     "metadata": {},
     "output_type": "execute_result"
    }
   ],
   "source": [
    "df"
   ]
  },
  {
   "cell_type": "markdown",
   "metadata": {},
   "source": [
    "For the following example, I've imported previously cleaned school data and grocery store data."
   ]
  },
  {
   "cell_type": "code",
   "execution_count": 134,
   "metadata": {},
   "outputs": [
    {
     "data": {
      "text/html": [
       "<div>\n",
       "<style scoped>\n",
       "    .dataframe tbody tr th:only-of-type {\n",
       "        vertical-align: middle;\n",
       "    }\n",
       "\n",
       "    .dataframe tbody tr th {\n",
       "        vertical-align: top;\n",
       "    }\n",
       "\n",
       "    .dataframe thead th {\n",
       "        text-align: right;\n",
       "    }\n",
       "</style>\n",
       "<table border=\"1\" class=\"dataframe\">\n",
       "  <thead>\n",
       "    <tr style=\"text-align: right;\">\n",
       "      <th></th>\n",
       "      <th>School Name</th>\n",
       "      <th>Location</th>\n",
       "      <th>Percent in Poverty</th>\n",
       "      <th>Lat</th>\n",
       "      <th>Long</th>\n",
       "      <th>Google Place ID</th>\n",
       "    </tr>\n",
       "  </thead>\n",
       "  <tbody>\n",
       "    <tr>\n",
       "      <th>0</th>\n",
       "      <td>Allison Elementary</td>\n",
       "      <td>Austin</td>\n",
       "      <td>92.00</td>\n",
       "      <td>30.168207</td>\n",
       "      <td>-97.817760</td>\n",
       "      <td>ChIJ04RBdWa3RIYRgJ7aGK5dgXM</td>\n",
       "    </tr>\n",
       "    <tr>\n",
       "      <th>1</th>\n",
       "      <td>Andrews Elementary School</td>\n",
       "      <td>Austin</td>\n",
       "      <td>91.02</td>\n",
       "      <td>30.317554</td>\n",
       "      <td>-97.679663</td>\n",
       "      <td>ChIJ6YaMBenJRIYRhrPJHKXhGBU</td>\n",
       "    </tr>\n",
       "  </tbody>\n",
       "</table>\n",
       "</div>"
      ],
      "text/plain": [
       "                 School Name Location  Percent in Poverty        Lat  \\\n",
       "0         Allison Elementary   Austin               92.00  30.168207   \n",
       "1  Andrews Elementary School   Austin               91.02  30.317554   \n",
       "\n",
       "        Long              Google Place ID  \n",
       "0 -97.817760  ChIJ04RBdWa3RIYRgJ7aGK5dgXM  \n",
       "1 -97.679663  ChIJ6YaMBenJRIYRhrPJHKXhGBU  "
      ]
     },
     "execution_count": 134,
     "metadata": {},
     "output_type": "execute_result"
    }
   ],
   "source": [
    "infile = pd.read_csv(\"Austin_Coords.csv\")\n",
    "school_df = pd.DataFrame(infile)\n",
    "school_df.head(2)"
   ]
  },
  {
   "cell_type": "code",
   "execution_count": 118,
   "metadata": {},
   "outputs": [
    {
     "data": {
      "text/html": [
       "<div>\n",
       "<style scoped>\n",
       "    .dataframe tbody tr th:only-of-type {\n",
       "        vertical-align: middle;\n",
       "    }\n",
       "\n",
       "    .dataframe tbody tr th {\n",
       "        vertical-align: top;\n",
       "    }\n",
       "\n",
       "    .dataframe thead th {\n",
       "        text-align: right;\n",
       "    }\n",
       "</style>\n",
       "<table border=\"1\" class=\"dataframe\">\n",
       "  <thead>\n",
       "    <tr style=\"text-align: right;\">\n",
       "      <th></th>\n",
       "      <th>Store Name</th>\n",
       "      <th>Location</th>\n",
       "      <th>Lat</th>\n",
       "      <th>Long</th>\n",
       "      <th>Vicinity</th>\n",
       "    </tr>\n",
       "  </thead>\n",
       "  <tbody>\n",
       "    <tr>\n",
       "      <th>0</th>\n",
       "      <td>H-E-B</td>\n",
       "      <td>Austin</td>\n",
       "      <td>30.216284</td>\n",
       "      <td>-97.830988</td>\n",
       "      <td>6900 Brodie Ln, Austin</td>\n",
       "    </tr>\n",
       "    <tr>\n",
       "      <th>1</th>\n",
       "      <td>H-E-B</td>\n",
       "      <td>Austin</td>\n",
       "      <td>30.197923</td>\n",
       "      <td>-97.786481</td>\n",
       "      <td>600 W William Cannon Dr, Austin</td>\n",
       "    </tr>\n",
       "  </tbody>\n",
       "</table>\n",
       "</div>"
      ],
      "text/plain": [
       "  Store Name Location        Lat       Long                         Vicinity\n",
       "0      H-E-B   Austin  30.216284 -97.830988           6900 Brodie Ln, Austin\n",
       "1      H-E-B   Austin  30.197923 -97.786481  600 W William Cannon Dr, Austin"
      ]
     },
     "execution_count": 118,
     "metadata": {},
     "output_type": "execute_result"
    }
   ],
   "source": [
    "infile = pd.read_csv(\"Austin_groceries.csv\")\n",
    "grocery_df = pd.DataFrame(infile)\n",
    "grocery_df.head(2)"
   ]
  },
  {
   "cell_type": "markdown",
   "metadata": {},
   "source": [
    "I needed arrays for lat/long, so I set those up."
   ]
  },
  {
   "cell_type": "code",
   "execution_count": 65,
   "metadata": {},
   "outputs": [],
   "source": [
    "store_lat, store_long = grocery_df[\"Lat\"], grocery_df[\"Long\"]\n",
    "school_lat, school_long = school_df[\"Lat\"], school_df[\"Long\"]"
   ]
  },
  {
   "cell_type": "markdown",
   "metadata": {},
   "source": [
    "I tested the first two sets of coordinates to see if the function worked. It does."
   ]
  },
  {
   "cell_type": "code",
   "execution_count": 66,
   "metadata": {},
   "outputs": [
    {
     "data": {
      "text/plain": [
       "3.4049041064242647"
      ]
     },
     "execution_count": 66,
     "metadata": {},
     "output_type": "execute_result"
    }
   ],
   "source": [
    "gp.distance(f'{school_lat[0]},{school_long[0]}', f'{store_lat[0]},{store_long[0]}').miles"
   ]
  },
  {
   "cell_type": "markdown",
   "metadata": {},
   "source": [
    "Finding the closest store to each school took a little bit of setup. \n",
    "\n",
    "First I needed arrays for the school and store names, both to run the loop and to compare against the indices the loops would create.\n",
    "\n",
    "I created an array to hold the closest store, and made a variable called 'closest' that (ironically) represented the farthest length away from a school it was possible for the grocery stores to be. I set it at that length so that the first store would be closer than 10 miles and all others could be compared against it. This is a double loop that checks one school against all the stores, then the next school against all the stores, and so on. After a school completes its run through the stores, the closest store is appended to the 'closest' array. \n",
    "\n",
    "To keep track of which school matched which store, I needed to find the matching store index. The school index was simply a sequential run of 0 through the length of the store array, which already matched the index of the school dataframe. The store index will be recorded every time a store hits the 'closest' variable, and is appended to the closest_store array after the loop is completed. I made arrays to hold the school names (to ensure we have the right school) and the store names and also initialized variables for the indices."
   ]
  },
  {
   "cell_type": "code",
   "execution_count": 137,
   "metadata": {},
   "outputs": [],
   "source": [
    "schools = school_df[\"School Name\"]\n",
    "stores = grocery_df[\"Store Name\"]\n",
    "\n",
    "closest_store_distance = []\n",
    "closest_store_index_list = []\n",
    "\n",
    "school_index = 0\n",
    "store_index = 0\n",
    "\n",
    "i = 0\n",
    "j = 0\n",
    "\n",
    "closest = 10\n",
    "\n",
    "while i < len(schools):\n",
    "    \n",
    "    while j < len(stores):\n",
    "        \n",
    "        distance = gp.distance(f'{school_lat[i]},{school_long[i]}', \n",
    "                               f'{store_lat[j]},{store_long[j]}').miles\n",
    "        \n",
    "        if distance < closest:\n",
    "            closest = distance\n",
    "            store_index = j\n",
    "        \n",
    "        # incrementing j moves us to the next store in the array\n",
    "            \n",
    "        j += 1\n",
    "            \n",
    "    # Now that the initial loop is finished, I append the distance and the correct indices,\n",
    "    # then reset the j index so that the store indices can be looped through correctly again\n",
    "    \n",
    "    closest_store_distance.append(closest)\n",
    "    closest_store_index_list.append(store_index)\n",
    "    \n",
    "    closest = 10\n",
    "    j = 0\n",
    "    \n",
    "    # Now the school index will be incremented so that we loop through all schools\n",
    "    \n",
    "    i += 1\n",
    "    "
   ]
  },
  {
   "cell_type": "markdown",
   "metadata": {},
   "source": [
    "Checking the first five outputs for each list assures that they look as expected"
   ]
  },
  {
   "cell_type": "code",
   "execution_count": 95,
   "metadata": {},
   "outputs": [
    {
     "data": {
      "text/plain": [
       "[12, 11, 2, 8, 7]"
      ]
     },
     "execution_count": 95,
     "metadata": {},
     "output_type": "execute_result"
    }
   ],
   "source": [
    "closest_store_index_list[:5]"
   ]
  },
  {
   "cell_type": "code",
   "execution_count": 138,
   "metadata": {},
   "outputs": [
    {
     "data": {
      "text/plain": [
       "[0.6602052745641682,\n",
       " 0.9677309053194558,\n",
       " 0.8419731374081209,\n",
       " 0.8305586639033838,\n",
       " 0.6254233778464495]"
      ]
     },
     "execution_count": 138,
     "metadata": {},
     "output_type": "execute_result"
    }
   ],
   "source": [
    "closest_store_distance[:5]"
   ]
  },
  {
   "cell_type": "markdown",
   "metadata": {},
   "source": [
    "To prepare a new dataframe that matches schools with closest stores, I'll create arrays to hold the appropriate store information"
   ]
  },
  {
   "cell_type": "code",
   "execution_count": 96,
   "metadata": {},
   "outputs": [],
   "source": [
    "close_store = []\n",
    "store_address = []"
   ]
  },
  {
   "cell_type": "markdown",
   "metadata": {},
   "source": [
    "Now I'll loop through each store in closest_store_index_list to pull its info out of the grocery_df dataframe"
   ]
  },
  {
   "cell_type": "code",
   "execution_count": 119,
   "metadata": {},
   "outputs": [],
   "source": [
    "for store in closest_store_index_list:\n",
    "    \n",
    "    close_store.append(grocery_df.iloc[store][\"Store Name\"])\n",
    "    store_address.append(grocery_df.iloc[store][\"Vicinity\"])"
   ]
  },
  {
   "cell_type": "markdown",
   "metadata": {},
   "source": [
    "Because I'd already combined some datasets before putting the example into this notebook, I had to truncate the close_store list below."
   ]
  },
  {
   "cell_type": "code",
   "execution_count": 128,
   "metadata": {},
   "outputs": [
    {
     "data": {
      "text/plain": [
       "309"
      ]
     },
     "execution_count": 128,
     "metadata": {},
     "output_type": "execute_result"
    }
   ],
   "source": [
    "len(close_store)"
   ]
  },
  {
   "cell_type": "code",
   "execution_count": 147,
   "metadata": {},
   "outputs": [],
   "source": [
    "updated_df = pd.DataFrame()\n",
    "updated_df[\"School Name\"] = school_df[\"School Name\"]\n",
    "updated_df[\"Location\"] = school_df[\"Location\"]\n",
    "updated_df[\"Closest Store\"] = close_store[:61]\n",
    "updated_df[\"Store Address\"] = store_address\n",
    "updated_df[\"Distance in Miles\"] = closest_store_distance\n",
    "updated_df[\"Percent in Poverty\"] = school_df[\"Percent in Poverty\"]"
   ]
  },
  {
   "cell_type": "code",
   "execution_count": 148,
   "metadata": {},
   "outputs": [
    {
     "data": {
      "text/html": [
       "<div>\n",
       "<style scoped>\n",
       "    .dataframe tbody tr th:only-of-type {\n",
       "        vertical-align: middle;\n",
       "    }\n",
       "\n",
       "    .dataframe tbody tr th {\n",
       "        vertical-align: top;\n",
       "    }\n",
       "\n",
       "    .dataframe thead th {\n",
       "        text-align: right;\n",
       "    }\n",
       "</style>\n",
       "<table border=\"1\" class=\"dataframe\">\n",
       "  <thead>\n",
       "    <tr style=\"text-align: right;\">\n",
       "      <th></th>\n",
       "      <th>School Name</th>\n",
       "      <th>Location</th>\n",
       "      <th>Closest Store</th>\n",
       "      <th>Store Address</th>\n",
       "      <th>Distance in Miles</th>\n",
       "      <th>Percent in Poverty</th>\n",
       "    </tr>\n",
       "  </thead>\n",
       "  <tbody>\n",
       "    <tr>\n",
       "      <th>0</th>\n",
       "      <td>Allison Elementary</td>\n",
       "      <td>Austin</td>\n",
       "      <td>H-E-B</td>\n",
       "      <td>2110 W Slaughter Ln, Austin</td>\n",
       "      <td>0.660205</td>\n",
       "      <td>92.00</td>\n",
       "    </tr>\n",
       "    <tr>\n",
       "      <th>1</th>\n",
       "      <td>Andrews Elementary School</td>\n",
       "      <td>Austin</td>\n",
       "      <td>H-E-B</td>\n",
       "      <td>7112 Ed Bluestein Blvd #125, Austin</td>\n",
       "      <td>0.967731</td>\n",
       "      <td>91.02</td>\n",
       "    </tr>\n",
       "    <tr>\n",
       "      <th>2</th>\n",
       "      <td>Becker Elementary School</td>\n",
       "      <td>Austin</td>\n",
       "      <td>H-E-B</td>\n",
       "      <td>2400 S Congress Ave, Austin</td>\n",
       "      <td>0.841973</td>\n",
       "      <td>64.52</td>\n",
       "    </tr>\n",
       "  </tbody>\n",
       "</table>\n",
       "</div>"
      ],
      "text/plain": [
       "                 School Name Location Closest Store  \\\n",
       "0         Allison Elementary   Austin         H-E-B   \n",
       "1  Andrews Elementary School   Austin         H-E-B   \n",
       "2   Becker Elementary School   Austin         H-E-B   \n",
       "\n",
       "                         Store Address  Distance in Miles  Percent in Poverty  \n",
       "0          2110 W Slaughter Ln, Austin           0.660205               92.00  \n",
       "1  7112 Ed Bluestein Blvd #125, Austin           0.967731               91.02  \n",
       "2          2400 S Congress Ave, Austin           0.841973               64.52  "
      ]
     },
     "execution_count": 148,
     "metadata": {},
     "output_type": "execute_result"
    }
   ],
   "source": [
    "updated_df.head(3)"
   ]
  },
  {
   "cell_type": "markdown",
   "metadata": {},
   "source": [
    "To ensure that the data was accurate, we hand-checked a few randomly chosen schools against the corresponding stores to make sure they matched. \n",
    "\n",
    "Doing all of the data processing above proved to be so time-consuming that Kellye and I decided to pull the Dallas and Laredo data by hand out of Google maps. That incurred its own problems. (quote from writeup)"
   ]
  },
  {
   "cell_type": "code",
   "execution_count": null,
   "metadata": {},
   "outputs": [],
   "source": []
  }
 ],
 "metadata": {
  "kernelspec": {
   "display_name": "Python 3",
   "language": "python",
   "name": "python3"
  },
  "language_info": {
   "codemirror_mode": {
    "name": "ipython",
    "version": 3
   },
   "file_extension": ".py",
   "mimetype": "text/x-python",
   "name": "python",
   "nbconvert_exporter": "python",
   "pygments_lexer": "ipython3",
   "version": "3.6.8"
  }
 },
 "nbformat": 4,
 "nbformat_minor": 2
}

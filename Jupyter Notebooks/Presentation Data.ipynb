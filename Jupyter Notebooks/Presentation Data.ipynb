{
 "cells": [
  {
   "cell_type": "code",
   "execution_count": 2,
   "metadata": {},
   "outputs": [],
   "source": [
    "# %matplotlib inline\n",
    "import matplotlib.pyplot as plt\n",
    "import pandas as pd\n",
    "import numpy as np"
   ]
  },
  {
   "cell_type": "code",
   "execution_count": 3,
   "metadata": {},
   "outputs": [],
   "source": [
    "infile = pd.read_csv(\"Combined_Cities.csv\")\n",
    "df = pd.DataFrame(infile)"
   ]
  },
  {
   "cell_type": "code",
   "execution_count": 4,
   "metadata": {},
   "outputs": [
    {
     "data": {
      "text/html": [
       "<div>\n",
       "<style scoped>\n",
       "    .dataframe tbody tr th:only-of-type {\n",
       "        vertical-align: middle;\n",
       "    }\n",
       "\n",
       "    .dataframe tbody tr th {\n",
       "        vertical-align: top;\n",
       "    }\n",
       "\n",
       "    .dataframe thead th {\n",
       "        text-align: right;\n",
       "    }\n",
       "</style>\n",
       "<table border=\"1\" class=\"dataframe\">\n",
       "  <thead>\n",
       "    <tr style=\"text-align: right;\">\n",
       "      <th></th>\n",
       "      <th>Bus Distance (miles)</th>\n",
       "      <th>Closest Store</th>\n",
       "      <th>Driving Distance (miles)</th>\n",
       "      <th>Location</th>\n",
       "      <th>Percent in Poverty</th>\n",
       "      <th>Poverty Groups</th>\n",
       "      <th>School Name</th>\n",
       "      <th>Store Address</th>\n",
       "      <th>Walking Distance (miles)</th>\n",
       "      <th>Zip Code</th>\n",
       "      <th>Food Desert</th>\n",
       "    </tr>\n",
       "  </thead>\n",
       "  <tbody>\n",
       "    <tr>\n",
       "      <th>0</th>\n",
       "      <td>1.4</td>\n",
       "      <td>Fiesta Mart</td>\n",
       "      <td>1.4</td>\n",
       "      <td>Dallas</td>\n",
       "      <td>97.13</td>\n",
       "      <td>90-100</td>\n",
       "      <td>William M Anderson Elementary</td>\n",
       "      <td>10121 E Lake June Rd, Dallas, TX 75217</td>\n",
       "      <td>1.2</td>\n",
       "      <td>75217.0</td>\n",
       "      <td>Yes</td>\n",
       "    </tr>\n",
       "    <tr>\n",
       "      <th>1</th>\n",
       "      <td>0.9</td>\n",
       "      <td>Supermercado Monterrey</td>\n",
       "      <td>0.9</td>\n",
       "      <td>Dallas</td>\n",
       "      <td>96.33</td>\n",
       "      <td>90-100</td>\n",
       "      <td>Arcadia Park Elementary School</td>\n",
       "      <td>5306 W Davis St, Dallas, TX 75211</td>\n",
       "      <td>0.9</td>\n",
       "      <td>75211.0</td>\n",
       "      <td>No</td>\n",
       "    </tr>\n",
       "  </tbody>\n",
       "</table>\n",
       "</div>"
      ],
      "text/plain": [
       "   Bus Distance (miles)           Closest Store  Driving Distance (miles)  \\\n",
       "0                   1.4             Fiesta Mart                       1.4   \n",
       "1                   0.9  Supermercado Monterrey                       0.9   \n",
       "\n",
       "  Location  Percent in Poverty Poverty Groups                     School Name  \\\n",
       "0   Dallas               97.13         90-100   William M Anderson Elementary   \n",
       "1   Dallas               96.33         90-100  Arcadia Park Elementary School   \n",
       "\n",
       "                            Store Address  Walking Distance (miles)  Zip Code  \\\n",
       "0  10121 E Lake June Rd, Dallas, TX 75217                       1.2   75217.0   \n",
       "1       5306 W Davis St, Dallas, TX 75211                       0.9   75211.0   \n",
       "\n",
       "  Food Desert  \n",
       "0         Yes  \n",
       "1          No  "
      ]
     },
     "execution_count": 4,
     "metadata": {},
     "output_type": "execute_result"
    }
   ],
   "source": [
    "df.head(2)"
   ]
  },
  {
   "cell_type": "markdown",
   "metadata": {},
   "source": [
    "# Is driving distance correlated to poverty level?"
   ]
  },
  {
   "cell_type": "code",
   "execution_count": 237,
   "metadata": {},
   "outputs": [
    {
     "data": {
      "text/plain": [
       "0.0036589292969827127"
      ]
     },
     "execution_count": 237,
     "metadata": {},
     "output_type": "execute_result"
    }
   ],
   "source": [
    "# Correlation between the driving distance and the poverty level\n",
    "# This is so small that it's negligible\n",
    "\n",
    "driving_distance.corr(poverty_level)"
   ]
  },
  {
   "cell_type": "markdown",
   "metadata": {},
   "source": [
    "# Mean vs. Median Driving Distance\n"
   ]
  },
  {
   "cell_type": "code",
   "execution_count": 5,
   "metadata": {},
   "outputs": [
    {
     "data": {
      "text/html": [
       "<div>\n",
       "<style scoped>\n",
       "    .dataframe tbody tr th:only-of-type {\n",
       "        vertical-align: middle;\n",
       "    }\n",
       "\n",
       "    .dataframe tbody tr th {\n",
       "        vertical-align: top;\n",
       "    }\n",
       "\n",
       "    .dataframe thead th {\n",
       "        text-align: right;\n",
       "    }\n",
       "</style>\n",
       "<table border=\"1\" class=\"dataframe\">\n",
       "  <thead>\n",
       "    <tr style=\"text-align: right;\">\n",
       "      <th></th>\n",
       "      <th>Driving Distance (miles)</th>\n",
       "    </tr>\n",
       "    <tr>\n",
       "      <th>Location</th>\n",
       "      <th></th>\n",
       "    </tr>\n",
       "  </thead>\n",
       "  <tbody>\n",
       "    <tr>\n",
       "      <th>Austin</th>\n",
       "      <td>1.435</td>\n",
       "    </tr>\n",
       "    <tr>\n",
       "      <th>Dallas</th>\n",
       "      <td>1.440</td>\n",
       "    </tr>\n",
       "    <tr>\n",
       "      <th>Laredo</th>\n",
       "      <td>1.548</td>\n",
       "    </tr>\n",
       "  </tbody>\n",
       "</table>\n",
       "</div>"
      ],
      "text/plain": [
       "          Driving Distance (miles)\n",
       "Location                          \n",
       "Austin                       1.435\n",
       "Dallas                       1.440\n",
       "Laredo                       1.548"
      ]
     },
     "execution_count": 5,
     "metadata": {},
     "output_type": "execute_result"
    }
   ],
   "source": [
    "df.groupby(\"Location\").agg({\"Driving Distance (miles)\": \"mean\"})"
   ]
  },
  {
   "cell_type": "code",
   "execution_count": 6,
   "metadata": {},
   "outputs": [
    {
     "data": {
      "text/html": [
       "<div>\n",
       "<style scoped>\n",
       "    .dataframe tbody tr th:only-of-type {\n",
       "        vertical-align: middle;\n",
       "    }\n",
       "\n",
       "    .dataframe tbody tr th {\n",
       "        vertical-align: top;\n",
       "    }\n",
       "\n",
       "    .dataframe thead th {\n",
       "        text-align: right;\n",
       "    }\n",
       "</style>\n",
       "<table border=\"1\" class=\"dataframe\">\n",
       "  <thead>\n",
       "    <tr style=\"text-align: right;\">\n",
       "      <th></th>\n",
       "      <th>Driving Distance (miles)</th>\n",
       "    </tr>\n",
       "    <tr>\n",
       "      <th>Location</th>\n",
       "      <th></th>\n",
       "    </tr>\n",
       "  </thead>\n",
       "  <tbody>\n",
       "    <tr>\n",
       "      <th>Austin</th>\n",
       "      <td>1.3</td>\n",
       "    </tr>\n",
       "    <tr>\n",
       "      <th>Dallas</th>\n",
       "      <td>1.2</td>\n",
       "    </tr>\n",
       "    <tr>\n",
       "      <th>Laredo</th>\n",
       "      <td>0.9</td>\n",
       "    </tr>\n",
       "  </tbody>\n",
       "</table>\n",
       "</div>"
      ],
      "text/plain": [
       "          Driving Distance (miles)\n",
       "Location                          \n",
       "Austin                         1.3\n",
       "Dallas                         1.2\n",
       "Laredo                         0.9"
      ]
     },
     "execution_count": 6,
     "metadata": {},
     "output_type": "execute_result"
    }
   ],
   "source": [
    "df.groupby(\"Location\").agg({\"Driving Distance (miles)\": \"median\"})"
   ]
  },
  {
   "cell_type": "markdown",
   "metadata": {},
   "source": [
    "# Mean vs. Median Percent in Poverty"
   ]
  },
  {
   "cell_type": "code",
   "execution_count": 16,
   "metadata": {},
   "outputs": [
    {
     "data": {
      "text/html": [
       "<div>\n",
       "<style scoped>\n",
       "    .dataframe tbody tr th:only-of-type {\n",
       "        vertical-align: middle;\n",
       "    }\n",
       "\n",
       "    .dataframe tbody tr th {\n",
       "        vertical-align: top;\n",
       "    }\n",
       "\n",
       "    .dataframe thead th {\n",
       "        text-align: right;\n",
       "    }\n",
       "</style>\n",
       "<table border=\"1\" class=\"dataframe\">\n",
       "  <thead>\n",
       "    <tr style=\"text-align: right;\">\n",
       "      <th></th>\n",
       "      <th>Percent in Poverty</th>\n",
       "    </tr>\n",
       "    <tr>\n",
       "      <th>Location</th>\n",
       "      <th></th>\n",
       "    </tr>\n",
       "  </thead>\n",
       "  <tbody>\n",
       "    <tr>\n",
       "      <th>Austin</th>\n",
       "      <td>80.918500</td>\n",
       "    </tr>\n",
       "    <tr>\n",
       "      <th>Dallas</th>\n",
       "      <td>90.397429</td>\n",
       "    </tr>\n",
       "    <tr>\n",
       "      <th>Laredo</th>\n",
       "      <td>100.000000</td>\n",
       "    </tr>\n",
       "  </tbody>\n",
       "</table>\n",
       "</div>"
      ],
      "text/plain": [
       "          Percent in Poverty\n",
       "Location                    \n",
       "Austin             80.918500\n",
       "Dallas             90.397429\n",
       "Laredo            100.000000"
      ]
     },
     "execution_count": 16,
     "metadata": {},
     "output_type": "execute_result"
    }
   ],
   "source": [
    "df.groupby(\"Location\").agg({\"Percent in Poverty\": \"mean\"})"
   ]
  },
  {
   "cell_type": "code",
   "execution_count": 17,
   "metadata": {},
   "outputs": [
    {
     "data": {
      "text/html": [
       "<div>\n",
       "<style scoped>\n",
       "    .dataframe tbody tr th:only-of-type {\n",
       "        vertical-align: middle;\n",
       "    }\n",
       "\n",
       "    .dataframe tbody tr th {\n",
       "        vertical-align: top;\n",
       "    }\n",
       "\n",
       "    .dataframe thead th {\n",
       "        text-align: right;\n",
       "    }\n",
       "</style>\n",
       "<table border=\"1\" class=\"dataframe\">\n",
       "  <thead>\n",
       "    <tr style=\"text-align: right;\">\n",
       "      <th></th>\n",
       "      <th>Percent in Poverty</th>\n",
       "    </tr>\n",
       "    <tr>\n",
       "      <th>Location</th>\n",
       "      <th></th>\n",
       "    </tr>\n",
       "  </thead>\n",
       "  <tbody>\n",
       "    <tr>\n",
       "      <th>Austin</th>\n",
       "      <td>89.765</td>\n",
       "    </tr>\n",
       "    <tr>\n",
       "      <th>Dallas</th>\n",
       "      <td>92.930</td>\n",
       "    </tr>\n",
       "    <tr>\n",
       "      <th>Laredo</th>\n",
       "      <td>100.000</td>\n",
       "    </tr>\n",
       "  </tbody>\n",
       "</table>\n",
       "</div>"
      ],
      "text/plain": [
       "          Percent in Poverty\n",
       "Location                    \n",
       "Austin                89.765\n",
       "Dallas                92.930\n",
       "Laredo               100.000"
      ]
     },
     "execution_count": 17,
     "metadata": {},
     "output_type": "execute_result"
    }
   ],
   "source": [
    "df.groupby(\"Location\").agg({\"Percent in Poverty\": \"median\"})"
   ]
  },
  {
   "cell_type": "code",
   "execution_count": 8,
   "metadata": {},
   "outputs": [],
   "source": [
    "# This cross tabulation shows how many schools in each city fall into a food desert\n",
    "\n",
    "food_desert_crosstab = pd.crosstab(df[\"Location\"], df[\"Food Desert\"], margins = True)"
   ]
  },
  {
   "cell_type": "code",
   "execution_count": 26,
   "metadata": {},
   "outputs": [
    {
     "data": {
      "text/html": [
       "<div>\n",
       "<style scoped>\n",
       "    .dataframe tbody tr th:only-of-type {\n",
       "        vertical-align: middle;\n",
       "    }\n",
       "\n",
       "    .dataframe tbody tr th {\n",
       "        vertical-align: top;\n",
       "    }\n",
       "\n",
       "    .dataframe thead th {\n",
       "        text-align: right;\n",
       "    }\n",
       "</style>\n",
       "<table border=\"1\" class=\"dataframe\">\n",
       "  <thead>\n",
       "    <tr style=\"text-align: right;\">\n",
       "      <th>Food Desert</th>\n",
       "      <th>No</th>\n",
       "      <th>Yes</th>\n",
       "      <th>All</th>\n",
       "    </tr>\n",
       "    <tr>\n",
       "      <th>Location</th>\n",
       "      <th></th>\n",
       "      <th></th>\n",
       "      <th></th>\n",
       "    </tr>\n",
       "  </thead>\n",
       "  <tbody>\n",
       "    <tr>\n",
       "      <th>Austin</th>\n",
       "      <td>21</td>\n",
       "      <td>39</td>\n",
       "      <td>60</td>\n",
       "    </tr>\n",
       "    <tr>\n",
       "      <th>Dallas</th>\n",
       "      <td>57</td>\n",
       "      <td>83</td>\n",
       "      <td>140</td>\n",
       "    </tr>\n",
       "    <tr>\n",
       "      <th>Laredo</th>\n",
       "      <td>14</td>\n",
       "      <td>6</td>\n",
       "      <td>20</td>\n",
       "    </tr>\n",
       "    <tr>\n",
       "      <th>All</th>\n",
       "      <td>92</td>\n",
       "      <td>128</td>\n",
       "      <td>220</td>\n",
       "    </tr>\n",
       "  </tbody>\n",
       "</table>\n",
       "</div>"
      ],
      "text/plain": [
       "Food Desert  No  Yes  All\n",
       "Location                 \n",
       "Austin       21   39   60\n",
       "Dallas       57   83  140\n",
       "Laredo       14    6   20\n",
       "All          92  128  220"
      ]
     },
     "execution_count": 26,
     "metadata": {},
     "output_type": "execute_result"
    }
   ],
   "source": [
    "food_desert_crosstab"
   ]
  },
  {
   "cell_type": "code",
   "execution_count": 9,
   "metadata": {},
   "outputs": [],
   "source": [
    "# Displaying it without margins\n",
    "\n",
    "food_desert_crosstab_no_margin = pd.crosstab(df[\"Location\"], df[\"Food Desert\"])"
   ]
  },
  {
   "cell_type": "code",
   "execution_count": 10,
   "metadata": {},
   "outputs": [
    {
     "data": {
      "text/html": [
       "<div>\n",
       "<style scoped>\n",
       "    .dataframe tbody tr th:only-of-type {\n",
       "        vertical-align: middle;\n",
       "    }\n",
       "\n",
       "    .dataframe tbody tr th {\n",
       "        vertical-align: top;\n",
       "    }\n",
       "\n",
       "    .dataframe thead th {\n",
       "        text-align: right;\n",
       "    }\n",
       "</style>\n",
       "<table border=\"1\" class=\"dataframe\">\n",
       "  <thead>\n",
       "    <tr style=\"text-align: right;\">\n",
       "      <th>Food Desert</th>\n",
       "      <th>No</th>\n",
       "      <th>Yes</th>\n",
       "    </tr>\n",
       "    <tr>\n",
       "      <th>Location</th>\n",
       "      <th></th>\n",
       "      <th></th>\n",
       "    </tr>\n",
       "  </thead>\n",
       "  <tbody>\n",
       "    <tr>\n",
       "      <th>Austin</th>\n",
       "      <td>21</td>\n",
       "      <td>39</td>\n",
       "    </tr>\n",
       "    <tr>\n",
       "      <th>Dallas</th>\n",
       "      <td>57</td>\n",
       "      <td>83</td>\n",
       "    </tr>\n",
       "    <tr>\n",
       "      <th>Laredo</th>\n",
       "      <td>14</td>\n",
       "      <td>6</td>\n",
       "    </tr>\n",
       "  </tbody>\n",
       "</table>\n",
       "</div>"
      ],
      "text/plain": [
       "Food Desert  No  Yes\n",
       "Location            \n",
       "Austin       21   39\n",
       "Dallas       57   83\n",
       "Laredo       14    6"
      ]
     },
     "execution_count": 10,
     "metadata": {},
     "output_type": "execute_result"
    }
   ],
   "source": [
    "food_desert_crosstab_no_margin"
   ]
  },
  {
   "cell_type": "code",
   "execution_count": 30,
   "metadata": {},
   "outputs": [],
   "source": [
    "# Using numbers above\n",
    "\n",
    "percent_in_food_desert = 128/220\n",
    "percent_Dallas = 83/140\n",
    "percent_Austin = 39/60\n",
    "percent_Laredo = 6/20"
   ]
  },
  {
   "cell_type": "code",
   "execution_count": 34,
   "metadata": {},
   "outputs": [
    {
     "name": "stdout",
     "output_type": "stream",
     "text": [
      "Likelihood overall that a poor neighborhood is in a food desert: 0.5818181818181818\n",
      "Likelihood in Austin: 0.65\n",
      "Likelihood in Dallas: 0.5928571428571429\n",
      "Likelihood in Laredo: 0.3\n"
     ]
    }
   ],
   "source": [
    "# A crude way to display likelihoods\n",
    "\n",
    "print(f\"Likelihood overall that a poor neighborhood is in a food desert: {percent_in_food_desert}\")\n",
    "print(f\"Likelihood in Austin: {percent_Austin}\")\n",
    "print(f\"Likelihood in Dallas: {percent_Dallas}\")\n",
    "print(f\"Likelihood in Laredo: {percent_Laredo}\")"
   ]
  },
  {
   "cell_type": "code",
   "execution_count": 36,
   "metadata": {},
   "outputs": [],
   "source": [
    "# Figures from the U.S. Census Bureau, estimated for 2018\n",
    "\n",
    "Dallas_pop_2018 = 1345057\n",
    "Austin_pop_2018 = 964254\n",
    "Laredo_pop_2018 = 261639"
   ]
  },
  {
   "cell_type": "code",
   "execution_count": 161,
   "metadata": {},
   "outputs": [
    {
     "data": {
      "text/plain": [
       "2570950"
      ]
     },
     "execution_count": 161,
     "metadata": {},
     "output_type": "execute_result"
    }
   ],
   "source": [
    "# Population of the three cities\n",
    "\n",
    "cities_pop = Dallas_pop_2018 + Austin_pop_2018 + Laredo_pop_2018\n",
    "cities_pop"
   ]
  },
  {
   "cell_type": "code",
   "execution_count": 39,
   "metadata": {},
   "outputs": [
    {
     "data": {
      "text/plain": [
       "1.3949198032883452"
      ]
     },
     "execution_count": 39,
     "metadata": {},
     "output_type": "execute_result"
    }
   ],
   "source": [
    "# Dallas is 1.4 times the size of Austin\n",
    "\n",
    "Dallas_pop_2018/Austin_pop_2018"
   ]
  },
  {
   "cell_type": "code",
   "execution_count": 40,
   "metadata": {},
   "outputs": [],
   "source": [
    "Dallas_food_deserts = 83\n",
    "Austin_food_deserts = 39\n",
    "Laredo_food_deserts = 6"
   ]
  },
  {
   "cell_type": "code",
   "execution_count": 41,
   "metadata": {},
   "outputs": [
    {
     "data": {
      "text/plain": [
       "2.128205128205128"
      ]
     },
     "execution_count": 41,
     "metadata": {},
     "output_type": "execute_result"
    }
   ],
   "source": [
    "# Dallas has 2.13 times as many food deserts as Austin\n",
    "\n",
    "Dallas_food_deserts/Austin_food_deserts"
   ]
  },
  {
   "cell_type": "code",
   "execution_count": 42,
   "metadata": {},
   "outputs": [
    {
     "data": {
      "text/plain": [
       "5.140888781871205"
      ]
     },
     "execution_count": 42,
     "metadata": {},
     "output_type": "execute_result"
    }
   ],
   "source": [
    "# Dallas is 5.14 times as large as Laredo\n",
    "\n",
    "Dallas_pop_2018/Laredo_pop_2018"
   ]
  },
  {
   "cell_type": "code",
   "execution_count": 43,
   "metadata": {},
   "outputs": [
    {
     "data": {
      "text/plain": [
       "13.833333333333334"
      ]
     },
     "execution_count": 43,
     "metadata": {},
     "output_type": "execute_result"
    }
   ],
   "source": [
    "# Dallas has 13.83 times as many food deserts -- CRAZY\n",
    "# It feels like there should be some way to graph this information \n",
    "\n",
    "Dallas_food_deserts/Laredo_food_deserts"
   ]
  },
  {
   "cell_type": "code",
   "execution_count": 162,
   "metadata": {},
   "outputs": [
    {
     "data": {
      "text/html": [
       "<div>\n",
       "<style scoped>\n",
       "    .dataframe tbody tr th:only-of-type {\n",
       "        vertical-align: middle;\n",
       "    }\n",
       "\n",
       "    .dataframe tbody tr th {\n",
       "        vertical-align: top;\n",
       "    }\n",
       "\n",
       "    .dataframe thead th {\n",
       "        text-align: right;\n",
       "    }\n",
       "</style>\n",
       "<table border=\"1\" class=\"dataframe\">\n",
       "  <thead>\n",
       "    <tr style=\"text-align: right;\">\n",
       "      <th>Poverty Groups</th>\n",
       "      <th>40-49</th>\n",
       "      <th>50-59</th>\n",
       "      <th>60-69</th>\n",
       "      <th>70-79</th>\n",
       "      <th>80-89</th>\n",
       "      <th>90-100</th>\n",
       "      <th>&lt; 40</th>\n",
       "    </tr>\n",
       "    <tr>\n",
       "      <th>Location</th>\n",
       "      <th></th>\n",
       "      <th></th>\n",
       "      <th></th>\n",
       "      <th></th>\n",
       "      <th></th>\n",
       "      <th></th>\n",
       "      <th></th>\n",
       "    </tr>\n",
       "  </thead>\n",
       "  <tbody>\n",
       "    <tr>\n",
       "      <th>Austin</th>\n",
       "      <td>5</td>\n",
       "      <td>1</td>\n",
       "      <td>5</td>\n",
       "      <td>7</td>\n",
       "      <td>9</td>\n",
       "      <td>32</td>\n",
       "      <td>1</td>\n",
       "    </tr>\n",
       "    <tr>\n",
       "      <th>Dallas</th>\n",
       "      <td>0</td>\n",
       "      <td>3</td>\n",
       "      <td>3</td>\n",
       "      <td>7</td>\n",
       "      <td>24</td>\n",
       "      <td>103</td>\n",
       "      <td>0</td>\n",
       "    </tr>\n",
       "    <tr>\n",
       "      <th>Laredo</th>\n",
       "      <td>0</td>\n",
       "      <td>0</td>\n",
       "      <td>0</td>\n",
       "      <td>0</td>\n",
       "      <td>0</td>\n",
       "      <td>20</td>\n",
       "      <td>0</td>\n",
       "    </tr>\n",
       "  </tbody>\n",
       "</table>\n",
       "</div>"
      ],
      "text/plain": [
       "Poverty Groups  40-49  50-59  60-69  70-79  80-89  90-100  < 40\n",
       "Location                                                       \n",
       "Austin              5      1      5      7      9      32     1\n",
       "Dallas              0      3      3      7     24     103     0\n",
       "Laredo              0      0      0      0      0      20     0"
      ]
     },
     "execution_count": 162,
     "metadata": {},
     "output_type": "execute_result"
    }
   ],
   "source": [
    "# Looking at bins by city, it's quickly apparent that Austin has the greatest range\n",
    "# and Dallas has the greatest number in poverty\n",
    "\n",
    "pd.crosstab(df[\"Location\"], df[\"Poverty Groups\"])"
   ]
  },
  {
   "cell_type": "code",
   "execution_count": 118,
   "metadata": {},
   "outputs": [
    {
     "data": {
      "text/plain": [
       "Location\n",
       "Austin    AxesSubplot(0.125,0.125;0.775x0.755)\n",
       "Dallas    AxesSubplot(0.125,0.125;0.775x0.755)\n",
       "Laredo    AxesSubplot(0.125,0.125;0.775x0.755)\n",
       "Name: Percent in Poverty, dtype: object"
      ]
     },
     "execution_count": 118,
     "metadata": {},
     "output_type": "execute_result"
    },
    {
     "data": {
      "image/png": "[encoded data removed]",
      "text/plain": [
       "<Figure size 432x288 with 1 Axes>"
      ]
     },
     "metadata": {
      "needs_background": "light"
     },
     "output_type": "display_data"
    }
   ],
   "source": [
    "# Another way to see the range in poverty level and volume (width) of schools\n",
    "# Austin is in blue, Dallas in orange, Laredo in green\n",
    "\n",
    "df.groupby(\"Location\")[\"Percent in Poverty\"].plot()"
   ]
  },
  {
   "cell_type": "code",
   "execution_count": 121,
   "metadata": {},
   "outputs": [],
   "source": [
    "pov_groups_ct = pd.crosstab(df[\"Location\"], df[\"Poverty Groups\"])"
   ]
  },
  {
   "cell_type": "code",
   "execution_count": 122,
   "metadata": {},
   "outputs": [
    {
     "data": {
      "text/html": [
       "<div>\n",
       "<style scoped>\n",
       "    .dataframe tbody tr th:only-of-type {\n",
       "        vertical-align: middle;\n",
       "    }\n",
       "\n",
       "    .dataframe tbody tr th {\n",
       "        vertical-align: top;\n",
       "    }\n",
       "\n",
       "    .dataframe thead th {\n",
       "        text-align: right;\n",
       "    }\n",
       "</style>\n",
       "<table border=\"1\" class=\"dataframe\">\n",
       "  <thead>\n",
       "    <tr style=\"text-align: right;\">\n",
       "      <th>Poverty Groups</th>\n",
       "      <th>40-49</th>\n",
       "      <th>50-59</th>\n",
       "      <th>60-69</th>\n",
       "      <th>70-79</th>\n",
       "      <th>80-89</th>\n",
       "      <th>90-100</th>\n",
       "      <th>&lt; 40</th>\n",
       "    </tr>\n",
       "    <tr>\n",
       "      <th>Location</th>\n",
       "      <th></th>\n",
       "      <th></th>\n",
       "      <th></th>\n",
       "      <th></th>\n",
       "      <th></th>\n",
       "      <th></th>\n",
       "      <th></th>\n",
       "    </tr>\n",
       "  </thead>\n",
       "  <tbody>\n",
       "    <tr>\n",
       "      <th>Austin</th>\n",
       "      <td>5</td>\n",
       "      <td>1</td>\n",
       "      <td>5</td>\n",
       "      <td>7</td>\n",
       "      <td>9</td>\n",
       "      <td>32</td>\n",
       "      <td>1</td>\n",
       "    </tr>\n",
       "    <tr>\n",
       "      <th>Dallas</th>\n",
       "      <td>0</td>\n",
       "      <td>3</td>\n",
       "      <td>3</td>\n",
       "      <td>7</td>\n",
       "      <td>24</td>\n",
       "      <td>103</td>\n",
       "      <td>0</td>\n",
       "    </tr>\n",
       "    <tr>\n",
       "      <th>Laredo</th>\n",
       "      <td>0</td>\n",
       "      <td>0</td>\n",
       "      <td>0</td>\n",
       "      <td>0</td>\n",
       "      <td>0</td>\n",
       "      <td>20</td>\n",
       "      <td>0</td>\n",
       "    </tr>\n",
       "  </tbody>\n",
       "</table>\n",
       "</div>"
      ],
      "text/plain": [
       "Poverty Groups  40-49  50-59  60-69  70-79  80-89  90-100  < 40\n",
       "Location                                                       \n",
       "Austin              5      1      5      7      9      32     1\n",
       "Dallas              0      3      3      7     24     103     0\n",
       "Laredo              0      0      0      0      0      20     0"
      ]
     },
     "execution_count": 122,
     "metadata": {},
     "output_type": "execute_result"
    }
   ],
   "source": [
    "pov_groups_ct"
   ]
  },
  {
   "cell_type": "code",
   "execution_count": 126,
   "metadata": {},
   "outputs": [
    {
     "data": {
      "text/plain": [
       "<matplotlib.axes._subplots.AxesSubplot at 0x1a249d1080>"
      ]
     },
     "execution_count": 126,
     "metadata": {},
     "output_type": "execute_result"
    },
    {
     "data": {
      "image/png": "[encoded data removed]",
      "text/plain": [
       "<Figure size 432x288 with 1 Axes>"
      ]
     },
     "metadata": {
      "needs_background": "light"
     },
     "output_type": "display_data"
    }
   ],
   "source": [
    "# A quick look at the poverty bins -- most of the schools in our dataset are in the\n",
    "# 90-100% range\n",
    "\n",
    "# This would be a decent graphic if we stacked the bars colors for each cityd\n",
    "\n",
    "df[\"Poverty Groups\"].value_counts().plot(kind = \"bar\")"
   ]
  },
  {
   "cell_type": "code",
   "execution_count": 127,
   "metadata": {},
   "outputs": [
    {
     "data": {
      "text/plain": [
       "<matplotlib.axes._subplots.AxesSubplot at 0x1a24accb38>"
      ]
     },
     "execution_count": 127,
     "metadata": {},
     "output_type": "execute_result"
    },
    {
     "data": {
      "image/png": "[encoded data removed]",
      "text/plain": [
       "<Figure size 432x288 with 1 Axes>"
      ]
     },
     "metadata": {
      "needs_background": "light"
     },
     "output_type": "display_data"
    }
   ],
   "source": [
    "# Interesting in how we suddenly see Dallas as the biggest contributor of poorest groups\n",
    "\n",
    "df.groupby(\"Location\")[\"Poverty Groups\"].value_counts().plot(kind = \"bar\")"
   ]
  },
  {
   "cell_type": "code",
   "execution_count": 133,
   "metadata": {},
   "outputs": [],
   "source": [
    "# This takes the crosstab above and turns each row (axis = 0) into percentages that\n",
    "# sum to one to normalize the data (make all bars in the chart below the same height)\n",
    "\n",
    "food_desert_pct = food_desert_no_margins.div(food_desert_no_margins.sum(1).astype(float), \n",
    "                                           axis = 0)"
   ]
  },
  {
   "cell_type": "code",
   "execution_count": 134,
   "metadata": {},
   "outputs": [
    {
     "data": {
      "text/html": [
       "<div>\n",
       "<style scoped>\n",
       "    .dataframe tbody tr th:only-of-type {\n",
       "        vertical-align: middle;\n",
       "    }\n",
       "\n",
       "    .dataframe tbody tr th {\n",
       "        vertical-align: top;\n",
       "    }\n",
       "\n",
       "    .dataframe thead th {\n",
       "        text-align: right;\n",
       "    }\n",
       "</style>\n",
       "<table border=\"1\" class=\"dataframe\">\n",
       "  <thead>\n",
       "    <tr style=\"text-align: right;\">\n",
       "      <th>Food Desert</th>\n",
       "      <th>No</th>\n",
       "      <th>Yes</th>\n",
       "    </tr>\n",
       "    <tr>\n",
       "      <th>Location</th>\n",
       "      <th></th>\n",
       "      <th></th>\n",
       "    </tr>\n",
       "  </thead>\n",
       "  <tbody>\n",
       "    <tr>\n",
       "      <th>Austin</th>\n",
       "      <td>0.350000</td>\n",
       "      <td>0.650000</td>\n",
       "    </tr>\n",
       "    <tr>\n",
       "      <th>Dallas</th>\n",
       "      <td>0.407143</td>\n",
       "      <td>0.592857</td>\n",
       "    </tr>\n",
       "    <tr>\n",
       "      <th>Laredo</th>\n",
       "      <td>0.700000</td>\n",
       "      <td>0.300000</td>\n",
       "    </tr>\n",
       "  </tbody>\n",
       "</table>\n",
       "</div>"
      ],
      "text/plain": [
       "Food Desert        No       Yes\n",
       "Location                       \n",
       "Austin       0.350000  0.650000\n",
       "Dallas       0.407143  0.592857\n",
       "Laredo       0.700000  0.300000"
      ]
     },
     "execution_count": 134,
     "metadata": {},
     "output_type": "execute_result"
    }
   ],
   "source": [
    "food_desert_pct"
   ]
  },
  {
   "cell_type": "code",
   "execution_count": 487,
   "metadata": {},
   "outputs": [
    {
     "data": {
      "image/png": "[encoded data removed]",
      "text/plain": [
       "<Figure size 432x288 with 1 Axes>"
      ]
     },
     "metadata": {
      "needs_background": "light"
     },
     "output_type": "display_data"
    }
   ],
   "source": [
    "# Percent of Locations that are Food Deserts\n",
    "\n",
    "food_desert_pct.plot(kind = 'bar', title = 'Percent of Low Income Areas that are Food Deserts', \n",
    "                     legend = False, rot = 45)\n",
    "plt.legend(loc='center left', bbox_to_anchor=(1.0, 0.5))\n",
    "plt.show()"
   ]
  },
  {
   "cell_type": "code",
   "execution_count": 193,
   "metadata": {},
   "outputs": [
    {
     "data": {
      "text/plain": [
       "<matplotlib.axes._subplots.AxesSubplot at 0x1a2a138c88>"
      ]
     },
     "execution_count": 193,
     "metadata": {},
     "output_type": "execute_result"
    },
    {
     "data": {
      "image/png": "[encoded data removed]",
      "text/plain": [
       "<Figure size 432x288 with 1 Axes>"
      ]
     },
     "metadata": {
      "needs_background": "light"
     },
     "output_type": "display_data"
    }
   ],
   "source": [
    "# Looks like we have one or two outliers in Laredo that push its mean up on driving distance\n",
    "# A legend would be better than having to explain colors in the title\n",
    "\n",
    "df.groupby(\"Location\")[\"Driving Distance (miles)\"].mean().plot(title = \"Mean (blue) and Median (orange) Driving Distance\")\n",
    "df.groupby(\"Location\")[\"Driving Distance (miles)\"].median().plot()\n",
    "\n"
   ]
  },
  {
   "cell_type": "code",
   "execution_count": 219,
   "metadata": {},
   "outputs": [
    {
     "data": {
      "text/plain": [
       "Location  Food Desert\n",
       "Austin    No              89.90\n",
       "          Yes             89.63\n",
       "Dallas    No              93.30\n",
       "          Yes             92.22\n",
       "Laredo    No             100.00\n",
       "          Yes            100.00\n",
       "Name: Percent in Poverty, dtype: float64"
      ]
     },
     "execution_count": 219,
     "metadata": {},
     "output_type": "execute_result"
    }
   ],
   "source": [
    "# Food Desert by Location\n",
    "\n",
    "pct_pov2 = df.groupby([\"Location\", \"Food Desert\"])[\"Percent in Poverty\"].median()\n",
    "pct_pov2"
   ]
  },
  {
   "cell_type": "code",
   "execution_count": 220,
   "metadata": {},
   "outputs": [
    {
     "data": {
      "text/html": [
       "<div>\n",
       "<style scoped>\n",
       "    .dataframe tbody tr th:only-of-type {\n",
       "        vertical-align: middle;\n",
       "    }\n",
       "\n",
       "    .dataframe tbody tr th {\n",
       "        vertical-align: top;\n",
       "    }\n",
       "\n",
       "    .dataframe thead th {\n",
       "        text-align: right;\n",
       "    }\n",
       "</style>\n",
       "<table border=\"1\" class=\"dataframe\">\n",
       "  <thead>\n",
       "    <tr style=\"text-align: right;\">\n",
       "      <th>Food Desert</th>\n",
       "      <th>No</th>\n",
       "      <th>Yes</th>\n",
       "    </tr>\n",
       "    <tr>\n",
       "      <th>Location</th>\n",
       "      <th></th>\n",
       "      <th></th>\n",
       "    </tr>\n",
       "  </thead>\n",
       "  <tbody>\n",
       "    <tr>\n",
       "      <th>Austin</th>\n",
       "      <td>89.9</td>\n",
       "      <td>89.63</td>\n",
       "    </tr>\n",
       "    <tr>\n",
       "      <th>Dallas</th>\n",
       "      <td>93.3</td>\n",
       "      <td>92.22</td>\n",
       "    </tr>\n",
       "    <tr>\n",
       "      <th>Laredo</th>\n",
       "      <td>100.0</td>\n",
       "      <td>100.00</td>\n",
       "    </tr>\n",
       "  </tbody>\n",
       "</table>\n",
       "</div>"
      ],
      "text/plain": [
       "Food Desert     No     Yes\n",
       "Location                  \n",
       "Austin        89.9   89.63\n",
       "Dallas        93.3   92.22\n",
       "Laredo       100.0  100.00"
      ]
     },
     "execution_count": 220,
     "metadata": {},
     "output_type": "execute_result"
    }
   ],
   "source": [
    "# This is a slightly prettier way to see the percentages laid out (but only prettier in jupyter notebook on\n",
    "# your computer, as opposed to on GitHub)\n",
    "\n",
    "# It's pretty clear from this that there's no correlation between poverty level and status as a food desert\n",
    "\n",
    "pct_pov2.unstack()"
   ]
  },
  {
   "cell_type": "code",
   "execution_count": 11,
   "metadata": {},
   "outputs": [
    {
     "data": {
      "text/html": [
       "<div>\n",
       "<style scoped>\n",
       "    .dataframe tbody tr th:only-of-type {\n",
       "        vertical-align: middle;\n",
       "    }\n",
       "\n",
       "    .dataframe tbody tr th {\n",
       "        vertical-align: top;\n",
       "    }\n",
       "\n",
       "    .dataframe thead th {\n",
       "        text-align: right;\n",
       "    }\n",
       "</style>\n",
       "<table border=\"1\" class=\"dataframe\">\n",
       "  <thead>\n",
       "    <tr style=\"text-align: right;\">\n",
       "      <th>Food Desert</th>\n",
       "      <th>No</th>\n",
       "      <th>Yes</th>\n",
       "    </tr>\n",
       "    <tr>\n",
       "      <th>Location</th>\n",
       "      <th></th>\n",
       "      <th></th>\n",
       "    </tr>\n",
       "  </thead>\n",
       "  <tbody>\n",
       "    <tr>\n",
       "      <th>Austin</th>\n",
       "      <td>0.90</td>\n",
       "      <td>1.60</td>\n",
       "    </tr>\n",
       "    <tr>\n",
       "      <th>Dallas</th>\n",
       "      <td>0.70</td>\n",
       "      <td>1.70</td>\n",
       "    </tr>\n",
       "    <tr>\n",
       "      <th>Laredo</th>\n",
       "      <td>0.75</td>\n",
       "      <td>1.75</td>\n",
       "    </tr>\n",
       "  </tbody>\n",
       "</table>\n",
       "</div>"
      ],
      "text/plain": [
       "Food Desert    No   Yes\n",
       "Location               \n",
       "Austin       0.90  1.60\n",
       "Dallas       0.70  1.70\n",
       "Laredo       0.75  1.75"
      ]
     },
     "execution_count": 11,
     "metadata": {},
     "output_type": "execute_result"
    }
   ],
   "source": [
    "# This is kind of interesting: the drive is much farther than one mile if you're in a food desert, and is\n",
    "# farthest in Laredo and Dallas -- one mile farther than locations that don't qualify as food deserts\n",
    "\n",
    "desert_drive = df.groupby([\"Location\", \"Food Desert\"])[\"Driving Distance (miles)\"].median()\n",
    "desert_drive.unstack()"
   ]
  },
  {
   "cell_type": "code",
   "execution_count": 42,
   "metadata": {},
   "outputs": [
    {
     "data": {
      "image/png": "[encoded data removed]",
      "text/plain": [
       "<Figure size 432x288 with 1 Axes>"
      ]
     },
     "metadata": {
      "needs_background": "light"
     },
     "output_type": "display_data"
    }
   ],
   "source": [
    "desert_drive.unstack().plot(title = \"Median Driving Distance in a Food Desert vs. Not in a Food Desert\")\n",
    "plt.legend(loc='center left', bbox_to_anchor=(1.0, 0.5))\n",
    "plt.show()"
   ]
  },
  {
   "cell_type": "code",
   "execution_count": 41,
   "metadata": {},
   "outputs": [
    {
     "data": {
      "text/plain": [
       "[]"
      ]
     },
     "execution_count": 41,
     "metadata": {},
     "output_type": "execute_result"
    },
    {
     "data": {
      "image/png": "[encoded data removed]",
      "text/plain": [
       "<Figure size 432x288 with 1 Axes>"
      ]
     },
     "metadata": {
      "needs_background": "light"
     },
     "output_type": "display_data"
    }
   ],
   "source": [
    "# Poverty level spread\n",
    "\n",
    "df.boxplot(\"Percent in Poverty\", by=\"Location\", patch_artist = False, grid = False)\n",
    "plt.suptitle(\"\")\n",
    "plt.title('Boxplot by Title 1 School Poverty Level')\n",
    "\n",
    "plt.plot()"
   ]
  },
  {
   "cell_type": "code",
   "execution_count": 18,
   "metadata": {},
   "outputs": [],
   "source": [
    "# Pulling poverty percentage into its own array \n",
    "\n",
    "poverty_level = df[\"Percent in Poverty\"]"
   ]
  },
  {
   "cell_type": "code",
   "execution_count": 239,
   "metadata": {},
   "outputs": [
    {
     "data": {
      "text/html": [
       "<div>\n",
       "<style scoped>\n",
       "    .dataframe tbody tr th:only-of-type {\n",
       "        vertical-align: middle;\n",
       "    }\n",
       "\n",
       "    .dataframe tbody tr th {\n",
       "        vertical-align: top;\n",
       "    }\n",
       "\n",
       "    .dataframe thead th {\n",
       "        text-align: right;\n",
       "    }\n",
       "</style>\n",
       "<table border=\"1\" class=\"dataframe\">\n",
       "  <thead>\n",
       "    <tr style=\"text-align: right;\">\n",
       "      <th></th>\n",
       "      <th>Bus Distance (miles)</th>\n",
       "      <th>Driving Distance (miles)</th>\n",
       "      <th>Percent in Poverty</th>\n",
       "      <th>Walking Distance (miles)</th>\n",
       "      <th>Zip Code</th>\n",
       "    </tr>\n",
       "    <tr>\n",
       "      <th>Location</th>\n",
       "      <th></th>\n",
       "      <th></th>\n",
       "      <th></th>\n",
       "      <th></th>\n",
       "      <th></th>\n",
       "    </tr>\n",
       "  </thead>\n",
       "  <tbody>\n",
       "    <tr>\n",
       "      <th>Austin</th>\n",
       "      <td>1.45</td>\n",
       "      <td>1.3</td>\n",
       "      <td>89.765</td>\n",
       "      <td>NaN</td>\n",
       "      <td>78744.0</td>\n",
       "    </tr>\n",
       "    <tr>\n",
       "      <th>Dallas</th>\n",
       "      <td>1.30</td>\n",
       "      <td>1.2</td>\n",
       "      <td>92.930</td>\n",
       "      <td>1.1</td>\n",
       "      <td>75217.0</td>\n",
       "    </tr>\n",
       "    <tr>\n",
       "      <th>Laredo</th>\n",
       "      <td>NaN</td>\n",
       "      <td>0.9</td>\n",
       "      <td>100.000</td>\n",
       "      <td>NaN</td>\n",
       "      <td>NaN</td>\n",
       "    </tr>\n",
       "  </tbody>\n",
       "</table>\n",
       "</div>"
      ],
      "text/plain": [
       "          Bus Distance (miles)  Driving Distance (miles)  Percent in Poverty  \\\n",
       "Location                                                                       \n",
       "Austin                    1.45                       1.3              89.765   \n",
       "Dallas                    1.30                       1.2              92.930   \n",
       "Laredo                     NaN                       0.9             100.000   \n",
       "\n",
       "          Walking Distance (miles)  Zip Code  \n",
       "Location                                      \n",
       "Austin                         NaN   78744.0  \n",
       "Dallas                         1.1   75217.0  \n",
       "Laredo                         NaN       NaN  "
      ]
     },
     "execution_count": 239,
     "metadata": {},
     "output_type": "execute_result"
    }
   ],
   "source": [
    "# Just grouping by location and calling median gives us medians for all the numerical values\n",
    "\n",
    "df.groupby(\"Location\").median()"
   ]
  },
  {
   "cell_type": "markdown",
   "metadata": {},
   "source": [
    "# For future study: grouping by zip code"
   ]
  },
  {
   "cell_type": "code",
   "execution_count": 269,
   "metadata": {},
   "outputs": [
    {
     "data": {
      "text/plain": [
       "0.2857142857142857"
      ]
     },
     "execution_count": 269,
     "metadata": {},
     "output_type": "execute_result"
    }
   ],
   "source": [
    "# Forty of Dallas' 140 Title 1 schools are in four zip codes -- about 29%\n",
    "\n",
    "40/140"
   ]
  },
  {
   "cell_type": "code",
   "execution_count": 274,
   "metadata": {},
   "outputs": [
    {
     "data": {
      "text/plain": [
       "Location  Zip Code\n",
       "Dallas    75234.0     3.50\n",
       "Austin    78724.0     3.25\n",
       "          78749.0     3.20\n",
       "Dallas    75241.0     3.15\n",
       "          75006.0     2.50\n",
       "          75223.0     2.45\n",
       "          75230.0     1.85\n",
       "          75233.0     1.80\n",
       "Austin    78745.0     1.80\n",
       "Dallas    75217.0     1.70\n",
       "          75227.0     1.70\n",
       "          75216.0     1.70\n",
       "          75244.0     1.65\n",
       "Austin    78752.0     1.60\n",
       "Dallas    75254.0     1.60\n",
       "Austin    78753.0     1.50\n",
       "Dallas    75232.0     1.50\n",
       "          75215.0     1.45\n",
       "Austin    78741.0     1.40\n",
       "Dallas    75210.0     1.40\n",
       "          75238.0     1.40\n",
       "          75203.0     1.35\n",
       "          75218.0     1.30\n",
       "Austin    78721.0     1.30\n",
       "Dallas    75214.0     1.30\n",
       "Austin    78723.0     1.30\n",
       "          78704.0     1.25\n",
       "          78744.0     1.25\n",
       "Dallas    75219.0     1.25\n",
       "          75228.0     1.20\n",
       "          75205.0     1.20\n",
       "Austin    78758.0     1.20\n",
       "          78702.0     1.20\n",
       "Dallas    75209.0     1.15\n",
       "          75235.0     1.10\n",
       "          75159.0     1.10\n",
       "Austin    78722.0     1.10\n",
       "Dallas    75229.0     1.10\n",
       "          75212.0     1.10\n",
       "          75253.0     1.10\n",
       "          75208.0     1.05\n",
       "Austin    78703.0     1.00\n",
       "          78748.0     1.00\n",
       "          78757.0     1.00\n",
       "Dallas    75150.0     1.00\n",
       "          75237.0     0.80\n",
       "          75220.0     0.80\n",
       "          75211.0     0.75\n",
       "          75231.0     0.70\n",
       "          75206.0     0.65\n",
       "          75224.0     0.60\n",
       "Austin    78751.0     0.50\n",
       "Dallas    75204.0     0.45\n",
       "Austin    78735.0     0.40\n",
       "Dallas    75246.0     0.40\n",
       "Name: Driving Distance (miles), dtype: float64"
      ]
     },
     "execution_count": 274,
     "metadata": {},
     "output_type": "execute_result"
    }
   ],
   "source": [
    "# Just looking quickly at zip codes in Dallas and Austin and their corresponding driving distances to nearest store,\n",
    "# our worst five zips in terms of number of schools doesn't line up with the worst drives. Without checking,\n",
    "# my guess is that the worst zips below are ones that have few schools, which indicates a smaller population\n",
    "# and thus a smaller number of stores needed, which increases the distance. I could check to see if there's\n",
    "# an inverse correlation between number of schools in a zip code and driving distance\n",
    "\n",
    "# Three of the four Dallas school worst zip codes have a median driving distance of 1.7 miles and the other is \n",
    "# 0.75. The worst Austin zip code has a median driving distance of 1.65 miles. \n",
    "\n",
    "df.groupby([\"Location\", \"Zip Code\"])[\"Driving Distance (miles)\"].median().sort_values(ascending = False)"
   ]
  },
  {
   "cell_type": "code",
   "execution_count": 275,
   "metadata": {},
   "outputs": [
    {
     "data": {
      "text/plain": [
       "Location\n",
       "Austin    1.3\n",
       "Dallas    1.2\n",
       "Laredo    0.9\n",
       "Name: Driving Distance (miles), dtype: float64"
      ]
     },
     "execution_count": 275,
     "metadata": {},
     "output_type": "execute_result"
    }
   ],
   "source": [
    "# Four of our five worst performing zips are above the median driving distance for their location\n",
    "\n",
    "df.groupby(\"Location\")[\"Driving Distance (miles)\"].median()"
   ]
  },
  {
   "cell_type": "code",
   "execution_count": 290,
   "metadata": {},
   "outputs": [
    {
     "data": {
      "text/html": [
       "<div>\n",
       "<style scoped>\n",
       "    .dataframe tbody tr th:only-of-type {\n",
       "        vertical-align: middle;\n",
       "    }\n",
       "\n",
       "    .dataframe tbody tr th {\n",
       "        vertical-align: top;\n",
       "    }\n",
       "\n",
       "    .dataframe thead th {\n",
       "        text-align: right;\n",
       "    }\n",
       "</style>\n",
       "<table border=\"1\" class=\"dataframe\">\n",
       "  <thead>\n",
       "    <tr style=\"text-align: right;\">\n",
       "      <th></th>\n",
       "      <th></th>\n",
       "      <th>Number of Schools</th>\n",
       "      <th>Median Driving Distance</th>\n",
       "    </tr>\n",
       "    <tr>\n",
       "      <th>Location</th>\n",
       "      <th>Zip Code</th>\n",
       "      <th></th>\n",
       "      <th></th>\n",
       "    </tr>\n",
       "  </thead>\n",
       "  <tbody>\n",
       "    <tr>\n",
       "      <th rowspan=\"4\" valign=\"top\">Dallas</th>\n",
       "      <th>75217.0</th>\n",
       "      <td>16</td>\n",
       "      <td>1.70</td>\n",
       "    </tr>\n",
       "    <tr>\n",
       "      <th>75211.0</th>\n",
       "      <td>14</td>\n",
       "      <td>0.75</td>\n",
       "    </tr>\n",
       "    <tr>\n",
       "      <th>75216.0</th>\n",
       "      <td>11</td>\n",
       "      <td>1.70</td>\n",
       "    </tr>\n",
       "    <tr>\n",
       "      <th>75227.0</th>\n",
       "      <td>9</td>\n",
       "      <td>1.70</td>\n",
       "    </tr>\n",
       "    <tr>\n",
       "      <th>Austin</th>\n",
       "      <th>78744.0</th>\n",
       "      <td>8</td>\n",
       "      <td>1.25</td>\n",
       "    </tr>\n",
       "  </tbody>\n",
       "</table>\n",
       "</div>"
      ],
      "text/plain": [
       "                   Number of Schools  Median Driving Distance\n",
       "Location Zip Code                                            \n",
       "Dallas   75217.0                  16                     1.70\n",
       "         75211.0                  14                     0.75\n",
       "         75216.0                  11                     1.70\n",
       "         75227.0                   9                     1.70\n",
       "Austin   78744.0                   8                     1.25"
      ]
     },
     "execution_count": 290,
     "metadata": {},
     "output_type": "execute_result"
    }
   ],
   "source": [
    "# Getting worst zip codes in Dallas and Austin\n",
    "\n",
    "worst_zips = df.groupby([\"Location\", \"Zip Code\"]).agg({\"School Name\": \"size\", \n",
    "                                                       \"Driving Distance (miles)\": \"median\"}).sort_values(by = \"School Name\", \n",
    "                                                                              ascending = False)\n",
    "\n",
    "worst_zips.rename(columns = {\"Driving Distance (miles)\": \"Median Driving Distance\", \n",
    "                             \"School Name\": \"Number of Schools\"}, inplace = True)\n",
    "\n",
    "worst_zips.head(5)"
   ]
  },
  {
   "cell_type": "code",
   "execution_count": 383,
   "metadata": {},
   "outputs": [
    {
     "data": {
      "text/html": [
       "<div>\n",
       "<style scoped>\n",
       "    .dataframe tbody tr th:only-of-type {\n",
       "        vertical-align: middle;\n",
       "    }\n",
       "\n",
       "    .dataframe tbody tr th {\n",
       "        vertical-align: top;\n",
       "    }\n",
       "\n",
       "    .dataframe thead th {\n",
       "        text-align: right;\n",
       "    }\n",
       "</style>\n",
       "<table border=\"1\" class=\"dataframe\">\n",
       "  <thead>\n",
       "    <tr style=\"text-align: right;\">\n",
       "      <th>Food Desert</th>\n",
       "      <th>No</th>\n",
       "      <th>Yes</th>\n",
       "    </tr>\n",
       "    <tr>\n",
       "      <th>Zip Code</th>\n",
       "      <th></th>\n",
       "      <th></th>\n",
       "    </tr>\n",
       "  </thead>\n",
       "  <tbody>\n",
       "    <tr>\n",
       "      <th>75211.0</th>\n",
       "      <td>12</td>\n",
       "      <td>2</td>\n",
       "    </tr>\n",
       "    <tr>\n",
       "      <th>75216.0</th>\n",
       "      <td>2</td>\n",
       "      <td>9</td>\n",
       "    </tr>\n",
       "    <tr>\n",
       "      <th>75217.0</th>\n",
       "      <td>2</td>\n",
       "      <td>14</td>\n",
       "    </tr>\n",
       "    <tr>\n",
       "      <th>75227.0</th>\n",
       "      <td>3</td>\n",
       "      <td>6</td>\n",
       "    </tr>\n",
       "    <tr>\n",
       "      <th>78744.0</th>\n",
       "      <td>3</td>\n",
       "      <td>5</td>\n",
       "    </tr>\n",
       "  </tbody>\n",
       "</table>\n",
       "</div>"
      ],
      "text/plain": [
       "Food Desert  No  Yes\n",
       "Zip Code            \n",
       "75211.0      12    2\n",
       "75216.0       2    9\n",
       "75217.0       2   14\n",
       "75227.0       3    6\n",
       "78744.0       3    5"
      ]
     },
     "execution_count": 383,
     "metadata": {},
     "output_type": "execute_result"
    }
   ],
   "source": [
    "# Food deserts within our worst five zip codes ('worst' defined as having the greatest number of Title 1 schools)\n",
    "\n",
    "pd.crosstab(worst_df[\"Zip Code\"], worst_df[\"Food Desert\"])"
   ]
  },
  {
   "cell_type": "code",
   "execution_count": 391,
   "metadata": {},
   "outputs": [
    {
     "data": {
      "image/png": "[encoded data removed]",
      "text/plain": [
       "<Figure size 432x288 with 1 Axes>"
      ]
     },
     "metadata": {
      "needs_background": "light"
     },
     "output_type": "display_data"
    }
   ],
   "source": [
    "# Visually, it's easy to see that 75217 is our worst performer, while 75211 is our best\n",
    "\n",
    "pd.crosstab(worst_df[\"Zip Code\"], worst_df[\"Food Desert\"]).plot(kind = 'bar', \n",
    "                                                               title = 'Food Desert by Zip Code')"
   ]
  },
  {
   "cell_type": "code",
   "execution_count": 396,
   "metadata": {},
   "outputs": [
    {
     "data": {
      "text/html": [
       "<div>\n",
       "<style scoped>\n",
       "    .dataframe tbody tr th:only-of-type {\n",
       "        vertical-align: middle;\n",
       "    }\n",
       "\n",
       "    .dataframe tbody tr th {\n",
       "        vertical-align: top;\n",
       "    }\n",
       "\n",
       "    .dataframe thead th {\n",
       "        text-align: right;\n",
       "    }\n",
       "</style>\n",
       "<table border=\"1\" class=\"dataframe\">\n",
       "  <thead>\n",
       "    <tr style=\"text-align: right;\">\n",
       "      <th></th>\n",
       "      <th>Zip Code</th>\n",
       "      <th>Driving Distance</th>\n",
       "      <th>Percent in Poverty</th>\n",
       "    </tr>\n",
       "  </thead>\n",
       "  <tbody>\n",
       "    <tr>\n",
       "      <th>count</th>\n",
       "      <td>58.000000</td>\n",
       "      <td>58.000000</td>\n",
       "      <td>58.000000</td>\n",
       "    </tr>\n",
       "    <tr>\n",
       "      <th>mean</th>\n",
       "      <td>75703.396552</td>\n",
       "      <td>1.518966</td>\n",
       "      <td>91.370345</td>\n",
       "    </tr>\n",
       "    <tr>\n",
       "      <th>std</th>\n",
       "      <td>1226.873890</td>\n",
       "      <td>1.042678</td>\n",
       "      <td>10.241433</td>\n",
       "    </tr>\n",
       "    <tr>\n",
       "      <th>min</th>\n",
       "      <td>75211.000000</td>\n",
       "      <td>0.100000</td>\n",
       "      <td>42.680000</td>\n",
       "    </tr>\n",
       "    <tr>\n",
       "      <th>25%</th>\n",
       "      <td>75216.000000</td>\n",
       "      <td>0.800000</td>\n",
       "      <td>90.852500</td>\n",
       "    </tr>\n",
       "    <tr>\n",
       "      <th>50%</th>\n",
       "      <td>75217.000000</td>\n",
       "      <td>1.400000</td>\n",
       "      <td>94.455000</td>\n",
       "    </tr>\n",
       "    <tr>\n",
       "      <th>75%</th>\n",
       "      <td>75227.000000</td>\n",
       "      <td>1.900000</td>\n",
       "      <td>96.352500</td>\n",
       "    </tr>\n",
       "    <tr>\n",
       "      <th>max</th>\n",
       "      <td>78744.000000</td>\n",
       "      <td>5.900000</td>\n",
       "      <td>99.430000</td>\n",
       "    </tr>\n",
       "  </tbody>\n",
       "</table>\n",
       "</div>"
      ],
      "text/plain": [
       "           Zip Code  Driving Distance  Percent in Poverty\n",
       "count     58.000000         58.000000           58.000000\n",
       "mean   75703.396552          1.518966           91.370345\n",
       "std     1226.873890          1.042678           10.241433\n",
       "min    75211.000000          0.100000           42.680000\n",
       "25%    75216.000000          0.800000           90.852500\n",
       "50%    75217.000000          1.400000           94.455000\n",
       "75%    75227.000000          1.900000           96.352500\n",
       "max    78744.000000          5.900000           99.430000"
      ]
     },
     "execution_count": 396,
     "metadata": {},
     "output_type": "execute_result"
    }
   ],
   "source": [
    "# Summary statistics for the zip codes not including Laredo\n",
    "\n",
    "worst_df.describe()"
   ]
  },
  {
   "cell_type": "code",
   "execution_count": 399,
   "metadata": {},
   "outputs": [
    {
     "data": {
      "text/html": [
       "<div>\n",
       "<style scoped>\n",
       "    .dataframe tbody tr th:only-of-type {\n",
       "        vertical-align: middle;\n",
       "    }\n",
       "\n",
       "    .dataframe tbody tr th {\n",
       "        vertical-align: top;\n",
       "    }\n",
       "\n",
       "    .dataframe thead tr th {\n",
       "        text-align: left;\n",
       "    }\n",
       "\n",
       "    .dataframe thead tr:last-of-type th {\n",
       "        text-align: right;\n",
       "    }\n",
       "</style>\n",
       "<table border=\"1\" class=\"dataframe\">\n",
       "  <thead>\n",
       "    <tr>\n",
       "      <th></th>\n",
       "      <th colspan=\"8\" halign=\"left\">Driving Distance (miles)</th>\n",
       "      <th colspan=\"8\" halign=\"left\">Percent in Poverty</th>\n",
       "    </tr>\n",
       "    <tr>\n",
       "      <th></th>\n",
       "      <th>count</th>\n",
       "      <th>mean</th>\n",
       "      <th>std</th>\n",
       "      <th>min</th>\n",
       "      <th>25%</th>\n",
       "      <th>50%</th>\n",
       "      <th>75%</th>\n",
       "      <th>max</th>\n",
       "      <th>count</th>\n",
       "      <th>mean</th>\n",
       "      <th>std</th>\n",
       "      <th>min</th>\n",
       "      <th>25%</th>\n",
       "      <th>50%</th>\n",
       "      <th>75%</th>\n",
       "      <th>max</th>\n",
       "    </tr>\n",
       "    <tr>\n",
       "      <th>Location</th>\n",
       "      <th></th>\n",
       "      <th></th>\n",
       "      <th></th>\n",
       "      <th></th>\n",
       "      <th></th>\n",
       "      <th></th>\n",
       "      <th></th>\n",
       "      <th></th>\n",
       "      <th></th>\n",
       "      <th></th>\n",
       "      <th></th>\n",
       "      <th></th>\n",
       "      <th></th>\n",
       "      <th></th>\n",
       "      <th></th>\n",
       "      <th></th>\n",
       "    </tr>\n",
       "  </thead>\n",
       "  <tbody>\n",
       "    <tr>\n",
       "      <th>Austin</th>\n",
       "      <td>60.0</td>\n",
       "      <td>1.435</td>\n",
       "      <td>0.760648</td>\n",
       "      <td>0.20</td>\n",
       "      <td>1.000</td>\n",
       "      <td>1.3</td>\n",
       "      <td>1.800</td>\n",
       "      <td>3.9</td>\n",
       "      <td>60.0</td>\n",
       "      <td>80.918500</td>\n",
       "      <td>17.031332</td>\n",
       "      <td>33.93</td>\n",
       "      <td>71.0175</td>\n",
       "      <td>89.765</td>\n",
       "      <td>92.8600</td>\n",
       "      <td>97.48</td>\n",
       "    </tr>\n",
       "    <tr>\n",
       "      <th>Dallas</th>\n",
       "      <td>140.0</td>\n",
       "      <td>1.440</td>\n",
       "      <td>0.984835</td>\n",
       "      <td>0.10</td>\n",
       "      <td>0.800</td>\n",
       "      <td>1.2</td>\n",
       "      <td>1.800</td>\n",
       "      <td>6.1</td>\n",
       "      <td>140.0</td>\n",
       "      <td>90.397429</td>\n",
       "      <td>8.748154</td>\n",
       "      <td>55.20</td>\n",
       "      <td>88.2700</td>\n",
       "      <td>92.930</td>\n",
       "      <td>96.1425</td>\n",
       "      <td>100.00</td>\n",
       "    </tr>\n",
       "    <tr>\n",
       "      <th>Laredo</th>\n",
       "      <td>20.0</td>\n",
       "      <td>1.548</td>\n",
       "      <td>2.197936</td>\n",
       "      <td>0.06</td>\n",
       "      <td>0.675</td>\n",
       "      <td>0.9</td>\n",
       "      <td>1.125</td>\n",
       "      <td>8.0</td>\n",
       "      <td>20.0</td>\n",
       "      <td>100.000000</td>\n",
       "      <td>0.000000</td>\n",
       "      <td>100.00</td>\n",
       "      <td>100.0000</td>\n",
       "      <td>100.000</td>\n",
       "      <td>100.0000</td>\n",
       "      <td>100.00</td>\n",
       "    </tr>\n",
       "  </tbody>\n",
       "</table>\n",
       "</div>"
      ],
      "text/plain": [
       "         Driving Distance (miles)                                            \\\n",
       "                            count   mean       std   min    25%  50%    75%   \n",
       "Location                                                                      \n",
       "Austin                       60.0  1.435  0.760648  0.20  1.000  1.3  1.800   \n",
       "Dallas                      140.0  1.440  0.984835  0.10  0.800  1.2  1.800   \n",
       "Laredo                       20.0  1.548  2.197936  0.06  0.675  0.9  1.125   \n",
       "\n",
       "              Percent in Poverty                                           \\\n",
       "          max              count        mean        std     min       25%   \n",
       "Location                                                                    \n",
       "Austin    3.9               60.0   80.918500  17.031332   33.93   71.0175   \n",
       "Dallas    6.1              140.0   90.397429   8.748154   55.20   88.2700   \n",
       "Laredo    8.0               20.0  100.000000   0.000000  100.00  100.0000   \n",
       "\n",
       "                                     \n",
       "              50%       75%     max  \n",
       "Location                             \n",
       "Austin     89.765   92.8600   97.48  \n",
       "Dallas     92.930   96.1425  100.00  \n",
       "Laredo    100.000  100.0000  100.00  "
      ]
     },
     "execution_count": 399,
     "metadata": {},
     "output_type": "execute_result"
    }
   ],
   "source": [
    "# Summary statistics by city for driving distance and percent in poverty\n",
    "# The standard deviation tells about the spread -- Laredo has the largest spread in driving distance\n",
    "# and Austin has the largest spread in poverty\n",
    "\n",
    "df.groupby(\"Location\")[['Driving Distance (miles)', 'Percent in Poverty']].describe()"
   ]
  },
  {
   "cell_type": "code",
   "execution_count": 422,
   "metadata": {},
   "outputs": [],
   "source": [
    "# After adding Laredo's zips to the dataframe, I re-ran the zip codes by number of Title 1 schools within each\n",
    "\n",
    "df_ZipCodes = df.groupby(\"Zip Code\").size().sort_values(ascending = False)"
   ]
  },
  {
   "cell_type": "code",
   "execution_count": 428,
   "metadata": {},
   "outputs": [
    {
     "data": {
      "text/plain": [
       "Zip Code\n",
       "75217.0    16\n",
       "75211.0    14\n",
       "78040.0    13\n",
       "75216.0    11\n",
       "75227.0     9\n",
       "78744.0     8\n",
       "75229.0     7\n",
       "78702.0     7\n",
       "75228.0     6\n",
       "75208.0     6\n",
       "dtype: int64"
      ]
     },
     "execution_count": 428,
     "metadata": {},
     "output_type": "execute_result"
    }
   ],
   "source": [
    "# Top two are Dallas, followed by Laredo, Dallas, Dallas, Austin\n",
    "\n",
    "worst = df_ZipCodes.head(10)\n",
    "worst"
   ]
  },
  {
   "cell_type": "code",
   "execution_count": 459,
   "metadata": {},
   "outputs": [],
   "source": [
    "# I wanted to cross tabulate by zip code and food desert status.\n",
    "# Finding the zip codes with the most schools in them requires a margin so that the total can be captured\n",
    "# and they can be sorted by which has the most total schools\n",
    "\n",
    "# bottom 5 actually ended up being the bottom 6 so that Austin would be represented\n",
    "\n",
    "bottom5 = pd.crosstab(df[\"Zip Code\"], df[\"Food Desert\"], margins = True).sort_values(\"All\", ascending = False).head(7)"
   ]
  },
  {
   "cell_type": "code",
   "execution_count": 460,
   "metadata": {},
   "outputs": [
    {
     "data": {
      "text/html": [
       "<div>\n",
       "<style scoped>\n",
       "    .dataframe tbody tr th:only-of-type {\n",
       "        vertical-align: middle;\n",
       "    }\n",
       "\n",
       "    .dataframe tbody tr th {\n",
       "        vertical-align: top;\n",
       "    }\n",
       "\n",
       "    .dataframe thead th {\n",
       "        text-align: right;\n",
       "    }\n",
       "</style>\n",
       "<table border=\"1\" class=\"dataframe\">\n",
       "  <thead>\n",
       "    <tr style=\"text-align: right;\">\n",
       "      <th>Food Desert</th>\n",
       "      <th>No</th>\n",
       "      <th>Yes</th>\n",
       "      <th>All</th>\n",
       "    </tr>\n",
       "    <tr>\n",
       "      <th>Zip Code</th>\n",
       "      <th></th>\n",
       "      <th></th>\n",
       "      <th></th>\n",
       "    </tr>\n",
       "  </thead>\n",
       "  <tbody>\n",
       "    <tr>\n",
       "      <th>All</th>\n",
       "      <td>92</td>\n",
       "      <td>128</td>\n",
       "      <td>220</td>\n",
       "    </tr>\n",
       "    <tr>\n",
       "      <th>75217.0</th>\n",
       "      <td>2</td>\n",
       "      <td>14</td>\n",
       "      <td>16</td>\n",
       "    </tr>\n",
       "    <tr>\n",
       "      <th>75211.0</th>\n",
       "      <td>12</td>\n",
       "      <td>2</td>\n",
       "      <td>14</td>\n",
       "    </tr>\n",
       "    <tr>\n",
       "      <th>78040.0</th>\n",
       "      <td>10</td>\n",
       "      <td>3</td>\n",
       "      <td>13</td>\n",
       "    </tr>\n",
       "    <tr>\n",
       "      <th>75216.0</th>\n",
       "      <td>2</td>\n",
       "      <td>9</td>\n",
       "      <td>11</td>\n",
       "    </tr>\n",
       "    <tr>\n",
       "      <th>75227.0</th>\n",
       "      <td>3</td>\n",
       "      <td>6</td>\n",
       "      <td>9</td>\n",
       "    </tr>\n",
       "    <tr>\n",
       "      <th>78744.0</th>\n",
       "      <td>3</td>\n",
       "      <td>5</td>\n",
       "      <td>8</td>\n",
       "    </tr>\n",
       "  </tbody>\n",
       "</table>\n",
       "</div>"
      ],
      "text/plain": [
       "Food Desert  No  Yes  All\n",
       "Zip Code                 \n",
       "All          92  128  220\n",
       "75217.0       2   14   16\n",
       "75211.0      12    2   14\n",
       "78040.0      10    3   13\n",
       "75216.0       2    9   11\n",
       "75227.0       3    6    9\n",
       "78744.0       3    5    8"
      ]
     },
     "execution_count": 460,
     "metadata": {},
     "output_type": "execute_result"
    }
   ],
   "source": [
    "bottom5"
   ]
  },
  {
   "cell_type": "code",
   "execution_count": 461,
   "metadata": {},
   "outputs": [],
   "source": [
    "bottom5 = {\n",
    "    \"Zip Code\": ['Dallas 75217', 'Dallas 75211', 'Laredo 78040', 'Dallas 75216', 'Dallas 75227', 'Austin 78744'],\n",
    "    \"No\": [2, 12, 10, 2, 3, 3], \"Yes\": [14, 2, 3, 9, 6, 5]}"
   ]
  },
  {
   "cell_type": "code",
   "execution_count": 470,
   "metadata": {},
   "outputs": [
    {
     "data": {
      "text/plain": [
       "Zip Code    6\n",
       "No          6\n",
       "Yes         6\n",
       "dtype: int64"
      ]
     },
     "execution_count": 470,
     "metadata": {},
     "output_type": "execute_result"
    }
   ],
   "source": [
    "bottom5df = pd.DataFrame(bottom5)\n",
    "bottom5df.count()"
   ]
  },
  {
   "cell_type": "code",
   "execution_count": 472,
   "metadata": {},
   "outputs": [],
   "source": [
    "bottom5df.set_index(['Zip Code'], inplace = True)"
   ]
  },
  {
   "cell_type": "code",
   "execution_count": 478,
   "metadata": {},
   "outputs": [
    {
     "data": {
      "image/png": "[encoded data removed]",
      "text/plain": [
       "<Figure size 432x288 with 1 Axes>"
      ]
     },
     "metadata": {
      "needs_background": "light"
     },
     "output_type": "display_data"
    }
   ],
   "source": [
    "# The lines after bottom5df.plot... \n",
    "# are to get rid of the x-axis label that says \"Zip Code\"\n",
    "\n",
    "bottom5df.plot(kind = 'bar', rot = 45, title = 'Food Deserts in the Six Most Populated Zip Codes')\n",
    "ax1 = plt.axes()\n",
    "x_axis = ax1.xaxis\n",
    "x_axis.set_label_text('')\n",
    "x_axis.label.set_visible(False)\n",
    "plt.show()"
   ]
  },
  {
   "cell_type": "code",
   "execution_count": null,
   "metadata": {},
   "outputs": [],
   "source": [
    "plt.legend(loc='center left', bbox_to_anchor=(1.0, 0.5))\n",
    "plt.show()"
   ]
  },
  {
   "cell_type": "code",
   "execution_count": 21,
   "metadata": {},
   "outputs": [
    {
     "data": {
      "text/html": [
       "<div>\n",
       "<style scoped>\n",
       "    .dataframe tbody tr th:only-of-type {\n",
       "        vertical-align: middle;\n",
       "    }\n",
       "\n",
       "    .dataframe tbody tr th {\n",
       "        vertical-align: top;\n",
       "    }\n",
       "\n",
       "    .dataframe thead th {\n",
       "        text-align: right;\n",
       "    }\n",
       "</style>\n",
       "<table border=\"1\" class=\"dataframe\">\n",
       "  <thead>\n",
       "    <tr style=\"text-align: right;\">\n",
       "      <th></th>\n",
       "      <th>Bus Distance (miles)</th>\n",
       "      <th>Closest Store</th>\n",
       "      <th>Driving Distance (miles)</th>\n",
       "      <th>Location</th>\n",
       "      <th>Percent in Poverty</th>\n",
       "      <th>Poverty Groups</th>\n",
       "      <th>School Name</th>\n",
       "      <th>Store Address</th>\n",
       "      <th>Walking Distance (miles)</th>\n",
       "      <th>Zip Code</th>\n",
       "      <th>Food Desert</th>\n",
       "    </tr>\n",
       "  </thead>\n",
       "  <tbody>\n",
       "    <tr>\n",
       "      <th>0</th>\n",
       "      <td>1.4</td>\n",
       "      <td>Fiesta Mart</td>\n",
       "      <td>1.4</td>\n",
       "      <td>Dallas</td>\n",
       "      <td>97.13</td>\n",
       "      <td>90-100</td>\n",
       "      <td>William M Anderson Elementary</td>\n",
       "      <td>10121 E Lake June Rd, Dallas, TX 75217</td>\n",
       "      <td>1.2</td>\n",
       "      <td>75217.0</td>\n",
       "      <td>Yes</td>\n",
       "    </tr>\n",
       "    <tr>\n",
       "      <th>1</th>\n",
       "      <td>0.9</td>\n",
       "      <td>Supermercado Monterrey</td>\n",
       "      <td>0.9</td>\n",
       "      <td>Dallas</td>\n",
       "      <td>96.33</td>\n",
       "      <td>90-100</td>\n",
       "      <td>Arcadia Park Elementary School</td>\n",
       "      <td>5306 W Davis St, Dallas, TX 75211</td>\n",
       "      <td>0.9</td>\n",
       "      <td>75211.0</td>\n",
       "      <td>No</td>\n",
       "    </tr>\n",
       "  </tbody>\n",
       "</table>\n",
       "</div>"
      ],
      "text/plain": [
       "   Bus Distance (miles)           Closest Store  Driving Distance (miles)  \\\n",
       "0                   1.4             Fiesta Mart                       1.4   \n",
       "1                   0.9  Supermercado Monterrey                       0.9   \n",
       "\n",
       "  Location  Percent in Poverty Poverty Groups                     School Name  \\\n",
       "0   Dallas               97.13         90-100   William M Anderson Elementary   \n",
       "1   Dallas               96.33         90-100  Arcadia Park Elementary School   \n",
       "\n",
       "                            Store Address  Walking Distance (miles)  Zip Code  \\\n",
       "0  10121 E Lake June Rd, Dallas, TX 75217                       1.2   75217.0   \n",
       "1       5306 W Davis St, Dallas, TX 75211                       0.9   75211.0   \n",
       "\n",
       "  Food Desert  \n",
       "0         Yes  \n",
       "1          No  "
      ]
     },
     "execution_count": 21,
     "metadata": {},
     "output_type": "execute_result"
    }
   ],
   "source": [
    "df.head(2)"
   ]
  },
  {
   "cell_type": "code",
   "execution_count": null,
   "metadata": {},
   "outputs": [],
   "source": []
  }
 ],
 "metadata": {
  "kernelspec": {
   "display_name": "Python 3",
   "language": "python",
   "name": "python3"
  },
  "language_info": {
   "codemirror_mode": {
    "name": "ipython",
    "version": 3
   },
   "file_extension": ".py",
   "mimetype": "text/x-python",
   "name": "python",
   "nbconvert_exporter": "python",
   "pygments_lexer": "ipython3",
   "version": "3.6.8"
  }
 },
 "nbformat": 4,
 "nbformat_minor": 2
}

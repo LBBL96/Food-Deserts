{
 "cells": [
  {
   "cell_type": "code",
   "execution_count": 55,
   "metadata": {},
   "outputs": [],
   "source": [
    "%matplotlib inline\n",
    "import matplotlib.pyplot as plt\n",
    "import pandas as pd\n",
    "import numpy as np\n",
    "from scipy.stats import sem\n",
    "import scipy.stats as stats\n",
    "import seaborn as sns"
   ]
  },
  {
   "cell_type": "code",
   "execution_count": 2,
   "metadata": {},
   "outputs": [],
   "source": [
    "from config import gkey\n",
    "import gmaps"
   ]
  },
  {
   "cell_type": "code",
   "execution_count": 3,
   "metadata": {},
   "outputs": [],
   "source": [
    "infile = pd.read_csv(\"Combined_Cities.csv\")\n",
    "df = pd.DataFrame(infile)"
   ]
  },
  {
   "cell_type": "code",
   "execution_count": 13,
   "metadata": {},
   "outputs": [
    {
     "data": {
      "text/html": [
       "<div>\n",
       "<style scoped>\n",
       "    .dataframe tbody tr th:only-of-type {\n",
       "        vertical-align: middle;\n",
       "    }\n",
       "\n",
       "    .dataframe tbody tr th {\n",
       "        vertical-align: top;\n",
       "    }\n",
       "\n",
       "    .dataframe thead th {\n",
       "        text-align: right;\n",
       "    }\n",
       "</style>\n",
       "<table border=\"1\" class=\"dataframe\">\n",
       "  <thead>\n",
       "    <tr style=\"text-align: right;\">\n",
       "      <th></th>\n",
       "      <th>Bus Distance (miles)</th>\n",
       "      <th>Closest Store</th>\n",
       "      <th>Driving Distance (miles)</th>\n",
       "      <th>Location</th>\n",
       "      <th>Percent in Poverty</th>\n",
       "      <th>Poverty Groups</th>\n",
       "      <th>School Name</th>\n",
       "      <th>Store Address</th>\n",
       "      <th>Walking Distance (miles)</th>\n",
       "      <th>Zip Code</th>\n",
       "    </tr>\n",
       "  </thead>\n",
       "  <tbody>\n",
       "    <tr>\n",
       "      <th>0</th>\n",
       "      <td>1.4</td>\n",
       "      <td>Fiesta Mart</td>\n",
       "      <td>1.4</td>\n",
       "      <td>Dallas</td>\n",
       "      <td>97.13</td>\n",
       "      <td>90-100</td>\n",
       "      <td>William M Anderson Elementary</td>\n",
       "      <td>10121 E Lake June Rd, Dallas, TX 75217</td>\n",
       "      <td>1.2</td>\n",
       "      <td>75217.0</td>\n",
       "    </tr>\n",
       "    <tr>\n",
       "      <th>1</th>\n",
       "      <td>0.9</td>\n",
       "      <td>Supermercado Monterrey</td>\n",
       "      <td>0.9</td>\n",
       "      <td>Dallas</td>\n",
       "      <td>96.33</td>\n",
       "      <td>90-100</td>\n",
       "      <td>Arcadia Park Elementary School</td>\n",
       "      <td>5306 W Davis St, Dallas, TX 75211</td>\n",
       "      <td>0.9</td>\n",
       "      <td>75211.0</td>\n",
       "    </tr>\n",
       "  </tbody>\n",
       "</table>\n",
       "</div>"
      ],
      "text/plain": [
       "   Bus Distance (miles)           Closest Store  Driving Distance (miles)  \\\n",
       "0                   1.4             Fiesta Mart                       1.4   \n",
       "1                   0.9  Supermercado Monterrey                       0.9   \n",
       "\n",
       "  Location  Percent in Poverty Poverty Groups                     School Name  \\\n",
       "0   Dallas               97.13         90-100   William M Anderson Elementary   \n",
       "1   Dallas               96.33         90-100  Arcadia Park Elementary School   \n",
       "\n",
       "                            Store Address  Walking Distance (miles)  Zip Code  \n",
       "0  10121 E Lake June Rd, Dallas, TX 75217                       1.2   75217.0  \n",
       "1       5306 W Davis St, Dallas, TX 75211                       0.9   75211.0  "
      ]
     },
     "execution_count": 13,
     "metadata": {},
     "output_type": "execute_result"
    }
   ],
   "source": [
    "df.head(2)"
   ]
  },
  {
   "cell_type": "code",
   "execution_count": 7,
   "metadata": {},
   "outputs": [
    {
     "data": {
      "text/plain": [
       "Bus Distance (miles)        200\n",
       "Closest Store               220\n",
       "Driving Distance (miles)    220\n",
       "Location                    220\n",
       "Percent in Poverty          220\n",
       "Poverty Groups              200\n",
       "School Name                 220\n",
       "Store Address               220\n",
       "Walking Distance (miles)    140\n",
       "Zip Code                    200\n",
       "dtype: int64"
      ]
     },
     "execution_count": 7,
     "metadata": {},
     "output_type": "execute_result"
    }
   ],
   "source": [
    "df.count()"
   ]
  },
  {
   "cell_type": "code",
   "execution_count": 8,
   "metadata": {},
   "outputs": [
    {
     "data": {
      "text/html": [
       "<div>\n",
       "<style scoped>\n",
       "    .dataframe tbody tr th:only-of-type {\n",
       "        vertical-align: middle;\n",
       "    }\n",
       "\n",
       "    .dataframe tbody tr th {\n",
       "        vertical-align: top;\n",
       "    }\n",
       "\n",
       "    .dataframe thead th {\n",
       "        text-align: right;\n",
       "    }\n",
       "</style>\n",
       "<table border=\"1\" class=\"dataframe\">\n",
       "  <thead>\n",
       "    <tr style=\"text-align: right;\">\n",
       "      <th></th>\n",
       "      <th>Driving Distance (miles)</th>\n",
       "      <th>Bus Distance (miles)</th>\n",
       "    </tr>\n",
       "    <tr>\n",
       "      <th>Location</th>\n",
       "      <th></th>\n",
       "      <th></th>\n",
       "    </tr>\n",
       "  </thead>\n",
       "  <tbody>\n",
       "    <tr>\n",
       "      <th>Austin</th>\n",
       "      <td>1.435</td>\n",
       "      <td>1.683333</td>\n",
       "    </tr>\n",
       "    <tr>\n",
       "      <th>Dallas</th>\n",
       "      <td>1.440</td>\n",
       "      <td>1.755714</td>\n",
       "    </tr>\n",
       "    <tr>\n",
       "      <th>Laredo</th>\n",
       "      <td>1.548</td>\n",
       "      <td>NaN</td>\n",
       "    </tr>\n",
       "  </tbody>\n",
       "</table>\n",
       "</div>"
      ],
      "text/plain": [
       "          Driving Distance (miles)  Bus Distance (miles)\n",
       "Location                                                \n",
       "Austin                       1.435              1.683333\n",
       "Dallas                       1.440              1.755714\n",
       "Laredo                       1.548                   NaN"
      ]
     },
     "execution_count": 8,
     "metadata": {},
     "output_type": "execute_result"
    }
   ],
   "source": [
    "df.groupby(\"Location\").agg({\"Driving Distance (miles)\": \"mean\", \n",
    "                            \"Bus Distance (miles)\": \"mean\"})"
   ]
  },
  {
   "cell_type": "code",
   "execution_count": 9,
   "metadata": {},
   "outputs": [
    {
     "data": {
      "text/html": [
       "<div>\n",
       "<style scoped>\n",
       "    .dataframe tbody tr th:only-of-type {\n",
       "        vertical-align: middle;\n",
       "    }\n",
       "\n",
       "    .dataframe tbody tr th {\n",
       "        vertical-align: top;\n",
       "    }\n",
       "\n",
       "    .dataframe thead th {\n",
       "        text-align: right;\n",
       "    }\n",
       "</style>\n",
       "<table border=\"1\" class=\"dataframe\">\n",
       "  <thead>\n",
       "    <tr style=\"text-align: right;\">\n",
       "      <th></th>\n",
       "      <th>Driving Distance (miles)</th>\n",
       "      <th>Bus Distance (miles)</th>\n",
       "    </tr>\n",
       "    <tr>\n",
       "      <th>Location</th>\n",
       "      <th></th>\n",
       "      <th></th>\n",
       "    </tr>\n",
       "  </thead>\n",
       "  <tbody>\n",
       "    <tr>\n",
       "      <th>Austin</th>\n",
       "      <td>1.3</td>\n",
       "      <td>1.45</td>\n",
       "    </tr>\n",
       "    <tr>\n",
       "      <th>Dallas</th>\n",
       "      <td>1.2</td>\n",
       "      <td>1.30</td>\n",
       "    </tr>\n",
       "    <tr>\n",
       "      <th>Laredo</th>\n",
       "      <td>0.9</td>\n",
       "      <td>NaN</td>\n",
       "    </tr>\n",
       "  </tbody>\n",
       "</table>\n",
       "</div>"
      ],
      "text/plain": [
       "          Driving Distance (miles)  Bus Distance (miles)\n",
       "Location                                                \n",
       "Austin                         1.3                  1.45\n",
       "Dallas                         1.2                  1.30\n",
       "Laredo                         0.9                   NaN"
      ]
     },
     "execution_count": 9,
     "metadata": {},
     "output_type": "execute_result"
    }
   ],
   "source": [
    "df.groupby(\"Location\").agg({\"Driving Distance (miles)\": \"median\", \n",
    "                            \"Bus Distance (miles)\": \"median\"})"
   ]
  },
  {
   "cell_type": "code",
   "execution_count": 11,
   "metadata": {},
   "outputs": [
    {
     "data": {
      "text/html": [
       "<div>\n",
       "<style scoped>\n",
       "    .dataframe tbody tr th:only-of-type {\n",
       "        vertical-align: middle;\n",
       "    }\n",
       "\n",
       "    .dataframe tbody tr th {\n",
       "        vertical-align: top;\n",
       "    }\n",
       "\n",
       "    .dataframe thead th {\n",
       "        text-align: right;\n",
       "    }\n",
       "</style>\n",
       "<table border=\"1\" class=\"dataframe\">\n",
       "  <thead>\n",
       "    <tr style=\"text-align: right;\">\n",
       "      <th></th>\n",
       "      <th>Driving Distance (miles)</th>\n",
       "      <th>Bus Distance (miles)</th>\n",
       "    </tr>\n",
       "    <tr>\n",
       "      <th>Location</th>\n",
       "      <th></th>\n",
       "      <th></th>\n",
       "    </tr>\n",
       "  </thead>\n",
       "  <tbody>\n",
       "    <tr>\n",
       "      <th>Austin</th>\n",
       "      <td>0.569833</td>\n",
       "      <td>0.721667</td>\n",
       "    </tr>\n",
       "    <tr>\n",
       "      <th>Dallas</th>\n",
       "      <td>0.708000</td>\n",
       "      <td>1.073082</td>\n",
       "    </tr>\n",
       "    <tr>\n",
       "      <th>Laredo</th>\n",
       "      <td>1.300800</td>\n",
       "      <td>NaN</td>\n",
       "    </tr>\n",
       "  </tbody>\n",
       "</table>\n",
       "</div>"
      ],
      "text/plain": [
       "          Driving Distance (miles)  Bus Distance (miles)\n",
       "Location                                                \n",
       "Austin                    0.569833              0.721667\n",
       "Dallas                    0.708000              1.073082\n",
       "Laredo                    1.300800                   NaN"
      ]
     },
     "execution_count": 11,
     "metadata": {},
     "output_type": "execute_result"
    }
   ],
   "source": [
    "# Mean absolute deviation from mean values\n",
    "\n",
    "df.groupby(\"Location\").agg({\"Driving Distance (miles)\": \"mad\", \n",
    "                            \"Bus Distance (miles)\": \"mad\"})"
   ]
  },
  {
   "cell_type": "code",
   "execution_count": 12,
   "metadata": {},
   "outputs": [
    {
     "data": {
      "text/html": [
       "<div>\n",
       "<style scoped>\n",
       "    .dataframe tbody tr th:only-of-type {\n",
       "        vertical-align: middle;\n",
       "    }\n",
       "\n",
       "    .dataframe tbody tr th {\n",
       "        vertical-align: top;\n",
       "    }\n",
       "\n",
       "    .dataframe thead th {\n",
       "        text-align: right;\n",
       "    }\n",
       "</style>\n",
       "<table border=\"1\" class=\"dataframe\">\n",
       "  <thead>\n",
       "    <tr style=\"text-align: right;\">\n",
       "      <th></th>\n",
       "      <th>Bus Distance (miles)</th>\n",
       "      <th>Driving Distance (miles)</th>\n",
       "      <th>Percent in Poverty</th>\n",
       "      <th>Walking Distance (miles)</th>\n",
       "      <th>Zip Code</th>\n",
       "    </tr>\n",
       "  </thead>\n",
       "  <tbody>\n",
       "    <tr>\n",
       "      <th>count</th>\n",
       "      <td>200.00000</td>\n",
       "      <td>220.000000</td>\n",
       "      <td>220.000000</td>\n",
       "      <td>140.000000</td>\n",
       "      <td>200.000000</td>\n",
       "    </tr>\n",
       "    <tr>\n",
       "      <th>mean</th>\n",
       "      <td>1.73400</td>\n",
       "      <td>1.448455</td>\n",
       "      <td>88.685227</td>\n",
       "      <td>1.307857</td>\n",
       "      <td>76273.425000</td>\n",
       "    </tr>\n",
       "    <tr>\n",
       "      <th>std</th>\n",
       "      <td>1.57031</td>\n",
       "      <td>1.091602</td>\n",
       "      <td>12.522462</td>\n",
       "      <td>0.876641</td>\n",
       "      <td>1615.513862</td>\n",
       "    </tr>\n",
       "    <tr>\n",
       "      <th>min</th>\n",
       "      <td>0.10000</td>\n",
       "      <td>0.060000</td>\n",
       "      <td>33.930000</td>\n",
       "      <td>0.100000</td>\n",
       "      <td>75006.000000</td>\n",
       "    </tr>\n",
       "    <tr>\n",
       "      <th>25%</th>\n",
       "      <td>0.90000</td>\n",
       "      <td>0.800000</td>\n",
       "      <td>86.395000</td>\n",
       "      <td>0.700000</td>\n",
       "      <td>75216.000000</td>\n",
       "    </tr>\n",
       "    <tr>\n",
       "      <th>50%</th>\n",
       "      <td>1.30000</td>\n",
       "      <td>1.200000</td>\n",
       "      <td>92.390000</td>\n",
       "      <td>1.100000</td>\n",
       "      <td>75228.000000</td>\n",
       "    </tr>\n",
       "    <tr>\n",
       "      <th>75%</th>\n",
       "      <td>2.00000</td>\n",
       "      <td>1.800000</td>\n",
       "      <td>96.270000</td>\n",
       "      <td>1.600000</td>\n",
       "      <td>78704.000000</td>\n",
       "    </tr>\n",
       "    <tr>\n",
       "      <th>max</th>\n",
       "      <td>12.50000</td>\n",
       "      <td>8.000000</td>\n",
       "      <td>100.000000</td>\n",
       "      <td>5.600000</td>\n",
       "      <td>78758.000000</td>\n",
       "    </tr>\n",
       "  </tbody>\n",
       "</table>\n",
       "</div>"
      ],
      "text/plain": [
       "       Bus Distance (miles)  Driving Distance (miles)  Percent in Poverty  \\\n",
       "count             200.00000                220.000000          220.000000   \n",
       "mean                1.73400                  1.448455           88.685227   \n",
       "std                 1.57031                  1.091602           12.522462   \n",
       "min                 0.10000                  0.060000           33.930000   \n",
       "25%                 0.90000                  0.800000           86.395000   \n",
       "50%                 1.30000                  1.200000           92.390000   \n",
       "75%                 2.00000                  1.800000           96.270000   \n",
       "max                12.50000                  8.000000          100.000000   \n",
       "\n",
       "       Walking Distance (miles)      Zip Code  \n",
       "count                140.000000    200.000000  \n",
       "mean                   1.307857  76273.425000  \n",
       "std                    0.876641   1615.513862  \n",
       "min                    0.100000  75006.000000  \n",
       "25%                    0.700000  75216.000000  \n",
       "50%                    1.100000  75228.000000  \n",
       "75%                    1.600000  78704.000000  \n",
       "max                    5.600000  78758.000000  "
      ]
     },
     "execution_count": 12,
     "metadata": {},
     "output_type": "execute_result"
    }
   ],
   "source": [
    "df.describe()\n",
    "# Looking at this data, I'd like to do boxplots (side-by-side) of each of the three\n",
    "# cities' poverty levels"
   ]
  },
  {
   "cell_type": "code",
   "execution_count": 14,
   "metadata": {},
   "outputs": [
    {
     "data": {
      "text/plain": [
       "Location\n",
       "Austin     60\n",
       "Dallas    140\n",
       "Laredo      0\n",
       "Name: Poverty Groups, dtype: int64"
      ]
     },
     "execution_count": 14,
     "metadata": {},
     "output_type": "execute_result"
    }
   ],
   "source": [
    "# Laredo wasn't binned into poverty groups because all schools are at 100%\n",
    "# Fixed this below for comparison's sake\n",
    "\n",
    "df.groupby(\"Location\")[\"Poverty Groups\"].count()"
   ]
  },
  {
   "cell_type": "code",
   "execution_count": 16,
   "metadata": {},
   "outputs": [
    {
     "data": {
      "text/html": [
       "<div>\n",
       "<style scoped>\n",
       "    .dataframe tbody tr th:only-of-type {\n",
       "        vertical-align: middle;\n",
       "    }\n",
       "\n",
       "    .dataframe tbody tr th {\n",
       "        vertical-align: top;\n",
       "    }\n",
       "\n",
       "    .dataframe thead th {\n",
       "        text-align: right;\n",
       "    }\n",
       "</style>\n",
       "<table border=\"1\" class=\"dataframe\">\n",
       "  <thead>\n",
       "    <tr style=\"text-align: right;\">\n",
       "      <th></th>\n",
       "      <th>Percent in Poverty</th>\n",
       "    </tr>\n",
       "    <tr>\n",
       "      <th>Location</th>\n",
       "      <th></th>\n",
       "    </tr>\n",
       "  </thead>\n",
       "  <tbody>\n",
       "    <tr>\n",
       "      <th>Austin</th>\n",
       "      <td>80.918500</td>\n",
       "    </tr>\n",
       "    <tr>\n",
       "      <th>Dallas</th>\n",
       "      <td>90.397429</td>\n",
       "    </tr>\n",
       "    <tr>\n",
       "      <th>Laredo</th>\n",
       "      <td>100.000000</td>\n",
       "    </tr>\n",
       "  </tbody>\n",
       "</table>\n",
       "</div>"
      ],
      "text/plain": [
       "          Percent in Poverty\n",
       "Location                    \n",
       "Austin             80.918500\n",
       "Dallas             90.397429\n",
       "Laredo            100.000000"
      ]
     },
     "execution_count": 16,
     "metadata": {},
     "output_type": "execute_result"
    }
   ],
   "source": [
    "\n",
    "df.groupby(\"Location\").agg({\"Percent in Poverty\": \"mean\"})"
   ]
  },
  {
   "cell_type": "code",
   "execution_count": 17,
   "metadata": {},
   "outputs": [
    {
     "data": {
      "text/html": [
       "<div>\n",
       "<style scoped>\n",
       "    .dataframe tbody tr th:only-of-type {\n",
       "        vertical-align: middle;\n",
       "    }\n",
       "\n",
       "    .dataframe tbody tr th {\n",
       "        vertical-align: top;\n",
       "    }\n",
       "\n",
       "    .dataframe thead th {\n",
       "        text-align: right;\n",
       "    }\n",
       "</style>\n",
       "<table border=\"1\" class=\"dataframe\">\n",
       "  <thead>\n",
       "    <tr style=\"text-align: right;\">\n",
       "      <th></th>\n",
       "      <th>Percent in Poverty</th>\n",
       "    </tr>\n",
       "    <tr>\n",
       "      <th>Location</th>\n",
       "      <th></th>\n",
       "    </tr>\n",
       "  </thead>\n",
       "  <tbody>\n",
       "    <tr>\n",
       "      <th>Austin</th>\n",
       "      <td>89.765</td>\n",
       "    </tr>\n",
       "    <tr>\n",
       "      <th>Dallas</th>\n",
       "      <td>92.930</td>\n",
       "    </tr>\n",
       "    <tr>\n",
       "      <th>Laredo</th>\n",
       "      <td>100.000</td>\n",
       "    </tr>\n",
       "  </tbody>\n",
       "</table>\n",
       "</div>"
      ],
      "text/plain": [
       "          Percent in Poverty\n",
       "Location                    \n",
       "Austin                89.765\n",
       "Dallas                92.930\n",
       "Laredo               100.000"
      ]
     },
     "execution_count": 17,
     "metadata": {},
     "output_type": "execute_result"
    }
   ],
   "source": [
    "df.groupby(\"Location\").agg({\"Percent in Poverty\": \"median\"})"
   ]
  },
  {
   "cell_type": "code",
   "execution_count": 19,
   "metadata": {},
   "outputs": [],
   "source": [
    "# Preparing to use the driving distances to determine if an area is a food desert\n",
    "# or not\n",
    "driving_distance = df[\"Driving Distance (miles)\"]"
   ]
  },
  {
   "cell_type": "code",
   "execution_count": 20,
   "metadata": {},
   "outputs": [],
   "source": [
    "# Food desert is more than a mile away. This loop will give a yes/no value based\n",
    "# on the driving distance\n",
    "\n",
    "food_desert = []\n",
    "\n",
    "for drive in driving_distance:\n",
    "    if drive > 1:\n",
    "        food_desert.append(\"Yes\")\n",
    "    else:\n",
    "        food_desert.append(\"No\")"
   ]
  },
  {
   "cell_type": "code",
   "execution_count": 22,
   "metadata": {},
   "outputs": [],
   "source": [
    "# Adding hte column to the dataframe\n",
    "\n",
    "df[\"Food Desert\"] = food_desert"
   ]
  },
  {
   "cell_type": "code",
   "execution_count": 159,
   "metadata": {},
   "outputs": [
    {
     "data": {
      "text/html": [
       "<div>\n",
       "<style scoped>\n",
       "    .dataframe tbody tr th:only-of-type {\n",
       "        vertical-align: middle;\n",
       "    }\n",
       "\n",
       "    .dataframe tbody tr th {\n",
       "        vertical-align: top;\n",
       "    }\n",
       "\n",
       "    .dataframe thead th {\n",
       "        text-align: right;\n",
       "    }\n",
       "</style>\n",
       "<table border=\"1\" class=\"dataframe\">\n",
       "  <thead>\n",
       "    <tr style=\"text-align: right;\">\n",
       "      <th></th>\n",
       "      <th>Bus Distance (miles)</th>\n",
       "      <th>Closest Store</th>\n",
       "      <th>Driving Distance (miles)</th>\n",
       "      <th>Location</th>\n",
       "      <th>Percent in Poverty</th>\n",
       "      <th>Poverty Groups</th>\n",
       "      <th>School Name</th>\n",
       "      <th>Store Address</th>\n",
       "      <th>Walking Distance (miles)</th>\n",
       "      <th>Zip Code</th>\n",
       "      <th>Food Desert</th>\n",
       "    </tr>\n",
       "  </thead>\n",
       "  <tbody>\n",
       "    <tr>\n",
       "      <th>0</th>\n",
       "      <td>1.4</td>\n",
       "      <td>Fiesta Mart</td>\n",
       "      <td>1.4</td>\n",
       "      <td>Dallas</td>\n",
       "      <td>97.13</td>\n",
       "      <td>90-100</td>\n",
       "      <td>William M Anderson Elementary</td>\n",
       "      <td>10121 E Lake June Rd, Dallas, TX 75217</td>\n",
       "      <td>1.2</td>\n",
       "      <td>75217.0</td>\n",
       "      <td>Yes</td>\n",
       "    </tr>\n",
       "    <tr>\n",
       "      <th>1</th>\n",
       "      <td>0.9</td>\n",
       "      <td>Supermercado Monterrey</td>\n",
       "      <td>0.9</td>\n",
       "      <td>Dallas</td>\n",
       "      <td>96.33</td>\n",
       "      <td>90-100</td>\n",
       "      <td>Arcadia Park Elementary School</td>\n",
       "      <td>5306 W Davis St, Dallas, TX 75211</td>\n",
       "      <td>0.9</td>\n",
       "      <td>75211.0</td>\n",
       "      <td>No</td>\n",
       "    </tr>\n",
       "  </tbody>\n",
       "</table>\n",
       "</div>"
      ],
      "text/plain": [
       "   Bus Distance (miles)           Closest Store  Driving Distance (miles)  \\\n",
       "0                   1.4             Fiesta Mart                       1.4   \n",
       "1                   0.9  Supermercado Monterrey                       0.9   \n",
       "\n",
       "  Location  Percent in Poverty Poverty Groups                     School Name  \\\n",
       "0   Dallas               97.13         90-100   William M Anderson Elementary   \n",
       "1   Dallas               96.33         90-100  Arcadia Park Elementary School   \n",
       "\n",
       "                            Store Address  Walking Distance (miles)  Zip Code  \\\n",
       "0  10121 E Lake June Rd, Dallas, TX 75217                       1.2   75217.0   \n",
       "1       5306 W Davis St, Dallas, TX 75211                       0.9   75211.0   \n",
       "\n",
       "  Food Desert  \n",
       "0         Yes  \n",
       "1          No  "
      ]
     },
     "execution_count": 159,
     "metadata": {},
     "output_type": "execute_result"
    }
   ],
   "source": [
    "df.head(2)"
   ]
  },
  {
   "cell_type": "code",
   "execution_count": 160,
   "metadata": {},
   "outputs": [],
   "source": [
    "# This cross tabulation shows how many schools in each city fall into a food desert\n",
    "\n",
    "food_desert_crosstab = pd.crosstab(df[\"Location\"], df[\"Food Desert\"], margins = True)"
   ]
  },
  {
   "cell_type": "code",
   "execution_count": 26,
   "metadata": {},
   "outputs": [
    {
     "data": {
      "text/html": [
       "<div>\n",
       "<style scoped>\n",
       "    .dataframe tbody tr th:only-of-type {\n",
       "        vertical-align: middle;\n",
       "    }\n",
       "\n",
       "    .dataframe tbody tr th {\n",
       "        vertical-align: top;\n",
       "    }\n",
       "\n",
       "    .dataframe thead th {\n",
       "        text-align: right;\n",
       "    }\n",
       "</style>\n",
       "<table border=\"1\" class=\"dataframe\">\n",
       "  <thead>\n",
       "    <tr style=\"text-align: right;\">\n",
       "      <th>Food Desert</th>\n",
       "      <th>No</th>\n",
       "      <th>Yes</th>\n",
       "      <th>All</th>\n",
       "    </tr>\n",
       "    <tr>\n",
       "      <th>Location</th>\n",
       "      <th></th>\n",
       "      <th></th>\n",
       "      <th></th>\n",
       "    </tr>\n",
       "  </thead>\n",
       "  <tbody>\n",
       "    <tr>\n",
       "      <th>Austin</th>\n",
       "      <td>21</td>\n",
       "      <td>39</td>\n",
       "      <td>60</td>\n",
       "    </tr>\n",
       "    <tr>\n",
       "      <th>Dallas</th>\n",
       "      <td>57</td>\n",
       "      <td>83</td>\n",
       "      <td>140</td>\n",
       "    </tr>\n",
       "    <tr>\n",
       "      <th>Laredo</th>\n",
       "      <td>14</td>\n",
       "      <td>6</td>\n",
       "      <td>20</td>\n",
       "    </tr>\n",
       "    <tr>\n",
       "      <th>All</th>\n",
       "      <td>92</td>\n",
       "      <td>128</td>\n",
       "      <td>220</td>\n",
       "    </tr>\n",
       "  </tbody>\n",
       "</table>\n",
       "</div>"
      ],
      "text/plain": [
       "Food Desert  No  Yes  All\n",
       "Location                 \n",
       "Austin       21   39   60\n",
       "Dallas       57   83  140\n",
       "Laredo       14    6   20\n",
       "All          92  128  220"
      ]
     },
     "execution_count": 26,
     "metadata": {},
     "output_type": "execute_result"
    }
   ],
   "source": [
    "food_desert_crosstab"
   ]
  },
  {
   "cell_type": "code",
   "execution_count": 30,
   "metadata": {},
   "outputs": [],
   "source": [
    "# Using numbers above\n",
    "\n",
    "percent_in_food_desert = 128/220\n",
    "percent_Dallas = 83/140\n",
    "percent_Austin = 39/60\n",
    "percent_Laredo = 6/20"
   ]
  },
  {
   "cell_type": "code",
   "execution_count": 34,
   "metadata": {},
   "outputs": [
    {
     "name": "stdout",
     "output_type": "stream",
     "text": [
      "Likelihood overall that a poor neighborhood is in a food desert: 0.5818181818181818\n",
      "Likelihood in Austin: 0.65\n",
      "Likelihood in Dallas: 0.5928571428571429\n",
      "Likelihood in Laredo: 0.3\n"
     ]
    }
   ],
   "source": [
    "# A crude way to display likelihoods\n",
    "\n",
    "print(f\"Likelihood overall that a poor neighborhood is in a food desert: {percent_in_food_desert}\")\n",
    "print(f\"Likelihood in Austin: {percent_Austin}\")\n",
    "print(f\"Likelihood in Dallas: {percent_Dallas}\")\n",
    "print(f\"Likelihood in Laredo: {percent_Laredo}\")"
   ]
  },
  {
   "cell_type": "code",
   "execution_count": 36,
   "metadata": {},
   "outputs": [],
   "source": [
    "# Figures from the U.S. Census Bureau, estimated for 2018\n",
    "\n",
    "Dallas_pop_2018 = 1345057\n",
    "Austin_pop_2018 = 964254\n",
    "Laredo_pop_2018 = 261639"
   ]
  },
  {
   "cell_type": "code",
   "execution_count": 161,
   "metadata": {},
   "outputs": [
    {
     "data": {
      "text/plain": [
       "2570950"
      ]
     },
     "execution_count": 161,
     "metadata": {},
     "output_type": "execute_result"
    }
   ],
   "source": [
    "# Population of the three cities\n",
    "\n",
    "cities_pop = Dallas_pop_2018 + Austin_pop_2018 + Laredo_pop_2018\n",
    "cities_pop"
   ]
  },
  {
   "cell_type": "code",
   "execution_count": 39,
   "metadata": {},
   "outputs": [
    {
     "data": {
      "text/plain": [
       "1.3949198032883452"
      ]
     },
     "execution_count": 39,
     "metadata": {},
     "output_type": "execute_result"
    }
   ],
   "source": [
    "# Dallas is 1.4 times the size of Austin\n",
    "\n",
    "Dallas_pop_2018/Austin_pop_2018"
   ]
  },
  {
   "cell_type": "code",
   "execution_count": 40,
   "metadata": {},
   "outputs": [],
   "source": [
    "Dallas_food_deserts = 83\n",
    "Austin_food_deserts = 39\n",
    "Laredo_food_deserts = 6"
   ]
  },
  {
   "cell_type": "code",
   "execution_count": 41,
   "metadata": {},
   "outputs": [
    {
     "data": {
      "text/plain": [
       "2.128205128205128"
      ]
     },
     "execution_count": 41,
     "metadata": {},
     "output_type": "execute_result"
    }
   ],
   "source": [
    "# Dallas has 2.13 times as many food deserts as Austin\n",
    "\n",
    "Dallas_food_deserts/Austin_food_deserts"
   ]
  },
  {
   "cell_type": "code",
   "execution_count": 42,
   "metadata": {},
   "outputs": [
    {
     "data": {
      "text/plain": [
       "5.140888781871205"
      ]
     },
     "execution_count": 42,
     "metadata": {},
     "output_type": "execute_result"
    }
   ],
   "source": [
    "# Dallas is 5.14 times as large as Laredo\n",
    "\n",
    "Dallas_pop_2018/Laredo_pop_2018"
   ]
  },
  {
   "cell_type": "code",
   "execution_count": 43,
   "metadata": {},
   "outputs": [
    {
     "data": {
      "text/plain": [
       "13.833333333333334"
      ]
     },
     "execution_count": 43,
     "metadata": {},
     "output_type": "execute_result"
    }
   ],
   "source": [
    "# Dallas has 13.83 times as many food deserts -- CRAZY\n",
    "# It feels like there should be some way to graph this information \n",
    "\n",
    "Dallas_food_deserts/Laredo_food_deserts"
   ]
  },
  {
   "cell_type": "code",
   "execution_count": 45,
   "metadata": {},
   "outputs": [],
   "source": [
    "# Pulling the poverty groups so that Laredo can be binned\n",
    "poverty_groups = df[\"Poverty Groups\"]"
   ]
  },
  {
   "cell_type": "code",
   "execution_count": 52,
   "metadata": {},
   "outputs": [],
   "source": [
    "# We only need to change the ones indexed from 200 to 219, which are Laredo's schools.\n",
    "# Since they're all the same, only one entry is needed rather than a list\n",
    "\n",
    "poverty_groups[200:] = \"90-100\""
   ]
  },
  {
   "cell_type": "code",
   "execution_count": 50,
   "metadata": {},
   "outputs": [],
   "source": [
    "# Adding back to the dataframe\n",
    "\n",
    "df[\"Poverty Groups\"] = poverty_groups"
   ]
  },
  {
   "cell_type": "code",
   "execution_count": 59,
   "metadata": {},
   "outputs": [
    {
     "data": {
      "text/html": [
       "<div>\n",
       "<style scoped>\n",
       "    .dataframe tbody tr th:only-of-type {\n",
       "        vertical-align: middle;\n",
       "    }\n",
       "\n",
       "    .dataframe tbody tr th {\n",
       "        vertical-align: top;\n",
       "    }\n",
       "\n",
       "    .dataframe thead th {\n",
       "        text-align: right;\n",
       "    }\n",
       "</style>\n",
       "<table border=\"1\" class=\"dataframe\">\n",
       "  <thead>\n",
       "    <tr style=\"text-align: right;\">\n",
       "      <th></th>\n",
       "      <th>Food Desert</th>\n",
       "      <th>City</th>\n",
       "    </tr>\n",
       "  </thead>\n",
       "  <tbody>\n",
       "    <tr>\n",
       "      <th>215</th>\n",
       "      <td>False</td>\n",
       "      <td>Dallas</td>\n",
       "    </tr>\n",
       "    <tr>\n",
       "      <th>216</th>\n",
       "      <td>False</td>\n",
       "      <td>Laredo</td>\n",
       "    </tr>\n",
       "    <tr>\n",
       "      <th>217</th>\n",
       "      <td>True</td>\n",
       "      <td>Dallas</td>\n",
       "    </tr>\n",
       "    <tr>\n",
       "      <th>218</th>\n",
       "      <td>False</td>\n",
       "      <td>Dallas</td>\n",
       "    </tr>\n",
       "    <tr>\n",
       "      <th>219</th>\n",
       "      <td>True</td>\n",
       "      <td>Laredo</td>\n",
       "    </tr>\n",
       "  </tbody>\n",
       "</table>\n",
       "</div>"
      ],
      "text/plain": [
       "     Food Desert    City\n",
       "215        False  Dallas\n",
       "216        False  Laredo\n",
       "217         True  Dallas\n",
       "218        False  Dallas\n",
       "219         True  Laredo"
      ]
     },
     "execution_count": 59,
     "metadata": {},
     "output_type": "execute_result"
    }
   ],
   "source": [
    "# Looks good\n",
    "\n",
    "df.tail()"
   ]
  },
  {
   "cell_type": "code",
   "execution_count": 162,
   "metadata": {},
   "outputs": [
    {
     "data": {
      "text/html": [
       "<div>\n",
       "<style scoped>\n",
       "    .dataframe tbody tr th:only-of-type {\n",
       "        vertical-align: middle;\n",
       "    }\n",
       "\n",
       "    .dataframe tbody tr th {\n",
       "        vertical-align: top;\n",
       "    }\n",
       "\n",
       "    .dataframe thead th {\n",
       "        text-align: right;\n",
       "    }\n",
       "</style>\n",
       "<table border=\"1\" class=\"dataframe\">\n",
       "  <thead>\n",
       "    <tr style=\"text-align: right;\">\n",
       "      <th>Poverty Groups</th>\n",
       "      <th>40-49</th>\n",
       "      <th>50-59</th>\n",
       "      <th>60-69</th>\n",
       "      <th>70-79</th>\n",
       "      <th>80-89</th>\n",
       "      <th>90-100</th>\n",
       "      <th>&lt; 40</th>\n",
       "    </tr>\n",
       "    <tr>\n",
       "      <th>Location</th>\n",
       "      <th></th>\n",
       "      <th></th>\n",
       "      <th></th>\n",
       "      <th></th>\n",
       "      <th></th>\n",
       "      <th></th>\n",
       "      <th></th>\n",
       "    </tr>\n",
       "  </thead>\n",
       "  <tbody>\n",
       "    <tr>\n",
       "      <th>Austin</th>\n",
       "      <td>5</td>\n",
       "      <td>1</td>\n",
       "      <td>5</td>\n",
       "      <td>7</td>\n",
       "      <td>9</td>\n",
       "      <td>32</td>\n",
       "      <td>1</td>\n",
       "    </tr>\n",
       "    <tr>\n",
       "      <th>Dallas</th>\n",
       "      <td>0</td>\n",
       "      <td>3</td>\n",
       "      <td>3</td>\n",
       "      <td>7</td>\n",
       "      <td>24</td>\n",
       "      <td>103</td>\n",
       "      <td>0</td>\n",
       "    </tr>\n",
       "    <tr>\n",
       "      <th>Laredo</th>\n",
       "      <td>0</td>\n",
       "      <td>0</td>\n",
       "      <td>0</td>\n",
       "      <td>0</td>\n",
       "      <td>0</td>\n",
       "      <td>20</td>\n",
       "      <td>0</td>\n",
       "    </tr>\n",
       "  </tbody>\n",
       "</table>\n",
       "</div>"
      ],
      "text/plain": [
       "Poverty Groups  40-49  50-59  60-69  70-79  80-89  90-100  < 40\n",
       "Location                                                       \n",
       "Austin              5      1      5      7      9      32     1\n",
       "Dallas              0      3      3      7     24     103     0\n",
       "Laredo              0      0      0      0      0      20     0"
      ]
     },
     "execution_count": 162,
     "metadata": {},
     "output_type": "execute_result"
    }
   ],
   "source": [
    "# Looking at bins by city, it's quickly apparent that Austin has the greatest range\n",
    "# and Dallas has the greatest number in poverty\n",
    "\n",
    "pd.crosstab(df[\"Location\"], df[\"Poverty Groups\"])"
   ]
  },
  {
   "cell_type": "code",
   "execution_count": 54,
   "metadata": {},
   "outputs": [],
   "source": [
    "# Saving the cleaned up dataframe to csv\n",
    "\n",
    "df.to_csv(\"Combined_Cities.csv\", index = False)"
   ]
  },
  {
   "cell_type": "code",
   "execution_count": 76,
   "metadata": {},
   "outputs": [],
   "source": [
    "# Reading it in again to check quick\n",
    "\n",
    "infile = pd.read_csv(\"Combined_Cities.csv\")\n",
    "df = pd.DataFrame(infile)"
   ]
  },
  {
   "cell_type": "code",
   "execution_count": 77,
   "metadata": {},
   "outputs": [
    {
     "data": {
      "text/html": [
       "<div>\n",
       "<style scoped>\n",
       "    .dataframe tbody tr th:only-of-type {\n",
       "        vertical-align: middle;\n",
       "    }\n",
       "\n",
       "    .dataframe tbody tr th {\n",
       "        vertical-align: top;\n",
       "    }\n",
       "\n",
       "    .dataframe thead th {\n",
       "        text-align: right;\n",
       "    }\n",
       "</style>\n",
       "<table border=\"1\" class=\"dataframe\">\n",
       "  <thead>\n",
       "    <tr style=\"text-align: right;\">\n",
       "      <th></th>\n",
       "      <th>Bus Distance (miles)</th>\n",
       "      <th>Closest Store</th>\n",
       "      <th>Driving Distance (miles)</th>\n",
       "      <th>Location</th>\n",
       "      <th>Percent in Poverty</th>\n",
       "      <th>Poverty Groups</th>\n",
       "      <th>School Name</th>\n",
       "      <th>Store Address</th>\n",
       "      <th>Walking Distance (miles)</th>\n",
       "      <th>Zip Code</th>\n",
       "      <th>Food Desert</th>\n",
       "    </tr>\n",
       "  </thead>\n",
       "  <tbody>\n",
       "    <tr>\n",
       "      <th>0</th>\n",
       "      <td>1.4</td>\n",
       "      <td>Fiesta Mart</td>\n",
       "      <td>1.4</td>\n",
       "      <td>Dallas</td>\n",
       "      <td>97.13</td>\n",
       "      <td>90-100</td>\n",
       "      <td>William M Anderson Elementary</td>\n",
       "      <td>10121 E Lake June Rd, Dallas, TX 75217</td>\n",
       "      <td>1.2</td>\n",
       "      <td>75217.0</td>\n",
       "      <td>Yes</td>\n",
       "    </tr>\n",
       "    <tr>\n",
       "      <th>1</th>\n",
       "      <td>0.9</td>\n",
       "      <td>Supermercado Monterrey</td>\n",
       "      <td>0.9</td>\n",
       "      <td>Dallas</td>\n",
       "      <td>96.33</td>\n",
       "      <td>90-100</td>\n",
       "      <td>Arcadia Park Elementary School</td>\n",
       "      <td>5306 W Davis St, Dallas, TX 75211</td>\n",
       "      <td>0.9</td>\n",
       "      <td>75211.0</td>\n",
       "      <td>No</td>\n",
       "    </tr>\n",
       "  </tbody>\n",
       "</table>\n",
       "</div>"
      ],
      "text/plain": [
       "   Bus Distance (miles)           Closest Store  Driving Distance (miles)  \\\n",
       "0                   1.4             Fiesta Mart                       1.4   \n",
       "1                   0.9  Supermercado Monterrey                       0.9   \n",
       "\n",
       "  Location  Percent in Poverty Poverty Groups                     School Name  \\\n",
       "0   Dallas               97.13         90-100   William M Anderson Elementary   \n",
       "1   Dallas               96.33         90-100  Arcadia Park Elementary School   \n",
       "\n",
       "                            Store Address  Walking Distance (miles)  Zip Code  \\\n",
       "0  10121 E Lake June Rd, Dallas, TX 75217                       1.2   75217.0   \n",
       "1       5306 W Davis St, Dallas, TX 75211                       0.9   75211.0   \n",
       "\n",
       "  Food Desert  \n",
       "0         Yes  \n",
       "1          No  "
      ]
     },
     "execution_count": 77,
     "metadata": {},
     "output_type": "execute_result"
    }
   ],
   "source": [
    "# Looks good\n",
    "\n",
    "df.head(2)"
   ]
  },
  {
   "cell_type": "code",
   "execution_count": 78,
   "metadata": {},
   "outputs": [
    {
     "data": {
      "text/html": [
       "<div>\n",
       "<style scoped>\n",
       "    .dataframe tbody tr th:only-of-type {\n",
       "        vertical-align: middle;\n",
       "    }\n",
       "\n",
       "    .dataframe tbody tr th {\n",
       "        vertical-align: top;\n",
       "    }\n",
       "\n",
       "    .dataframe thead th {\n",
       "        text-align: right;\n",
       "    }\n",
       "</style>\n",
       "<table border=\"1\" class=\"dataframe\">\n",
       "  <thead>\n",
       "    <tr style=\"text-align: right;\">\n",
       "      <th>Food Desert</th>\n",
       "      <th>No</th>\n",
       "      <th>Yes</th>\n",
       "    </tr>\n",
       "    <tr>\n",
       "      <th>Location</th>\n",
       "      <th></th>\n",
       "      <th></th>\n",
       "    </tr>\n",
       "  </thead>\n",
       "  <tbody>\n",
       "    <tr>\n",
       "      <th>Austin</th>\n",
       "      <td>21</td>\n",
       "      <td>39</td>\n",
       "    </tr>\n",
       "    <tr>\n",
       "      <th>Dallas</th>\n",
       "      <td>57</td>\n",
       "      <td>83</td>\n",
       "    </tr>\n",
       "    <tr>\n",
       "      <th>Laredo</th>\n",
       "      <td>14</td>\n",
       "      <td>6</td>\n",
       "    </tr>\n",
       "  </tbody>\n",
       "</table>\n",
       "</div>"
      ],
      "text/plain": [
       "Food Desert  No  Yes\n",
       "Location            \n",
       "Austin       21   39\n",
       "Dallas       57   83\n",
       "Laredo       14    6"
      ]
     },
     "execution_count": 78,
     "metadata": {},
     "output_type": "execute_result"
    }
   ],
   "source": [
    "# Looking at where the food deserts are\n",
    "\n",
    "pd.crosstab(df[\"Location\"],df[\"Food Desert\"])"
   ]
  },
  {
   "cell_type": "code",
   "execution_count": 82,
   "metadata": {},
   "outputs": [
    {
     "data": {
      "text/plain": [
       "<function matplotlib.pyplot.boxplot(x, notch=None, sym=None, vert=None, whis=None, positions=None, widths=None, patch_artist=None, bootstrap=None, usermedians=None, conf_intervals=None, meanline=None, showmeans=None, showcaps=None, showbox=None, showfliers=None, boxprops=None, labels=None, flierprops=None, medianprops=None, meanprops=None, capprops=None, whiskerprops=None, manage_xticks=True, autorange=False, zorder=None, hold=None, data=None)>"
      ]
     },
     "execution_count": 82,
     "metadata": {},
     "output_type": "execute_result"
    }
   ],
   "source": [
    "# Apparently, typing the function name and running the cell will give you a list\n",
    "# of all of the function's arguments, which is helpful for future reference\n",
    "\n",
    "plt.boxplot"
   ]
  },
  {
   "cell_type": "code",
   "execution_count": 99,
   "metadata": {},
   "outputs": [
    {
     "data": {
      "text/plain": [
       "{'whiskers': [<matplotlib.lines.Line2D at 0x1a2425ea90>,\n",
       "  <matplotlib.lines.Line2D at 0x1a2425ef28>],\n",
       " 'caps': [<matplotlib.lines.Line2D at 0x1a24263390>,\n",
       "  <matplotlib.lines.Line2D at 0x1a242637b8>],\n",
       " 'boxes': [<matplotlib.lines.Line2D at 0x1a2425e940>],\n",
       " 'medians': [<matplotlib.lines.Line2D at 0x1a24263be0>],\n",
       " 'fliers': [<matplotlib.lines.Line2D at 0x1a24267048>],\n",
       " 'means': []}"
      ]
     },
     "execution_count": 99,
     "metadata": {},
     "output_type": "execute_result"
    },
    {
     "data": {
      "image/png": "[encoded data removed]",
      "text/plain": [
       "<Figure size 432x288 with 1 Axes>"
      ]
     },
     "metadata": {
      "needs_background": "light"
     },
     "output_type": "display_data"
    }
   ],
   "source": [
    "# Boxplot for the entire dataset (need to figure out how to break this into locations\n",
    "# so we can see the range more clearly\n",
    "\n",
    "plt.boxplot(df[\"Percent in Poverty\"])"
   ]
  },
  {
   "cell_type": "code",
   "execution_count": 118,
   "metadata": {},
   "outputs": [
    {
     "data": {
      "text/plain": [
       "Location\n",
       "Austin    AxesSubplot(0.125,0.125;0.775x0.755)\n",
       "Dallas    AxesSubplot(0.125,0.125;0.775x0.755)\n",
       "Laredo    AxesSubplot(0.125,0.125;0.775x0.755)\n",
       "Name: Percent in Poverty, dtype: object"
      ]
     },
     "execution_count": 118,
     "metadata": {},
     "output_type": "execute_result"
    },
    {
     "data": {
      "image/png": "[encoded data removed]",
      "text/plain": [
       "<Figure size 432x288 with 1 Axes>"
      ]
     },
     "metadata": {
      "needs_background": "light"
     },
     "output_type": "display_data"
    }
   ],
   "source": [
    "# Another way to see the range in poverty level and volume (width) of schools\n",
    "# Austin is in blue, Dallas in orange, Laredo in green\n",
    "\n",
    "df.groupby(\"Location\")[\"Percent in Poverty\"].plot()"
   ]
  },
  {
   "cell_type": "code",
   "execution_count": 120,
   "metadata": {},
   "outputs": [
    {
     "data": {
      "text/plain": [
       "Location\n",
       "Austin    AxesSubplot(0.125,0.125;0.775x0.755)\n",
       "Dallas    AxesSubplot(0.125,0.125;0.775x0.755)\n",
       "Laredo    AxesSubplot(0.125,0.125;0.775x0.755)\n",
       "Name: Percent in Poverty, dtype: object"
      ]
     },
     "execution_count": 120,
     "metadata": {},
     "output_type": "execute_result"
    },
    {
     "data": {
      "image/png": "[encoded data removed]",
      "text/plain": [
       "<Figure size 432x288 with 1 Axes>"
      ]
     },
     "metadata": {
      "needs_background": "light"
     },
     "output_type": "display_data"
    }
   ],
   "source": [
    "# Well, this seems useless as a visual\n",
    "\n",
    "df.groupby(\"Location\")[\"Percent in Poverty\"].plot(kind = \"bar\")"
   ]
  },
  {
   "cell_type": "code",
   "execution_count": 121,
   "metadata": {},
   "outputs": [],
   "source": [
    "pov_groups_ct = pd.crosstab(df[\"Location\"], df[\"Poverty Groups\"])"
   ]
  },
  {
   "cell_type": "code",
   "execution_count": 122,
   "metadata": {},
   "outputs": [
    {
     "data": {
      "text/html": [
       "<div>\n",
       "<style scoped>\n",
       "    .dataframe tbody tr th:only-of-type {\n",
       "        vertical-align: middle;\n",
       "    }\n",
       "\n",
       "    .dataframe tbody tr th {\n",
       "        vertical-align: top;\n",
       "    }\n",
       "\n",
       "    .dataframe thead th {\n",
       "        text-align: right;\n",
       "    }\n",
       "</style>\n",
       "<table border=\"1\" class=\"dataframe\">\n",
       "  <thead>\n",
       "    <tr style=\"text-align: right;\">\n",
       "      <th>Poverty Groups</th>\n",
       "      <th>40-49</th>\n",
       "      <th>50-59</th>\n",
       "      <th>60-69</th>\n",
       "      <th>70-79</th>\n",
       "      <th>80-89</th>\n",
       "      <th>90-100</th>\n",
       "      <th>&lt; 40</th>\n",
       "    </tr>\n",
       "    <tr>\n",
       "      <th>Location</th>\n",
       "      <th></th>\n",
       "      <th></th>\n",
       "      <th></th>\n",
       "      <th></th>\n",
       "      <th></th>\n",
       "      <th></th>\n",
       "      <th></th>\n",
       "    </tr>\n",
       "  </thead>\n",
       "  <tbody>\n",
       "    <tr>\n",
       "      <th>Austin</th>\n",
       "      <td>5</td>\n",
       "      <td>1</td>\n",
       "      <td>5</td>\n",
       "      <td>7</td>\n",
       "      <td>9</td>\n",
       "      <td>32</td>\n",
       "      <td>1</td>\n",
       "    </tr>\n",
       "    <tr>\n",
       "      <th>Dallas</th>\n",
       "      <td>0</td>\n",
       "      <td>3</td>\n",
       "      <td>3</td>\n",
       "      <td>7</td>\n",
       "      <td>24</td>\n",
       "      <td>103</td>\n",
       "      <td>0</td>\n",
       "    </tr>\n",
       "    <tr>\n",
       "      <th>Laredo</th>\n",
       "      <td>0</td>\n",
       "      <td>0</td>\n",
       "      <td>0</td>\n",
       "      <td>0</td>\n",
       "      <td>0</td>\n",
       "      <td>20</td>\n",
       "      <td>0</td>\n",
       "    </tr>\n",
       "  </tbody>\n",
       "</table>\n",
       "</div>"
      ],
      "text/plain": [
       "Poverty Groups  40-49  50-59  60-69  70-79  80-89  90-100  < 40\n",
       "Location                                                       \n",
       "Austin              5      1      5      7      9      32     1\n",
       "Dallas              0      3      3      7     24     103     0\n",
       "Laredo              0      0      0      0      0      20     0"
      ]
     },
     "execution_count": 122,
     "metadata": {},
     "output_type": "execute_result"
    }
   ],
   "source": [
    "pov_groups_ct"
   ]
  },
  {
   "cell_type": "code",
   "execution_count": 123,
   "metadata": {},
   "outputs": [
    {
     "data": {
      "text/html": [
       "<div>\n",
       "<style scoped>\n",
       "    .dataframe tbody tr th:only-of-type {\n",
       "        vertical-align: middle;\n",
       "    }\n",
       "\n",
       "    .dataframe tbody tr th {\n",
       "        vertical-align: top;\n",
       "    }\n",
       "\n",
       "    .dataframe thead th {\n",
       "        text-align: right;\n",
       "    }\n",
       "</style>\n",
       "<table border=\"1\" class=\"dataframe\">\n",
       "  <thead>\n",
       "    <tr style=\"text-align: right;\">\n",
       "      <th>Food Desert</th>\n",
       "      <th>No</th>\n",
       "      <th>Yes</th>\n",
       "      <th>All</th>\n",
       "    </tr>\n",
       "    <tr>\n",
       "      <th>Location</th>\n",
       "      <th></th>\n",
       "      <th></th>\n",
       "      <th></th>\n",
       "    </tr>\n",
       "  </thead>\n",
       "  <tbody>\n",
       "    <tr>\n",
       "      <th>Austin</th>\n",
       "      <td>21</td>\n",
       "      <td>39</td>\n",
       "      <td>60</td>\n",
       "    </tr>\n",
       "    <tr>\n",
       "      <th>Dallas</th>\n",
       "      <td>57</td>\n",
       "      <td>83</td>\n",
       "      <td>140</td>\n",
       "    </tr>\n",
       "    <tr>\n",
       "      <th>Laredo</th>\n",
       "      <td>14</td>\n",
       "      <td>6</td>\n",
       "      <td>20</td>\n",
       "    </tr>\n",
       "    <tr>\n",
       "      <th>All</th>\n",
       "      <td>92</td>\n",
       "      <td>128</td>\n",
       "      <td>220</td>\n",
       "    </tr>\n",
       "  </tbody>\n",
       "</table>\n",
       "</div>"
      ],
      "text/plain": [
       "Food Desert  No  Yes  All\n",
       "Location                 \n",
       "Austin       21   39   60\n",
       "Dallas       57   83  140\n",
       "Laredo       14    6   20\n",
       "All          92  128  220"
      ]
     },
     "execution_count": 123,
     "metadata": {},
     "output_type": "execute_result"
    }
   ],
   "source": [
    "food_desert_crosstab"
   ]
  },
  {
   "cell_type": "code",
   "execution_count": 125,
   "metadata": {},
   "outputs": [
    {
     "data": {
      "text/plain": [
       "<matplotlib.axes._subplots.AxesSubplot at 0x1a2487a470>"
      ]
     },
     "execution_count": 125,
     "metadata": {},
     "output_type": "execute_result"
    },
    {
     "data": {
      "image/png": "[encoded data removed]",
      "text/plain": [
       "<Figure size 432x288 with 1 Axes>"
      ]
     },
     "metadata": {
      "needs_background": "light"
     },
     "output_type": "display_data"
    }
   ],
   "source": [
    "# Not a very helpful plot, but one that shows relative number of food deserts;\n",
    "# This would be more useful as a stacked bar chart\n",
    "\n",
    "df.groupby(\"Location\")[\"Food Desert\"].value_counts().plot(kind = \"bar\")"
   ]
  },
  {
   "cell_type": "code",
   "execution_count": 126,
   "metadata": {},
   "outputs": [
    {
     "data": {
      "text/plain": [
       "<matplotlib.axes._subplots.AxesSubplot at 0x1a249d1080>"
      ]
     },
     "execution_count": 126,
     "metadata": {},
     "output_type": "execute_result"
    },
    {
     "data": {
      "image/png": "[encoded data removed]",
      "text/plain": [
       "<Figure size 432x288 with 1 Axes>"
      ]
     },
     "metadata": {
      "needs_background": "light"
     },
     "output_type": "display_data"
    }
   ],
   "source": [
    "# A quick look at the poverty bins -- most of the schools in our dataset are in the\n",
    "# 90-100% range\n",
    "\n",
    "# This would be a decent graphic if we stacked the bars colors for each cityd\n",
    "\n",
    "df[\"Poverty Groups\"].value_counts().plot(kind = \"bar\")"
   ]
  },
  {
   "cell_type": "code",
   "execution_count": 127,
   "metadata": {},
   "outputs": [
    {
     "data": {
      "text/plain": [
       "<matplotlib.axes._subplots.AxesSubplot at 0x1a24accb38>"
      ]
     },
     "execution_count": 127,
     "metadata": {},
     "output_type": "execute_result"
    },
    {
     "data": {
      "image/png": "[encoded data removed]",
      "text/plain": [
       "<Figure size 432x288 with 1 Axes>"
      ]
     },
     "metadata": {
      "needs_background": "light"
     },
     "output_type": "display_data"
    }
   ],
   "source": [
    "# Interesting in how we suddenly see Dallas as the biggest contributor of poorest groups\n",
    "\n",
    "df.groupby(\"Location\")[\"Poverty Groups\"].value_counts().plot(kind = \"bar\")"
   ]
  },
  {
   "cell_type": "code",
   "execution_count": 128,
   "metadata": {},
   "outputs": [
    {
     "data": {
      "text/html": [
       "<div>\n",
       "<style scoped>\n",
       "    .dataframe tbody tr th:only-of-type {\n",
       "        vertical-align: middle;\n",
       "    }\n",
       "\n",
       "    .dataframe tbody tr th {\n",
       "        vertical-align: top;\n",
       "    }\n",
       "\n",
       "    .dataframe thead th {\n",
       "        text-align: right;\n",
       "    }\n",
       "</style>\n",
       "<table border=\"1\" class=\"dataframe\">\n",
       "  <thead>\n",
       "    <tr style=\"text-align: right;\">\n",
       "      <th>Food Desert</th>\n",
       "      <th>No</th>\n",
       "      <th>Yes</th>\n",
       "      <th>All</th>\n",
       "    </tr>\n",
       "    <tr>\n",
       "      <th>Location</th>\n",
       "      <th></th>\n",
       "      <th></th>\n",
       "      <th></th>\n",
       "    </tr>\n",
       "  </thead>\n",
       "  <tbody>\n",
       "    <tr>\n",
       "      <th>Austin</th>\n",
       "      <td>21</td>\n",
       "      <td>39</td>\n",
       "      <td>60</td>\n",
       "    </tr>\n",
       "    <tr>\n",
       "      <th>Dallas</th>\n",
       "      <td>57</td>\n",
       "      <td>83</td>\n",
       "      <td>140</td>\n",
       "    </tr>\n",
       "    <tr>\n",
       "      <th>Laredo</th>\n",
       "      <td>14</td>\n",
       "      <td>6</td>\n",
       "      <td>20</td>\n",
       "    </tr>\n",
       "    <tr>\n",
       "      <th>All</th>\n",
       "      <td>92</td>\n",
       "      <td>128</td>\n",
       "      <td>220</td>\n",
       "    </tr>\n",
       "  </tbody>\n",
       "</table>\n",
       "</div>"
      ],
      "text/plain": [
       "Food Desert  No  Yes  All\n",
       "Location                 \n",
       "Austin       21   39   60\n",
       "Dallas       57   83  140\n",
       "Laredo       14    6   20\n",
       "All          92  128  220"
      ]
     },
     "execution_count": 128,
     "metadata": {},
     "output_type": "execute_result"
    }
   ],
   "source": [
    "# Margins are present (\"All\"), which allows for some calculations if wanted\n",
    "\n",
    "food_desert_crosstab"
   ]
  },
  {
   "cell_type": "code",
   "execution_count": 154,
   "metadata": {},
   "outputs": [],
   "source": [
    "# Takes out the totals so that just the numbers in the tab are graphed\n",
    "\n",
    "food_desert_no_margins = pd.crosstab(df[\"Location\"], df[\"Food Desert\"])"
   ]
  },
  {
   "cell_type": "code",
   "execution_count": 132,
   "metadata": {},
   "outputs": [
    {
     "data": {
      "text/html": [
       "<div>\n",
       "<style scoped>\n",
       "    .dataframe tbody tr th:only-of-type {\n",
       "        vertical-align: middle;\n",
       "    }\n",
       "\n",
       "    .dataframe tbody tr th {\n",
       "        vertical-align: top;\n",
       "    }\n",
       "\n",
       "    .dataframe thead th {\n",
       "        text-align: right;\n",
       "    }\n",
       "</style>\n",
       "<table border=\"1\" class=\"dataframe\">\n",
       "  <thead>\n",
       "    <tr style=\"text-align: right;\">\n",
       "      <th>Food Desert</th>\n",
       "      <th>No</th>\n",
       "      <th>Yes</th>\n",
       "    </tr>\n",
       "    <tr>\n",
       "      <th>Location</th>\n",
       "      <th></th>\n",
       "      <th></th>\n",
       "    </tr>\n",
       "  </thead>\n",
       "  <tbody>\n",
       "    <tr>\n",
       "      <th>Austin</th>\n",
       "      <td>21</td>\n",
       "      <td>39</td>\n",
       "    </tr>\n",
       "    <tr>\n",
       "      <th>Dallas</th>\n",
       "      <td>57</td>\n",
       "      <td>83</td>\n",
       "    </tr>\n",
       "    <tr>\n",
       "      <th>Laredo</th>\n",
       "      <td>14</td>\n",
       "      <td>6</td>\n",
       "    </tr>\n",
       "  </tbody>\n",
       "</table>\n",
       "</div>"
      ],
      "text/plain": [
       "Food Desert  No  Yes\n",
       "Location            \n",
       "Austin       21   39\n",
       "Dallas       57   83\n",
       "Laredo       14    6"
      ]
     },
     "execution_count": 132,
     "metadata": {},
     "output_type": "execute_result"
    }
   ],
   "source": [
    "food_desert_no_margins"
   ]
  },
  {
   "cell_type": "code",
   "execution_count": 133,
   "metadata": {},
   "outputs": [],
   "source": [
    "# This takes the crosstab above and turns each row (axis = 0) into percentages that\n",
    "# sum to one to normalize the data (make all bars in the chart below the same height)\n",
    "\n",
    "food_desert_pct = food_desert_no_margins.div(food_desert_no_margins.sum(1).astype(float), \n",
    "                                           axis = 0)"
   ]
  },
  {
   "cell_type": "code",
   "execution_count": 134,
   "metadata": {},
   "outputs": [
    {
     "data": {
      "text/html": [
       "<div>\n",
       "<style scoped>\n",
       "    .dataframe tbody tr th:only-of-type {\n",
       "        vertical-align: middle;\n",
       "    }\n",
       "\n",
       "    .dataframe tbody tr th {\n",
       "        vertical-align: top;\n",
       "    }\n",
       "\n",
       "    .dataframe thead th {\n",
       "        text-align: right;\n",
       "    }\n",
       "</style>\n",
       "<table border=\"1\" class=\"dataframe\">\n",
       "  <thead>\n",
       "    <tr style=\"text-align: right;\">\n",
       "      <th>Food Desert</th>\n",
       "      <th>No</th>\n",
       "      <th>Yes</th>\n",
       "    </tr>\n",
       "    <tr>\n",
       "      <th>Location</th>\n",
       "      <th></th>\n",
       "      <th></th>\n",
       "    </tr>\n",
       "  </thead>\n",
       "  <tbody>\n",
       "    <tr>\n",
       "      <th>Austin</th>\n",
       "      <td>0.350000</td>\n",
       "      <td>0.650000</td>\n",
       "    </tr>\n",
       "    <tr>\n",
       "      <th>Dallas</th>\n",
       "      <td>0.407143</td>\n",
       "      <td>0.592857</td>\n",
       "    </tr>\n",
       "    <tr>\n",
       "      <th>Laredo</th>\n",
       "      <td>0.700000</td>\n",
       "      <td>0.300000</td>\n",
       "    </tr>\n",
       "  </tbody>\n",
       "</table>\n",
       "</div>"
      ],
      "text/plain": [
       "Food Desert        No       Yes\n",
       "Location                       \n",
       "Austin       0.350000  0.650000\n",
       "Dallas       0.407143  0.592857\n",
       "Laredo       0.700000  0.300000"
      ]
     },
     "execution_count": 134,
     "metadata": {},
     "output_type": "execute_result"
    }
   ],
   "source": [
    "food_desert_pct"
   ]
  },
  {
   "cell_type": "code",
   "execution_count": 185,
   "metadata": {},
   "outputs": [
    {
     "data": {
      "text/plain": [
       "<matplotlib.legend.Legend at 0x1a295cfcc0>"
      ]
     },
     "execution_count": 185,
     "metadata": {},
     "output_type": "execute_result"
    },
    {
     "data": {
      "image/png": "[encoded data removed]",
      "text/plain": [
       "<Figure size 432x288 with 1 Axes>"
      ]
     },
     "metadata": {
      "needs_background": "light"
     },
     "output_type": "display_data"
    }
   ],
   "source": [
    "# we see what percentage of each group meets\n",
    "# our criteria -- but can't tell anything about the underlying volume\n",
    "# Still, this is kind of a useful plot for seeing who has the most food deserts\n",
    "# by percentage\n",
    "\n",
    "food_desert_pct.plot(kind = 'bar', stacked = True, legend = False, title = \"Percent Food Deserts\")\n",
    "plt.legend(loc='center left', bbox_to_anchor=(1.0, 0.5))"
   ]
  },
  {
   "cell_type": "code",
   "execution_count": 140,
   "metadata": {},
   "outputs": [
    {
     "data": {
      "text/plain": [
       "Location\n",
       "Austin    AxesSubplot(0.125,0.125;0.775x0.755)\n",
       "Dallas    AxesSubplot(0.125,0.125;0.775x0.755)\n",
       "Laredo    AxesSubplot(0.125,0.125;0.775x0.755)\n",
       "Name: Poverty Groups, dtype: object"
      ]
     },
     "execution_count": 140,
     "metadata": {},
     "output_type": "execute_result"
    },
    {
     "data": {
      "image/png": "[encoded data removed]",
      "text/plain": [
       "<Figure size 432x288 with 1 Axes>"
      ]
     },
     "metadata": {
      "needs_background": "light"
     },
     "output_type": "display_data"
    }
   ],
   "source": [
    "# I'm not entirely sure what's going on with this histogram\n",
    "\n",
    "df.groupby(\"Location\")[\"Poverty Groups\"].hist(bins = 10)"
   ]
  },
  {
   "cell_type": "code",
   "execution_count": 144,
   "metadata": {},
   "outputs": [],
   "source": [
    "# It will be easier to assign the groupby to a variable for future plotting\n",
    "\n",
    "data = df.groupby(\"Location\")[\"Percent in Poverty\"]"
   ]
  },
  {
   "cell_type": "code",
   "execution_count": 146,
   "metadata": {},
   "outputs": [
    {
     "data": {
      "text/plain": [
       "<matplotlib.axes._subplots.AxesSubplot at 0x1a252d4da0>"
      ]
     },
     "execution_count": 146,
     "metadata": {},
     "output_type": "execute_result"
    },
    {
     "data": {
      "image/png": "[encoded data removed]",
      "text/plain": [
       "<Figure size 432x288 with 1 Axes>"
      ]
     },
     "metadata": {
      "needs_background": "light"
     },
     "output_type": "display_data"
    }
   ],
   "source": [
    "# mean poverty percent in poverty by city \n",
    "\n",
    "data.mean().plot(kind = 'barh')"
   ]
  },
  {
   "cell_type": "code",
   "execution_count": 147,
   "metadata": {},
   "outputs": [
    {
     "data": {
      "text/plain": [
       "<matplotlib.axes._subplots.AxesSubplot at 0x1a27e340f0>"
      ]
     },
     "execution_count": 147,
     "metadata": {},
     "output_type": "execute_result"
    },
    {
     "data": {
      "image/png": "[encoded data removed]",
      "text/plain": [
       "<Figure size 432x288 with 1 Axes>"
      ]
     },
     "metadata": {
      "needs_background": "light"
     },
     "output_type": "display_data"
    }
   ],
   "source": [
    "# median poverty percent in poverty by city \n",
    "\n",
    "data.median().plot(kind = 'barh')"
   ]
  },
  {
   "cell_type": "code",
   "execution_count": 148,
   "metadata": {},
   "outputs": [
    {
     "data": {
      "text/plain": [
       "<matplotlib.axes._subplots.AxesSubplot at 0x1a27e46908>"
      ]
     },
     "execution_count": 148,
     "metadata": {},
     "output_type": "execute_result"
    },
    {
     "data": {
      "image/png": "[encoded data removed]",
      "text/plain": [
       "<Figure size 432x288 with 1 Axes>"
      ]
     },
     "metadata": {
      "needs_background": "light"
     },
     "output_type": "display_data"
    }
   ],
   "source": [
    "# minimum poverty percent in poverty by city -- note how much lower Austin is\n",
    "# barh means horizontal bar\n",
    "\n",
    "data.min().plot(kind = 'barh')"
   ]
  },
  {
   "cell_type": "code",
   "execution_count": 169,
   "metadata": {},
   "outputs": [
    {
     "data": {
      "text/plain": [
       "<matplotlib.axes._subplots.AxesSubplot at 0x1a28cc1fd0>"
      ]
     },
     "execution_count": 169,
     "metadata": {},
     "output_type": "execute_result"
    },
    {
     "data": {
      "image/png": "[encoded data removed]",
      "text/plain": [
       "<Figure size 432x288 with 1 Axes>"
      ]
     },
     "metadata": {
      "needs_background": "light"
     },
     "output_type": "display_data"
    }
   ],
   "source": [
    "# This plot helps show the variation in poverty levels among the different cities\n",
    "# Austin is blue, Dallas is orange, and Laredo is green. Don't know why Laredo\n",
    "# isn't a straight line, as all its Title 1 schools have 100% poverty rate\n",
    "# I figured min to max would look better as green is lower poverty and red is higher\n",
    "# Since median has been a good measure, I put it in black. It moves much less than the\n",
    "# other two across groups. We need a legend for this plot to explain what each color does.\n",
    "\n",
    "data.min().plot(c = 'green')\n",
    "data.mean().plot(c = 'orange')\n",
    "data.median().plot(c = 'black')\n",
    "data.max().plot(c = 'red', title = 'Poverty Level Spread from Minimum to Maximum')"
   ]
  },
  {
   "cell_type": "code",
   "execution_count": 170,
   "metadata": {},
   "outputs": [
    {
     "data": {
      "text/plain": [
       "(array([-10,  -9,  -8,  -7,  -6,  -5,  -4,  -3,  -2,  -1,   0,   1,   2,\n",
       "          3,   4,   5,   6,   7,   8,   9,  10]),\n",
       " array([0.747343  , 0.74755181, 0.75539073, 0.75939834, 0.76395689,\n",
       "        0.77058471, 0.77929409, 0.78223335, 0.78237778, 0.79627009,\n",
       "        0.79175523, 0.79538044, 0.79495226, 0.76273394, 0.76563988,\n",
       "        0.76065532, 0.75793307, 0.76662097, 0.76616605, 0.75910913,\n",
       "        0.75597828]),\n",
       " <matplotlib.collections.LineCollection at 0x1a28e9cdd8>,\n",
       " <matplotlib.lines.Line2D at 0x1a28ea54e0>)"
      ]
     },
     "execution_count": 170,
     "metadata": {},
     "output_type": "execute_result"
    },
    {
     "data": {
      "image/png": "[encoded data removed]",
      "text/plain": [
       "<Figure size 432x288 with 1 Axes>"
      ]
     },
     "metadata": {
      "needs_background": "light"
     },
     "output_type": "display_data"
    }
   ],
   "source": [
    "# This is supposed to graph correlation, but I'm not following what's going on\n",
    "\n",
    "plt.xcorr(df[\"Percent in Poverty\"], df[\"Driving Distance (miles)\"])"
   ]
  },
  {
   "cell_type": "code",
   "execution_count": 172,
   "metadata": {},
   "outputs": [
    {
     "data": {
      "text/plain": [
       "(array([-10,  -9,  -8,  -7,  -6,  -5,  -4,  -3,  -2,  -1,   0,   1,   2,\n",
       "          3,   4,   5,   6,   7,   8,   9,  10]),\n",
       " array([26993.892, 27105.686, 27357.669, 27373.913, 27063.692, 27160.896,\n",
       "        27338.881, 27235.118, 28385.545, 28400.834, 28271.388, 28432.601,\n",
       "        27936.545, 27931.388, 27826.435, 27515.447, 27278.786, 27116.013,\n",
       "        26972.912, 26693.006, 26685.55 ]),\n",
       " <matplotlib.collections.LineCollection at 0x1a290bba20>,\n",
       " <matplotlib.lines.Line2D at 0x1a290c71d0>)"
      ]
     },
     "execution_count": 172,
     "metadata": {},
     "output_type": "execute_result"
    },
    {
     "data": {
      "image/png": "[encoded data removed]",
      "text/plain": [
       "<Figure size 432x288 with 1 Axes>"
      ]
     },
     "metadata": {
      "needs_background": "light"
     },
     "output_type": "display_data"
    }
   ],
   "source": [
    "plt.xcorr(df[\"Driving Distance (miles)\"], df[\"Percent in Poverty\"], normed = False)"
   ]
  },
  {
   "cell_type": "code",
   "execution_count": 174,
   "metadata": {},
   "outputs": [
    {
     "data": {
      "text/plain": [
       "array([<matplotlib.axes._subplots.AxesSubplot object at 0x1a28f99ef0>,\n",
       "       <matplotlib.axes._subplots.AxesSubplot object at 0x1a2923d2e8>],\n",
       "      dtype=object)"
      ]
     },
     "execution_count": 174,
     "metadata": {},
     "output_type": "execute_result"
    },
    {
     "data": {
      "image/png": "[encoded data removed]",
      "text/plain": [
       "<Figure size 432x288 with 2 Axes>"
      ]
     },
     "metadata": {},
     "output_type": "display_data"
    }
   ],
   "source": [
    "# Not useful unless we do one pie per city of 'yes'/'no' answers, and even then, the bar plot\n",
    "# below is easier to read\n",
    "\n",
    "food_desert_pct.plot(kind = 'pie', subplots = True)"
   ]
  },
  {
   "cell_type": "code",
   "execution_count": 182,
   "metadata": {},
   "outputs": [
    {
     "data": {
      "image/png": "[encoded data removed]",
      "text/plain": [
       "<Figure size 432x288 with 1 Axes>"
      ]
     },
     "metadata": {
      "needs_background": "light"
     },
     "output_type": "display_data"
    }
   ],
   "source": [
    "# Another bar chart that's maybe easier to read than the stacked bar\n",
    "\n",
    "food_desert_pct.plot(kind = 'bar', title = 'Percent of Poor Areas that are Food Deserts', \n",
    "                     legend = False)\n",
    "plt.legend(loc='center left', bbox_to_anchor=(1.0, 0.5))\n",
    "plt.show()"
   ]
  },
  {
   "cell_type": "code",
   "execution_count": 193,
   "metadata": {},
   "outputs": [
    {
     "data": {
      "text/plain": [
       "<matplotlib.axes._subplots.AxesSubplot at 0x1a2a138c88>"
      ]
     },
     "execution_count": 193,
     "metadata": {},
     "output_type": "execute_result"
    },
    {
     "data": {
      "image/png": "[encoded data removed]",
      "text/plain": [
       "<Figure size 432x288 with 1 Axes>"
      ]
     },
     "metadata": {
      "needs_background": "light"
     },
     "output_type": "display_data"
    }
   ],
   "source": [
    "# Looks like we have one or two outliers in Laredo that push its mean up on driving distance\n",
    "# A legend would be better than having to explain colors in the title\n",
    "\n",
    "df.groupby(\"Location\")[\"Driving Distance (miles)\"].mean().plot(title = \"Mean (blue) and Median (orange) Driving Distance\")\n",
    "df.groupby(\"Location\")[\"Driving Distance (miles)\"].median().plot()\n",
    "\n"
   ]
  },
  {
   "cell_type": "code",
   "execution_count": 198,
   "metadata": {},
   "outputs": [
    {
     "data": {
      "text/plain": [
       "Location\n",
       "Austin     89.765\n",
       "Dallas     92.930\n",
       "Laredo    100.000\n",
       "Name: Percent in Poverty, dtype: float64"
      ]
     },
     "execution_count": 198,
     "metadata": {},
     "output_type": "execute_result"
    }
   ],
   "source": [
    "# This is just a general groupby; I'd like to see one where the value of Food Desert is \"yes\" and \n",
    "# we see the mean poverty level only for the \"yes\" group\n",
    "\n",
    "df.groupby(\"Location\")[\"Percent in Poverty\"].median()"
   ]
  },
  {
   "cell_type": "code",
   "execution_count": 231,
   "metadata": {},
   "outputs": [
    {
     "data": {
      "text/html": [
       "<div>\n",
       "<style scoped>\n",
       "    .dataframe tbody tr th:only-of-type {\n",
       "        vertical-align: middle;\n",
       "    }\n",
       "\n",
       "    .dataframe tbody tr th {\n",
       "        vertical-align: top;\n",
       "    }\n",
       "\n",
       "    .dataframe thead th {\n",
       "        text-align: right;\n",
       "    }\n",
       "</style>\n",
       "<table border=\"1\" class=\"dataframe\">\n",
       "  <thead>\n",
       "    <tr style=\"text-align: right;\">\n",
       "      <th></th>\n",
       "      <th>Bus Distance (miles)</th>\n",
       "      <th>Closest Store</th>\n",
       "      <th>Driving Distance (miles)</th>\n",
       "      <th>Location</th>\n",
       "      <th>Percent in Poverty</th>\n",
       "      <th>Poverty Groups</th>\n",
       "      <th>School Name</th>\n",
       "      <th>Store Address</th>\n",
       "      <th>Walking Distance (miles)</th>\n",
       "      <th>Zip Code</th>\n",
       "      <th>Food Desert</th>\n",
       "    </tr>\n",
       "  </thead>\n",
       "  <tbody>\n",
       "    <tr>\n",
       "      <th>0</th>\n",
       "      <td>1.4</td>\n",
       "      <td>Fiesta Mart</td>\n",
       "      <td>1.4</td>\n",
       "      <td>Dallas</td>\n",
       "      <td>97.13</td>\n",
       "      <td>90-100</td>\n",
       "      <td>William M Anderson Elementary</td>\n",
       "      <td>10121 E Lake June Rd, Dallas, TX 75217</td>\n",
       "      <td>1.2</td>\n",
       "      <td>75217.0</td>\n",
       "      <td>Yes</td>\n",
       "    </tr>\n",
       "  </tbody>\n",
       "</table>\n",
       "</div>"
      ],
      "text/plain": [
       "   Bus Distance (miles) Closest Store  Driving Distance (miles) Location  \\\n",
       "0                   1.4   Fiesta Mart                       1.4   Dallas   \n",
       "\n",
       "   Percent in Poverty Poverty Groups                    School Name  \\\n",
       "0               97.13         90-100  William M Anderson Elementary   \n",
       "\n",
       "                            Store Address  Walking Distance (miles)  Zip Code  \\\n",
       "0  10121 E Lake June Rd, Dallas, TX 75217                       1.2   75217.0   \n",
       "\n",
       "  Food Desert  \n",
       "0         Yes  "
      ]
     },
     "execution_count": 231,
     "metadata": {},
     "output_type": "execute_result"
    }
   ],
   "source": [
    "df.head(1)"
   ]
  },
  {
   "cell_type": "code",
   "execution_count": 203,
   "metadata": {},
   "outputs": [],
   "source": [
    "# Trying to figure out how to isolate rows that have 'yes' value\n",
    "\n",
    "# yes_food_desert = df[\"Food Desert\"] == \"Yes\"\n",
    "# pct_pov = df[\"Percent in Poverty\"]\n",
    "# poverty_and_food_desert = []\n",
    "    \n",
    "# for yes in yes_food_desert == True:\n",
    "#     poverty_and_food_desert.append(pct_pov[yes])\n",
    "\n",
    "yes_df = pd.DataFrame(df[['Percent in Poverty', 'Food Desert']])"
   ]
  },
  {
   "cell_type": "code",
   "execution_count": 205,
   "metadata": {},
   "outputs": [
    {
     "data": {
      "text/html": [
       "<div>\n",
       "<style scoped>\n",
       "    .dataframe tbody tr th:only-of-type {\n",
       "        vertical-align: middle;\n",
       "    }\n",
       "\n",
       "    .dataframe tbody tr th {\n",
       "        vertical-align: top;\n",
       "    }\n",
       "\n",
       "    .dataframe thead th {\n",
       "        text-align: right;\n",
       "    }\n",
       "</style>\n",
       "<table border=\"1\" class=\"dataframe\">\n",
       "  <thead>\n",
       "    <tr style=\"text-align: right;\">\n",
       "      <th></th>\n",
       "      <th>Percent in Poverty</th>\n",
       "      <th>Food Desert</th>\n",
       "    </tr>\n",
       "  </thead>\n",
       "  <tbody>\n",
       "    <tr>\n",
       "      <th>0</th>\n",
       "      <td>97.13</td>\n",
       "      <td>Yes</td>\n",
       "    </tr>\n",
       "    <tr>\n",
       "      <th>1</th>\n",
       "      <td>96.33</td>\n",
       "      <td>No</td>\n",
       "    </tr>\n",
       "    <tr>\n",
       "      <th>2</th>\n",
       "      <td>96.24</td>\n",
       "      <td>Yes</td>\n",
       "    </tr>\n",
       "    <tr>\n",
       "      <th>3</th>\n",
       "      <td>98.00</td>\n",
       "      <td>Yes</td>\n",
       "    </tr>\n",
       "    <tr>\n",
       "      <th>4</th>\n",
       "      <td>86.67</td>\n",
       "      <td>Yes</td>\n",
       "    </tr>\n",
       "  </tbody>\n",
       "</table>\n",
       "</div>"
      ],
      "text/plain": [
       "   Percent in Poverty Food Desert\n",
       "0               97.13         Yes\n",
       "1               96.33          No\n",
       "2               96.24         Yes\n",
       "3               98.00         Yes\n",
       "4               86.67         Yes"
      ]
     },
     "execution_count": 205,
     "metadata": {},
     "output_type": "execute_result"
    }
   ],
   "source": [
    "# The two factors in their own dataframe\n",
    "yes_df.head()"
   ]
  },
  {
   "cell_type": "code",
   "execution_count": 206,
   "metadata": {},
   "outputs": [
    {
     "ename": "ValueError",
     "evalue": "The truth value of a Series is ambiguous. Use a.empty, a.bool(), a.item(), a.any() or a.all().",
     "output_type": "error",
     "traceback": [
      "\u001b[0;31m---------------------------------------------------------------------------\u001b[0m",
      "\u001b[0;31mValueError\u001b[0m                                Traceback (most recent call last)",
      "\u001b[0;32m<ipython-input-206-467e1a541591>\u001b[0m in \u001b[0;36m<module>\u001b[0;34m\u001b[0m\n\u001b[1;32m      1\u001b[0m \u001b[0myes_food_desert\u001b[0m \u001b[0;34m=\u001b[0m \u001b[0;34m[\u001b[0m\u001b[0;34m]\u001b[0m\u001b[0;34m\u001b[0m\u001b[0;34m\u001b[0m\u001b[0m\n\u001b[1;32m      2\u001b[0m \u001b[0;34m\u001b[0m\u001b[0m\n\u001b[0;32m----> 3\u001b[0;31m \u001b[0;32mif\u001b[0m \u001b[0myes_df\u001b[0m\u001b[0;34m[\u001b[0m\u001b[0;34m'Food Desert'\u001b[0m\u001b[0;34m]\u001b[0m \u001b[0;34m==\u001b[0m \u001b[0;34m'Yes'\u001b[0m\u001b[0;34m:\u001b[0m\u001b[0;34m\u001b[0m\u001b[0;34m\u001b[0m\u001b[0m\n\u001b[0m\u001b[1;32m      4\u001b[0m     \u001b[0myes_food_desert\u001b[0m\u001b[0;34m.\u001b[0m\u001b[0mappend\u001b[0m\u001b[0;34m(\u001b[0m\u001b[0myes_df\u001b[0m\u001b[0;34m[\u001b[0m\u001b[0;34m'Percent in Poverty'\u001b[0m\u001b[0;34m]\u001b[0m\u001b[0;34m)\u001b[0m\u001b[0;34m\u001b[0m\u001b[0;34m\u001b[0m\u001b[0m\n",
      "\u001b[0;32m/Applications/anaconda3/envs/PythonData/lib/python3.6/site-packages/pandas/core/generic.py\u001b[0m in \u001b[0;36m__nonzero__\u001b[0;34m(self)\u001b[0m\n\u001b[1;32m   1476\u001b[0m         raise ValueError(\"The truth value of a {0} is ambiguous. \"\n\u001b[1;32m   1477\u001b[0m                          \u001b[0;34m\"Use a.empty, a.bool(), a.item(), a.any() or a.all().\"\u001b[0m\u001b[0;34m\u001b[0m\u001b[0;34m\u001b[0m\u001b[0m\n\u001b[0;32m-> 1478\u001b[0;31m                          .format(self.__class__.__name__))\n\u001b[0m\u001b[1;32m   1479\u001b[0m \u001b[0;34m\u001b[0m\u001b[0m\n\u001b[1;32m   1480\u001b[0m     \u001b[0m__bool__\u001b[0m \u001b[0;34m=\u001b[0m \u001b[0m__nonzero__\u001b[0m\u001b[0;34m\u001b[0m\u001b[0;34m\u001b[0m\u001b[0m\n",
      "\u001b[0;31mValueError\u001b[0m: The truth value of a Series is ambiguous. Use a.empty, a.bool(), a.item(), a.any() or a.all()."
     ]
    }
   ],
   "source": [
    "# Argh -- still not working!\n",
    "yes_food_desert = []\n",
    "\n",
    "if yes_df['Food Desert'] == 'Yes':\n",
    "    yes_food_desert.append(yes_df['Percent in Poverty'])"
   ]
  },
  {
   "cell_type": "code",
   "execution_count": 208,
   "metadata": {},
   "outputs": [],
   "source": [
    "# Not able to locate them with this command...\n",
    "# df.loc(\"Food Desert\" == 'Yes')"
   ]
  },
  {
   "cell_type": "code",
   "execution_count": 209,
   "metadata": {},
   "outputs": [
    {
     "data": {
      "text/plain": [
       "Food Desert\n",
       "No     93.75\n",
       "Yes    91.64\n",
       "Name: Percent in Poverty, dtype: float64"
      ]
     },
     "execution_count": 209,
     "metadata": {},
     "output_type": "execute_result"
    }
   ],
   "source": [
    "# Here's one where location isn't considered -- slightly higher poverty level where there *isn't* a food desert\n",
    "\n",
    "df.groupby(\"Food Desert\")[\"Percent in Poverty\"].median()"
   ]
  },
  {
   "cell_type": "code",
   "execution_count": 211,
   "metadata": {},
   "outputs": [
    {
     "data": {
      "text/plain": [
       "Food Desert  Location\n",
       "No           Austin       89.90\n",
       "             Dallas       93.30\n",
       "             Laredo      100.00\n",
       "Yes          Austin       89.63\n",
       "             Dallas       92.22\n",
       "             Laredo      100.00\n",
       "Name: Percent in Poverty, dtype: float64"
      ]
     },
     "execution_count": 211,
     "metadata": {},
     "output_type": "execute_result"
    }
   ],
   "source": [
    "# Aha!\n",
    "\n",
    "pct_pov = df.groupby([\"Food Desert\", \"Location\"])[\"Percent in Poverty\"].median()\n",
    "pct_pov"
   ]
  },
  {
   "cell_type": "code",
   "execution_count": 219,
   "metadata": {},
   "outputs": [
    {
     "data": {
      "text/plain": [
       "Location  Food Desert\n",
       "Austin    No              89.90\n",
       "          Yes             89.63\n",
       "Dallas    No              93.30\n",
       "          Yes             92.22\n",
       "Laredo    No             100.00\n",
       "          Yes            100.00\n",
       "Name: Percent in Poverty, dtype: float64"
      ]
     },
     "execution_count": 219,
     "metadata": {},
     "output_type": "execute_result"
    }
   ],
   "source": [
    "# Better looking explanation\n",
    "\n",
    "pct_pov2 = df.groupby([\"Location\", \"Food Desert\"])[\"Percent in Poverty\"].median()\n",
    "pct_pov2"
   ]
  },
  {
   "cell_type": "code",
   "execution_count": 217,
   "metadata": {},
   "outputs": [
    {
     "data": {
      "text/plain": [
       "<matplotlib.axes._subplots.AxesSubplot at 0x1a2a7e3438>"
      ]
     },
     "execution_count": 217,
     "metadata": {},
     "output_type": "execute_result"
    },
    {
     "data": {
      "image/png": "[encoded data removed]",
      "text/plain": [
       "<Figure size 432x288 with 1 Axes>"
      ]
     },
     "metadata": {
      "needs_background": "light"
     },
     "output_type": "display_data"
    }
   ],
   "source": [
    "# This graphic isn't very helpful, although you can sort of see that there isn't much\n",
    "# difference between the yes/no poverty level. There's a better way to show it, though\n",
    "\n",
    "df.groupby([\"Location\", \"Food Desert\"])[\"Percent in Poverty\"].median().plot(kind = 'barh')"
   ]
  },
  {
   "cell_type": "code",
   "execution_count": 218,
   "metadata": {},
   "outputs": [
    {
     "data": {
      "text/html": [
       "<div>\n",
       "<style scoped>\n",
       "    .dataframe tbody tr th:only-of-type {\n",
       "        vertical-align: middle;\n",
       "    }\n",
       "\n",
       "    .dataframe tbody tr th {\n",
       "        vertical-align: top;\n",
       "    }\n",
       "\n",
       "    .dataframe thead th {\n",
       "        text-align: right;\n",
       "    }\n",
       "</style>\n",
       "<table border=\"1\" class=\"dataframe\">\n",
       "  <thead>\n",
       "    <tr style=\"text-align: right;\">\n",
       "      <th>Location</th>\n",
       "      <th>Austin</th>\n",
       "      <th>Dallas</th>\n",
       "      <th>Laredo</th>\n",
       "    </tr>\n",
       "    <tr>\n",
       "      <th>Food Desert</th>\n",
       "      <th></th>\n",
       "      <th></th>\n",
       "      <th></th>\n",
       "    </tr>\n",
       "  </thead>\n",
       "  <tbody>\n",
       "    <tr>\n",
       "      <th>No</th>\n",
       "      <td>89.90</td>\n",
       "      <td>93.30</td>\n",
       "      <td>100.0</td>\n",
       "    </tr>\n",
       "    <tr>\n",
       "      <th>Yes</th>\n",
       "      <td>89.63</td>\n",
       "      <td>92.22</td>\n",
       "      <td>100.0</td>\n",
       "    </tr>\n",
       "  </tbody>\n",
       "</table>\n",
       "</div>"
      ],
      "text/plain": [
       "Location     Austin  Dallas  Laredo\n",
       "Food Desert                        \n",
       "No            89.90   93.30   100.0\n",
       "Yes           89.63   92.22   100.0"
      ]
     },
     "execution_count": 218,
     "metadata": {},
     "output_type": "execute_result"
    }
   ],
   "source": [
    "pct_pov.unstack()"
   ]
  },
  {
   "cell_type": "code",
   "execution_count": 220,
   "metadata": {},
   "outputs": [
    {
     "data": {
      "text/html": [
       "<div>\n",
       "<style scoped>\n",
       "    .dataframe tbody tr th:only-of-type {\n",
       "        vertical-align: middle;\n",
       "    }\n",
       "\n",
       "    .dataframe tbody tr th {\n",
       "        vertical-align: top;\n",
       "    }\n",
       "\n",
       "    .dataframe thead th {\n",
       "        text-align: right;\n",
       "    }\n",
       "</style>\n",
       "<table border=\"1\" class=\"dataframe\">\n",
       "  <thead>\n",
       "    <tr style=\"text-align: right;\">\n",
       "      <th>Food Desert</th>\n",
       "      <th>No</th>\n",
       "      <th>Yes</th>\n",
       "    </tr>\n",
       "    <tr>\n",
       "      <th>Location</th>\n",
       "      <th></th>\n",
       "      <th></th>\n",
       "    </tr>\n",
       "  </thead>\n",
       "  <tbody>\n",
       "    <tr>\n",
       "      <th>Austin</th>\n",
       "      <td>89.9</td>\n",
       "      <td>89.63</td>\n",
       "    </tr>\n",
       "    <tr>\n",
       "      <th>Dallas</th>\n",
       "      <td>93.3</td>\n",
       "      <td>92.22</td>\n",
       "    </tr>\n",
       "    <tr>\n",
       "      <th>Laredo</th>\n",
       "      <td>100.0</td>\n",
       "      <td>100.00</td>\n",
       "    </tr>\n",
       "  </tbody>\n",
       "</table>\n",
       "</div>"
      ],
      "text/plain": [
       "Food Desert     No     Yes\n",
       "Location                  \n",
       "Austin        89.9   89.63\n",
       "Dallas        93.3   92.22\n",
       "Laredo       100.0  100.00"
      ]
     },
     "execution_count": 220,
     "metadata": {},
     "output_type": "execute_result"
    }
   ],
   "source": [
    "# This is a slightly prettier way to see the percentages laid out (but only prettier in jupyter notebook on\n",
    "# your computer, as opposed to on GitHub)\n",
    "\n",
    "# It's pretty clear from this that there's no correlation between poverty level and status as a food desert\n",
    "\n",
    "pct_pov2.unstack()"
   ]
  },
  {
   "cell_type": "code",
   "execution_count": 234,
   "metadata": {},
   "outputs": [
    {
     "data": {
      "text/html": [
       "<div>\n",
       "<style scoped>\n",
       "    .dataframe tbody tr th:only-of-type {\n",
       "        vertical-align: middle;\n",
       "    }\n",
       "\n",
       "    .dataframe tbody tr th {\n",
       "        vertical-align: top;\n",
       "    }\n",
       "\n",
       "    .dataframe thead th {\n",
       "        text-align: right;\n",
       "    }\n",
       "</style>\n",
       "<table border=\"1\" class=\"dataframe\">\n",
       "  <thead>\n",
       "    <tr style=\"text-align: right;\">\n",
       "      <th>Food Desert</th>\n",
       "      <th>No</th>\n",
       "      <th>Yes</th>\n",
       "    </tr>\n",
       "    <tr>\n",
       "      <th>Location</th>\n",
       "      <th></th>\n",
       "      <th></th>\n",
       "    </tr>\n",
       "  </thead>\n",
       "  <tbody>\n",
       "    <tr>\n",
       "      <th>Austin</th>\n",
       "      <td>0.90</td>\n",
       "      <td>1.60</td>\n",
       "    </tr>\n",
       "    <tr>\n",
       "      <th>Dallas</th>\n",
       "      <td>0.70</td>\n",
       "      <td>1.70</td>\n",
       "    </tr>\n",
       "    <tr>\n",
       "      <th>Laredo</th>\n",
       "      <td>0.75</td>\n",
       "      <td>1.75</td>\n",
       "    </tr>\n",
       "  </tbody>\n",
       "</table>\n",
       "</div>"
      ],
      "text/plain": [
       "Food Desert    No   Yes\n",
       "Location               \n",
       "Austin       0.90  1.60\n",
       "Dallas       0.70  1.70\n",
       "Laredo       0.75  1.75"
      ]
     },
     "execution_count": 234,
     "metadata": {},
     "output_type": "execute_result"
    }
   ],
   "source": [
    "# This is kind of interesting: the drive is much farther than one mile if you're in a food desert, and is\n",
    "# farthest in Laredo and Dallas -- one mile farther than locations that don't qualify as food deserts\n",
    "\n",
    "desert_drive = df.groupby([\"Location\", \"Food Desert\"])[\"Driving Distance (miles)\"].median()\n",
    "desert_drive.unstack()"
   ]
  },
  {
   "cell_type": "code",
   "execution_count": 236,
   "metadata": {},
   "outputs": [],
   "source": [
    "# Pulling poverty percentage into its own array \n",
    "\n",
    "poverty_level = df[\"Percent in Poverty\"]"
   ]
  },
  {
   "cell_type": "code",
   "execution_count": 237,
   "metadata": {},
   "outputs": [
    {
     "data": {
      "text/plain": [
       "0.0036589292969827127"
      ]
     },
     "execution_count": 237,
     "metadata": {},
     "output_type": "execute_result"
    }
   ],
   "source": [
    "# Correlation between the driving distance and the poverty level\n",
    "# This is so small that it's negligible\n",
    "\n",
    "driving_distance.corr(poverty_level)"
   ]
  },
  {
   "cell_type": "code",
   "execution_count": 239,
   "metadata": {},
   "outputs": [
    {
     "data": {
      "text/html": [
       "<div>\n",
       "<style scoped>\n",
       "    .dataframe tbody tr th:only-of-type {\n",
       "        vertical-align: middle;\n",
       "    }\n",
       "\n",
       "    .dataframe tbody tr th {\n",
       "        vertical-align: top;\n",
       "    }\n",
       "\n",
       "    .dataframe thead th {\n",
       "        text-align: right;\n",
       "    }\n",
       "</style>\n",
       "<table border=\"1\" class=\"dataframe\">\n",
       "  <thead>\n",
       "    <tr style=\"text-align: right;\">\n",
       "      <th></th>\n",
       "      <th>Bus Distance (miles)</th>\n",
       "      <th>Driving Distance (miles)</th>\n",
       "      <th>Percent in Poverty</th>\n",
       "      <th>Walking Distance (miles)</th>\n",
       "      <th>Zip Code</th>\n",
       "    </tr>\n",
       "    <tr>\n",
       "      <th>Location</th>\n",
       "      <th></th>\n",
       "      <th></th>\n",
       "      <th></th>\n",
       "      <th></th>\n",
       "      <th></th>\n",
       "    </tr>\n",
       "  </thead>\n",
       "  <tbody>\n",
       "    <tr>\n",
       "      <th>Austin</th>\n",
       "      <td>1.45</td>\n",
       "      <td>1.3</td>\n",
       "      <td>89.765</td>\n",
       "      <td>NaN</td>\n",
       "      <td>78744.0</td>\n",
       "    </tr>\n",
       "    <tr>\n",
       "      <th>Dallas</th>\n",
       "      <td>1.30</td>\n",
       "      <td>1.2</td>\n",
       "      <td>92.930</td>\n",
       "      <td>1.1</td>\n",
       "      <td>75217.0</td>\n",
       "    </tr>\n",
       "    <tr>\n",
       "      <th>Laredo</th>\n",
       "      <td>NaN</td>\n",
       "      <td>0.9</td>\n",
       "      <td>100.000</td>\n",
       "      <td>NaN</td>\n",
       "      <td>NaN</td>\n",
       "    </tr>\n",
       "  </tbody>\n",
       "</table>\n",
       "</div>"
      ],
      "text/plain": [
       "          Bus Distance (miles)  Driving Distance (miles)  Percent in Poverty  \\\n",
       "Location                                                                       \n",
       "Austin                    1.45                       1.3              89.765   \n",
       "Dallas                    1.30                       1.2              92.930   \n",
       "Laredo                     NaN                       0.9             100.000   \n",
       "\n",
       "          Walking Distance (miles)  Zip Code  \n",
       "Location                                      \n",
       "Austin                         NaN   78744.0  \n",
       "Dallas                         1.1   75217.0  \n",
       "Laredo                         NaN       NaN  "
      ]
     },
     "execution_count": 239,
     "metadata": {},
     "output_type": "execute_result"
    }
   ],
   "source": [
    "# Just grouping by location and calling median gives us medians for all the numerical values\n",
    "\n",
    "df.groupby(\"Location\").median()"
   ]
  },
  {
   "cell_type": "code",
   "execution_count": 267,
   "metadata": {},
   "outputs": [
    {
     "data": {
      "text/plain": [
       "Zip Code\n",
       "75217.0    16\n",
       "75211.0    14\n",
       "75216.0    11\n",
       "75227.0     9\n",
       "78744.0     8\n",
       "dtype: int64"
      ]
     },
     "execution_count": 267,
     "metadata": {},
     "output_type": "execute_result"
    }
   ],
   "source": [
    "# If we want to capture which zip codes have the most Title 1 schools, we'll see that Dallas is our worst\n",
    "# performer, with the top 4 zip codes -- all of which have schools with greater poverty than the worst\n",
    "# in Austin. Laredo is excluded for now, as it has no zip code info. The worst five are captured below.\n",
    "# It would be interesting to see if those zips are more likely to be food deserts\n",
    "\n",
    "df_ZipCodes = df.groupby(\"Zip Code\").size().sort_values(ascending = False)\n",
    "worst_five_zips = df_ZipCodes.head()\n",
    "worst_five_zips"
   ]
  },
  {
   "cell_type": "code",
   "execution_count": 268,
   "metadata": {},
   "outputs": [],
   "source": [
    "# Now how do we find food desert status in those worst zip codes? It will be ones where the driving distance\n",
    "# is greater than a mile\n"
   ]
  },
  {
   "cell_type": "code",
   "execution_count": 269,
   "metadata": {},
   "outputs": [
    {
     "data": {
      "text/plain": [
       "0.2857142857142857"
      ]
     },
     "execution_count": 269,
     "metadata": {},
     "output_type": "execute_result"
    }
   ],
   "source": [
    "# Forty of Dallas' 140 Title 1 schools are in four zip codes -- about 29%\n",
    "\n",
    "40/140"
   ]
  },
  {
   "cell_type": "code",
   "execution_count": 274,
   "metadata": {},
   "outputs": [
    {
     "data": {
      "text/plain": [
       "Location  Zip Code\n",
       "Dallas    75234.0     3.50\n",
       "Austin    78724.0     3.25\n",
       "          78749.0     3.20\n",
       "Dallas    75241.0     3.15\n",
       "          75006.0     2.50\n",
       "          75223.0     2.45\n",
       "          75230.0     1.85\n",
       "          75233.0     1.80\n",
       "Austin    78745.0     1.80\n",
       "Dallas    75217.0     1.70\n",
       "          75227.0     1.70\n",
       "          75216.0     1.70\n",
       "          75244.0     1.65\n",
       "Austin    78752.0     1.60\n",
       "Dallas    75254.0     1.60\n",
       "Austin    78753.0     1.50\n",
       "Dallas    75232.0     1.50\n",
       "          75215.0     1.45\n",
       "Austin    78741.0     1.40\n",
       "Dallas    75210.0     1.40\n",
       "          75238.0     1.40\n",
       "          75203.0     1.35\n",
       "          75218.0     1.30\n",
       "Austin    78721.0     1.30\n",
       "Dallas    75214.0     1.30\n",
       "Austin    78723.0     1.30\n",
       "          78704.0     1.25\n",
       "          78744.0     1.25\n",
       "Dallas    75219.0     1.25\n",
       "          75228.0     1.20\n",
       "          75205.0     1.20\n",
       "Austin    78758.0     1.20\n",
       "          78702.0     1.20\n",
       "Dallas    75209.0     1.15\n",
       "          75235.0     1.10\n",
       "          75159.0     1.10\n",
       "Austin    78722.0     1.10\n",
       "Dallas    75229.0     1.10\n",
       "          75212.0     1.10\n",
       "          75253.0     1.10\n",
       "          75208.0     1.05\n",
       "Austin    78703.0     1.00\n",
       "          78748.0     1.00\n",
       "          78757.0     1.00\n",
       "Dallas    75150.0     1.00\n",
       "          75237.0     0.80\n",
       "          75220.0     0.80\n",
       "          75211.0     0.75\n",
       "          75231.0     0.70\n",
       "          75206.0     0.65\n",
       "          75224.0     0.60\n",
       "Austin    78751.0     0.50\n",
       "Dallas    75204.0     0.45\n",
       "Austin    78735.0     0.40\n",
       "Dallas    75246.0     0.40\n",
       "Name: Driving Distance (miles), dtype: float64"
      ]
     },
     "execution_count": 274,
     "metadata": {},
     "output_type": "execute_result"
    }
   ],
   "source": [
    "# Just looking quickly at all zip codes and their corresponding driving distances to nearest store,\n",
    "# our worst five zips in terms of number of schools doesn't line up with the worst drives. Without checking,\n",
    "# my guess is that the worst zips below are ones that have few schools, which indicates a smaller population\n",
    "# and thus a smaller number of stores needed, which increases the distance. I could check to see if there's\n",
    "# an inverse correlation between number of schools in a zip code and driving distance\n",
    "\n",
    "# Three of the four Dallas school worst zip codes have a median driving distance of 1.7 miles and the other is \n",
    "# 0.75. The worst Austin zip code has a median driving distance of 1.65 miles. \n",
    "\n",
    "df.groupby([\"Location\", \"Zip Code\"])[\"Driving Distance (miles)\"].median().sort_values(ascending = False)"
   ]
  },
  {
   "cell_type": "code",
   "execution_count": 275,
   "metadata": {},
   "outputs": [
    {
     "data": {
      "text/plain": [
       "Location\n",
       "Austin    1.3\n",
       "Dallas    1.2\n",
       "Laredo    0.9\n",
       "Name: Driving Distance (miles), dtype: float64"
      ]
     },
     "execution_count": 275,
     "metadata": {},
     "output_type": "execute_result"
    }
   ],
   "source": [
    "# Four of our five worst performing zips are above the median driving distance\n",
    "\n",
    "df.groupby(\"Location\")[\"Driving Distance (miles)\"].median()"
   ]
  },
  {
   "cell_type": "code",
   "execution_count": 276,
   "metadata": {},
   "outputs": [],
   "source": [
    "worst_five_zips[\"Median Drive Distance\"] = [1.7, 0.75, 1.7, 1.7, 1.65]"
   ]
  },
  {
   "cell_type": "code",
   "execution_count": 278,
   "metadata": {},
   "outputs": [
    {
     "data": {
      "text/html": [
       "<div>\n",
       "<style scoped>\n",
       "    .dataframe tbody tr th:only-of-type {\n",
       "        vertical-align: middle;\n",
       "    }\n",
       "\n",
       "    .dataframe tbody tr th {\n",
       "        vertical-align: top;\n",
       "    }\n",
       "\n",
       "    .dataframe thead th {\n",
       "        text-align: right;\n",
       "    }\n",
       "</style>\n",
       "<table border=\"1\" class=\"dataframe\">\n",
       "  <thead>\n",
       "    <tr style=\"text-align: right;\">\n",
       "      <th></th>\n",
       "      <th>Zip Code</th>\n",
       "      <th>Number of Schools</th>\n",
       "      <th>Median Drive Distance</th>\n",
       "    </tr>\n",
       "  </thead>\n",
       "  <tbody>\n",
       "    <tr>\n",
       "      <th>0</th>\n",
       "      <td>75217</td>\n",
       "      <td>16</td>\n",
       "      <td>1.70</td>\n",
       "    </tr>\n",
       "    <tr>\n",
       "      <th>1</th>\n",
       "      <td>75211</td>\n",
       "      <td>14</td>\n",
       "      <td>0.75</td>\n",
       "    </tr>\n",
       "    <tr>\n",
       "      <th>2</th>\n",
       "      <td>75216</td>\n",
       "      <td>11</td>\n",
       "      <td>1.70</td>\n",
       "    </tr>\n",
       "    <tr>\n",
       "      <th>3</th>\n",
       "      <td>75227</td>\n",
       "      <td>9</td>\n",
       "      <td>1.70</td>\n",
       "    </tr>\n",
       "    <tr>\n",
       "      <th>4</th>\n",
       "      <td>78744</td>\n",
       "      <td>8</td>\n",
       "      <td>1.65</td>\n",
       "    </tr>\n",
       "  </tbody>\n",
       "</table>\n",
       "</div>"
      ],
      "text/plain": [
       "  Zip Code  Number of Schools  Median Drive Distance\n",
       "0    75217                 16                   1.70\n",
       "1    75211                 14                   0.75\n",
       "2    75216                 11                   1.70\n",
       "3    75227                  9                   1.70\n",
       "4    78744                  8                   1.65"
      ]
     },
     "execution_count": 278,
     "metadata": {},
     "output_type": "execute_result"
    }
   ],
   "source": [
    "worst_five = pd.DataFrame()\n",
    "worst_five[\"Zip Code\"] = ['75217', '75211', '75216', '75227', '78744']\n",
    "worst_five[\"Number of Schools\"] = [16, 14, 11, 9, 8]\n",
    "worst_five[\"Median Drive Distance\"] = [1.7, 0.75, 1.7, 1.7, 1.65]\n",
    "worst_five"
   ]
  },
  {
   "cell_type": "code",
   "execution_count": 290,
   "metadata": {},
   "outputs": [
    {
     "data": {
      "text/html": [
       "<div>\n",
       "<style scoped>\n",
       "    .dataframe tbody tr th:only-of-type {\n",
       "        vertical-align: middle;\n",
       "    }\n",
       "\n",
       "    .dataframe tbody tr th {\n",
       "        vertical-align: top;\n",
       "    }\n",
       "\n",
       "    .dataframe thead th {\n",
       "        text-align: right;\n",
       "    }\n",
       "</style>\n",
       "<table border=\"1\" class=\"dataframe\">\n",
       "  <thead>\n",
       "    <tr style=\"text-align: right;\">\n",
       "      <th></th>\n",
       "      <th></th>\n",
       "      <th>Number of Schools</th>\n",
       "      <th>Median Driving Distance</th>\n",
       "    </tr>\n",
       "    <tr>\n",
       "      <th>Location</th>\n",
       "      <th>Zip Code</th>\n",
       "      <th></th>\n",
       "      <th></th>\n",
       "    </tr>\n",
       "  </thead>\n",
       "  <tbody>\n",
       "    <tr>\n",
       "      <th rowspan=\"4\" valign=\"top\">Dallas</th>\n",
       "      <th>75217.0</th>\n",
       "      <td>16</td>\n",
       "      <td>1.70</td>\n",
       "    </tr>\n",
       "    <tr>\n",
       "      <th>75211.0</th>\n",
       "      <td>14</td>\n",
       "      <td>0.75</td>\n",
       "    </tr>\n",
       "    <tr>\n",
       "      <th>75216.0</th>\n",
       "      <td>11</td>\n",
       "      <td>1.70</td>\n",
       "    </tr>\n",
       "    <tr>\n",
       "      <th>75227.0</th>\n",
       "      <td>9</td>\n",
       "      <td>1.70</td>\n",
       "    </tr>\n",
       "    <tr>\n",
       "      <th>Austin</th>\n",
       "      <th>78744.0</th>\n",
       "      <td>8</td>\n",
       "      <td>1.25</td>\n",
       "    </tr>\n",
       "  </tbody>\n",
       "</table>\n",
       "</div>"
      ],
      "text/plain": [
       "                   Number of Schools  Median Driving Distance\n",
       "Location Zip Code                                            \n",
       "Dallas   75217.0                  16                     1.70\n",
       "         75211.0                  14                     0.75\n",
       "         75216.0                  11                     1.70\n",
       "         75227.0                   9                     1.70\n",
       "Austin   78744.0                   8                     1.25"
      ]
     },
     "execution_count": 290,
     "metadata": {},
     "output_type": "execute_result"
    }
   ],
   "source": [
    "# This is a better way to do what I did by hand above\n",
    "\n",
    "worst_zips = df.groupby([\"Location\", \"Zip Code\"]).agg({\"School Name\": \"size\", \n",
    "                                                       \"Driving Distance (miles)\": \"median\"}).sort_values(by = \"School Name\", \n",
    "                                                                              ascending = False)\n",
    "\n",
    "worst_zips.rename(columns = {\"Driving Distance (miles)\": \"Median Driving Distance\", \n",
    "                             \"School Name\": \"Number of Schools\"}, inplace = True)\n",
    "\n",
    "worst_zips.head(5)"
   ]
  },
  {
   "cell_type": "code",
   "execution_count": 291,
   "metadata": {},
   "outputs": [
    {
     "data": {
      "text/html": [
       "<div>\n",
       "<style scoped>\n",
       "    .dataframe tbody tr th:only-of-type {\n",
       "        vertical-align: middle;\n",
       "    }\n",
       "\n",
       "    .dataframe tbody tr th {\n",
       "        vertical-align: top;\n",
       "    }\n",
       "\n",
       "    .dataframe thead th {\n",
       "        text-align: right;\n",
       "    }\n",
       "</style>\n",
       "<table border=\"1\" class=\"dataframe\">\n",
       "  <thead>\n",
       "    <tr style=\"text-align: right;\">\n",
       "      <th></th>\n",
       "      <th></th>\n",
       "      <th>Number of Schools</th>\n",
       "      <th>Median Driving Distance</th>\n",
       "    </tr>\n",
       "    <tr>\n",
       "      <th>Location</th>\n",
       "      <th>Zip Code</th>\n",
       "      <th></th>\n",
       "      <th></th>\n",
       "    </tr>\n",
       "  </thead>\n",
       "  <tbody>\n",
       "    <tr>\n",
       "      <th rowspan=\"4\" valign=\"top\">Dallas</th>\n",
       "      <th>75217.0</th>\n",
       "      <td>16</td>\n",
       "      <td>1.70</td>\n",
       "    </tr>\n",
       "    <tr>\n",
       "      <th>75211.0</th>\n",
       "      <td>14</td>\n",
       "      <td>0.75</td>\n",
       "    </tr>\n",
       "    <tr>\n",
       "      <th>75216.0</th>\n",
       "      <td>11</td>\n",
       "      <td>1.70</td>\n",
       "    </tr>\n",
       "    <tr>\n",
       "      <th>75227.0</th>\n",
       "      <td>9</td>\n",
       "      <td>1.70</td>\n",
       "    </tr>\n",
       "    <tr>\n",
       "      <th>Austin</th>\n",
       "      <th>78744.0</th>\n",
       "      <td>8</td>\n",
       "      <td>1.25</td>\n",
       "    </tr>\n",
       "    <tr>\n",
       "      <th>Dallas</th>\n",
       "      <th>75229.0</th>\n",
       "      <td>7</td>\n",
       "      <td>1.10</td>\n",
       "    </tr>\n",
       "    <tr>\n",
       "      <th>Austin</th>\n",
       "      <th>78702.0</th>\n",
       "      <td>7</td>\n",
       "      <td>1.20</td>\n",
       "    </tr>\n",
       "    <tr>\n",
       "      <th>Dallas</th>\n",
       "      <th>75228.0</th>\n",
       "      <td>6</td>\n",
       "      <td>1.20</td>\n",
       "    </tr>\n",
       "    <tr>\n",
       "      <th>Austin</th>\n",
       "      <th>78745.0</th>\n",
       "      <td>6</td>\n",
       "      <td>1.80</td>\n",
       "    </tr>\n",
       "    <tr>\n",
       "      <th>Dallas</th>\n",
       "      <th>75232.0</th>\n",
       "      <td>6</td>\n",
       "      <td>1.50</td>\n",
       "    </tr>\n",
       "  </tbody>\n",
       "</table>\n",
       "</div>"
      ],
      "text/plain": [
       "                   Number of Schools  Median Driving Distance\n",
       "Location Zip Code                                            \n",
       "Dallas   75217.0                  16                     1.70\n",
       "         75211.0                  14                     0.75\n",
       "         75216.0                  11                     1.70\n",
       "         75227.0                   9                     1.70\n",
       "Austin   78744.0                   8                     1.25\n",
       "Dallas   75229.0                   7                     1.10\n",
       "Austin   78702.0                   7                     1.20\n",
       "Dallas   75228.0                   6                     1.20\n",
       "Austin   78745.0                   6                     1.80\n",
       "Dallas   75232.0                   6                     1.50"
      ]
     },
     "execution_count": 291,
     "metadata": {},
     "output_type": "execute_result"
    }
   ],
   "source": [
    "# We can look at larger groups within this\n",
    "\n",
    "worst_zips.head(10)"
   ]
  },
  {
   "cell_type": "code",
   "execution_count": 295,
   "metadata": {},
   "outputs": [
    {
     "data": {
      "text/plain": [
       "<matplotlib.axes._subplots.AxesSubplot at 0x1a2b9bf2e8>"
      ]
     },
     "execution_count": 295,
     "metadata": {},
     "output_type": "execute_result"
    },
    {
     "data": {
      "image/png": "[encoded data removed]",
      "text/plain": [
       "<Figure size 432x288 with 1 Axes>"
      ]
     },
     "metadata": {
      "needs_background": "light"
     },
     "output_type": "display_data"
    }
   ],
   "source": [
    "# I don't know how helpful this graphic is. Probably not at all. I'm curious, though, if there's\n",
    "# a statistically significant increase in median driving distance in poorer zip codes\n",
    "\n",
    "worst_zips.head().plot(kind = 'bar')"
   ]
  },
  {
   "cell_type": "code",
   "execution_count": null,
   "metadata": {},
   "outputs": [],
   "source": []
  },
  {
   "cell_type": "code",
   "execution_count": null,
   "metadata": {},
   "outputs": [],
   "source": []
  }
 ],
 "metadata": {
  "kernelspec": {
   "display_name": "Python 3",
   "language": "python",
   "name": "python3"
  },
  "language_info": {
   "codemirror_mode": {
    "name": "ipython",
    "version": 3
   },
   "file_extension": ".py",
   "mimetype": "text/x-python",
   "name": "python",
   "nbconvert_exporter": "python",
   "pygments_lexer": "ipython3",
   "version": "3.6.8"
  }
 },
 "nbformat": 4,
 "nbformat_minor": 2
}

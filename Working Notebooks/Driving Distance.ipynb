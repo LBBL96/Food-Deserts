{
 "cells": [
  {
   "cell_type": "code",
   "execution_count": 2,
   "metadata": {},
   "outputs": [],
   "source": [
    "import gmaps\n",
    "from config import gkey2\n",
    "from config import gkey\n",
    "import requests\n",
    "import json"
   ]
  },
  {
   "cell_type": "code",
   "execution_count": 3,
   "metadata": {},
   "outputs": [],
   "source": [
    "import pandas as pd\n",
    "import numpy as np"
   ]
  },
  {
   "cell_type": "code",
   "execution_count": 4,
   "metadata": {},
   "outputs": [],
   "source": [
    "infile = pd.read_csv(\"Austin_driving_distance\")\n",
    "df = pd.DataFrame(infile)"
   ]
  },
  {
   "cell_type": "code",
   "execution_count": 12,
   "metadata": {},
   "outputs": [
    {
     "data": {
      "text/html": [
       "<div>\n",
       "<style scoped>\n",
       "    .dataframe tbody tr th:only-of-type {\n",
       "        vertical-align: middle;\n",
       "    }\n",
       "\n",
       "    .dataframe tbody tr th {\n",
       "        vertical-align: top;\n",
       "    }\n",
       "\n",
       "    .dataframe thead th {\n",
       "        text-align: right;\n",
       "    }\n",
       "</style>\n",
       "<table border=\"1\" class=\"dataframe\">\n",
       "  <thead>\n",
       "    <tr style=\"text-align: right;\">\n",
       "      <th></th>\n",
       "      <th>School</th>\n",
       "      <th>Closest Store</th>\n",
       "      <th>Store Address</th>\n",
       "      <th>Distance in Miles</th>\n",
       "      <th>Percent in Poverty</th>\n",
       "      <th>School Lat</th>\n",
       "      <th>School Long</th>\n",
       "      <th>Store Lat</th>\n",
       "      <th>Store Long</th>\n",
       "    </tr>\n",
       "  </thead>\n",
       "  <tbody>\n",
       "    <tr>\n",
       "      <th>58</th>\n",
       "      <td>Overton Elementary School</td>\n",
       "      <td>H-E-B</td>\n",
       "      <td>7112 Ed Bluestein Blvd #125, Austin</td>\n",
       "      <td>1.87</td>\n",
       "      <td>94.68</td>\n",
       "      <td>30.300187</td>\n",
       "      <td>-97.636701</td>\n",
       "      <td>30.312068</td>\n",
       "      <td>-97.664756</td>\n",
       "    </tr>\n",
       "    <tr>\n",
       "      <th>59</th>\n",
       "      <td>Perez Elementary School</td>\n",
       "      <td>H-E-B</td>\n",
       "      <td>6607 S IH 35 Frontage Rd, Austin</td>\n",
       "      <td>1.46</td>\n",
       "      <td>88.01</td>\n",
       "      <td>30.170521</td>\n",
       "      <td>-97.756186</td>\n",
       "      <td>30.188724</td>\n",
       "      <td>-97.768718</td>\n",
       "    </tr>\n",
       "    <tr>\n",
       "      <th>60</th>\n",
       "      <td>Webb Primary School</td>\n",
       "      <td>Walmart Supercenter</td>\n",
       "      <td>1030 Norwood Park Boulevard, Austin</td>\n",
       "      <td>1.15</td>\n",
       "      <td>97.48</td>\n",
       "      <td>30.332413</td>\n",
       "      <td>-97.707407</td>\n",
       "      <td>30.339045</td>\n",
       "      <td>-97.689688</td>\n",
       "    </tr>\n",
       "  </tbody>\n",
       "</table>\n",
       "</div>"
      ],
      "text/plain": [
       "                       School        Closest Store  \\\n",
       "58  Overton Elementary School                H-E-B   \n",
       "59    Perez Elementary School                H-E-B   \n",
       "60        Webb Primary School  Walmart Supercenter   \n",
       "\n",
       "                          Store Address  Distance in Miles  \\\n",
       "58  7112 Ed Bluestein Blvd #125, Austin               1.87   \n",
       "59     6607 S IH 35 Frontage Rd, Austin               1.46   \n",
       "60  1030 Norwood Park Boulevard, Austin               1.15   \n",
       "\n",
       "    Percent in Poverty  School Lat  School Long  Store Lat  Store Long  \n",
       "58               94.68   30.300187   -97.636701  30.312068  -97.664756  \n",
       "59               88.01   30.170521   -97.756186  30.188724  -97.768718  \n",
       "60               97.48   30.332413   -97.707407  30.339045  -97.689688  "
      ]
     },
     "execution_count": 12,
     "metadata": {},
     "output_type": "execute_result"
    }
   ],
   "source": [
    "df.tail(3)"
   ]
  },
  {
   "cell_type": "code",
   "execution_count": 6,
   "metadata": {},
   "outputs": [],
   "source": [
    "# Create arrays of school and store coordinates so I can call by index in the loop\n",
    "\n",
    "school_lat = df[\"School Lat\"]\n",
    "school_long = df[\"School Long\"]\n",
    "store_lat = df[\"Store Lat\"]\n",
    "store_long = df[\"Store Long\"]\n",
    "store_address = df[\"Store Address\"]"
   ]
  },
  {
   "cell_type": "code",
   "execution_count": 7,
   "metadata": {},
   "outputs": [
    {
     "data": {
      "text/plain": [
       "61"
      ]
     },
     "execution_count": 7,
     "metadata": {},
     "output_type": "execute_result"
    }
   ],
   "source": [
    "# I need to know how many schools are in this dataframe so I can run a later loop\n",
    "schools = len(store_address)\n",
    "schools"
   ]
  },
  {
   "cell_type": "code",
   "execution_count": 8,
   "metadata": {},
   "outputs": [],
   "source": [
    "base_url = \"https://maps.googleapis.com/maps/api/distancematrix/json?\""
   ]
  },
  {
   "cell_type": "code",
   "execution_count": 21,
   "metadata": {},
   "outputs": [],
   "source": [
    "# Getting the distance, driving-wise, between school and store and getting address\n",
    "# as well to make sure everything matches up\n",
    "\n",
    "i = 0\n",
    "dest_address = []\n",
    "orig_address = []\n",
    "driving_distance = []\n",
    "duration = []\n",
    "\n",
    "while i < schools:\n",
    "    \n",
    "    params = {\n",
    "    \"origins\": f\"{school_lat[i]},{school_long[i]}\", \n",
    "    \"key\": gkey2, \n",
    "    \"destinations\": f\"{store_lat[i]},{store_long[i]}\", \n",
    "    \"units\": \"imperial\"}\n",
    "    \n",
    "    data = requests.get(base_url, params = params).json()\n",
    "    \n",
    "    dest_address.append(data[\"destination_addresses\"][0])\n",
    "    orig_address.append(data[\"origin_addresses\"][0])\n",
    "    driving_distance.append(data[\"rows\"][0][\"elements\"][0][\"distance\"][\"text\"])\n",
    "    \n",
    "        \n",
    "    i += 1\n"
   ]
  },
  {
   "cell_type": "code",
   "execution_count": 24,
   "metadata": {},
   "outputs": [],
   "source": [
    "# print(json.dumps(data, indent=4, sort_keys=True))"
   ]
  },
  {
   "cell_type": "code",
   "execution_count": 25,
   "metadata": {},
   "outputs": [],
   "source": [
    "# print(orig_address,dest_address, driving_distance)"
   ]
  },
  {
   "cell_type": "code",
   "execution_count": 27,
   "metadata": {},
   "outputs": [],
   "source": [
    "temp = pd.DataFrame()\n",
    "temp[\"School\"] = df[\"School\"]\n",
    "temp[\"Store\"] = df[\"Closest Store\"]\n",
    "temp[\"Driving Distance\"] = driving_distance"
   ]
  },
  {
   "cell_type": "code",
   "execution_count": 28,
   "metadata": {},
   "outputs": [
    {
     "data": {
      "text/html": [
       "<div>\n",
       "<style scoped>\n",
       "    .dataframe tbody tr th:only-of-type {\n",
       "        vertical-align: middle;\n",
       "    }\n",
       "\n",
       "    .dataframe tbody tr th {\n",
       "        vertical-align: top;\n",
       "    }\n",
       "\n",
       "    .dataframe thead th {\n",
       "        text-align: right;\n",
       "    }\n",
       "</style>\n",
       "<table border=\"1\" class=\"dataframe\">\n",
       "  <thead>\n",
       "    <tr style=\"text-align: right;\">\n",
       "      <th></th>\n",
       "      <th>School</th>\n",
       "      <th>Store</th>\n",
       "      <th>Driving Distance</th>\n",
       "    </tr>\n",
       "  </thead>\n",
       "  <tbody>\n",
       "    <tr>\n",
       "      <th>0</th>\n",
       "      <td>Allison Elementary</td>\n",
       "      <td>H-E-B</td>\n",
       "      <td>1.0 mi</td>\n",
       "    </tr>\n",
       "    <tr>\n",
       "      <th>1</th>\n",
       "      <td>Andrews Elementary School</td>\n",
       "      <td>H-E-B</td>\n",
       "      <td>1.2 mi</td>\n",
       "    </tr>\n",
       "    <tr>\n",
       "      <th>2</th>\n",
       "      <td>Becker Elementary School</td>\n",
       "      <td>H-E-B</td>\n",
       "      <td>1.3 mi</td>\n",
       "    </tr>\n",
       "    <tr>\n",
       "      <th>3</th>\n",
       "      <td>Blackshear Elementary School</td>\n",
       "      <td>H-E-B</td>\n",
       "      <td>1.2 mi</td>\n",
       "    </tr>\n",
       "    <tr>\n",
       "      <th>4</th>\n",
       "      <td>Blanton Elementary</td>\n",
       "      <td>H-E-B</td>\n",
       "      <td>1.0 mi</td>\n",
       "    </tr>\n",
       "  </tbody>\n",
       "</table>\n",
       "</div>"
      ],
      "text/plain": [
       "                         School  Store Driving Distance\n",
       "0            Allison Elementary  H-E-B           1.0 mi\n",
       "1     Andrews Elementary School  H-E-B           1.2 mi\n",
       "2      Becker Elementary School  H-E-B           1.3 mi\n",
       "3  Blackshear Elementary School  H-E-B           1.2 mi\n",
       "4            Blanton Elementary  H-E-B           1.0 mi"
      ]
     },
     "execution_count": 28,
     "metadata": {},
     "output_type": "execute_result"
    }
   ],
   "source": [
    "temp.head()"
   ]
  },
  {
   "cell_type": "code",
   "execution_count": 43,
   "metadata": {},
   "outputs": [],
   "source": [
    "# Getting the distance, using the bus, between school and store and getting address\n",
    "# as well to make sure everything matches up\n",
    "\n",
    "i = 0\n",
    "dest_address2 = []\n",
    "orig_address2 = []\n",
    "bus_distance = []\n",
    "bus_fare = []\n",
    "\n",
    "while i < schools:\n",
    "    \n",
    "    params = {\n",
    "    \"origins\": f\"{school_lat[i]},{school_long[i]}\", \n",
    "    \"key\": gkey2, \n",
    "    \"destinations\": f\"{store_lat[i]},{store_long[i]}\", \n",
    "    \"units\": \"imperial\",\n",
    "    \"mode\": \"transit\",\n",
    "    \"transit_mode\": \"bus\"}\n",
    "    \n",
    "    data2 = requests.get(base_url, params = params).json()\n",
    "    \n",
    "    dest_address2.append(data2[\"destination_addresses\"][0])\n",
    "    orig_address2.append(data2[\"origin_addresses\"][0])\n",
    "    bus_distance.append(data2[\"rows\"][0][\"elements\"][0][\"distance\"][\"text\"])\n",
    "#     bus_fare.append(data2[\"rows\"][0][\"elements\"][0][\"fare\"][\"text\"])\n",
    "    \n",
    "        \n",
    "    i += 1\n"
   ]
  },
  {
   "cell_type": "code",
   "execution_count": null,
   "metadata": {},
   "outputs": [],
   "source": [
    "# print(json.dumps(data2, indent=4, sort_keys=True))"
   ]
  },
  {
   "cell_type": "code",
   "execution_count": 48,
   "metadata": {},
   "outputs": [],
   "source": [
    "# print(bus_distance)"
   ]
  },
  {
   "cell_type": "code",
   "execution_count": 45,
   "metadata": {},
   "outputs": [],
   "source": [
    "temp[\"Bus\"] = bus_distance"
   ]
  },
  {
   "cell_type": "code",
   "execution_count": 49,
   "metadata": {},
   "outputs": [],
   "source": [
    "# Making a dataframe of info we want to keep\n",
    "\n",
    "transport_df = pd.DataFrame()"
   ]
  },
  {
   "cell_type": "code",
   "execution_count": 54,
   "metadata": {},
   "outputs": [],
   "source": [
    "transport_df[\"School\"] = df[\"School\"]\n",
    "# transport_df[\"School Address\"]\n",
    "transport_df[\"Closest Store\"] = df[\"Closest Store\"]\n",
    "transport_df[\"Store Address\"] = df[\"Store Address\"]\n",
    "transport_df[\"Driving Distance (miles)\"] = driving_distance\n",
    "transport_df[\"Bus Distance (miles)\"] = bus_distance\n",
    "transport_df[\"Percent in Poverty\"] = df[\"Percent in Poverty\"]\n",
    "transport_df[\"Location\"] = \"Austin\""
   ]
  },
  {
   "cell_type": "code",
   "execution_count": 55,
   "metadata": {},
   "outputs": [
    {
     "data": {
      "text/html": [
       "<div>\n",
       "<style scoped>\n",
       "    .dataframe tbody tr th:only-of-type {\n",
       "        vertical-align: middle;\n",
       "    }\n",
       "\n",
       "    .dataframe tbody tr th {\n",
       "        vertical-align: top;\n",
       "    }\n",
       "\n",
       "    .dataframe thead th {\n",
       "        text-align: right;\n",
       "    }\n",
       "</style>\n",
       "<table border=\"1\" class=\"dataframe\">\n",
       "  <thead>\n",
       "    <tr style=\"text-align: right;\">\n",
       "      <th></th>\n",
       "      <th>School</th>\n",
       "      <th>Closest Store</th>\n",
       "      <th>Store Address</th>\n",
       "      <th>Driving Distance (miles)</th>\n",
       "      <th>Bus Distance (miles)</th>\n",
       "      <th>Percent in Poverty</th>\n",
       "      <th>Location</th>\n",
       "    </tr>\n",
       "  </thead>\n",
       "  <tbody>\n",
       "    <tr>\n",
       "      <th>0</th>\n",
       "      <td>Allison Elementary</td>\n",
       "      <td>H-E-B</td>\n",
       "      <td>2110 W Slaughter Ln, Austin</td>\n",
       "      <td>1.0 mi</td>\n",
       "      <td>1.3 mi</td>\n",
       "      <td>92.00</td>\n",
       "      <td>Austin</td>\n",
       "    </tr>\n",
       "    <tr>\n",
       "      <th>1</th>\n",
       "      <td>Andrews Elementary School</td>\n",
       "      <td>H-E-B</td>\n",
       "      <td>7112 Ed Bluestein Blvd #125, Austin</td>\n",
       "      <td>1.2 mi</td>\n",
       "      <td>1.6 mi</td>\n",
       "      <td>91.02</td>\n",
       "      <td>Austin</td>\n",
       "    </tr>\n",
       "    <tr>\n",
       "      <th>2</th>\n",
       "      <td>Becker Elementary School</td>\n",
       "      <td>H-E-B</td>\n",
       "      <td>2400 S Congress Ave, Austin</td>\n",
       "      <td>1.3 mi</td>\n",
       "      <td>1.3 mi</td>\n",
       "      <td>64.52</td>\n",
       "      <td>Austin</td>\n",
       "    </tr>\n",
       "    <tr>\n",
       "      <th>3</th>\n",
       "      <td>Blackshear Elementary School</td>\n",
       "      <td>H-E-B</td>\n",
       "      <td>2701 E 7th St, Austin</td>\n",
       "      <td>1.2 mi</td>\n",
       "      <td>1.2 mi</td>\n",
       "      <td>82.49</td>\n",
       "      <td>Austin</td>\n",
       "    </tr>\n",
       "    <tr>\n",
       "      <th>4</th>\n",
       "      <td>Blanton Elementary</td>\n",
       "      <td>H-E-B</td>\n",
       "      <td>1801 E 51st St, Austin</td>\n",
       "      <td>1.0 mi</td>\n",
       "      <td>1.1 mi</td>\n",
       "      <td>65.23</td>\n",
       "      <td>Austin</td>\n",
       "    </tr>\n",
       "  </tbody>\n",
       "</table>\n",
       "</div>"
      ],
      "text/plain": [
       "                         School Closest Store  \\\n",
       "0            Allison Elementary         H-E-B   \n",
       "1     Andrews Elementary School         H-E-B   \n",
       "2      Becker Elementary School         H-E-B   \n",
       "3  Blackshear Elementary School         H-E-B   \n",
       "4            Blanton Elementary         H-E-B   \n",
       "\n",
       "                         Store Address Driving Distance (miles)  \\\n",
       "0          2110 W Slaughter Ln, Austin                   1.0 mi   \n",
       "1  7112 Ed Bluestein Blvd #125, Austin                   1.2 mi   \n",
       "2          2400 S Congress Ave, Austin                   1.3 mi   \n",
       "3                2701 E 7th St, Austin                   1.2 mi   \n",
       "4               1801 E 51st St, Austin                   1.0 mi   \n",
       "\n",
       "  Bus Distance (miles)  Percent in Poverty Location  \n",
       "0               1.3 mi               92.00   Austin  \n",
       "1               1.6 mi               91.02   Austin  \n",
       "2               1.3 mi               64.52   Austin  \n",
       "3               1.2 mi               82.49   Austin  \n",
       "4               1.1 mi               65.23   Austin  "
      ]
     },
     "execution_count": 55,
     "metadata": {},
     "output_type": "execute_result"
    }
   ],
   "source": [
    "transport_df.head()"
   ]
  },
  {
   "cell_type": "code",
   "execution_count": 56,
   "metadata": {},
   "outputs": [],
   "source": [
    "transport_df.to_csv(\"Austin_Distances.csv\", index = False)"
   ]
  },
  {
   "cell_type": "code",
   "execution_count": null,
   "metadata": {},
   "outputs": [],
   "source": []
  }
 ],
 "metadata": {
  "kernelspec": {
   "display_name": "Python 3",
   "language": "python",
   "name": "python3"
  },
  "language_info": {
   "codemirror_mode": {
    "name": "ipython",
    "version": 3
   },
   "file_extension": ".py",
   "mimetype": "text/x-python",
   "name": "python",
   "nbconvert_exporter": "python",
   "pygments_lexer": "ipython3",
   "version": "3.6.8"
  }
 },
 "nbformat": 4,
 "nbformat_minor": 2
}

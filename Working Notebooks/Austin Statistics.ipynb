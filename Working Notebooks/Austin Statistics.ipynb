{
 "cells": [
  {
   "cell_type": "code",
   "execution_count": 1,
   "metadata": {},
   "outputs": [],
   "source": [
    "%matplotlib inline\n",
    "import matplotlib.pyplot as plt\n",
    "import pandas as pd\n",
    "import numpy as np\n",
    "from scipy.stats import sem\n",
    "import scipy.stats\n"
   ]
  },
  {
   "cell_type": "code",
   "execution_count": 2,
   "metadata": {},
   "outputs": [],
   "source": [
    "infile = pd.read_csv(\"Austin_Distances.csv\")\n",
    "df = pd.DataFrame(infile)"
   ]
  },
  {
   "cell_type": "code",
   "execution_count": 3,
   "metadata": {},
   "outputs": [
    {
     "data": {
      "text/html": [
       "<div>\n",
       "<style scoped>\n",
       "    .dataframe tbody tr th:only-of-type {\n",
       "        vertical-align: middle;\n",
       "    }\n",
       "\n",
       "    .dataframe tbody tr th {\n",
       "        vertical-align: top;\n",
       "    }\n",
       "\n",
       "    .dataframe thead th {\n",
       "        text-align: right;\n",
       "    }\n",
       "</style>\n",
       "<table border=\"1\" class=\"dataframe\">\n",
       "  <thead>\n",
       "    <tr style=\"text-align: right;\">\n",
       "      <th></th>\n",
       "      <th>School</th>\n",
       "      <th>Location</th>\n",
       "      <th>Closest Store</th>\n",
       "      <th>Store Address</th>\n",
       "      <th>Driving Distance (miles)</th>\n",
       "      <th>Bus Distance (miles)</th>\n",
       "      <th>Percent in Poverty</th>\n",
       "      <th>Zip Code</th>\n",
       "    </tr>\n",
       "  </thead>\n",
       "  <tbody>\n",
       "    <tr>\n",
       "      <th>0</th>\n",
       "      <td>Allison Elementary</td>\n",
       "      <td>Austin</td>\n",
       "      <td>H-E-B</td>\n",
       "      <td>2110 W Slaughter Ln, Austin</td>\n",
       "      <td>1.0</td>\n",
       "      <td>1.3</td>\n",
       "      <td>92.00</td>\n",
       "      <td>78748</td>\n",
       "    </tr>\n",
       "    <tr>\n",
       "      <th>1</th>\n",
       "      <td>Andrews Elementary School</td>\n",
       "      <td>Austin</td>\n",
       "      <td>H-E-B</td>\n",
       "      <td>7112 Ed Bluestein Blvd #125, Austin</td>\n",
       "      <td>1.2</td>\n",
       "      <td>1.6</td>\n",
       "      <td>91.02</td>\n",
       "      <td>78723</td>\n",
       "    </tr>\n",
       "    <tr>\n",
       "      <th>2</th>\n",
       "      <td>Becker Elementary School</td>\n",
       "      <td>Austin</td>\n",
       "      <td>H-E-B</td>\n",
       "      <td>2400 S Congress Ave, Austin</td>\n",
       "      <td>1.3</td>\n",
       "      <td>1.3</td>\n",
       "      <td>64.52</td>\n",
       "      <td>78704</td>\n",
       "    </tr>\n",
       "  </tbody>\n",
       "</table>\n",
       "</div>"
      ],
      "text/plain": [
       "                      School Location Closest Store  \\\n",
       "0         Allison Elementary   Austin         H-E-B   \n",
       "1  Andrews Elementary School   Austin         H-E-B   \n",
       "2   Becker Elementary School   Austin         H-E-B   \n",
       "\n",
       "                         Store Address  Driving Distance (miles)  \\\n",
       "0          2110 W Slaughter Ln, Austin                       1.0   \n",
       "1  7112 Ed Bluestein Blvd #125, Austin                       1.2   \n",
       "2          2400 S Congress Ave, Austin                       1.3   \n",
       "\n",
       "   Bus Distance (miles)  Percent in Poverty  Zip Code  \n",
       "0                   1.3               92.00     78748  \n",
       "1                   1.6               91.02     78723  \n",
       "2                   1.3               64.52     78704  "
      ]
     },
     "execution_count": 3,
     "metadata": {},
     "output_type": "execute_result"
    }
   ],
   "source": [
    "df.head(3)"
   ]
  },
  {
   "cell_type": "code",
   "execution_count": 16,
   "metadata": {},
   "outputs": [
    {
     "data": {
      "text/plain": [
       "Zip Code\n",
       "78702    83.997143\n",
       "78703    33.930000\n",
       "78704    76.557500\n",
       "78721    74.963333\n",
       "78722    81.450000\n",
       "78723    80.210000\n",
       "78724    78.885000\n",
       "78735    93.090000\n",
       "78741    92.520000\n",
       "78744    83.807500\n",
       "78745    75.203333\n",
       "78748    75.586000\n",
       "78749    83.540000\n",
       "78751    77.290000\n",
       "78752    75.216667\n",
       "78753    92.944000\n",
       "78757    91.415000\n",
       "78758    85.640000\n",
       "Name: Percent in Poverty, dtype: float64"
      ]
     },
     "execution_count": 16,
     "metadata": {},
     "output_type": "execute_result"
    }
   ],
   "source": [
    "pov_by_zip = df.groupby([\"Zip Code\"])[\"Percent in Poverty\"].mean()\n",
    "pov_by_zip"
   ]
  },
  {
   "cell_type": "code",
   "execution_count": 28,
   "metadata": {},
   "outputs": [
    {
     "name": "stderr",
     "output_type": "stream",
     "text": [
      "/Applications/anaconda3/envs/PythonData/lib/python3.6/site-packages/ipykernel_launcher.py:1: FutureWarning: The signature of `Series.to_csv` was aligned to that of `DataFrame.to_csv`, and argument 'header' will change its default value from False to True: please pass an explicit value to suppress this warning.\n",
      "  \"\"\"Entry point for launching an IPython kernel.\n"
     ]
    }
   ],
   "source": [
    "pov_by_zip.to_csv(\"pvz.csv\")"
   ]
  },
  {
   "cell_type": "code",
   "execution_count": 31,
   "metadata": {},
   "outputs": [],
   "source": [
    "infile = pd.read_csv(\"pvz.csv\")\n",
    "pov_by_zip_df = pd.DataFrame(infile)"
   ]
  },
  {
   "cell_type": "code",
   "execution_count": 32,
   "metadata": {},
   "outputs": [
    {
     "data": {
      "text/html": [
       "<div>\n",
       "<style scoped>\n",
       "    .dataframe tbody tr th:only-of-type {\n",
       "        vertical-align: middle;\n",
       "    }\n",
       "\n",
       "    .dataframe tbody tr th {\n",
       "        vertical-align: top;\n",
       "    }\n",
       "\n",
       "    .dataframe thead th {\n",
       "        text-align: right;\n",
       "    }\n",
       "</style>\n",
       "<table border=\"1\" class=\"dataframe\">\n",
       "  <thead>\n",
       "    <tr style=\"text-align: right;\">\n",
       "      <th></th>\n",
       "      <th>Zip Code</th>\n",
       "      <th>Percent in Poverty</th>\n",
       "    </tr>\n",
       "  </thead>\n",
       "  <tbody>\n",
       "    <tr>\n",
       "      <th>0</th>\n",
       "      <td>78702</td>\n",
       "      <td>83.997143</td>\n",
       "    </tr>\n",
       "    <tr>\n",
       "      <th>1</th>\n",
       "      <td>78703</td>\n",
       "      <td>33.930000</td>\n",
       "    </tr>\n",
       "    <tr>\n",
       "      <th>2</th>\n",
       "      <td>78704</td>\n",
       "      <td>76.557500</td>\n",
       "    </tr>\n",
       "    <tr>\n",
       "      <th>3</th>\n",
       "      <td>78721</td>\n",
       "      <td>74.963333</td>\n",
       "    </tr>\n",
       "    <tr>\n",
       "      <th>4</th>\n",
       "      <td>78722</td>\n",
       "      <td>81.450000</td>\n",
       "    </tr>\n",
       "    <tr>\n",
       "      <th>5</th>\n",
       "      <td>78723</td>\n",
       "      <td>80.210000</td>\n",
       "    </tr>\n",
       "    <tr>\n",
       "      <th>6</th>\n",
       "      <td>78724</td>\n",
       "      <td>78.885000</td>\n",
       "    </tr>\n",
       "    <tr>\n",
       "      <th>7</th>\n",
       "      <td>78735</td>\n",
       "      <td>93.090000</td>\n",
       "    </tr>\n",
       "    <tr>\n",
       "      <th>8</th>\n",
       "      <td>78741</td>\n",
       "      <td>92.520000</td>\n",
       "    </tr>\n",
       "    <tr>\n",
       "      <th>9</th>\n",
       "      <td>78744</td>\n",
       "      <td>83.807500</td>\n",
       "    </tr>\n",
       "    <tr>\n",
       "      <th>10</th>\n",
       "      <td>78745</td>\n",
       "      <td>75.203333</td>\n",
       "    </tr>\n",
       "    <tr>\n",
       "      <th>11</th>\n",
       "      <td>78748</td>\n",
       "      <td>75.586000</td>\n",
       "    </tr>\n",
       "    <tr>\n",
       "      <th>12</th>\n",
       "      <td>78749</td>\n",
       "      <td>83.540000</td>\n",
       "    </tr>\n",
       "    <tr>\n",
       "      <th>13</th>\n",
       "      <td>78751</td>\n",
       "      <td>77.290000</td>\n",
       "    </tr>\n",
       "    <tr>\n",
       "      <th>14</th>\n",
       "      <td>78752</td>\n",
       "      <td>75.216667</td>\n",
       "    </tr>\n",
       "    <tr>\n",
       "      <th>15</th>\n",
       "      <td>78753</td>\n",
       "      <td>92.944000</td>\n",
       "    </tr>\n",
       "    <tr>\n",
       "      <th>16</th>\n",
       "      <td>78757</td>\n",
       "      <td>91.415000</td>\n",
       "    </tr>\n",
       "    <tr>\n",
       "      <th>17</th>\n",
       "      <td>78758</td>\n",
       "      <td>85.640000</td>\n",
       "    </tr>\n",
       "  </tbody>\n",
       "</table>\n",
       "</div>"
      ],
      "text/plain": [
       "    Zip Code  Percent in Poverty\n",
       "0      78702           83.997143\n",
       "1      78703           33.930000\n",
       "2      78704           76.557500\n",
       "3      78721           74.963333\n",
       "4      78722           81.450000\n",
       "5      78723           80.210000\n",
       "6      78724           78.885000\n",
       "7      78735           93.090000\n",
       "8      78741           92.520000\n",
       "9      78744           83.807500\n",
       "10     78745           75.203333\n",
       "11     78748           75.586000\n",
       "12     78749           83.540000\n",
       "13     78751           77.290000\n",
       "14     78752           75.216667\n",
       "15     78753           92.944000\n",
       "16     78757           91.415000\n",
       "17     78758           85.640000"
      ]
     },
     "execution_count": 32,
     "metadata": {},
     "output_type": "execute_result"
    }
   ],
   "source": [
    "pov_by_zip_df"
   ]
  },
  {
   "cell_type": "code",
   "execution_count": 86,
   "metadata": {},
   "outputs": [
    {
     "data": {
      "text/html": [
       "<div>\n",
       "<style scoped>\n",
       "    .dataframe tbody tr th:only-of-type {\n",
       "        vertical-align: middle;\n",
       "    }\n",
       "\n",
       "    .dataframe tbody tr th {\n",
       "        vertical-align: top;\n",
       "    }\n",
       "\n",
       "    .dataframe thead th {\n",
       "        text-align: right;\n",
       "    }\n",
       "</style>\n",
       "<table border=\"1\" class=\"dataframe\">\n",
       "  <thead>\n",
       "    <tr style=\"text-align: right;\">\n",
       "      <th></th>\n",
       "      <th>0</th>\n",
       "      <th>1</th>\n",
       "      <th>2</th>\n",
       "      <th>3</th>\n",
       "      <th>4</th>\n",
       "      <th>5</th>\n",
       "      <th>6</th>\n",
       "      <th>7</th>\n",
       "      <th>8</th>\n",
       "      <th>9</th>\n",
       "      <th>10</th>\n",
       "      <th>11</th>\n",
       "      <th>12</th>\n",
       "      <th>13</th>\n",
       "      <th>14</th>\n",
       "      <th>15</th>\n",
       "      <th>16</th>\n",
       "      <th>17</th>\n",
       "    </tr>\n",
       "  </thead>\n",
       "  <tbody>\n",
       "    <tr>\n",
       "      <th>Zip Code</th>\n",
       "      <td>78702.000000</td>\n",
       "      <td>78703.00</td>\n",
       "      <td>78704.0000</td>\n",
       "      <td>78721.000000</td>\n",
       "      <td>78722.00</td>\n",
       "      <td>78723.00</td>\n",
       "      <td>78724.000</td>\n",
       "      <td>78735.00</td>\n",
       "      <td>78741.00</td>\n",
       "      <td>78744.0000</td>\n",
       "      <td>78745.000000</td>\n",
       "      <td>78748.000</td>\n",
       "      <td>78749.00</td>\n",
       "      <td>78751.00</td>\n",
       "      <td>78752.000000</td>\n",
       "      <td>78753.000</td>\n",
       "      <td>78757.000</td>\n",
       "      <td>78758.00</td>\n",
       "    </tr>\n",
       "    <tr>\n",
       "      <th>Percent in Poverty</th>\n",
       "      <td>83.997143</td>\n",
       "      <td>33.93</td>\n",
       "      <td>76.5575</td>\n",
       "      <td>74.963333</td>\n",
       "      <td>81.45</td>\n",
       "      <td>80.21</td>\n",
       "      <td>78.885</td>\n",
       "      <td>93.09</td>\n",
       "      <td>92.52</td>\n",
       "      <td>83.8075</td>\n",
       "      <td>75.203333</td>\n",
       "      <td>75.586</td>\n",
       "      <td>83.54</td>\n",
       "      <td>77.29</td>\n",
       "      <td>75.216667</td>\n",
       "      <td>92.944</td>\n",
       "      <td>91.415</td>\n",
       "      <td>85.64</td>\n",
       "    </tr>\n",
       "  </tbody>\n",
       "</table>\n",
       "</div>"
      ],
      "text/plain": [
       "                              0         1           2             3   \\\n",
       "Zip Code            78702.000000  78703.00  78704.0000  78721.000000   \n",
       "Percent in Poverty     83.997143     33.93     76.5575     74.963333   \n",
       "\n",
       "                          4         5          6         7         8   \\\n",
       "Zip Code            78722.00  78723.00  78724.000  78735.00  78741.00   \n",
       "Percent in Poverty     81.45     80.21     78.885     93.09     92.52   \n",
       "\n",
       "                            9             10         11        12        13  \\\n",
       "Zip Code            78744.0000  78745.000000  78748.000  78749.00  78751.00   \n",
       "Percent in Poverty     83.8075     75.203333     75.586     83.54     77.29   \n",
       "\n",
       "                              14         15         16        17  \n",
       "Zip Code            78752.000000  78753.000  78757.000  78758.00  \n",
       "Percent in Poverty     75.216667     92.944     91.415     85.64  "
      ]
     },
     "execution_count": 86,
     "metadata": {},
     "output_type": "execute_result"
    }
   ],
   "source": [
    "# Transform the dataframe by switching x and y axis. \"T\" may be a legacy function.\n",
    "\n",
    "pov_by_zip_df.T"
   ]
  },
  {
   "cell_type": "code",
   "execution_count": 40,
   "metadata": {},
   "outputs": [
    {
     "data": {
      "text/plain": [
       "<BarContainer object of 18 artists>"
      ]
     },
     "execution_count": 40,
     "metadata": {},
     "output_type": "execute_result"
    },
    {
     "data": {
      "image/png": "[encoded data removed]",
      "text/plain": [
       "<Figure size 432x288 with 1 Axes>"
      ]
     },
     "metadata": {
      "needs_background": "light"
     },
     "output_type": "display_data"
    }
   ],
   "source": [
    "plt.bar(pov_by_zip_df[\"Zip Code\"], pov_by_zip_df[\"Percent in Poverty\"], width = 1, edgecolor = \"black\")"
   ]
  },
  {
   "cell_type": "code",
   "execution_count": 41,
   "metadata": {},
   "outputs": [],
   "source": [
    "# help(plt.bar)"
   ]
  },
  {
   "cell_type": "code",
   "execution_count": 90,
   "metadata": {},
   "outputs": [
    {
     "data": {
      "text/plain": [
       "Zip Code\n",
       "78744    97.48\n",
       "78748    96.83\n",
       "78702    95.75\n",
       "78753    95.47\n",
       "78758    94.68\n",
       "78735    93.09\n",
       "78752    93.01\n",
       "78741    92.52\n",
       "78745    92.31\n",
       "78757    91.84\n",
       "78723    91.71\n",
       "78704    89.91\n",
       "78724    88.01\n",
       "78749    83.54\n",
       "78721    82.64\n",
       "78722    81.45\n",
       "78751    77.29\n",
       "78703    33.93\n",
       "Name: Percent in Poverty, dtype: float64"
      ]
     },
     "execution_count": 90,
     "metadata": {},
     "output_type": "execute_result"
    }
   ],
   "source": [
    "df.groupby([\"Zip Code\"])[\"Percent in Poverty\"].max().sort_values(ascending = False)"
   ]
  },
  {
   "cell_type": "code",
   "execution_count": 43,
   "metadata": {},
   "outputs": [],
   "source": [
    "result = df.groupby(['Zip Code']).agg({'Driving Distance (miles)':'mean', 'Bus Distance (miles)':'mean'})"
   ]
  },
  {
   "cell_type": "code",
   "execution_count": 44,
   "metadata": {},
   "outputs": [
    {
     "data": {
      "text/html": [
       "<div>\n",
       "<style scoped>\n",
       "    .dataframe tbody tr th:only-of-type {\n",
       "        vertical-align: middle;\n",
       "    }\n",
       "\n",
       "    .dataframe tbody tr th {\n",
       "        vertical-align: top;\n",
       "    }\n",
       "\n",
       "    .dataframe thead th {\n",
       "        text-align: right;\n",
       "    }\n",
       "</style>\n",
       "<table border=\"1\" class=\"dataframe\">\n",
       "  <thead>\n",
       "    <tr style=\"text-align: right;\">\n",
       "      <th></th>\n",
       "      <th>Driving Distance (miles)</th>\n",
       "      <th>Bus Distance (miles)</th>\n",
       "    </tr>\n",
       "    <tr>\n",
       "      <th>Zip Code</th>\n",
       "      <th></th>\n",
       "      <th></th>\n",
       "    </tr>\n",
       "  </thead>\n",
       "  <tbody>\n",
       "    <tr>\n",
       "      <th>78702</th>\n",
       "      <td>1.342857</td>\n",
       "      <td>1.342857</td>\n",
       "    </tr>\n",
       "    <tr>\n",
       "      <th>78703</th>\n",
       "      <td>1.000000</td>\n",
       "      <td>1.100000</td>\n",
       "    </tr>\n",
       "    <tr>\n",
       "      <th>78704</th>\n",
       "      <td>1.300000</td>\n",
       "      <td>1.400000</td>\n",
       "    </tr>\n",
       "    <tr>\n",
       "      <th>78721</th>\n",
       "      <td>1.633333</td>\n",
       "      <td>1.833333</td>\n",
       "    </tr>\n",
       "    <tr>\n",
       "      <th>78722</th>\n",
       "      <td>1.100000</td>\n",
       "      <td>1.400000</td>\n",
       "    </tr>\n",
       "    <tr>\n",
       "      <th>78723</th>\n",
       "      <td>1.240000</td>\n",
       "      <td>1.440000</td>\n",
       "    </tr>\n",
       "    <tr>\n",
       "      <th>78724</th>\n",
       "      <td>3.250000</td>\n",
       "      <td>3.800000</td>\n",
       "    </tr>\n",
       "    <tr>\n",
       "      <th>78735</th>\n",
       "      <td>0.400000</td>\n",
       "      <td>0.600000</td>\n",
       "    </tr>\n",
       "    <tr>\n",
       "      <th>78741</th>\n",
       "      <td>1.400000</td>\n",
       "      <td>1.500000</td>\n",
       "    </tr>\n",
       "    <tr>\n",
       "      <th>78744</th>\n",
       "      <td>1.237500</td>\n",
       "      <td>1.825000</td>\n",
       "    </tr>\n",
       "    <tr>\n",
       "      <th>78745</th>\n",
       "      <td>1.516667</td>\n",
       "      <td>1.683333</td>\n",
       "    </tr>\n",
       "    <tr>\n",
       "      <th>78748</th>\n",
       "      <td>1.180000</td>\n",
       "      <td>1.580000</td>\n",
       "    </tr>\n",
       "    <tr>\n",
       "      <th>78749</th>\n",
       "      <td>3.200000</td>\n",
       "      <td>3.500000</td>\n",
       "    </tr>\n",
       "    <tr>\n",
       "      <th>78751</th>\n",
       "      <td>0.500000</td>\n",
       "      <td>0.500000</td>\n",
       "    </tr>\n",
       "    <tr>\n",
       "      <th>78752</th>\n",
       "      <td>1.433333</td>\n",
       "      <td>1.733333</td>\n",
       "    </tr>\n",
       "    <tr>\n",
       "      <th>78753</th>\n",
       "      <td>1.800000</td>\n",
       "      <td>1.960000</td>\n",
       "    </tr>\n",
       "    <tr>\n",
       "      <th>78757</th>\n",
       "      <td>1.000000</td>\n",
       "      <td>1.050000</td>\n",
       "    </tr>\n",
       "    <tr>\n",
       "      <th>78758</th>\n",
       "      <td>1.525000</td>\n",
       "      <td>1.850000</td>\n",
       "    </tr>\n",
       "  </tbody>\n",
       "</table>\n",
       "</div>"
      ],
      "text/plain": [
       "          Driving Distance (miles)  Bus Distance (miles)\n",
       "Zip Code                                                \n",
       "78702                     1.342857              1.342857\n",
       "78703                     1.000000              1.100000\n",
       "78704                     1.300000              1.400000\n",
       "78721                     1.633333              1.833333\n",
       "78722                     1.100000              1.400000\n",
       "78723                     1.240000              1.440000\n",
       "78724                     3.250000              3.800000\n",
       "78735                     0.400000              0.600000\n",
       "78741                     1.400000              1.500000\n",
       "78744                     1.237500              1.825000\n",
       "78745                     1.516667              1.683333\n",
       "78748                     1.180000              1.580000\n",
       "78749                     3.200000              3.500000\n",
       "78751                     0.500000              0.500000\n",
       "78752                     1.433333              1.733333\n",
       "78753                     1.800000              1.960000\n",
       "78757                     1.000000              1.050000\n",
       "78758                     1.525000              1.850000"
      ]
     },
     "execution_count": 44,
     "metadata": {},
     "output_type": "execute_result"
    }
   ],
   "source": [
    "result"
   ]
  },
  {
   "cell_type": "code",
   "execution_count": 46,
   "metadata": {},
   "outputs": [],
   "source": [
    "result2 = result.unstack()"
   ]
  },
  {
   "cell_type": "code",
   "execution_count": 94,
   "metadata": {},
   "outputs": [
    {
     "data": {
      "text/plain": [
       "<matplotlib.axes._subplots.AxesSubplot at 0x1a1d634da0>"
      ]
     },
     "execution_count": 94,
     "metadata": {},
     "output_type": "execute_result"
    },
    {
     "data": {
      "image/png": "[encoded data removed]",
      "text/plain": [
       "<Figure size 432x288 with 1 Axes>"
      ]
     },
     "metadata": {
      "needs_background": "light"
     },
     "output_type": "display_data"
    }
   ],
   "source": [
    "result2[\"Driving Distance (miles)\"].plot(c = 'red')\n",
    "result2[\"Bus Distance (miles)\"].plot(c = 'orange')"
   ]
  },
  {
   "cell_type": "code",
   "execution_count": 48,
   "metadata": {},
   "outputs": [
    {
     "data": {
      "text/plain": [
       "<matplotlib.axes._subplots.AxesSubplot at 0x1a1c5b7160>"
      ]
     },
     "execution_count": 48,
     "metadata": {},
     "output_type": "execute_result"
    },
    {
     "data": {
      "image/png": "[encoded data removed]",
      "text/plain": [
       "<Figure size 432x288 with 1 Axes>"
      ]
     },
     "metadata": {
      "needs_background": "light"
     },
     "output_type": "display_data"
    }
   ],
   "source": [
    "result2[\"Bus Distance (miles)\"].plot()"
   ]
  },
  {
   "cell_type": "code",
   "execution_count": 55,
   "metadata": {},
   "outputs": [],
   "source": [
    "max_pov = df.groupby(['Zip Code'])['Percent in Poverty'].max()\n",
    "min_pov = df.groupby(['Zip Code'])['Percent in Poverty'].min()\n",
    "avg_pov = df.groupby(['Zip Code'])['Percent in Poverty'].mean()"
   ]
  },
  {
   "cell_type": "code",
   "execution_count": 97,
   "metadata": {},
   "outputs": [
    {
     "data": {
      "text/plain": [
       "<matplotlib.axes._subplots.AxesSubplot at 0x1a1d573470>"
      ]
     },
     "execution_count": 97,
     "metadata": {},
     "output_type": "execute_result"
    },
    {
     "data": {
      "image/png": "[encoded data removed]",
      "text/plain": [
       "<Figure size 432x288 with 1 Axes>"
      ]
     },
     "metadata": {
      "needs_background": "light"
     },
     "output_type": "display_data"
    }
   ],
   "source": [
    "# We can see a huge difference in poverty level in the 78745 and 78748 zip codes\n",
    "\n",
    "min_pov.plot(c = 'green')\n",
    "avg_pov.plot(c = 'orange')\n",
    "max_pov.plot(c = 'red')"
   ]
  },
  {
   "cell_type": "code",
   "execution_count": 98,
   "metadata": {},
   "outputs": [],
   "source": [
    "counts = df.groupby(['Zip Code']).count()\n",
    "# counts.unstack()"
   ]
  },
  {
   "cell_type": "code",
   "execution_count": 65,
   "metadata": {},
   "outputs": [
    {
     "data": {
      "text/plain": [
       "<matplotlib.axes._subplots.AxesSubplot at 0x1a1cc47518>"
      ]
     },
     "execution_count": 65,
     "metadata": {},
     "output_type": "execute_result"
    },
    {
     "data": {
      "image/png": "[encoded data removed]",
      "text/plain": [
       "<Figure size 432x288 with 1 Axes>"
      ]
     },
     "metadata": {
      "needs_background": "light"
     },
     "output_type": "display_data"
    }
   ],
   "source": [
    "# Number of schools in each zip code\n",
    "counts[\"School\"].plot()"
   ]
  },
  {
   "cell_type": "code",
   "execution_count": 66,
   "metadata": {},
   "outputs": [
    {
     "data": {
      "text/plain": [
       "<matplotlib.axes._subplots.AxesSubplot at 0x1a1cce3320>"
      ]
     },
     "execution_count": 66,
     "metadata": {},
     "output_type": "execute_result"
    },
    {
     "data": {
      "image/png": "[encoded data removed]",
      "text/plain": [
       "<Figure size 432x288 with 1 Axes>"
      ]
     },
     "metadata": {
      "needs_background": "light"
     },
     "output_type": "display_data"
    }
   ],
   "source": [
    "min_pov.plot()\n",
    "avg_pov.plot()\n",
    "max_pov.plot()\n",
    "counts[\"School\"].plot()"
   ]
  },
  {
   "cell_type": "code",
   "execution_count": 71,
   "metadata": {},
   "outputs": [
    {
     "data": {
      "text/plain": [
       "<matplotlib.axes._subplots.AxesSubplot at 0x1a1ceb6278>"
      ]
     },
     "execution_count": 71,
     "metadata": {},
     "output_type": "execute_result"
    },
    {
     "data": {
      "image/png": "[encoded data removed]",
      "text/plain": [
       "<Figure size 432x288 with 1 Axes>"
      ]
     },
     "metadata": {
      "needs_background": "light"
     },
     "output_type": "display_data"
    }
   ],
   "source": [
    "counts[\"School\"].plot()"
   ]
  },
  {
   "cell_type": "code",
   "execution_count": 73,
   "metadata": {},
   "outputs": [],
   "source": [
    "# help(counts.plot())"
   ]
  },
  {
   "cell_type": "code",
   "execution_count": 99,
   "metadata": {},
   "outputs": [],
   "source": [
    "school_count = counts[\"School\"].sort_values(ascending = False)"
   ]
  },
  {
   "cell_type": "code",
   "execution_count": 103,
   "metadata": {},
   "outputs": [
    {
     "data": {
      "text/plain": [
       "Zip Code\n",
       "78744    8\n",
       "78702    7\n",
       "78745    6\n",
       "78753    5\n",
       "78723    5\n",
       "78748    5\n",
       "78704    4\n",
       "78758    4\n",
       "78721    3\n",
       "78752    3\n",
       "78757    2\n",
       "78724    2\n",
       "78749    1\n",
       "78735    1\n",
       "78751    1\n",
       "78722    1\n",
       "78703    1\n",
       "78741    1\n",
       "Name: School, dtype: int64"
      ]
     },
     "execution_count": 103,
     "metadata": {},
     "output_type": "execute_result"
    }
   ],
   "source": [
    "school_count"
   ]
  },
  {
   "cell_type": "code",
   "execution_count": 105,
   "metadata": {},
   "outputs": [],
   "source": [
    "school_count_df = pd.DataFrame(school_count)"
   ]
  },
  {
   "cell_type": "code",
   "execution_count": 108,
   "metadata": {},
   "outputs": [
    {
     "data": {
      "text/html": [
       "<div>\n",
       "<style scoped>\n",
       "    .dataframe tbody tr th:only-of-type {\n",
       "        vertical-align: middle;\n",
       "    }\n",
       "\n",
       "    .dataframe tbody tr th {\n",
       "        vertical-align: top;\n",
       "    }\n",
       "\n",
       "    .dataframe thead th {\n",
       "        text-align: right;\n",
       "    }\n",
       "</style>\n",
       "<table border=\"1\" class=\"dataframe\">\n",
       "  <thead>\n",
       "    <tr style=\"text-align: right;\">\n",
       "      <th>Zip Code</th>\n",
       "      <th>78744</th>\n",
       "      <th>78702</th>\n",
       "      <th>78745</th>\n",
       "      <th>78753</th>\n",
       "      <th>78723</th>\n",
       "      <th>78748</th>\n",
       "      <th>78704</th>\n",
       "      <th>78758</th>\n",
       "      <th>78721</th>\n",
       "      <th>78752</th>\n",
       "      <th>78757</th>\n",
       "      <th>78724</th>\n",
       "      <th>78749</th>\n",
       "      <th>78735</th>\n",
       "      <th>78751</th>\n",
       "      <th>78722</th>\n",
       "      <th>78703</th>\n",
       "      <th>78741</th>\n",
       "    </tr>\n",
       "  </thead>\n",
       "  <tbody>\n",
       "    <tr>\n",
       "      <th>School</th>\n",
       "      <td>8</td>\n",
       "      <td>7</td>\n",
       "      <td>6</td>\n",
       "      <td>5</td>\n",
       "      <td>5</td>\n",
       "      <td>5</td>\n",
       "      <td>4</td>\n",
       "      <td>4</td>\n",
       "      <td>3</td>\n",
       "      <td>3</td>\n",
       "      <td>2</td>\n",
       "      <td>2</td>\n",
       "      <td>1</td>\n",
       "      <td>1</td>\n",
       "      <td>1</td>\n",
       "      <td>1</td>\n",
       "      <td>1</td>\n",
       "      <td>1</td>\n",
       "    </tr>\n",
       "  </tbody>\n",
       "</table>\n",
       "</div>"
      ],
      "text/plain": [
       "Zip Code  78744  78702  78745  78753  78723  78748  78704  78758  78721  \\\n",
       "School        8      7      6      5      5      5      4      4      3   \n",
       "\n",
       "Zip Code  78752  78757  78724  78749  78735  78751  78722  78703  78741  \n",
       "School        3      2      2      1      1      1      1      1      1  "
      ]
     },
     "execution_count": 108,
     "metadata": {},
     "output_type": "execute_result"
    }
   ],
   "source": [
    "school_count_df.T"
   ]
  },
  {
   "cell_type": "raw",
   "metadata": {},
   "source": [
    "Areas of town:\n",
    "\n",
    "78744 -- Southeast Austin\n",
    "78702 -- East Austin\n",
    "78745 -- South Austin\n",
    "78753 -- Northeast Austin\n",
    "78723 -- Northeast Austin\n",
    "78748 -- South Austin\n",
    "78704 -- South Austin\n",
    "78758 -- North Austin\n",
    "78721 -- East Austin\n",
    "78752 -- Northeast Austin\n",
    "78757 -- North Austin\n",
    "78724 -- East Austin\n",
    "78749 -- Southwest Austin\n",
    "78735 -- Southwest Austin\n",
    "78751 -- North Austin\n",
    "78722 -- Northeast Austin\n",
    "78703 -- West Austin\n",
    "78741 -- Southeast Austin"
   ]
  },
  {
   "cell_type": "code",
   "execution_count": 110,
   "metadata": {},
   "outputs": [
    {
     "data": {
      "text/plain": [
       "80.9185"
      ]
     },
     "execution_count": 110,
     "metadata": {},
     "output_type": "execute_result"
    }
   ],
   "source": [
    "df[\"Percent in Poverty\"].mean()"
   ]
  },
  {
   "cell_type": "code",
   "execution_count": 111,
   "metadata": {},
   "outputs": [
    {
     "data": {
      "text/plain": [
       "89.765"
      ]
     },
     "execution_count": 111,
     "metadata": {},
     "output_type": "execute_result"
    }
   ],
   "source": [
    "df[\"Percent in Poverty\"].median()"
   ]
  },
  {
   "cell_type": "code",
   "execution_count": 112,
   "metadata": {},
   "outputs": [
    {
     "data": {
      "text/plain": [
       "97.48"
      ]
     },
     "execution_count": 112,
     "metadata": {},
     "output_type": "execute_result"
    }
   ],
   "source": [
    "df[\"Percent in Poverty\"].max()"
   ]
  },
  {
   "cell_type": "code",
   "execution_count": 113,
   "metadata": {},
   "outputs": [
    {
     "data": {
      "text/plain": [
       "33.93"
      ]
     },
     "execution_count": 113,
     "metadata": {},
     "output_type": "execute_result"
    }
   ],
   "source": [
    "df[\"Percent in Poverty\"].min()"
   ]
  },
  {
   "cell_type": "code",
   "execution_count": 114,
   "metadata": {},
   "outputs": [
    {
     "data": {
      "text/html": [
       "<div>\n",
       "<style scoped>\n",
       "    .dataframe tbody tr th:only-of-type {\n",
       "        vertical-align: middle;\n",
       "    }\n",
       "\n",
       "    .dataframe tbody tr th {\n",
       "        vertical-align: top;\n",
       "    }\n",
       "\n",
       "    .dataframe thead th {\n",
       "        text-align: right;\n",
       "    }\n",
       "</style>\n",
       "<table border=\"1\" class=\"dataframe\">\n",
       "  <thead>\n",
       "    <tr style=\"text-align: right;\">\n",
       "      <th></th>\n",
       "      <th>Zip Code</th>\n",
       "      <th>Percent in Poverty</th>\n",
       "    </tr>\n",
       "  </thead>\n",
       "  <tbody>\n",
       "    <tr>\n",
       "      <th>0</th>\n",
       "      <td>78702</td>\n",
       "      <td>83.997143</td>\n",
       "    </tr>\n",
       "    <tr>\n",
       "      <th>1</th>\n",
       "      <td>78703</td>\n",
       "      <td>33.930000</td>\n",
       "    </tr>\n",
       "    <tr>\n",
       "      <th>2</th>\n",
       "      <td>78704</td>\n",
       "      <td>76.557500</td>\n",
       "    </tr>\n",
       "  </tbody>\n",
       "</table>\n",
       "</div>"
      ],
      "text/plain": [
       "   Zip Code  Percent in Poverty\n",
       "0     78702           83.997143\n",
       "1     78703           33.930000\n",
       "2     78704           76.557500"
      ]
     },
     "execution_count": 114,
     "metadata": {},
     "output_type": "execute_result"
    }
   ],
   "source": [
    "pov_by_zip_df.head(3)"
   ]
  },
  {
   "cell_type": "code",
   "execution_count": 117,
   "metadata": {},
   "outputs": [
    {
     "data": {
      "text/html": [
       "<div>\n",
       "<style scoped>\n",
       "    .dataframe tbody tr th:only-of-type {\n",
       "        vertical-align: middle;\n",
       "    }\n",
       "\n",
       "    .dataframe tbody tr th {\n",
       "        vertical-align: top;\n",
       "    }\n",
       "\n",
       "    .dataframe thead th {\n",
       "        text-align: right;\n",
       "    }\n",
       "</style>\n",
       "<table border=\"1\" class=\"dataframe\">\n",
       "  <thead>\n",
       "    <tr style=\"text-align: right;\">\n",
       "      <th></th>\n",
       "      <th>Zip Code</th>\n",
       "      <th>Percent in Poverty</th>\n",
       "    </tr>\n",
       "  </thead>\n",
       "  <tbody>\n",
       "    <tr>\n",
       "      <th>7</th>\n",
       "      <td>78735</td>\n",
       "      <td>93.090000</td>\n",
       "    </tr>\n",
       "    <tr>\n",
       "      <th>15</th>\n",
       "      <td>78753</td>\n",
       "      <td>92.944000</td>\n",
       "    </tr>\n",
       "    <tr>\n",
       "      <th>8</th>\n",
       "      <td>78741</td>\n",
       "      <td>92.520000</td>\n",
       "    </tr>\n",
       "    <tr>\n",
       "      <th>16</th>\n",
       "      <td>78757</td>\n",
       "      <td>91.415000</td>\n",
       "    </tr>\n",
       "    <tr>\n",
       "      <th>17</th>\n",
       "      <td>78758</td>\n",
       "      <td>85.640000</td>\n",
       "    </tr>\n",
       "    <tr>\n",
       "      <th>0</th>\n",
       "      <td>78702</td>\n",
       "      <td>83.997143</td>\n",
       "    </tr>\n",
       "    <tr>\n",
       "      <th>9</th>\n",
       "      <td>78744</td>\n",
       "      <td>83.807500</td>\n",
       "    </tr>\n",
       "    <tr>\n",
       "      <th>12</th>\n",
       "      <td>78749</td>\n",
       "      <td>83.540000</td>\n",
       "    </tr>\n",
       "    <tr>\n",
       "      <th>4</th>\n",
       "      <td>78722</td>\n",
       "      <td>81.450000</td>\n",
       "    </tr>\n",
       "    <tr>\n",
       "      <th>5</th>\n",
       "      <td>78723</td>\n",
       "      <td>80.210000</td>\n",
       "    </tr>\n",
       "    <tr>\n",
       "      <th>6</th>\n",
       "      <td>78724</td>\n",
       "      <td>78.885000</td>\n",
       "    </tr>\n",
       "    <tr>\n",
       "      <th>13</th>\n",
       "      <td>78751</td>\n",
       "      <td>77.290000</td>\n",
       "    </tr>\n",
       "    <tr>\n",
       "      <th>2</th>\n",
       "      <td>78704</td>\n",
       "      <td>76.557500</td>\n",
       "    </tr>\n",
       "    <tr>\n",
       "      <th>11</th>\n",
       "      <td>78748</td>\n",
       "      <td>75.586000</td>\n",
       "    </tr>\n",
       "    <tr>\n",
       "      <th>14</th>\n",
       "      <td>78752</td>\n",
       "      <td>75.216667</td>\n",
       "    </tr>\n",
       "    <tr>\n",
       "      <th>10</th>\n",
       "      <td>78745</td>\n",
       "      <td>75.203333</td>\n",
       "    </tr>\n",
       "    <tr>\n",
       "      <th>3</th>\n",
       "      <td>78721</td>\n",
       "      <td>74.963333</td>\n",
       "    </tr>\n",
       "    <tr>\n",
       "      <th>1</th>\n",
       "      <td>78703</td>\n",
       "      <td>33.930000</td>\n",
       "    </tr>\n",
       "  </tbody>\n",
       "</table>\n",
       "</div>"
      ],
      "text/plain": [
       "    Zip Code  Percent in Poverty\n",
       "7      78735           93.090000\n",
       "15     78753           92.944000\n",
       "8      78741           92.520000\n",
       "16     78757           91.415000\n",
       "17     78758           85.640000\n",
       "0      78702           83.997143\n",
       "9      78744           83.807500\n",
       "12     78749           83.540000\n",
       "4      78722           81.450000\n",
       "5      78723           80.210000\n",
       "6      78724           78.885000\n",
       "13     78751           77.290000\n",
       "2      78704           76.557500\n",
       "11     78748           75.586000\n",
       "14     78752           75.216667\n",
       "10     78745           75.203333\n",
       "3      78721           74.963333\n",
       "1      78703           33.930000"
      ]
     },
     "execution_count": 117,
     "metadata": {},
     "output_type": "execute_result"
    }
   ],
   "source": [
    "pov_by_zip_df.sort_values([\"Percent in Poverty\"], ascending = False)"
   ]
  },
  {
   "cell_type": "code",
   "execution_count": 118,
   "metadata": {},
   "outputs": [
    {
     "data": {
      "text/html": [
       "<div>\n",
       "<style scoped>\n",
       "    .dataframe tbody tr th:only-of-type {\n",
       "        vertical-align: middle;\n",
       "    }\n",
       "\n",
       "    .dataframe tbody tr th {\n",
       "        vertical-align: top;\n",
       "    }\n",
       "\n",
       "    .dataframe thead th {\n",
       "        text-align: right;\n",
       "    }\n",
       "</style>\n",
       "<table border=\"1\" class=\"dataframe\">\n",
       "  <thead>\n",
       "    <tr style=\"text-align: right;\">\n",
       "      <th></th>\n",
       "      <th>School</th>\n",
       "      <th>Location</th>\n",
       "      <th>Closest Store</th>\n",
       "      <th>Store Address</th>\n",
       "      <th>Driving Distance (miles)</th>\n",
       "      <th>Bus Distance (miles)</th>\n",
       "      <th>Percent in Poverty</th>\n",
       "      <th>Zip Code</th>\n",
       "    </tr>\n",
       "  </thead>\n",
       "  <tbody>\n",
       "    <tr>\n",
       "      <th>0</th>\n",
       "      <td>Allison Elementary</td>\n",
       "      <td>Austin</td>\n",
       "      <td>H-E-B</td>\n",
       "      <td>2110 W Slaughter Ln, Austin</td>\n",
       "      <td>1.0</td>\n",
       "      <td>1.3</td>\n",
       "      <td>92.00</td>\n",
       "      <td>78748</td>\n",
       "    </tr>\n",
       "    <tr>\n",
       "      <th>1</th>\n",
       "      <td>Andrews Elementary School</td>\n",
       "      <td>Austin</td>\n",
       "      <td>H-E-B</td>\n",
       "      <td>7112 Ed Bluestein Blvd #125, Austin</td>\n",
       "      <td>1.2</td>\n",
       "      <td>1.6</td>\n",
       "      <td>91.02</td>\n",
       "      <td>78723</td>\n",
       "    </tr>\n",
       "    <tr>\n",
       "      <th>2</th>\n",
       "      <td>Becker Elementary School</td>\n",
       "      <td>Austin</td>\n",
       "      <td>H-E-B</td>\n",
       "      <td>2400 S Congress Ave, Austin</td>\n",
       "      <td>1.3</td>\n",
       "      <td>1.3</td>\n",
       "      <td>64.52</td>\n",
       "      <td>78704</td>\n",
       "    </tr>\n",
       "    <tr>\n",
       "      <th>3</th>\n",
       "      <td>Blackshear Elementary School</td>\n",
       "      <td>Austin</td>\n",
       "      <td>H-E-B</td>\n",
       "      <td>2701 E 7th St, Austin</td>\n",
       "      <td>1.2</td>\n",
       "      <td>1.2</td>\n",
       "      <td>82.49</td>\n",
       "      <td>78702</td>\n",
       "    </tr>\n",
       "    <tr>\n",
       "      <th>4</th>\n",
       "      <td>Blanton Elementary</td>\n",
       "      <td>Austin</td>\n",
       "      <td>H-E-B</td>\n",
       "      <td>1801 E 51st St, Austin</td>\n",
       "      <td>1.0</td>\n",
       "      <td>1.1</td>\n",
       "      <td>65.23</td>\n",
       "      <td>78723</td>\n",
       "    </tr>\n",
       "  </tbody>\n",
       "</table>\n",
       "</div>"
      ],
      "text/plain": [
       "                         School Location Closest Store  \\\n",
       "0            Allison Elementary   Austin         H-E-B   \n",
       "1     Andrews Elementary School   Austin         H-E-B   \n",
       "2      Becker Elementary School   Austin         H-E-B   \n",
       "3  Blackshear Elementary School   Austin         H-E-B   \n",
       "4            Blanton Elementary   Austin         H-E-B   \n",
       "\n",
       "                         Store Address  Driving Distance (miles)  \\\n",
       "0          2110 W Slaughter Ln, Austin                       1.0   \n",
       "1  7112 Ed Bluestein Blvd #125, Austin                       1.2   \n",
       "2          2400 S Congress Ave, Austin                       1.3   \n",
       "3                2701 E 7th St, Austin                       1.2   \n",
       "4               1801 E 51st St, Austin                       1.0   \n",
       "\n",
       "   Bus Distance (miles)  Percent in Poverty  Zip Code  \n",
       "0                   1.3               92.00     78748  \n",
       "1                   1.6               91.02     78723  \n",
       "2                   1.3               64.52     78704  \n",
       "3                   1.2               82.49     78702  \n",
       "4                   1.1               65.23     78723  "
      ]
     },
     "execution_count": 118,
     "metadata": {},
     "output_type": "execute_result"
    }
   ],
   "source": [
    "df.head()"
   ]
  },
  {
   "cell_type": "code",
   "execution_count": 141,
   "metadata": {},
   "outputs": [],
   "source": [
    "distance_povertydf = df.groupby(\"Percent in Poverty\").agg({\"Driving Distance (miles)\": \"mean\", \"Bus Distance (miles)\": \"mean\"})"
   ]
  },
  {
   "cell_type": "code",
   "execution_count": 145,
   "metadata": {},
   "outputs": [],
   "source": [
    "# distance_povertydf = distance_povertydf.reset_index()\n",
    "# distance_povertydf[\"School\"] = df[\"School\"]"
   ]
  },
  {
   "cell_type": "code",
   "execution_count": 146,
   "metadata": {},
   "outputs": [
    {
     "data": {
      "text/html": [
       "<div>\n",
       "<style scoped>\n",
       "    .dataframe tbody tr th:only-of-type {\n",
       "        vertical-align: middle;\n",
       "    }\n",
       "\n",
       "    .dataframe tbody tr th {\n",
       "        vertical-align: top;\n",
       "    }\n",
       "\n",
       "    .dataframe thead th {\n",
       "        text-align: right;\n",
       "    }\n",
       "</style>\n",
       "<table border=\"1\" class=\"dataframe\">\n",
       "  <thead>\n",
       "    <tr style=\"text-align: right;\">\n",
       "      <th></th>\n",
       "      <th>Percent in Poverty</th>\n",
       "      <th>Driving Distance (miles)</th>\n",
       "      <th>Bus Distance (miles)</th>\n",
       "      <th>School</th>\n",
       "    </tr>\n",
       "  </thead>\n",
       "  <tbody>\n",
       "    <tr>\n",
       "      <th>0</th>\n",
       "      <td>33.93</td>\n",
       "      <td>1.0</td>\n",
       "      <td>1.1</td>\n",
       "      <td>Allison Elementary</td>\n",
       "    </tr>\n",
       "    <tr>\n",
       "      <th>1</th>\n",
       "      <td>40.59</td>\n",
       "      <td>1.2</td>\n",
       "      <td>2.6</td>\n",
       "      <td>Andrews Elementary School</td>\n",
       "    </tr>\n",
       "  </tbody>\n",
       "</table>\n",
       "</div>"
      ],
      "text/plain": [
       "   Percent in Poverty  Driving Distance (miles)  Bus Distance (miles)  \\\n",
       "0               33.93                       1.0                   1.1   \n",
       "1               40.59                       1.2                   2.6   \n",
       "\n",
       "                      School  \n",
       "0         Allison Elementary  \n",
       "1  Andrews Elementary School  "
      ]
     },
     "execution_count": 146,
     "metadata": {},
     "output_type": "execute_result"
    }
   ],
   "source": [
    "distance_povertydf.head(2)"
   ]
  },
  {
   "cell_type": "code",
   "execution_count": 150,
   "metadata": {},
   "outputs": [],
   "source": [
    "# distance_povertydf.sort_values(\"Driving Distance (miles)\", ascending = False)"
   ]
  },
  {
   "cell_type": "code",
   "execution_count": 149,
   "metadata": {},
   "outputs": [],
   "source": [
    "# distance_povertydf.sort_values(\"Bus Distance (miles)\", ascending = False)"
   ]
  },
  {
   "cell_type": "code",
   "execution_count": 144,
   "metadata": {},
   "outputs": [
    {
     "data": {
      "text/html": [
       "<div>\n",
       "<style scoped>\n",
       "    .dataframe tbody tr th:only-of-type {\n",
       "        vertical-align: middle;\n",
       "    }\n",
       "\n",
       "    .dataframe tbody tr th {\n",
       "        vertical-align: top;\n",
       "    }\n",
       "\n",
       "    .dataframe thead th {\n",
       "        text-align: right;\n",
       "    }\n",
       "</style>\n",
       "<table border=\"1\" class=\"dataframe\">\n",
       "  <thead>\n",
       "    <tr style=\"text-align: right;\">\n",
       "      <th></th>\n",
       "      <th>School</th>\n",
       "      <th>Location</th>\n",
       "      <th>Closest Store</th>\n",
       "      <th>Store Address</th>\n",
       "      <th>Driving Distance (miles)</th>\n",
       "      <th>Bus Distance (miles)</th>\n",
       "      <th>Percent in Poverty</th>\n",
       "      <th>Zip Code</th>\n",
       "    </tr>\n",
       "  </thead>\n",
       "  <tbody>\n",
       "    <tr>\n",
       "      <th>0</th>\n",
       "      <td>Allison Elementary</td>\n",
       "      <td>Austin</td>\n",
       "      <td>H-E-B</td>\n",
       "      <td>2110 W Slaughter Ln, Austin</td>\n",
       "      <td>1.0</td>\n",
       "      <td>1.3</td>\n",
       "      <td>92.00</td>\n",
       "      <td>78748</td>\n",
       "    </tr>\n",
       "    <tr>\n",
       "      <th>1</th>\n",
       "      <td>Andrews Elementary School</td>\n",
       "      <td>Austin</td>\n",
       "      <td>H-E-B</td>\n",
       "      <td>7112 Ed Bluestein Blvd #125, Austin</td>\n",
       "      <td>1.2</td>\n",
       "      <td>1.6</td>\n",
       "      <td>91.02</td>\n",
       "      <td>78723</td>\n",
       "    </tr>\n",
       "    <tr>\n",
       "      <th>2</th>\n",
       "      <td>Becker Elementary School</td>\n",
       "      <td>Austin</td>\n",
       "      <td>H-E-B</td>\n",
       "      <td>2400 S Congress Ave, Austin</td>\n",
       "      <td>1.3</td>\n",
       "      <td>1.3</td>\n",
       "      <td>64.52</td>\n",
       "      <td>78704</td>\n",
       "    </tr>\n",
       "    <tr>\n",
       "      <th>3</th>\n",
       "      <td>Blackshear Elementary School</td>\n",
       "      <td>Austin</td>\n",
       "      <td>H-E-B</td>\n",
       "      <td>2701 E 7th St, Austin</td>\n",
       "      <td>1.2</td>\n",
       "      <td>1.2</td>\n",
       "      <td>82.49</td>\n",
       "      <td>78702</td>\n",
       "    </tr>\n",
       "    <tr>\n",
       "      <th>4</th>\n",
       "      <td>Blanton Elementary</td>\n",
       "      <td>Austin</td>\n",
       "      <td>H-E-B</td>\n",
       "      <td>1801 E 51st St, Austin</td>\n",
       "      <td>1.0</td>\n",
       "      <td>1.1</td>\n",
       "      <td>65.23</td>\n",
       "      <td>78723</td>\n",
       "    </tr>\n",
       "  </tbody>\n",
       "</table>\n",
       "</div>"
      ],
      "text/plain": [
       "                         School Location Closest Store  \\\n",
       "0            Allison Elementary   Austin         H-E-B   \n",
       "1     Andrews Elementary School   Austin         H-E-B   \n",
       "2      Becker Elementary School   Austin         H-E-B   \n",
       "3  Blackshear Elementary School   Austin         H-E-B   \n",
       "4            Blanton Elementary   Austin         H-E-B   \n",
       "\n",
       "                         Store Address  Driving Distance (miles)  \\\n",
       "0          2110 W Slaughter Ln, Austin                       1.0   \n",
       "1  7112 Ed Bluestein Blvd #125, Austin                       1.2   \n",
       "2          2400 S Congress Ave, Austin                       1.3   \n",
       "3                2701 E 7th St, Austin                       1.2   \n",
       "4               1801 E 51st St, Austin                       1.0   \n",
       "\n",
       "   Bus Distance (miles)  Percent in Poverty  Zip Code  \n",
       "0                   1.3               92.00     78748  \n",
       "1                   1.6               91.02     78723  \n",
       "2                   1.3               64.52     78704  \n",
       "3                   1.2               82.49     78702  \n",
       "4                   1.1               65.23     78723  "
      ]
     },
     "execution_count": 144,
     "metadata": {},
     "output_type": "execute_result"
    }
   ],
   "source": [
    "df.head()"
   ]
  },
  {
   "cell_type": "code",
   "execution_count": 155,
   "metadata": {},
   "outputs": [],
   "source": [
    "# Binning by poverty level -- creating the bins\n",
    "\n",
    "bins = [0, 40, 50, 60, 70, 80, 90, 100]\n",
    "bin_labels = [\"30-40\", \"41-50\", \"51-60\", \"61-70\", \"71-80\", \"81-90\", \"90-100\"]"
   ]
  },
  {
   "cell_type": "code",
   "execution_count": 156,
   "metadata": {},
   "outputs": [],
   "source": [
    "df[\"Poverty Groups\"] = df[\"Percent in Poverty\"].copy()"
   ]
  },
  {
   "cell_type": "code",
   "execution_count": 158,
   "metadata": {},
   "outputs": [],
   "source": [
    "df[\"Poverty Groups\"] = pd.cut(df[\"Poverty Groups\"], bins, labels = bin_labels)"
   ]
  },
  {
   "cell_type": "code",
   "execution_count": 169,
   "metadata": {},
   "outputs": [
    {
     "data": {
      "text/plain": [
       "Poverty Groups\n",
       "81-90     1.685714\n",
       "41-50     1.660000\n",
       "61-70     1.500000\n",
       "90-100    1.355556\n",
       "71-80     1.040000\n",
       "30-40     1.000000\n",
       "51-60     0.900000\n",
       "Name: Driving Distance (miles), dtype: float64"
      ]
     },
     "execution_count": 169,
     "metadata": {},
     "output_type": "execute_result"
    }
   ],
   "source": [
    "df.groupby(\"Poverty Groups\")[\"Driving Distance (miles)\"].mean().sort_values(ascending = False)"
   ]
  },
  {
   "cell_type": "code",
   "execution_count": 167,
   "metadata": {},
   "outputs": [
    {
     "data": {
      "text/plain": [
       "<matplotlib.axes._subplots.AxesSubplot at 0x1a1d94a0b8>"
      ]
     },
     "execution_count": 167,
     "metadata": {},
     "output_type": "execute_result"
    },
    {
     "data": {
      "image/png": "[encoded data removed]",
      "text/plain": [
       "<Figure size 432x288 with 1 Axes>"
      ]
     },
     "metadata": {
      "needs_background": "light"
     },
     "output_type": "display_data"
    }
   ],
   "source": [
    "df.groupby(\"Poverty Groups\")[\"Driving Distance (miles)\"].mean().plot()"
   ]
  },
  {
   "cell_type": "code",
   "execution_count": 172,
   "metadata": {},
   "outputs": [
    {
     "data": {
      "text/plain": [
       "<matplotlib.axes._subplots.AxesSubplot at 0x1a1ddd40b8>"
      ]
     },
     "execution_count": 172,
     "metadata": {},
     "output_type": "execute_result"
    },
    {
     "data": {
      "image/png": "[encoded data removed]",
      "text/plain": [
       "<Figure size 432x288 with 1 Axes>"
      ]
     },
     "metadata": {
      "needs_background": "light"
     },
     "output_type": "display_data"
    }
   ],
   "source": [
    "df.groupby(\"Poverty Groups\")[\"Bus Distance (miles)\"].mean().plot(c = \"orange\")\n",
    "df.groupby(\"Poverty Groups\")[\"Driving Distance (miles)\"].mean().plot()"
   ]
  },
  {
   "cell_type": "code",
   "execution_count": null,
   "metadata": {},
   "outputs": [],
   "source": []
  }
 ],
 "metadata": {
  "kernelspec": {
   "display_name": "Python 3",
   "language": "python",
   "name": "python3"
  },
  "language_info": {
   "codemirror_mode": {
    "name": "ipython",
    "version": 3
   },
   "file_extension": ".py",
   "mimetype": "text/x-python",
   "name": "python",
   "nbconvert_exporter": "python",
   "pygments_lexer": "ipython3",
   "version": "3.6.8"
  }
 },
 "nbformat": 4,
 "nbformat_minor": 2
}

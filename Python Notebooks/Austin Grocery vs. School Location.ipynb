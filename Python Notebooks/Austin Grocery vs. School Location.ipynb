{
 "cells": [
  {
   "cell_type": "markdown",
   "metadata": {},
   "source": [
    "# Distance between school and nearest grocery\n",
    "\n",
    "We'll do a brute force execution of code to compare each school's location to the \n",
    "grocery stores in the same city. For Austin, that works out to 39 grocery stores x 62 schools, or 2,418 comparisons of latitude and longitude. Not efficient by a long shot, but the dataset is small enough that it runs in less than a second."
   ]
  },
  {
   "cell_type": "code",
   "execution_count": 1,
   "metadata": {},
   "outputs": [],
   "source": [
    "# This library is needed to get distance between two sets of coordinates\n",
    "\n",
    "# !pip install geopy\n"
   ]
  },
  {
   "cell_type": "code",
   "execution_count": 16,
   "metadata": {},
   "outputs": [],
   "source": [
    "import pandas as pd\n",
    "import numpy as np\n",
    "import geopy.distance as gp"
   ]
  },
  {
   "cell_type": "code",
   "execution_count": 17,
   "metadata": {},
   "outputs": [],
   "source": [
    "# Getting the coordinates for Austin schools from earlier data gathered from the U.S.\n",
    "# Department of Education combined with a google API pull\n",
    "\n",
    "infile = pd.read_csv(\"Austin_Coords.csv\")\n",
    "school_df = pd.DataFrame(infile)"
   ]
  },
  {
   "cell_type": "code",
   "execution_count": 18,
   "metadata": {},
   "outputs": [],
   "source": [
    "# Getting the coordinates for Austin grocery stores from earlier google API pull\n",
    "\n",
    "infile2 = pd.read_csv(\"Austin_groceries.csv\")\n",
    "grocery_df = pd.DataFrame(infile2)"
   ]
  },
  {
   "cell_type": "code",
   "execution_count": 19,
   "metadata": {},
   "outputs": [
    {
     "data": {
      "text/html": [
       "<div>\n",
       "<style scoped>\n",
       "    .dataframe tbody tr th:only-of-type {\n",
       "        vertical-align: middle;\n",
       "    }\n",
       "\n",
       "    .dataframe tbody tr th {\n",
       "        vertical-align: top;\n",
       "    }\n",
       "\n",
       "    .dataframe thead th {\n",
       "        text-align: right;\n",
       "    }\n",
       "</style>\n",
       "<table border=\"1\" class=\"dataframe\">\n",
       "  <thead>\n",
       "    <tr style=\"text-align: right;\">\n",
       "      <th></th>\n",
       "      <th>School Name</th>\n",
       "      <th>Location</th>\n",
       "      <th>Percent in Poverty</th>\n",
       "      <th>Lat</th>\n",
       "      <th>Long</th>\n",
       "      <th>Google Place ID</th>\n",
       "    </tr>\n",
       "  </thead>\n",
       "  <tbody>\n",
       "    <tr>\n",
       "      <th>0</th>\n",
       "      <td>Allison Elementary</td>\n",
       "      <td>Austin</td>\n",
       "      <td>92.00</td>\n",
       "      <td>30.168207</td>\n",
       "      <td>-97.817760</td>\n",
       "      <td>ChIJ04RBdWa3RIYRgJ7aGK5dgXM</td>\n",
       "    </tr>\n",
       "    <tr>\n",
       "      <th>1</th>\n",
       "      <td>Andrews Elementary School</td>\n",
       "      <td>Austin</td>\n",
       "      <td>91.02</td>\n",
       "      <td>30.317554</td>\n",
       "      <td>-97.679663</td>\n",
       "      <td>ChIJ6YaMBenJRIYRhrPJHKXhGBU</td>\n",
       "    </tr>\n",
       "  </tbody>\n",
       "</table>\n",
       "</div>"
      ],
      "text/plain": [
       "                 School Name Location  Percent in Poverty        Lat  \\\n",
       "0         Allison Elementary   Austin               92.00  30.168207   \n",
       "1  Andrews Elementary School   Austin               91.02  30.317554   \n",
       "\n",
       "        Long              Google Place ID  \n",
       "0 -97.817760  ChIJ04RBdWa3RIYRgJ7aGK5dgXM  \n",
       "1 -97.679663  ChIJ6YaMBenJRIYRhrPJHKXhGBU  "
      ]
     },
     "execution_count": 19,
     "metadata": {},
     "output_type": "execute_result"
    }
   ],
   "source": [
    "school_df.head(2)"
   ]
  },
  {
   "cell_type": "code",
   "execution_count": 20,
   "metadata": {},
   "outputs": [
    {
     "data": {
      "text/html": [
       "<div>\n",
       "<style scoped>\n",
       "    .dataframe tbody tr th:only-of-type {\n",
       "        vertical-align: middle;\n",
       "    }\n",
       "\n",
       "    .dataframe tbody tr th {\n",
       "        vertical-align: top;\n",
       "    }\n",
       "\n",
       "    .dataframe thead th {\n",
       "        text-align: right;\n",
       "    }\n",
       "</style>\n",
       "<table border=\"1\" class=\"dataframe\">\n",
       "  <thead>\n",
       "    <tr style=\"text-align: right;\">\n",
       "      <th></th>\n",
       "      <th>Store Name</th>\n",
       "      <th>Location</th>\n",
       "      <th>Lat</th>\n",
       "      <th>Long</th>\n",
       "      <th>Vicinity</th>\n",
       "    </tr>\n",
       "  </thead>\n",
       "  <tbody>\n",
       "    <tr>\n",
       "      <th>0</th>\n",
       "      <td>H-E-B</td>\n",
       "      <td>Austin</td>\n",
       "      <td>30.216284</td>\n",
       "      <td>-97.830988</td>\n",
       "      <td>6900 Brodie Ln, Austin</td>\n",
       "    </tr>\n",
       "    <tr>\n",
       "      <th>1</th>\n",
       "      <td>H-E-B</td>\n",
       "      <td>Austin</td>\n",
       "      <td>30.197923</td>\n",
       "      <td>-97.786481</td>\n",
       "      <td>600 W William Cannon Dr, Austin</td>\n",
       "    </tr>\n",
       "  </tbody>\n",
       "</table>\n",
       "</div>"
      ],
      "text/plain": [
       "  Store Name Location        Lat       Long                         Vicinity\n",
       "0      H-E-B   Austin  30.216284 -97.830988           6900 Brodie Ln, Austin\n",
       "1      H-E-B   Austin  30.197923 -97.786481  600 W William Cannon Dr, Austin"
      ]
     },
     "execution_count": 20,
     "metadata": {},
     "output_type": "execute_result"
    }
   ],
   "source": [
    "grocery_df.head(2)"
   ]
  },
  {
   "cell_type": "code",
   "execution_count": 7,
   "metadata": {},
   "outputs": [],
   "source": [
    "# Making arrays for latitude and longitude for the schools\n",
    "\n",
    "school_lat = np.array(school_df[\"Lat\"])\n",
    "school_long = np.array(school_df[\"Long\"])"
   ]
  },
  {
   "cell_type": "code",
   "execution_count": 8,
   "metadata": {},
   "outputs": [],
   "source": [
    "# Making arrays for latitude and longitude for the stores\n",
    "\n",
    "grocery_lat = np.array(grocery_df[\"Lat\"])\n",
    "grocery_long = np.array(grocery_df[\"Long\"])"
   ]
  },
  {
   "cell_type": "code",
   "execution_count": 9,
   "metadata": {},
   "outputs": [],
   "source": [
    "# Making tuples to hold latitude and longitude so they can be put into the function coming up\n",
    "\n",
    "school_coords = [(x,y) for x,y in zip(school_lat, school_long)]\n",
    "store_coords = [(x,y) for x,y in zip(grocery_lat, grocery_long)]"
   ]
  },
  {
   "cell_type": "code",
   "execution_count": 10,
   "metadata": {},
   "outputs": [],
   "source": [
    "# Making tuples for the school name and coordinate so as to be able to double-check later that they match\n",
    "\n",
    "school_name = school_df[\"School Name\"]\n",
    "schools = [(x,y) for x,y in zip(school_name, school_coords)]"
   ]
  },
  {
   "cell_type": "code",
   "execution_count": 11,
   "metadata": {},
   "outputs": [],
   "source": [
    "# Making tuples for store name, address, and coordinates so that they can be referenced by index\n",
    "\n",
    "store_address = grocery_df[\"Vicinity\"]\n",
    "store_name = grocery_df[\"Store Name\"]\n",
    "stores = [(x,y,z) for x,y,z in zip(store_name, store_address, store_coords)]"
   ]
  },
  {
   "cell_type": "code",
   "execution_count": 12,
   "metadata": {},
   "outputs": [
    {
     "name": "stdout",
     "output_type": "stream",
     "text": [
      "3.4049041064242647\n"
     ]
    }
   ],
   "source": [
    "# Testing the geopy.distance.distance function using first school and first store in our arrays\n",
    "\n",
    "print(gp.distance(school_coords[0], store_coords[0]).miles)"
   ]
  },
  {
   "cell_type": "code",
   "execution_count": 13,
   "metadata": {},
   "outputs": [],
   "source": [
    "# To find the closest store to each school, some setup is required\n",
    "# First I'll make some empty lists to hold the store name, the index for that store \n",
    "# so that I can look it up in the tuple later, the school index (school = 0 to start)\n",
    "# so that I can make sure it's matching, and then school_index to hold that list\n",
    "# of indices. The last two are a bit of overkill, but I'm making sure everything\n",
    "# matches.\n",
    "\n",
    "closest_store = []\n",
    "closest_store_index = []\n",
    "school = 0\n",
    "school_index = []\n",
    "\n",
    "# i is the index as we go through school by school; j does the same for stores \n",
    "# index (the variable) means the index that matches the store that is closest to\n",
    "# the school being referenced during that portion of the loop.\n",
    "# I'll start with i and j at 0 so that we get the first school and the first store\n",
    "# when we start the loop. Closest represents the radius in miles that I searched. \n",
    "# It will be reset inside the loop to equal the store closest to the school \n",
    "# we're testing.\n",
    "\n",
    "i = 0\n",
    "j = 0\n",
    "index = 0\n",
    "closest = 10\n",
    "\n",
    "# We start with an outside loop to go through every school. We have to subtract\n",
    "# one from the length of the array so that the indexing matches up since the index\n",
    "# begins with zero\n",
    "\n",
    "while i <= (len(schools) - 1):\n",
    "    \n",
    "    # The inside loop will take one school and go through every store\n",
    "    \n",
    "    while j <= (len(stores) - 1): \n",
    "        \n",
    "        # This handy function from geopy gives the distance in miles\n",
    "        \n",
    "        distance = gp.distance(school_coords[i], store_coords[j]).miles\n",
    "        \n",
    "        # The distance will initially be less than 10 miles, so the variable\n",
    "        # 'closest' will change to equal that distance. Afterward, each iteration\n",
    "        # of the loop will check to see if there's a closer store, and each time\n",
    "        # it finds one, it will give both the distance and the index j that tells\n",
    "        # which store is connected to that distance.\n",
    "        \n",
    "        if distance < closest:\n",
    "            closest = distance\n",
    "            index = j\n",
    "        \n",
    "        # Here j is telling the loop to move to the next store.\n",
    "            \n",
    "        j += 1\n",
    "        \n",
    "    # Back in the outside loop, we'll append the distance and index of the closest\n",
    "    # store as well as the index for the school name to make it easy to match them up\n",
    "\n",
    "    closest_store.append(closest)\n",
    "    closest_store_index.append(index)\n",
    "    school_index.append(school)\n",
    "    \n",
    "    # Before restarting the inner loop, we'll need to reset the variables\n",
    "    \n",
    "    closest = 10\n",
    "    index = 0\n",
    "    j = 0\n",
    "    \n",
    "    # We'll increment so that the school index matches what will become the dataframe\n",
    "    # index and i will increment to tell us to take the next school and check the \n",
    "    # grocery stores against it.\n",
    "    \n",
    "    school += 1\n",
    "    i += 1\n",
    "    \n",
    "    \n",
    "# print(closest_store,closest_store_index,school_index)    "
   ]
  },
  {
   "cell_type": "code",
   "execution_count": 14,
   "metadata": {},
   "outputs": [],
   "source": [
    "# This loop will create arrays to loop through so that they are sorted by what will\n",
    "# become the dataframe index. I didn't use the earlier arrays because they contained\n",
    "# tuples, and I can't drop those into a dataframe. I probably could have done this\n",
    "# an easier way, but this made sense when I wrote it.\n",
    "\n",
    "# Setting up a new counter, i, and new arrays\n",
    "\n",
    "i = 0\n",
    "close_school = []\n",
    "close_store = []\n",
    "store_address = []\n",
    "distance_to_store = []\n",
    "\n",
    "# Using the closest_store_index from the earlier loop, I'm able to pull out the \n",
    "# information from various tuples that matches that index\n",
    "\n",
    "for store in closest_store_index:\n",
    "#     print(f\"{schools[i][0]}, {stores[store][0]}, {stores[store][1]}, {closest_store[i]}\")\n",
    "\n",
    "    # This uses i instead of 'store' in the loop because I want the schools to be incremented\n",
    "    # in order. 'Store' is the closest store index. Schools is the tuple I'm pulling from.\n",
    "    # In this case, I'm taking the ith tuple and the first element of it, which is the\n",
    "    # school name.\n",
    "\n",
    "    close_school.append(schools[i][0])\n",
    "    \n",
    "    # From the store index pulled by the loop, I'm getting the name of the closest\n",
    "    # store, which is the first element in the stores tuple.\n",
    "    \n",
    "    close_store.append(stores[store][0])\n",
    "    \n",
    "    # The same tuple's second element gives the store address.\n",
    "    store_address.append(stores[store][1])\n",
    "    \n",
    "    # The distance that we pulled in the earlier loop is now referenced and rounded.\n",
    "\n",
    "    distance_to_store.append(round(closest_store[i],2))\n",
    "    \n",
    "    # i is incremented so that the next school name will be called\n",
    "    \n",
    "    i += 1"
   ]
  },
  {
   "cell_type": "code",
   "execution_count": 15,
   "metadata": {},
   "outputs": [],
   "source": [
    "df = pd.DataFrame()"
   ]
  },
  {
   "cell_type": "code",
   "execution_count": 16,
   "metadata": {},
   "outputs": [],
   "source": [
    "# The new dataframe contains the schools in order, along with the closest store,\n",
    "# its address, and its distance as the crow flies. It would be helpful to get the\n",
    "# driving distance but may be hard to obtain that information programatically. \n",
    "# I know that, for example, Allison Elementary, the first school on our list, is actually\n",
    "# about a mile's drive away from the school. So distance is deceiving. It tends to\n",
    "# be closer than the real driving distance.\n",
    "\n",
    "df[\"School\"] = close_school\n",
    "df[\"Closest Store\"] = close_store\n",
    "df[\"Store Address\"] = store_address\n",
    "df[\"Distance in Miles\"] = distance_to_store"
   ]
  },
  {
   "cell_type": "code",
   "execution_count": 17,
   "metadata": {},
   "outputs": [
    {
     "data": {
      "text/html": [
       "<div>\n",
       "<style scoped>\n",
       "    .dataframe tbody tr th:only-of-type {\n",
       "        vertical-align: middle;\n",
       "    }\n",
       "\n",
       "    .dataframe tbody tr th {\n",
       "        vertical-align: top;\n",
       "    }\n",
       "\n",
       "    .dataframe thead th {\n",
       "        text-align: right;\n",
       "    }\n",
       "</style>\n",
       "<table border=\"1\" class=\"dataframe\">\n",
       "  <thead>\n",
       "    <tr style=\"text-align: right;\">\n",
       "      <th></th>\n",
       "      <th>School</th>\n",
       "      <th>Closest Store</th>\n",
       "      <th>Store Address</th>\n",
       "      <th>Distance in Miles</th>\n",
       "    </tr>\n",
       "  </thead>\n",
       "  <tbody>\n",
       "    <tr>\n",
       "      <th>0</th>\n",
       "      <td>Allison Elementary</td>\n",
       "      <td>H-E-B</td>\n",
       "      <td>2110 W Slaughter Ln, Austin</td>\n",
       "      <td>0.66</td>\n",
       "    </tr>\n",
       "    <tr>\n",
       "      <th>1</th>\n",
       "      <td>Andrews Elementary School</td>\n",
       "      <td>H-E-B</td>\n",
       "      <td>7112 Ed Bluestein Blvd #125, Austin</td>\n",
       "      <td>0.97</td>\n",
       "    </tr>\n",
       "    <tr>\n",
       "      <th>2</th>\n",
       "      <td>Becker Elementary School</td>\n",
       "      <td>H-E-B</td>\n",
       "      <td>2400 S Congress Ave, Austin</td>\n",
       "      <td>0.84</td>\n",
       "    </tr>\n",
       "    <tr>\n",
       "      <th>3</th>\n",
       "      <td>Blackshear Elementary School</td>\n",
       "      <td>H-E-B</td>\n",
       "      <td>2701 E 7th St, Austin</td>\n",
       "      <td>0.83</td>\n",
       "    </tr>\n",
       "    <tr>\n",
       "      <th>4</th>\n",
       "      <td>Blanton Elementary</td>\n",
       "      <td>H-E-B</td>\n",
       "      <td>1801 E 51st St, Austin</td>\n",
       "      <td>0.63</td>\n",
       "    </tr>\n",
       "  </tbody>\n",
       "</table>\n",
       "</div>"
      ],
      "text/plain": [
       "                         School Closest Store  \\\n",
       "0            Allison Elementary         H-E-B   \n",
       "1     Andrews Elementary School         H-E-B   \n",
       "2      Becker Elementary School         H-E-B   \n",
       "3  Blackshear Elementary School         H-E-B   \n",
       "4            Blanton Elementary         H-E-B   \n",
       "\n",
       "                         Store Address  Distance in Miles  \n",
       "0          2110 W Slaughter Ln, Austin               0.66  \n",
       "1  7112 Ed Bluestein Blvd #125, Austin               0.97  \n",
       "2          2400 S Congress Ave, Austin               0.84  \n",
       "3                2701 E 7th St, Austin               0.83  \n",
       "4               1801 E 51st St, Austin               0.63  "
      ]
     },
     "execution_count": 17,
     "metadata": {},
     "output_type": "execute_result"
    }
   ],
   "source": [
    "df.head()"
   ]
  },
  {
   "cell_type": "code",
   "execution_count": 18,
   "metadata": {},
   "outputs": [
    {
     "data": {
      "text/html": [
       "<div>\n",
       "<style scoped>\n",
       "    .dataframe tbody tr th:only-of-type {\n",
       "        vertical-align: middle;\n",
       "    }\n",
       "\n",
       "    .dataframe tbody tr th {\n",
       "        vertical-align: top;\n",
       "    }\n",
       "\n",
       "    .dataframe thead th {\n",
       "        text-align: right;\n",
       "    }\n",
       "</style>\n",
       "<table border=\"1\" class=\"dataframe\">\n",
       "  <thead>\n",
       "    <tr style=\"text-align: right;\">\n",
       "      <th></th>\n",
       "      <th>School Name</th>\n",
       "      <th>Location</th>\n",
       "      <th>Percent in Poverty</th>\n",
       "      <th>Lat</th>\n",
       "      <th>Long</th>\n",
       "      <th>Google Place ID</th>\n",
       "    </tr>\n",
       "  </thead>\n",
       "  <tbody>\n",
       "    <tr>\n",
       "      <th>0</th>\n",
       "      <td>Allison Elementary</td>\n",
       "      <td>Austin</td>\n",
       "      <td>92.00</td>\n",
       "      <td>30.168207</td>\n",
       "      <td>-97.817760</td>\n",
       "      <td>ChIJ04RBdWa3RIYRgJ7aGK5dgXM</td>\n",
       "    </tr>\n",
       "    <tr>\n",
       "      <th>1</th>\n",
       "      <td>Andrews Elementary School</td>\n",
       "      <td>Austin</td>\n",
       "      <td>91.02</td>\n",
       "      <td>30.317554</td>\n",
       "      <td>-97.679663</td>\n",
       "      <td>ChIJ6YaMBenJRIYRhrPJHKXhGBU</td>\n",
       "    </tr>\n",
       "    <tr>\n",
       "      <th>2</th>\n",
       "      <td>Becker Elementary School</td>\n",
       "      <td>Austin</td>\n",
       "      <td>64.52</td>\n",
       "      <td>30.250336</td>\n",
       "      <td>-97.759642</td>\n",
       "      <td>ChIJbSvrueG0RIYRxmI7kMMuRAY</td>\n",
       "    </tr>\n",
       "  </tbody>\n",
       "</table>\n",
       "</div>"
      ],
      "text/plain": [
       "                 School Name Location  Percent in Poverty        Lat  \\\n",
       "0         Allison Elementary   Austin               92.00  30.168207   \n",
       "1  Andrews Elementary School   Austin               91.02  30.317554   \n",
       "2   Becker Elementary School   Austin               64.52  30.250336   \n",
       "\n",
       "        Long              Google Place ID  \n",
       "0 -97.817760  ChIJ04RBdWa3RIYRgJ7aGK5dgXM  \n",
       "1 -97.679663  ChIJ6YaMBenJRIYRhrPJHKXhGBU  \n",
       "2 -97.759642  ChIJbSvrueG0RIYRxmI7kMMuRAY  "
      ]
     },
     "execution_count": 18,
     "metadata": {},
     "output_type": "execute_result"
    }
   ],
   "source": [
    "# The next step will be to add the poverty rate to the dataframe. I'll look at \n",
    "# the school_df that we made earlier.\n",
    "\n",
    "school_df.head(3)"
   ]
  },
  {
   "cell_type": "code",
   "execution_count": 19,
   "metadata": {},
   "outputs": [],
   "source": [
    "# I'll output poverty percentage to its own array\n",
    "\n",
    "poverty = school_df[\"Percent in Poverty\"]"
   ]
  },
  {
   "cell_type": "code",
   "execution_count": 20,
   "metadata": {},
   "outputs": [],
   "source": [
    "# Now I'll add it to our dataframe\n",
    "\n",
    "df[\"Percent in Poverty\"] = poverty"
   ]
  },
  {
   "cell_type": "code",
   "execution_count": 21,
   "metadata": {},
   "outputs": [
    {
     "data": {
      "text/html": [
       "<div>\n",
       "<style scoped>\n",
       "    .dataframe tbody tr th:only-of-type {\n",
       "        vertical-align: middle;\n",
       "    }\n",
       "\n",
       "    .dataframe tbody tr th {\n",
       "        vertical-align: top;\n",
       "    }\n",
       "\n",
       "    .dataframe thead th {\n",
       "        text-align: right;\n",
       "    }\n",
       "</style>\n",
       "<table border=\"1\" class=\"dataframe\">\n",
       "  <thead>\n",
       "    <tr style=\"text-align: right;\">\n",
       "      <th></th>\n",
       "      <th>School</th>\n",
       "      <th>Closest Store</th>\n",
       "      <th>Store Address</th>\n",
       "      <th>Distance in Miles</th>\n",
       "      <th>Percent in Poverty</th>\n",
       "    </tr>\n",
       "  </thead>\n",
       "  <tbody>\n",
       "    <tr>\n",
       "      <th>0</th>\n",
       "      <td>Allison Elementary</td>\n",
       "      <td>H-E-B</td>\n",
       "      <td>2110 W Slaughter Ln, Austin</td>\n",
       "      <td>0.66</td>\n",
       "      <td>92.00</td>\n",
       "    </tr>\n",
       "    <tr>\n",
       "      <th>1</th>\n",
       "      <td>Andrews Elementary School</td>\n",
       "      <td>H-E-B</td>\n",
       "      <td>7112 Ed Bluestein Blvd #125, Austin</td>\n",
       "      <td>0.97</td>\n",
       "      <td>91.02</td>\n",
       "    </tr>\n",
       "    <tr>\n",
       "      <th>2</th>\n",
       "      <td>Becker Elementary School</td>\n",
       "      <td>H-E-B</td>\n",
       "      <td>2400 S Congress Ave, Austin</td>\n",
       "      <td>0.84</td>\n",
       "      <td>64.52</td>\n",
       "    </tr>\n",
       "  </tbody>\n",
       "</table>\n",
       "</div>"
      ],
      "text/plain": [
       "                      School Closest Store  \\\n",
       "0         Allison Elementary         H-E-B   \n",
       "1  Andrews Elementary School         H-E-B   \n",
       "2   Becker Elementary School         H-E-B   \n",
       "\n",
       "                         Store Address  Distance in Miles  Percent in Poverty  \n",
       "0          2110 W Slaughter Ln, Austin               0.66               92.00  \n",
       "1  7112 Ed Bluestein Blvd #125, Austin               0.97               91.02  \n",
       "2          2400 S Congress Ave, Austin               0.84               64.52  "
      ]
     },
     "execution_count": 21,
     "metadata": {},
     "output_type": "execute_result"
    }
   ],
   "source": [
    "df.head(3)"
   ]
  },
  {
   "cell_type": "code",
   "execution_count": 22,
   "metadata": {},
   "outputs": [],
   "source": [
    "# Time to output this dataframe so it can be analyzed.\n",
    "\n",
    "df.to_csv(\"Austin_distance_to_stores.csv\", index = False)"
   ]
  },
  {
   "cell_type": "markdown",
   "metadata": {},
   "source": [
    "# Conclusion for now: \n",
    "it would be helpful to have driving distance to get a true picture of how far away a grocery store is."
   ]
  },
  {
   "cell_type": "code",
   "execution_count": null,
   "metadata": {},
   "outputs": [],
   "source": [
    "# Google distance matrix API\n",
    "\n",
    "# https://maps.googleapis.com/maps/api/distancematrix/json?parameters\n",
    "\n",
    "\n",
    "# use pipe | to separate coordinates"
   ]
  },
  {
   "cell_type": "code",
   "execution_count": 23,
   "metadata": {},
   "outputs": [],
   "source": [
    "import gmaps\n",
    "from config import gkey2\n",
    "import requests\n",
    "import json"
   ]
  },
  {
   "cell_type": "code",
   "execution_count": 24,
   "metadata": {},
   "outputs": [
    {
     "data": {
      "text/html": [
       "<div>\n",
       "<style scoped>\n",
       "    .dataframe tbody tr th:only-of-type {\n",
       "        vertical-align: middle;\n",
       "    }\n",
       "\n",
       "    .dataframe tbody tr th {\n",
       "        vertical-align: top;\n",
       "    }\n",
       "\n",
       "    .dataframe thead th {\n",
       "        text-align: right;\n",
       "    }\n",
       "</style>\n",
       "<table border=\"1\" class=\"dataframe\">\n",
       "  <thead>\n",
       "    <tr style=\"text-align: right;\">\n",
       "      <th></th>\n",
       "      <th>School</th>\n",
       "      <th>Closest Store</th>\n",
       "      <th>Store Address</th>\n",
       "      <th>Distance in Miles</th>\n",
       "      <th>Percent in Poverty</th>\n",
       "    </tr>\n",
       "  </thead>\n",
       "  <tbody>\n",
       "    <tr>\n",
       "      <th>0</th>\n",
       "      <td>Allison Elementary</td>\n",
       "      <td>H-E-B</td>\n",
       "      <td>2110 W Slaughter Ln, Austin</td>\n",
       "      <td>0.66</td>\n",
       "      <td>92.00</td>\n",
       "    </tr>\n",
       "    <tr>\n",
       "      <th>1</th>\n",
       "      <td>Andrews Elementary School</td>\n",
       "      <td>H-E-B</td>\n",
       "      <td>7112 Ed Bluestein Blvd #125, Austin</td>\n",
       "      <td>0.97</td>\n",
       "      <td>91.02</td>\n",
       "    </tr>\n",
       "  </tbody>\n",
       "</table>\n",
       "</div>"
      ],
      "text/plain": [
       "                      School Closest Store  \\\n",
       "0         Allison Elementary         H-E-B   \n",
       "1  Andrews Elementary School         H-E-B   \n",
       "\n",
       "                         Store Address  Distance in Miles  Percent in Poverty  \n",
       "0          2110 W Slaughter Ln, Austin               0.66               92.00  \n",
       "1  7112 Ed Bluestein Blvd #125, Austin               0.97               91.02  "
      ]
     },
     "execution_count": 24,
     "metadata": {},
     "output_type": "execute_result"
    }
   ],
   "source": [
    "infile = pd.read_csv(\"Austin_distance_to_stores.csv\")\n",
    "driving_df = pd.DataFrame(infile)\n",
    "driving_df.head(2)"
   ]
  },
  {
   "cell_type": "code",
   "execution_count": 25,
   "metadata": {},
   "outputs": [],
   "source": [
    "# Trying sample first to see if the API works as expected\n",
    "\n",
    "# Allison Elementary\n",
    "\n",
    "lat = 30.168207\n",
    "long = -97.817760\n",
    "\n",
    "# HEB nearby\n",
    "\n",
    "lat2 = 30.175379\n",
    "long2 = -97.825078"
   ]
  },
  {
   "cell_type": "code",
   "execution_count": 26,
   "metadata": {},
   "outputs": [],
   "source": [
    "params = {\n",
    "    \"origins\": f\"{lat},{long}\", \n",
    "    \"key\": gkey2, \n",
    "    \"destinations\": f\"{lat2},{long2}\", \n",
    "    \"units\": \"imperial\"\n",
    "}\n",
    "\n",
    "# optional to use \"mode\" = \"transit\", then \"transit_mode\" = \"bus\"\n",
    "\n"
   ]
  },
  {
   "cell_type": "code",
   "execution_count": 27,
   "metadata": {},
   "outputs": [],
   "source": [
    "base_url = \"https://maps.googleapis.com/maps/api/distancematrix/json?\""
   ]
  },
  {
   "cell_type": "code",
   "execution_count": 31,
   "metadata": {},
   "outputs": [],
   "source": [
    "data = requests.get(base_url, params = params).json()\n"
   ]
  },
  {
   "cell_type": "code",
   "execution_count": 36,
   "metadata": {},
   "outputs": [],
   "source": [
    "# print(json.dumps(data, indent=4, sort_keys=True))"
   ]
  },
  {
   "cell_type": "code",
   "execution_count": 35,
   "metadata": {},
   "outputs": [
    {
     "name": "stdout",
     "output_type": "stream",
     "text": [
      "1.0 mi\n"
     ]
    }
   ],
   "source": [
    "# Distance between Allison and its nearest grocery store when driving is\n",
    "\n",
    "distance1 = data[\"rows\"][0][\"elements\"][0][\"distance\"][\"text\"]\n",
    "print(distance1)"
   ]
  },
  {
   "cell_type": "code",
   "execution_count": 37,
   "metadata": {},
   "outputs": [],
   "source": [
    "# If grabbing distance by bus\n",
    "\n",
    "params = {\n",
    "    \"origins\": f\"{lat},{long}\", \n",
    "    \"key\": gkey2, \n",
    "    \"destinations\": f\"{lat2},{long2}\", \n",
    "    \"units\": \"imperial\",\n",
    "    \"mode\": \"transit\",\n",
    "    \"transit_mode\": \"bus\"\n",
    "}"
   ]
  },
  {
   "cell_type": "code",
   "execution_count": 40,
   "metadata": {},
   "outputs": [],
   "source": [
    "data2 = requests.get(base_url, params = params).json()"
   ]
  },
  {
   "cell_type": "code",
   "execution_count": 41,
   "metadata": {},
   "outputs": [],
   "source": [
    "bus_distance = []\n",
    "bus_fare = []"
   ]
  },
  {
   "cell_type": "code",
   "execution_count": 42,
   "metadata": {},
   "outputs": [],
   "source": [
    "bus_distance.append(data2[\"rows\"][0][\"elements\"][0][\"distance\"][\"text\"])\n",
    "bus_fare.append(data2[\"rows\"][0][\"elements\"][0][\"fare\"][\"text\"])"
   ]
  },
  {
   "cell_type": "code",
   "execution_count": 43,
   "metadata": {},
   "outputs": [
    {
     "name": "stdout",
     "output_type": "stream",
     "text": [
      "['1.3 mi'] ['$1.25']\n"
     ]
    }
   ],
   "source": [
    "print(bus_distance, bus_fare)"
   ]
  },
  {
   "cell_type": "code",
   "execution_count": null,
   "metadata": {},
   "outputs": [],
   "source": [
    "# So Allison Elementary is 0.66 miles from the nearest store as the crow flies,\n",
    "# 1.0 miles away by driving, and 1.3 miles away if riding the bus."
   ]
  }
 ],
 "metadata": {
  "kernelspec": {
   "display_name": "Python 3",
   "language": "python",
   "name": "python3"
  },
  "language_info": {
   "codemirror_mode": {
    "name": "ipython",
    "version": 3
   },
   "file_extension": ".py",
   "mimetype": "text/x-python",
   "name": "python",
   "nbconvert_exporter": "python",
   "pygments_lexer": "ipython3",
   "version": "3.6.8"
  }
 },
 "nbformat": 4,
 "nbformat_minor": 2
}

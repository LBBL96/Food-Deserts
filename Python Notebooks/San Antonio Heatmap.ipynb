{
 "cells": [
  {
   "cell_type": "markdown",
   "metadata": {},
   "source": [
    "Demonstrating how to make a heatmap from our datasets"
   ]
  },
  {
   "cell_type": "code",
   "execution_count": 1,
   "metadata": {},
   "outputs": [],
   "source": [
    "import pandas as pd\n",
    "from config import gkey\n",
    "import gmaps\n",
    "import numpy as np\n",
    "import requests"
   ]
  },
  {
   "cell_type": "code",
   "execution_count": 2,
   "metadata": {},
   "outputs": [
    {
     "data": {
      "text/html": [
       "<div>\n",
       "<style scoped>\n",
       "    .dataframe tbody tr th:only-of-type {\n",
       "        vertical-align: middle;\n",
       "    }\n",
       "\n",
       "    .dataframe tbody tr th {\n",
       "        vertical-align: top;\n",
       "    }\n",
       "\n",
       "    .dataframe thead th {\n",
       "        text-align: right;\n",
       "    }\n",
       "</style>\n",
       "<table border=\"1\" class=\"dataframe\">\n",
       "  <thead>\n",
       "    <tr style=\"text-align: right;\">\n",
       "      <th></th>\n",
       "      <th>School Name</th>\n",
       "      <th>Location</th>\n",
       "      <th>Percent in Poverty</th>\n",
       "      <th>Lat</th>\n",
       "      <th>Long</th>\n",
       "      <th>Google Place ID</th>\n",
       "    </tr>\n",
       "  </thead>\n",
       "  <tbody>\n",
       "    <tr>\n",
       "      <th>0</th>\n",
       "      <td>Kay Franklin Elementary School</td>\n",
       "      <td>San Antonio</td>\n",
       "      <td>90.63</td>\n",
       "      <td>29.527388</td>\n",
       "      <td>-98.731561</td>\n",
       "      <td>ChIJZ1nRc5NpXIYRWqa1idCgEJg</td>\n",
       "    </tr>\n",
       "    <tr>\n",
       "      <th>1</th>\n",
       "      <td>Gates Elementary School</td>\n",
       "      <td>San Antonio</td>\n",
       "      <td>97.52</td>\n",
       "      <td>29.409923</td>\n",
       "      <td>-98.427857</td>\n",
       "      <td>ChIJdyGkXZL2XIYRhh0JiXBbhig</td>\n",
       "    </tr>\n",
       "    <tr>\n",
       "      <th>2</th>\n",
       "      <td>Charles Graebner Elementary School</td>\n",
       "      <td>San Antonio</td>\n",
       "      <td>93.24</td>\n",
       "      <td>29.384539</td>\n",
       "      <td>-98.528102</td>\n",
       "      <td>ChIJdaDOif1YXIYR6sEyEDYLmU4</td>\n",
       "    </tr>\n",
       "    <tr>\n",
       "      <th>3</th>\n",
       "      <td>Robert B Green Academy</td>\n",
       "      <td>San Antonio</td>\n",
       "      <td>88.46</td>\n",
       "      <td>29.399431</td>\n",
       "      <td>-98.483830</td>\n",
       "      <td>ChIJNy8ZhCD2XIYRm385ZPZbeRM</td>\n",
       "    </tr>\n",
       "    <tr>\n",
       "      <th>4</th>\n",
       "      <td>Herff Elementary School</td>\n",
       "      <td>San Antonio</td>\n",
       "      <td>96.73</td>\n",
       "      <td>29.409190</td>\n",
       "      <td>-98.472454</td>\n",
       "      <td>ChIJI5f_Sxf2XIYRhXwvlowTISY</td>\n",
       "    </tr>\n",
       "  </tbody>\n",
       "</table>\n",
       "</div>"
      ],
      "text/plain": [
       "                          School Name     Location  Percent in Poverty  \\\n",
       "0      Kay Franklin Elementary School  San Antonio               90.63   \n",
       "1             Gates Elementary School  San Antonio               97.52   \n",
       "2  Charles Graebner Elementary School  San Antonio               93.24   \n",
       "3              Robert B Green Academy  San Antonio               88.46   \n",
       "4             Herff Elementary School  San Antonio               96.73   \n",
       "\n",
       "         Lat       Long              Google Place ID  \n",
       "0  29.527388 -98.731561  ChIJZ1nRc5NpXIYRWqa1idCgEJg  \n",
       "1  29.409923 -98.427857  ChIJdyGkXZL2XIYRhh0JiXBbhig  \n",
       "2  29.384539 -98.528102  ChIJdaDOif1YXIYR6sEyEDYLmU4  \n",
       "3  29.399431 -98.483830  ChIJNy8ZhCD2XIYRm385ZPZbeRM  \n",
       "4  29.409190 -98.472454  ChIJI5f_Sxf2XIYRhXwvlowTISY  "
      ]
     },
     "execution_count": 2,
     "metadata": {},
     "output_type": "execute_result"
    }
   ],
   "source": [
    "# Pulling in San Antonio dataset\n",
    "\n",
    "infile = pd.read_csv(\"San_Antonio_coords.csv\")\n",
    "SA_df = pd.DataFrame(infile)\n",
    "SA_df.head()"
   ]
  },
  {
   "cell_type": "code",
   "execution_count": 3,
   "metadata": {},
   "outputs": [],
   "source": [
    "# Setting locations and weight variables to get map with areas weighted by poverty percentage\n",
    "\n",
    "locations = SA_df[[\"Lat\", \"Long\"]].astype(float)\n",
    "weights = SA_df[\"Percent in Poverty\"]"
   ]
  },
  {
   "cell_type": "code",
   "execution_count": 4,
   "metadata": {},
   "outputs": [
    {
     "data": {
      "application/vnd.jupyter.widget-view+json": {
       "model_id": "492ef73813244fbab49d7004e854c6f0",
       "version_major": 2,
       "version_minor": 0
      },
      "text/plain": [
       "Figure(layout=FigureLayout(height='420px'))"
      ]
     },
     "metadata": {},
     "output_type": "display_data"
    }
   ],
   "source": [
    "# Creating the heat map\n",
    "\n",
    "gmaps.configure(api_key = gkey)\n",
    "\n",
    "fig = gmaps.figure()\n",
    "\n",
    "heat_layer = gmaps.heatmap_layer(locations, weights=weights, max_intensity = 100, point_radius = 15)\n",
    "\n",
    "fig.add_layer(heat_layer)\n",
    "\n",
    "fig"
   ]
  },
  {
   "cell_type": "code",
   "execution_count": null,
   "metadata": {},
   "outputs": [],
   "source": []
  }
 ],
 "metadata": {
  "kernelspec": {
   "display_name": "Python 3",
   "language": "python",
   "name": "python3"
  },
  "language_info": {
   "codemirror_mode": {
    "name": "ipython",
    "version": 3
   },
   "file_extension": ".py",
   "mimetype": "text/x-python",
   "name": "python",
   "nbconvert_exporter": "python",
   "pygments_lexer": "ipython3",
   "version": "3.6.8"
  }
 },
 "nbformat": 4,
 "nbformat_minor": 2
}

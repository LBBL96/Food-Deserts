{
 "cells": [
  {
   "cell_type": "code",
   "execution_count": 2,
   "metadata": {},
   "outputs": [],
   "source": [
    "import pandas as pd\n",
    "from config import gkey\n",
    "import gmaps\n",
    "import numpy as np\n",
    "import requests\n",
    "\n",
    "gmaps.configure(api_key=gkey)"
   ]
  },
  {
   "cell_type": "code",
   "execution_count": 3,
   "metadata": {},
   "outputs": [
    {
     "data": {
      "text/html": [
       "<div>\n",
       "<style scoped>\n",
       "    .dataframe tbody tr th:only-of-type {\n",
       "        vertical-align: middle;\n",
       "    }\n",
       "\n",
       "    .dataframe tbody tr th {\n",
       "        vertical-align: top;\n",
       "    }\n",
       "\n",
       "    .dataframe thead th {\n",
       "        text-align: right;\n",
       "    }\n",
       "</style>\n",
       "<table border=\"1\" class=\"dataframe\">\n",
       "  <thead>\n",
       "    <tr style=\"text-align: right;\">\n",
       "      <th></th>\n",
       "      <th>School Name</th>\n",
       "      <th>Location</th>\n",
       "      <th>Percent in Poverty</th>\n",
       "      <th>Lat</th>\n",
       "      <th>Long</th>\n",
       "      <th>Google Place ID</th>\n",
       "    </tr>\n",
       "  </thead>\n",
       "  <tbody>\n",
       "    <tr>\n",
       "      <th>0</th>\n",
       "      <td>Allison Elementary</td>\n",
       "      <td>Austin</td>\n",
       "      <td>92.00</td>\n",
       "      <td>30.168207</td>\n",
       "      <td>-97.817760</td>\n",
       "      <td>ChIJ04RBdWa3RIYRgJ7aGK5dgXM</td>\n",
       "    </tr>\n",
       "    <tr>\n",
       "      <th>1</th>\n",
       "      <td>Andrews Elementary School</td>\n",
       "      <td>Austin</td>\n",
       "      <td>91.02</td>\n",
       "      <td>30.317554</td>\n",
       "      <td>-97.679663</td>\n",
       "      <td>ChIJ6YaMBenJRIYRhrPJHKXhGBU</td>\n",
       "    </tr>\n",
       "    <tr>\n",
       "      <th>2</th>\n",
       "      <td>Becker Elementary School</td>\n",
       "      <td>Austin</td>\n",
       "      <td>64.52</td>\n",
       "      <td>30.250336</td>\n",
       "      <td>-97.759642</td>\n",
       "      <td>ChIJbSvrueG0RIYRxmI7kMMuRAY</td>\n",
       "    </tr>\n",
       "    <tr>\n",
       "      <th>3</th>\n",
       "      <td>Blackshear Elementary School</td>\n",
       "      <td>Austin</td>\n",
       "      <td>82.49</td>\n",
       "      <td>30.266967</td>\n",
       "      <td>-97.722169</td>\n",
       "      <td>ChIJORLPNri1RIYRiP9HBkbu5Iw</td>\n",
       "    </tr>\n",
       "    <tr>\n",
       "      <th>4</th>\n",
       "      <td>Blanton Elementary</td>\n",
       "      <td>Austin</td>\n",
       "      <td>65.23</td>\n",
       "      <td>30.306930</td>\n",
       "      <td>-97.690631</td>\n",
       "      <td>ChIJt00JZfzJRIYR5xqZyz3qn0M</td>\n",
       "    </tr>\n",
       "  </tbody>\n",
       "</table>\n",
       "</div>"
      ],
      "text/plain": [
       "                    School Name Location  Percent in Poverty        Lat  \\\n",
       "0            Allison Elementary   Austin               92.00  30.168207   \n",
       "1     Andrews Elementary School   Austin               91.02  30.317554   \n",
       "2      Becker Elementary School   Austin               64.52  30.250336   \n",
       "3  Blackshear Elementary School   Austin               82.49  30.266967   \n",
       "4            Blanton Elementary   Austin               65.23  30.306930   \n",
       "\n",
       "        Long              Google Place ID  \n",
       "0 -97.817760  ChIJ04RBdWa3RIYRgJ7aGK5dgXM  \n",
       "1 -97.679663  ChIJ6YaMBenJRIYRhrPJHKXhGBU  \n",
       "2 -97.759642  ChIJbSvrueG0RIYRxmI7kMMuRAY  \n",
       "3 -97.722169  ChIJORLPNri1RIYRiP9HBkbu5Iw  \n",
       "4 -97.690631  ChIJt00JZfzJRIYR5xqZyz3qn0M  "
      ]
     },
     "execution_count": 3,
     "metadata": {},
     "output_type": "execute_result"
    }
   ],
   "source": [
    "# Read Laredo data set\n",
    "\n",
    "Austin_csv_file = pd.read_csv(\"Resources/Austin_Coords.csv\")\n",
    "Austin_df = pd.DataFrame(Austin_csv_file)\n",
    "Austin_df.head()"
   ]
  },
  {
   "cell_type": "code",
   "execution_count": 4,
   "metadata": {},
   "outputs": [
    {
     "data": {
      "text/html": [
       "<div>\n",
       "<style scoped>\n",
       "    .dataframe tbody tr th:only-of-type {\n",
       "        vertical-align: middle;\n",
       "    }\n",
       "\n",
       "    .dataframe tbody tr th {\n",
       "        vertical-align: top;\n",
       "    }\n",
       "\n",
       "    .dataframe thead th {\n",
       "        text-align: right;\n",
       "    }\n",
       "</style>\n",
       "<table border=\"1\" class=\"dataframe\">\n",
       "  <thead>\n",
       "    <tr style=\"text-align: right;\">\n",
       "      <th></th>\n",
       "      <th>Lat</th>\n",
       "      <th>Long</th>\n",
       "    </tr>\n",
       "  </thead>\n",
       "  <tbody>\n",
       "    <tr>\n",
       "      <th>0</th>\n",
       "      <td>30.168207</td>\n",
       "      <td>-97.817760</td>\n",
       "    </tr>\n",
       "    <tr>\n",
       "      <th>1</th>\n",
       "      <td>30.317554</td>\n",
       "      <td>-97.679663</td>\n",
       "    </tr>\n",
       "    <tr>\n",
       "      <th>2</th>\n",
       "      <td>30.250336</td>\n",
       "      <td>-97.759642</td>\n",
       "    </tr>\n",
       "    <tr>\n",
       "      <th>3</th>\n",
       "      <td>30.266967</td>\n",
       "      <td>-97.722169</td>\n",
       "    </tr>\n",
       "    <tr>\n",
       "      <th>4</th>\n",
       "      <td>30.306930</td>\n",
       "      <td>-97.690631</td>\n",
       "    </tr>\n",
       "  </tbody>\n",
       "</table>\n",
       "</div>"
      ],
      "text/plain": [
       "         Lat       Long\n",
       "0  30.168207 -97.817760\n",
       "1  30.317554 -97.679663\n",
       "2  30.250336 -97.759642\n",
       "3  30.266967 -97.722169\n",
       "4  30.306930 -97.690631"
      ]
     },
     "execution_count": 4,
     "metadata": {},
     "output_type": "execute_result"
    }
   ],
   "source": [
    "locations = Austin_df[[\"Lat\", \"Long\"]]\n",
    "locations.head()"
   ]
  },
  {
   "cell_type": "code",
   "execution_count": 5,
   "metadata": {},
   "outputs": [
    {
     "data": {
      "application/vnd.jupyter.widget-view+json": {
       "model_id": "bad68fb118224febbb64504d658d73d9",
       "version_major": 2,
       "version_minor": 0
      },
      "text/plain": [
       "Figure(layout=FigureLayout(height='420px'))"
      ]
     },
     "metadata": {},
     "output_type": "display_data"
    }
   ],
   "source": [
    "#Creating heat map\n",
    "\n",
    "# Store latitude and longitude in locations variable\n",
    "\n",
    "locations = Austin_df[[\"Lat\", \"Long\"]]\n",
    "\n",
    "#Fill NaN values and convert to a float\n",
    "\n",
    "locations = Austin_df[[\"Lat\", \"Long\"]].astype(float)\n",
    "weights = Austin_df[\"Percent in Poverty\"]\n",
    "\n",
    "fig = gmaps.figure()\n",
    "\n",
    "#heat layer\n",
    "heat_layer = gmaps.heatmap_layer(locations, weights=weights, dissipating=False, max_intensity=50, \n",
    "                                point_radius=5)\n",
    "\n",
    "# add layer\n",
    "fig.add_layer(heat_layer)\n",
    "\n",
    "fig"
   ]
  },
  {
   "cell_type": "code",
   "execution_count": 6,
   "metadata": {},
   "outputs": [
    {
     "data": {
      "application/vnd.jupyter.widget-view+json": {
       "model_id": "ab045001148c4a98b9d6ee507780e198",
       "version_major": 2,
       "version_minor": 0
      },
      "text/plain": [
       "Figure(layout=FigureLayout(height='420px'))"
      ]
     },
     "metadata": {},
     "output_type": "display_data"
    }
   ],
   "source": [
    "#Adding Hybrid map\n",
    "\n",
    "fig = gmaps.figure(map_type=\"HYBRID\")\n",
    "\n",
    "# creating heat layer\n",
    "\n",
    "heat_layer = gmaps.heatmap_layer(locations, weights=weights, dissipating=False, max_intensity=20, \n",
    "                                 point_radius=1)\n",
    "\n",
    "fig.add_layer(heat_layer)\n",
    "fig"
   ]
  },
  {
   "cell_type": "code",
   "execution_count": null,
   "metadata": {},
   "outputs": [],
   "source": []
  }
 ],
 "metadata": {
  "kernelspec": {
   "display_name": "Conda [PythonData]",
   "language": "python",
   "name": "pythondata"
  },
  "language_info": {
   "codemirror_mode": {
    "name": "ipython",
    "version": 3
   },
   "file_extension": ".py",
   "mimetype": "text/x-python",
   "name": "python",
   "nbconvert_exporter": "python",
   "pygments_lexer": "ipython3",
   "version": "3.6.9"
  }
 },
 "nbformat": 4,
 "nbformat_minor": 2
}

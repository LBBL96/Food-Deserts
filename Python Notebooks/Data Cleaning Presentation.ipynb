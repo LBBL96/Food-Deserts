{
 "cells": [
  {
   "cell_type": "code",
   "execution_count": 152,
   "metadata": {},
   "outputs": [],
   "source": [
    "import pandas as pd\n",
    "from config import gkey\n",
    "from config import gkey2\n",
    "import numpy as np\n",
    "import requests\n",
    "import json\n",
    "import geopy.distance as gp"
   ]
  },
  {
   "cell_type": "markdown",
   "metadata": {},
   "source": [
    "# Beginning the data-gathering process\n",
    "\n",
    "I found a PDF provided by the U.S. Department of Education identifying Title 1 schools and their respective poverty levels. From this I created a csv of school names, addresses, and poverty level in Austin, Dallas, and Laredo. \n",
    "\n",
    "Using the csv I made, I then used Google's geolocation API to get each school's latitude and longitude. We now had a starting point for distance to grocery stores.\n",
    "\n",
    "To find nearby grocery stores, I decided to use the Google nearby search API to look up grocery stores within a 10-kilometer radius of the center of Austin by the type 'supermarket'. My rationale for taking this approach as opposed to going school-to-school and doing a nearby search was that I could quickly grab all grocery stores in the area and then use geopy to compare school coordinates to the grocery store coordinates to find the closest sets. This worked, but turned out not to be as simple as it looked. There was a lot of data cleaning required before I could run geopy.\n",
    "\n",
    "# Setting up the geocoordinates API"
   ]
  },
  {
   "cell_type": "code",
   "execution_count": 44,
   "metadata": {},
   "outputs": [],
   "source": [
    "# Using Austin's geocoordinates, I set up the API call\n",
    "\n",
    "Austin_lat = 30.267153\n",
    "Austin_long = -97.7430608 \n",
    "lat_long = [Austin_lat,Austin_long]\n",
    "\n",
    "base_url = \"https://maps.googleapis.com/maps/api/place/nearbysearch/json?\"\n",
    "\n",
    "params = {\"key\": gkey, \n",
    "          \"location\": f\"{Austin_lat},{Austin_long}\", \n",
    "          \"radius\": 10000, \n",
    "          \"type\": \"supermarket\"}\n",
    "\n",
    "data = requests.get(base_url, params = params).json()"
   ]
  },
  {
   "cell_type": "markdown",
   "metadata": {},
   "source": [
    "I created a series of arrays to hold output. This loop uses i as a counter and runs through the first page of Google returns. I used the next_page_token (not shown here) when results outputted multiple pages. "
   ]
  },
  {
   "cell_type": "code",
   "execution_count": 46,
   "metadata": {},
   "outputs": [],
   "source": [
    "name = []\n",
    "lat = []\n",
    "long = []\n",
    "address = []\n",
    "\n",
    "i = 0\n",
    "\n",
    "while i < 20:\n",
    "    \n",
    "    name.append(data[\"results\"][i][\"name\"]),\n",
    "    lat.append(data[\"results\"][i][\"geometry\"][\"location\"][\"lat\"]),\n",
    "    long.append(data[\"results\"][i][\"geometry\"][\"location\"][\"lng\"]),\n",
    "    address.append(data[\"results\"][i][\"vicinity\"])\n",
    "    \n",
    "    i += 1"
   ]
  },
  {
   "cell_type": "markdown",
   "metadata": {},
   "source": [
    "# Something is amiss...\n",
    "\n",
    "A quick look at the first 10 entries in the list 'name' shows that HEB and Randalls are both missing. Moreover, Family Dollar, a store that doesn't meet our criteria of having fresh fruits and vegetables available, needed to be cleaned from the dataset. "
   ]
  },
  {
   "cell_type": "code",
   "execution_count": 48,
   "metadata": {},
   "outputs": [
    {
     "data": {
      "text/plain": [
       "[\"Trader Joe's\",\n",
       " 'Walmart Supercenter',\n",
       " 'Wheatsville Food Co-Op',\n",
       " 'Walmart Supercenter',\n",
       " 'Fiesta Mart',\n",
       " 'Walmart Supercenter',\n",
       " 'Fiesta Mart',\n",
       " 'Family Dollar',\n",
       " 'Family Dollar',\n",
       " 'Walmart Supercenter']"
      ]
     },
     "execution_count": 48,
     "metadata": {},
     "output_type": "execute_result"
    }
   ],
   "source": [
    "name[0:10]"
   ]
  },
  {
   "cell_type": "markdown",
   "metadata": {},
   "source": [
    "To find HEB and, later, Randalls stores in Austin, I used the same procedure as above, but instead of calling \"type\": \"supermarket\", I used the store name to find matches."
   ]
  },
  {
   "cell_type": "code",
   "execution_count": 4,
   "metadata": {},
   "outputs": [],
   "source": [
    "params = {\"key\": gkey, \n",
    "          \"location\": f\"{Austin_lat},{Austin_long}\", \n",
    "          \"radius\": 10000, \n",
    "          \"name\": \"HEB\"}"
   ]
  },
  {
   "cell_type": "markdown",
   "metadata": {},
   "source": [
    "Checking the data assured me that I was on the right track."
   ]
  },
  {
   "cell_type": "code",
   "execution_count": 17,
   "metadata": {},
   "outputs": [
    {
     "data": {
      "text/plain": [
       "'H-E-B'"
      ]
     },
     "execution_count": 17,
     "metadata": {},
     "output_type": "execute_result"
    }
   ],
   "source": [
    "data[\"results\"][0][\"name\"]"
   ]
  },
  {
   "cell_type": "markdown",
   "metadata": {},
   "source": [
    "Again, I created a series of arrays to hold output and dropped them into a dataframe."
   ]
  },
  {
   "cell_type": "code",
   "execution_count": 34,
   "metadata": {},
   "outputs": [],
   "source": [
    "df = pd.DataFrame()\n",
    "df[\"Store Name\"] = name\n",
    "df[\"Store Address\"] = address\n",
    "df[\"Lat\"] = lat\n",
    "df[\"Long\"] = long"
   ]
  },
  {
   "cell_type": "markdown",
   "metadata": {},
   "source": [
    "# Duplicates\n",
    "The head looks good, but when you get to the tail, you see that some stores show up multiple times. Almost always, it was a bakery within a supermarket. Somehow the bakery has its own unique geocoordinates. "
   ]
  },
  {
   "cell_type": "code",
   "execution_count": 36,
   "metadata": {},
   "outputs": [
    {
     "data": {
      "text/html": [
       "<div>\n",
       "<style scoped>\n",
       "    .dataframe tbody tr th:only-of-type {\n",
       "        vertical-align: middle;\n",
       "    }\n",
       "\n",
       "    .dataframe tbody tr th {\n",
       "        vertical-align: top;\n",
       "    }\n",
       "\n",
       "    .dataframe thead th {\n",
       "        text-align: right;\n",
       "    }\n",
       "</style>\n",
       "<table border=\"1\" class=\"dataframe\">\n",
       "  <thead>\n",
       "    <tr style=\"text-align: right;\">\n",
       "      <th></th>\n",
       "      <th>Store Name</th>\n",
       "      <th>Store Address</th>\n",
       "      <th>Lat</th>\n",
       "      <th>Long</th>\n",
       "    </tr>\n",
       "  </thead>\n",
       "  <tbody>\n",
       "    <tr>\n",
       "      <th>18</th>\n",
       "      <td>H-E-B Bakery</td>\n",
       "      <td>West Lake Hills</td>\n",
       "      <td>30.291743</td>\n",
       "      <td>-97.824836</td>\n",
       "    </tr>\n",
       "    <tr>\n",
       "      <th>19</th>\n",
       "      <td>H-E-B Bakery</td>\n",
       "      <td>2400 S Congress Ave, Austin</td>\n",
       "      <td>30.238694</td>\n",
       "      <td>-97.754756</td>\n",
       "    </tr>\n",
       "  </tbody>\n",
       "</table>\n",
       "</div>"
      ],
      "text/plain": [
       "      Store Name                Store Address        Lat       Long\n",
       "18  H-E-B Bakery              West Lake Hills  30.291743 -97.824836\n",
       "19  H-E-B Bakery  2400 S Congress Ave, Austin  30.238694 -97.754756"
      ]
     },
     "execution_count": 36,
     "metadata": {},
     "output_type": "execute_result"
    }
   ],
   "source": [
    "df.tail(2)"
   ]
  },
  {
   "cell_type": "code",
   "execution_count": 37,
   "metadata": {},
   "outputs": [],
   "source": [
    "df = df.drop_duplicates(subset = [\"Store Address\"])"
   ]
  },
  {
   "cell_type": "markdown",
   "metadata": {},
   "source": [
    "Getting rid of duplicates by address was helpful, but not all bakeries had the full address listed."
   ]
  },
  {
   "cell_type": "code",
   "execution_count": 38,
   "metadata": {},
   "outputs": [
    {
     "data": {
      "text/html": [
       "<div>\n",
       "<style scoped>\n",
       "    .dataframe tbody tr th:only-of-type {\n",
       "        vertical-align: middle;\n",
       "    }\n",
       "\n",
       "    .dataframe tbody tr th {\n",
       "        vertical-align: top;\n",
       "    }\n",
       "\n",
       "    .dataframe thead th {\n",
       "        text-align: right;\n",
       "    }\n",
       "</style>\n",
       "<table border=\"1\" class=\"dataframe\">\n",
       "  <thead>\n",
       "    <tr style=\"text-align: right;\">\n",
       "      <th></th>\n",
       "      <th>Store Name</th>\n",
       "      <th>Store Address</th>\n",
       "      <th>Lat</th>\n",
       "      <th>Long</th>\n",
       "    </tr>\n",
       "  </thead>\n",
       "  <tbody>\n",
       "    <tr>\n",
       "      <th>13</th>\n",
       "      <td>H-E-B</td>\n",
       "      <td>2110 W Slaughter Ln, Austin</td>\n",
       "      <td>30.175379</td>\n",
       "      <td>-97.825078</td>\n",
       "    </tr>\n",
       "    <tr>\n",
       "      <th>16</th>\n",
       "      <td>H-E-B Bakery</td>\n",
       "      <td>Austin</td>\n",
       "      <td>30.216230</td>\n",
       "      <td>-97.831086</td>\n",
       "    </tr>\n",
       "    <tr>\n",
       "      <th>18</th>\n",
       "      <td>H-E-B Bakery</td>\n",
       "      <td>West Lake Hills</td>\n",
       "      <td>30.291743</td>\n",
       "      <td>-97.824836</td>\n",
       "    </tr>\n",
       "  </tbody>\n",
       "</table>\n",
       "</div>"
      ],
      "text/plain": [
       "      Store Name                Store Address        Lat       Long\n",
       "13         H-E-B  2110 W Slaughter Ln, Austin  30.175379 -97.825078\n",
       "16  H-E-B Bakery                       Austin  30.216230 -97.831086\n",
       "18  H-E-B Bakery              West Lake Hills  30.291743 -97.824836"
      ]
     },
     "execution_count": 38,
     "metadata": {},
     "output_type": "execute_result"
    }
   ],
   "source": [
    "df.tail(3)"
   ]
  },
  {
   "cell_type": "markdown",
   "metadata": {},
   "source": [
    "A quick look at the entire dataframe showed that stores 11, 16, and 18 are duplicates. I dropped those by index."
   ]
  },
  {
   "cell_type": "code",
   "execution_count": 39,
   "metadata": {},
   "outputs": [
    {
     "data": {
      "text/html": [
       "<div>\n",
       "<style scoped>\n",
       "    .dataframe tbody tr th:only-of-type {\n",
       "        vertical-align: middle;\n",
       "    }\n",
       "\n",
       "    .dataframe tbody tr th {\n",
       "        vertical-align: top;\n",
       "    }\n",
       "\n",
       "    .dataframe thead th {\n",
       "        text-align: right;\n",
       "    }\n",
       "</style>\n",
       "<table border=\"1\" class=\"dataframe\">\n",
       "  <thead>\n",
       "    <tr style=\"text-align: right;\">\n",
       "      <th></th>\n",
       "      <th>Store Name</th>\n",
       "      <th>Store Address</th>\n",
       "      <th>Lat</th>\n",
       "      <th>Long</th>\n",
       "    </tr>\n",
       "  </thead>\n",
       "  <tbody>\n",
       "    <tr>\n",
       "      <th>0</th>\n",
       "      <td>H-E-B</td>\n",
       "      <td>6900 Brodie Ln, Austin</td>\n",
       "      <td>30.216283</td>\n",
       "      <td>-97.830987</td>\n",
       "    </tr>\n",
       "    <tr>\n",
       "      <th>1</th>\n",
       "      <td>H-E-B</td>\n",
       "      <td>600 W William Cannon Dr, Austin</td>\n",
       "      <td>30.197923</td>\n",
       "      <td>-97.786481</td>\n",
       "    </tr>\n",
       "    <tr>\n",
       "      <th>2</th>\n",
       "      <td>H-E-B</td>\n",
       "      <td>2400 S Congress Ave, Austin</td>\n",
       "      <td>30.238729</td>\n",
       "      <td>-97.755227</td>\n",
       "    </tr>\n",
       "    <tr>\n",
       "      <th>3</th>\n",
       "      <td>H-E-B</td>\n",
       "      <td>6607 S IH 35 Frontage Rd, Austin</td>\n",
       "      <td>30.188724</td>\n",
       "      <td>-97.768718</td>\n",
       "    </tr>\n",
       "    <tr>\n",
       "      <th>4</th>\n",
       "      <td>H-E-B</td>\n",
       "      <td>701 N Capital of Texas Hwy Bld C, West Lake Hills</td>\n",
       "      <td>30.291796</td>\n",
       "      <td>-97.825190</td>\n",
       "    </tr>\n",
       "    <tr>\n",
       "      <th>5</th>\n",
       "      <td>H-E-B</td>\n",
       "      <td>1000 E 41st St, Austin</td>\n",
       "      <td>30.300637</td>\n",
       "      <td>-97.719957</td>\n",
       "    </tr>\n",
       "    <tr>\n",
       "      <th>6</th>\n",
       "      <td>H-E-B plus!</td>\n",
       "      <td>2508 E Riverside Dr, Austin</td>\n",
       "      <td>30.236523</td>\n",
       "      <td>-97.722073</td>\n",
       "    </tr>\n",
       "    <tr>\n",
       "      <th>7</th>\n",
       "      <td>H-E-B</td>\n",
       "      <td>2701 E 7th St, Austin</td>\n",
       "      <td>30.259124</td>\n",
       "      <td>-97.711619</td>\n",
       "    </tr>\n",
       "    <tr>\n",
       "      <th>8</th>\n",
       "      <td>H-E-B</td>\n",
       "      <td>5808 Burnet Rd, Austin</td>\n",
       "      <td>30.334406</td>\n",
       "      <td>-97.741126</td>\n",
       "    </tr>\n",
       "    <tr>\n",
       "      <th>9</th>\n",
       "      <td>H-E-B</td>\n",
       "      <td>1801 E 51st St, Austin</td>\n",
       "      <td>30.301166</td>\n",
       "      <td>-97.698715</td>\n",
       "    </tr>\n",
       "    <tr>\n",
       "      <th>10</th>\n",
       "      <td>H-E-B</td>\n",
       "      <td>7015 Village Center Dr, Austin</td>\n",
       "      <td>30.351837</td>\n",
       "      <td>-97.755112</td>\n",
       "    </tr>\n",
       "    <tr>\n",
       "      <th>11</th>\n",
       "      <td>H‑E‑B Fuel</td>\n",
       "      <td>2512 E Riverside Dr, Austin</td>\n",
       "      <td>30.234722</td>\n",
       "      <td>-97.722724</td>\n",
       "    </tr>\n",
       "    <tr>\n",
       "      <th>12</th>\n",
       "      <td>H-E-B</td>\n",
       "      <td>7112 Ed Bluestein Blvd #125, Austin</td>\n",
       "      <td>30.312068</td>\n",
       "      <td>-97.664756</td>\n",
       "    </tr>\n",
       "    <tr>\n",
       "      <th>13</th>\n",
       "      <td>H-E-B</td>\n",
       "      <td>2110 W Slaughter Ln, Austin</td>\n",
       "      <td>30.175379</td>\n",
       "      <td>-97.825078</td>\n",
       "    </tr>\n",
       "    <tr>\n",
       "      <th>16</th>\n",
       "      <td>H-E-B Bakery</td>\n",
       "      <td>Austin</td>\n",
       "      <td>30.216230</td>\n",
       "      <td>-97.831086</td>\n",
       "    </tr>\n",
       "    <tr>\n",
       "      <th>18</th>\n",
       "      <td>H-E-B Bakery</td>\n",
       "      <td>West Lake Hills</td>\n",
       "      <td>30.291743</td>\n",
       "      <td>-97.824836</td>\n",
       "    </tr>\n",
       "  </tbody>\n",
       "</table>\n",
       "</div>"
      ],
      "text/plain": [
       "      Store Name                                      Store Address  \\\n",
       "0          H-E-B                             6900 Brodie Ln, Austin   \n",
       "1          H-E-B                    600 W William Cannon Dr, Austin   \n",
       "2          H-E-B                        2400 S Congress Ave, Austin   \n",
       "3          H-E-B                   6607 S IH 35 Frontage Rd, Austin   \n",
       "4          H-E-B  701 N Capital of Texas Hwy Bld C, West Lake Hills   \n",
       "5          H-E-B                             1000 E 41st St, Austin   \n",
       "6    H-E-B plus!                        2508 E Riverside Dr, Austin   \n",
       "7          H-E-B                              2701 E 7th St, Austin   \n",
       "8          H-E-B                             5808 Burnet Rd, Austin   \n",
       "9          H-E-B                             1801 E 51st St, Austin   \n",
       "10         H-E-B                     7015 Village Center Dr, Austin   \n",
       "11    H‑E‑B Fuel                        2512 E Riverside Dr, Austin   \n",
       "12         H-E-B                7112 Ed Bluestein Blvd #125, Austin   \n",
       "13         H-E-B                        2110 W Slaughter Ln, Austin   \n",
       "16  H-E-B Bakery                                             Austin   \n",
       "18  H-E-B Bakery                                    West Lake Hills   \n",
       "\n",
       "          Lat       Long  \n",
       "0   30.216283 -97.830987  \n",
       "1   30.197923 -97.786481  \n",
       "2   30.238729 -97.755227  \n",
       "3   30.188724 -97.768718  \n",
       "4   30.291796 -97.825190  \n",
       "5   30.300637 -97.719957  \n",
       "6   30.236523 -97.722073  \n",
       "7   30.259124 -97.711619  \n",
       "8   30.334406 -97.741126  \n",
       "9   30.301166 -97.698715  \n",
       "10  30.351837 -97.755112  \n",
       "11  30.234722 -97.722724  \n",
       "12  30.312068 -97.664756  \n",
       "13  30.175379 -97.825078  \n",
       "16  30.216230 -97.831086  \n",
       "18  30.291743 -97.824836  "
      ]
     },
     "execution_count": 39,
     "metadata": {},
     "output_type": "execute_result"
    }
   ],
   "source": [
    "df"
   ]
  },
  {
   "cell_type": "code",
   "execution_count": 40,
   "metadata": {},
   "outputs": [],
   "source": [
    "df = df.drop(11)\n",
    "df = df.drop(16)\n",
    "df = df.drop(18)"
   ]
  },
  {
   "cell_type": "markdown",
   "metadata": {},
   "source": [
    "The HEB data for Austin is ready to go. I used the same process to get clean data for Randalls stores and then combined the two with cleaned data from the Google API."
   ]
  },
  {
   "cell_type": "code",
   "execution_count": 43,
   "metadata": {},
   "outputs": [
    {
     "data": {
      "text/html": [
       "<div>\n",
       "<style scoped>\n",
       "    .dataframe tbody tr th:only-of-type {\n",
       "        vertical-align: middle;\n",
       "    }\n",
       "\n",
       "    .dataframe tbody tr th {\n",
       "        vertical-align: top;\n",
       "    }\n",
       "\n",
       "    .dataframe thead th {\n",
       "        text-align: right;\n",
       "    }\n",
       "</style>\n",
       "<table border=\"1\" class=\"dataframe\">\n",
       "  <thead>\n",
       "    <tr style=\"text-align: right;\">\n",
       "      <th></th>\n",
       "      <th>Store Name</th>\n",
       "      <th>Store Address</th>\n",
       "      <th>Lat</th>\n",
       "      <th>Long</th>\n",
       "    </tr>\n",
       "  </thead>\n",
       "  <tbody>\n",
       "    <tr>\n",
       "      <th>0</th>\n",
       "      <td>H-E-B</td>\n",
       "      <td>6900 Brodie Ln, Austin</td>\n",
       "      <td>30.216283</td>\n",
       "      <td>-97.830987</td>\n",
       "    </tr>\n",
       "    <tr>\n",
       "      <th>1</th>\n",
       "      <td>H-E-B</td>\n",
       "      <td>600 W William Cannon Dr, Austin</td>\n",
       "      <td>30.197923</td>\n",
       "      <td>-97.786481</td>\n",
       "    </tr>\n",
       "    <tr>\n",
       "      <th>2</th>\n",
       "      <td>H-E-B</td>\n",
       "      <td>2400 S Congress Ave, Austin</td>\n",
       "      <td>30.238729</td>\n",
       "      <td>-97.755227</td>\n",
       "    </tr>\n",
       "    <tr>\n",
       "      <th>3</th>\n",
       "      <td>H-E-B</td>\n",
       "      <td>6607 S IH 35 Frontage Rd, Austin</td>\n",
       "      <td>30.188724</td>\n",
       "      <td>-97.768718</td>\n",
       "    </tr>\n",
       "    <tr>\n",
       "      <th>4</th>\n",
       "      <td>H-E-B</td>\n",
       "      <td>701 N Capital of Texas Hwy Bld C, West Lake Hills</td>\n",
       "      <td>30.291796</td>\n",
       "      <td>-97.825190</td>\n",
       "    </tr>\n",
       "    <tr>\n",
       "      <th>5</th>\n",
       "      <td>H-E-B</td>\n",
       "      <td>1000 E 41st St, Austin</td>\n",
       "      <td>30.300637</td>\n",
       "      <td>-97.719957</td>\n",
       "    </tr>\n",
       "    <tr>\n",
       "      <th>6</th>\n",
       "      <td>H-E-B plus!</td>\n",
       "      <td>2508 E Riverside Dr, Austin</td>\n",
       "      <td>30.236523</td>\n",
       "      <td>-97.722073</td>\n",
       "    </tr>\n",
       "    <tr>\n",
       "      <th>7</th>\n",
       "      <td>H-E-B</td>\n",
       "      <td>2701 E 7th St, Austin</td>\n",
       "      <td>30.259124</td>\n",
       "      <td>-97.711619</td>\n",
       "    </tr>\n",
       "    <tr>\n",
       "      <th>8</th>\n",
       "      <td>H-E-B</td>\n",
       "      <td>5808 Burnet Rd, Austin</td>\n",
       "      <td>30.334406</td>\n",
       "      <td>-97.741126</td>\n",
       "    </tr>\n",
       "    <tr>\n",
       "      <th>9</th>\n",
       "      <td>H-E-B</td>\n",
       "      <td>1801 E 51st St, Austin</td>\n",
       "      <td>30.301166</td>\n",
       "      <td>-97.698715</td>\n",
       "    </tr>\n",
       "    <tr>\n",
       "      <th>10</th>\n",
       "      <td>H-E-B</td>\n",
       "      <td>7015 Village Center Dr, Austin</td>\n",
       "      <td>30.351837</td>\n",
       "      <td>-97.755112</td>\n",
       "    </tr>\n",
       "    <tr>\n",
       "      <th>12</th>\n",
       "      <td>H-E-B</td>\n",
       "      <td>7112 Ed Bluestein Blvd #125, Austin</td>\n",
       "      <td>30.312068</td>\n",
       "      <td>-97.664756</td>\n",
       "    </tr>\n",
       "    <tr>\n",
       "      <th>13</th>\n",
       "      <td>H-E-B</td>\n",
       "      <td>2110 W Slaughter Ln, Austin</td>\n",
       "      <td>30.175379</td>\n",
       "      <td>-97.825078</td>\n",
       "    </tr>\n",
       "  </tbody>\n",
       "</table>\n",
       "</div>"
      ],
      "text/plain": [
       "     Store Name                                      Store Address        Lat  \\\n",
       "0         H-E-B                             6900 Brodie Ln, Austin  30.216283   \n",
       "1         H-E-B                    600 W William Cannon Dr, Austin  30.197923   \n",
       "2         H-E-B                        2400 S Congress Ave, Austin  30.238729   \n",
       "3         H-E-B                   6607 S IH 35 Frontage Rd, Austin  30.188724   \n",
       "4         H-E-B  701 N Capital of Texas Hwy Bld C, West Lake Hills  30.291796   \n",
       "5         H-E-B                             1000 E 41st St, Austin  30.300637   \n",
       "6   H-E-B plus!                        2508 E Riverside Dr, Austin  30.236523   \n",
       "7         H-E-B                              2701 E 7th St, Austin  30.259124   \n",
       "8         H-E-B                             5808 Burnet Rd, Austin  30.334406   \n",
       "9         H-E-B                             1801 E 51st St, Austin  30.301166   \n",
       "10        H-E-B                     7015 Village Center Dr, Austin  30.351837   \n",
       "12        H-E-B                7112 Ed Bluestein Blvd #125, Austin  30.312068   \n",
       "13        H-E-B                        2110 W Slaughter Ln, Austin  30.175379   \n",
       "\n",
       "         Long  \n",
       "0  -97.830987  \n",
       "1  -97.786481  \n",
       "2  -97.755227  \n",
       "3  -97.768718  \n",
       "4  -97.825190  \n",
       "5  -97.719957  \n",
       "6  -97.722073  \n",
       "7  -97.711619  \n",
       "8  -97.741126  \n",
       "9  -97.698715  \n",
       "10 -97.755112  \n",
       "12 -97.664756  \n",
       "13 -97.825078  "
      ]
     },
     "execution_count": 43,
     "metadata": {},
     "output_type": "execute_result"
    }
   ],
   "source": [
    "# Clean HEB data for Austin\n",
    "\n",
    "df"
   ]
  },
  {
   "cell_type": "markdown",
   "metadata": {},
   "source": [
    "# Find the distance between two points\n",
    "For the following example, I've imported previously cleaned school data and grocery store data."
   ]
  },
  {
   "cell_type": "code",
   "execution_count": 134,
   "metadata": {},
   "outputs": [
    {
     "data": {
      "text/html": [
       "<div>\n",
       "<style scoped>\n",
       "    .dataframe tbody tr th:only-of-type {\n",
       "        vertical-align: middle;\n",
       "    }\n",
       "\n",
       "    .dataframe tbody tr th {\n",
       "        vertical-align: top;\n",
       "    }\n",
       "\n",
       "    .dataframe thead th {\n",
       "        text-align: right;\n",
       "    }\n",
       "</style>\n",
       "<table border=\"1\" class=\"dataframe\">\n",
       "  <thead>\n",
       "    <tr style=\"text-align: right;\">\n",
       "      <th></th>\n",
       "      <th>School Name</th>\n",
       "      <th>Location</th>\n",
       "      <th>Percent in Poverty</th>\n",
       "      <th>Lat</th>\n",
       "      <th>Long</th>\n",
       "      <th>Google Place ID</th>\n",
       "    </tr>\n",
       "  </thead>\n",
       "  <tbody>\n",
       "    <tr>\n",
       "      <th>0</th>\n",
       "      <td>Allison Elementary</td>\n",
       "      <td>Austin</td>\n",
       "      <td>92.00</td>\n",
       "      <td>30.168207</td>\n",
       "      <td>-97.817760</td>\n",
       "      <td>ChIJ04RBdWa3RIYRgJ7aGK5dgXM</td>\n",
       "    </tr>\n",
       "    <tr>\n",
       "      <th>1</th>\n",
       "      <td>Andrews Elementary School</td>\n",
       "      <td>Austin</td>\n",
       "      <td>91.02</td>\n",
       "      <td>30.317554</td>\n",
       "      <td>-97.679663</td>\n",
       "      <td>ChIJ6YaMBenJRIYRhrPJHKXhGBU</td>\n",
       "    </tr>\n",
       "  </tbody>\n",
       "</table>\n",
       "</div>"
      ],
      "text/plain": [
       "                 School Name Location  Percent in Poverty        Lat  \\\n",
       "0         Allison Elementary   Austin               92.00  30.168207   \n",
       "1  Andrews Elementary School   Austin               91.02  30.317554   \n",
       "\n",
       "        Long              Google Place ID  \n",
       "0 -97.817760  ChIJ04RBdWa3RIYRgJ7aGK5dgXM  \n",
       "1 -97.679663  ChIJ6YaMBenJRIYRhrPJHKXhGBU  "
      ]
     },
     "execution_count": 134,
     "metadata": {},
     "output_type": "execute_result"
    }
   ],
   "source": [
    "infile = pd.read_csv(\"Austin_Coords.csv\")\n",
    "school_df = pd.DataFrame(infile)\n",
    "school_df.head(2)"
   ]
  },
  {
   "cell_type": "code",
   "execution_count": 118,
   "metadata": {},
   "outputs": [
    {
     "data": {
      "text/html": [
       "<div>\n",
       "<style scoped>\n",
       "    .dataframe tbody tr th:only-of-type {\n",
       "        vertical-align: middle;\n",
       "    }\n",
       "\n",
       "    .dataframe tbody tr th {\n",
       "        vertical-align: top;\n",
       "    }\n",
       "\n",
       "    .dataframe thead th {\n",
       "        text-align: right;\n",
       "    }\n",
       "</style>\n",
       "<table border=\"1\" class=\"dataframe\">\n",
       "  <thead>\n",
       "    <tr style=\"text-align: right;\">\n",
       "      <th></th>\n",
       "      <th>Store Name</th>\n",
       "      <th>Location</th>\n",
       "      <th>Lat</th>\n",
       "      <th>Long</th>\n",
       "      <th>Vicinity</th>\n",
       "    </tr>\n",
       "  </thead>\n",
       "  <tbody>\n",
       "    <tr>\n",
       "      <th>0</th>\n",
       "      <td>H-E-B</td>\n",
       "      <td>Austin</td>\n",
       "      <td>30.216284</td>\n",
       "      <td>-97.830988</td>\n",
       "      <td>6900 Brodie Ln, Austin</td>\n",
       "    </tr>\n",
       "    <tr>\n",
       "      <th>1</th>\n",
       "      <td>H-E-B</td>\n",
       "      <td>Austin</td>\n",
       "      <td>30.197923</td>\n",
       "      <td>-97.786481</td>\n",
       "      <td>600 W William Cannon Dr, Austin</td>\n",
       "    </tr>\n",
       "  </tbody>\n",
       "</table>\n",
       "</div>"
      ],
      "text/plain": [
       "  Store Name Location        Lat       Long                         Vicinity\n",
       "0      H-E-B   Austin  30.216284 -97.830988           6900 Brodie Ln, Austin\n",
       "1      H-E-B   Austin  30.197923 -97.786481  600 W William Cannon Dr, Austin"
      ]
     },
     "execution_count": 118,
     "metadata": {},
     "output_type": "execute_result"
    }
   ],
   "source": [
    "infile = pd.read_csv(\"Austin_groceries.csv\")\n",
    "grocery_df = pd.DataFrame(infile)\n",
    "grocery_df.head(2)"
   ]
  },
  {
   "cell_type": "markdown",
   "metadata": {},
   "source": [
    "I needed arrays for lat/long, so I set those up."
   ]
  },
  {
   "cell_type": "code",
   "execution_count": 65,
   "metadata": {},
   "outputs": [],
   "source": [
    "store_lat, store_long = grocery_df[\"Lat\"], grocery_df[\"Long\"]\n",
    "school_lat, school_long = school_df[\"Lat\"], school_df[\"Long\"]"
   ]
  },
  {
   "cell_type": "markdown",
   "metadata": {},
   "source": [
    "I tested the first two sets of coordinates to see if the geopy distance function worked. It did."
   ]
  },
  {
   "cell_type": "code",
   "execution_count": 66,
   "metadata": {},
   "outputs": [
    {
     "data": {
      "text/plain": [
       "3.4049041064242647"
      ]
     },
     "execution_count": 66,
     "metadata": {},
     "output_type": "execute_result"
    }
   ],
   "source": [
    "gp.distance(f'{school_lat[0]},{school_long[0]}', f'{store_lat[0]},{store_long[0]}').miles"
   ]
  },
  {
   "cell_type": "markdown",
   "metadata": {},
   "source": [
    "# Identifying which store matches which school\n",
    "\n",
    "First I needed arrays for the school and store names, both to find the length of the loop and to compare the names against the indices the loops would output."
   ]
  },
  {
   "cell_type": "code",
   "execution_count": null,
   "metadata": {},
   "outputs": [],
   "source": [
    "schools = school_df[\"School Name\"]\n",
    "stores = grocery_df[\"Store Name\"]"
   ]
  },
  {
   "cell_type": "markdown",
   "metadata": {},
   "source": [
    "Next I created an array to hold the closest store's distance and to hold the index for the store. "
   ]
  },
  {
   "cell_type": "code",
   "execution_count": 188,
   "metadata": {},
   "outputs": [],
   "source": [
    "closest_store_distance = []\n",
    "closest_store_index_list = []"
   ]
  },
  {
   "cell_type": "markdown",
   "metadata": {},
   "source": [
    "I set up a way to keep track of the index for each school and each store. The indices would correspond to counters within each loop. The school index would increment each time the outer loop ran, and the store index would match the counter on the inner loop whenever it hit the condition of being the closest store.\n",
    "\n",
    "This was the key to locating the store that corresponded to the appropriate school. "
   ]
  },
  {
   "cell_type": "code",
   "execution_count": null,
   "metadata": {},
   "outputs": [],
   "source": [
    "school_index = 0\n",
    "store_index = 0"
   ]
  },
  {
   "cell_type": "markdown",
   "metadata": {},
   "source": [
    "The outer school loop runs the first school against every grocery store. So school [0] runs against store [0], then store [1], store [2], etc. By making the counter j increment as each store iterates through the inner loop, the counter stays the same as the dataframe index of each store. Counter i in the outside loop corresponds to the school index, as they both increment by one as each school is looped through."
   ]
  },
  {
   "cell_type": "code",
   "execution_count": 189,
   "metadata": {},
   "outputs": [],
   "source": [
    "i = 0\n",
    "j = 0"
   ]
  },
  {
   "cell_type": "markdown",
   "metadata": {},
   "source": [
    "I set up a temporary variable called closest. This holds the smallest distance as each store is compared to a school. Whenever a smaller distance appears, closest is updated. Whenever that update happens, the store index is set as the counter j, which matches that store's index in the dataframe.\n",
    "\n",
    "I set closest equal to 10 because geopy is using miles as a measurement. The closest store will always be closer than 10 miles (in this dataset, at least) and so closest will be updated the first time a store is less than 10 miles away and then updated again as stores get closer.\n",
    "\n",
    "This process is a brute force method--which is really inefficient--but since this is a small dataset, it worked fine and ran quickly."
   ]
  },
  {
   "cell_type": "markdown",
   "metadata": {},
   "source": [
    "closest = 10"
   ]
  },
  {
   "cell_type": "markdown",
   "metadata": {},
   "source": [
    "Two while loops ran the length of the schools and stores arrays. Geopy distance grabbed the distance between two points, then the if loop compared it to the closest variable, recording it and the corresponding counter when it was closer than the value already stored. As each inner loop finished, the store index was appended to the closest_store_index_list array and its corresponding distance to the closest_store_distance array."
   ]
  },
  {
   "cell_type": "code",
   "execution_count": 137,
   "metadata": {},
   "outputs": [],
   "source": [
    "while i < len(schools):\n",
    "    \n",
    "    while j < len(stores):\n",
    "        \n",
    "        distance = gp.distance(f'{school_lat[i]},{school_long[i]}', \n",
    "                               f'{store_lat[j]},{store_long[j]}').miles\n",
    "        \n",
    "        if distance < closest:\n",
    "            closest = distance\n",
    "            store_index = j\n",
    "        \n",
    "        # incrementing j moves us to the next store in the array\n",
    "            \n",
    "        j += 1\n",
    "            \n",
    "    # Now that the initial loop is finished, I append the distance and the correct indices,\n",
    "    # then reset the j index so that the store indices can be looped through correctly again\n",
    "    \n",
    "    closest_store_distance.append(closest)\n",
    "    closest_store_index_list.append(store_index)\n",
    "    \n",
    "    # Temporary variable and counter are reset for the next loop\n",
    "    \n",
    "    closest = 10\n",
    "    j = 0\n",
    "    \n",
    "    # Now the school index will be incremented so that we loop through all schools\n",
    "    \n",
    "    i += 1\n",
    "    "
   ]
  },
  {
   "cell_type": "markdown",
   "metadata": {},
   "source": [
    "Checking the first five outputs for each list assures that they look as expected"
   ]
  },
  {
   "cell_type": "code",
   "execution_count": 95,
   "metadata": {},
   "outputs": [
    {
     "data": {
      "text/plain": [
       "[12, 11, 2, 8, 7]"
      ]
     },
     "execution_count": 95,
     "metadata": {},
     "output_type": "execute_result"
    }
   ],
   "source": [
    "closest_store_index_list[:5]"
   ]
  },
  {
   "cell_type": "code",
   "execution_count": 138,
   "metadata": {},
   "outputs": [
    {
     "data": {
      "text/plain": [
       "[0.6602052745641682,\n",
       " 0.9677309053194558,\n",
       " 0.8419731374081209,\n",
       " 0.8305586639033838,\n",
       " 0.6254233778464495]"
      ]
     },
     "execution_count": 138,
     "metadata": {},
     "output_type": "execute_result"
    }
   ],
   "source": [
    "closest_store_distance[:5]"
   ]
  },
  {
   "cell_type": "markdown",
   "metadata": {},
   "source": [
    "# Now we need a dataframe with schools and stores correctly aligned\n",
    "To prepare a new dataframe that matches schools with closest stores, I created arrays to hold the appropriate store information."
   ]
  },
  {
   "cell_type": "code",
   "execution_count": 96,
   "metadata": {},
   "outputs": [],
   "source": [
    "close_store = []\n",
    "store_address = []"
   ]
  },
  {
   "cell_type": "markdown",
   "metadata": {},
   "source": [
    "By looping through closest_store_index_list, I got the index I needed to pull store info out of the grocery_df dataframe."
   ]
  },
  {
   "cell_type": "code",
   "execution_count": 119,
   "metadata": {},
   "outputs": [],
   "source": [
    "for store in closest_store_index_list:\n",
    "    \n",
    "    close_store.append(grocery_df.iloc[store][\"Store Name\"])\n",
    "    store_address.append(grocery_df.iloc[store][\"Vicinity\"])"
   ]
  },
  {
   "cell_type": "markdown",
   "metadata": {},
   "source": [
    "I created an updated dataframe to hold school name and location, store name and address, the distance between the school and the store, and the percent of kids at the school who fall below the poverty threshold. Since the schools stayed in order (only the grocery store indexes moved around), I pulled the school name, location, and poverty information straight from school_df.\n",
    "\n",
    "Note: Because I'd already combined some datasets before putting the example into this notebook, I had to truncate the close_store list below."
   ]
  },
  {
   "cell_type": "code",
   "execution_count": 147,
   "metadata": {},
   "outputs": [],
   "source": [
    "updated_df = pd.DataFrame()\n",
    "updated_df[\"School Name\"] = school_df[\"School Name\"]\n",
    "updated_df[\"Location\"] = school_df[\"Location\"]\n",
    "updated_df[\"Closest Store\"] = close_store[:61]\n",
    "updated_df[\"Store Address\"] = store_address\n",
    "updated_df[\"Distance in Miles\"] = closest_store_distance\n",
    "updated_df[\"Percent in Poverty\"] = school_df[\"Percent in Poverty\"]"
   ]
  },
  {
   "cell_type": "code",
   "execution_count": 148,
   "metadata": {},
   "outputs": [
    {
     "data": {
      "text/html": [
       "<div>\n",
       "<style scoped>\n",
       "    .dataframe tbody tr th:only-of-type {\n",
       "        vertical-align: middle;\n",
       "    }\n",
       "\n",
       "    .dataframe tbody tr th {\n",
       "        vertical-align: top;\n",
       "    }\n",
       "\n",
       "    .dataframe thead th {\n",
       "        text-align: right;\n",
       "    }\n",
       "</style>\n",
       "<table border=\"1\" class=\"dataframe\">\n",
       "  <thead>\n",
       "    <tr style=\"text-align: right;\">\n",
       "      <th></th>\n",
       "      <th>School Name</th>\n",
       "      <th>Location</th>\n",
       "      <th>Closest Store</th>\n",
       "      <th>Store Address</th>\n",
       "      <th>Distance in Miles</th>\n",
       "      <th>Percent in Poverty</th>\n",
       "    </tr>\n",
       "  </thead>\n",
       "  <tbody>\n",
       "    <tr>\n",
       "      <th>0</th>\n",
       "      <td>Allison Elementary</td>\n",
       "      <td>Austin</td>\n",
       "      <td>H-E-B</td>\n",
       "      <td>2110 W Slaughter Ln, Austin</td>\n",
       "      <td>0.660205</td>\n",
       "      <td>92.00</td>\n",
       "    </tr>\n",
       "    <tr>\n",
       "      <th>1</th>\n",
       "      <td>Andrews Elementary School</td>\n",
       "      <td>Austin</td>\n",
       "      <td>H-E-B</td>\n",
       "      <td>7112 Ed Bluestein Blvd #125, Austin</td>\n",
       "      <td>0.967731</td>\n",
       "      <td>91.02</td>\n",
       "    </tr>\n",
       "    <tr>\n",
       "      <th>2</th>\n",
       "      <td>Becker Elementary School</td>\n",
       "      <td>Austin</td>\n",
       "      <td>H-E-B</td>\n",
       "      <td>2400 S Congress Ave, Austin</td>\n",
       "      <td>0.841973</td>\n",
       "      <td>64.52</td>\n",
       "    </tr>\n",
       "  </tbody>\n",
       "</table>\n",
       "</div>"
      ],
      "text/plain": [
       "                 School Name Location Closest Store  \\\n",
       "0         Allison Elementary   Austin         H-E-B   \n",
       "1  Andrews Elementary School   Austin         H-E-B   \n",
       "2   Becker Elementary School   Austin         H-E-B   \n",
       "\n",
       "                         Store Address  Distance in Miles  Percent in Poverty  \n",
       "0          2110 W Slaughter Ln, Austin           0.660205               92.00  \n",
       "1  7112 Ed Bluestein Blvd #125, Austin           0.967731               91.02  \n",
       "2          2400 S Congress Ave, Austin           0.841973               64.52  "
      ]
     },
     "execution_count": 148,
     "metadata": {},
     "output_type": "execute_result"
    }
   ],
   "source": [
    "updated_df.head(3)"
   ]
  },
  {
   "cell_type": "markdown",
   "metadata": {},
   "source": [
    "To ensure that the data was accurate, I hand-checked a few randomly chosen schools against the corresponding stores to make sure they matched. \n",
    "\n",
    "# There's got to be a better way!\n",
    "Doing all of the data processing above proved to be so time-consuming that Kellye and I decided to try using the Google nearby search API for each school in Dallas and Laredo. All of the problems we experienced before (major grocery chains missing, wrong types popping up) were now individualized, which just made data collection more time-consuming. After a while decided to find the nearest grocery store by looking at the schools on Google Maps, searching for stores nearby, and then picking the closest one that met our criteria. Time-wise, this was only slightly better -- but at least it was less frustrating."
   ]
  },
  {
   "cell_type": "markdown",
   "metadata": {},
   "source": [
    "# When is close close enough?\n",
    "\n",
    "The geometric distance that geopy produced is point-to-point. We almost never travel that way in real life. I wanted to see if we could get a more accurate distance. Turns out we can: the Google Distance Matrix API will pull driving distance between two points."
   ]
  },
  {
   "cell_type": "markdown",
   "metadata": {},
   "source": [
    "For this example, I don't have a dataframe containing the school address. Since the schools have stayed in the same order, I can use the school_lat and school_long arrays made earlier as the origin points. Because the stores have been re-ordered, however, it's best to pull the store addresses from updated_df into a new array."
   ]
  },
  {
   "cell_type": "code",
   "execution_count": 174,
   "metadata": {},
   "outputs": [
    {
     "data": {
      "text/plain": [
       "'2110 W Slaughter Ln, Austin'"
      ]
     },
     "execution_count": 174,
     "metadata": {},
     "output_type": "execute_result"
    }
   ],
   "source": [
    "store_address = updated_df[\"Store Address\"]\n",
    "store_address[0]"
   ]
  },
  {
   "cell_type": "markdown",
   "metadata": {},
   "source": [
    "With a new API, we have to get a new base url. It turns out I also had to get an additional API key; the one for geolocation and nearby searches doesn't work for this API."
   ]
  },
  {
   "cell_type": "code",
   "execution_count": 149,
   "metadata": {},
   "outputs": [],
   "source": [
    "# New base url\n",
    "\n",
    "base_url = \"https://maps.googleapis.com/maps/api/distancematrix/json?\""
   ]
  },
  {
   "cell_type": "markdown",
   "metadata": {},
   "source": [
    "A helpful thing to know about the Distance Matrix API is that it outputs distance as a string with its units of measure attached."
   ]
  },
  {
   "cell_type": "code",
   "execution_count": 169,
   "metadata": {},
   "outputs": [
    {
     "data": {
      "text/plain": [
       "'1.0 mi'"
      ]
     },
     "execution_count": 169,
     "metadata": {},
     "output_type": "execute_result"
    }
   ],
   "source": [
    "data[\"rows\"][0][\"elements\"][0][\"distance\"][\"text\"]"
   ]
  },
  {
   "cell_type": "markdown",
   "metadata": {},
   "source": [
    "Since I wanted to be able to use the distance as a floating point number for calculations, I added a few lines of code to the while loop below that stripped off the non-numeric characters and then cast the result as a floating point number before appending it to the driving_distance array."
   ]
  },
  {
   "cell_type": "code",
   "execution_count": 167,
   "metadata": {},
   "outputs": [],
   "source": [
    "i = 0\n",
    "\n",
    "# To double-check addresses in the output match those in the input, I created arrays to hold the \n",
    "# results from the API pull\n",
    "\n",
    "dest_address = []\n",
    "orig_address = []\n",
    "\n",
    "# The driving distance array gave the new information I wanted.\n",
    "\n",
    "driving_distance = []\n",
    "\n",
    "while i < len(schools):\n",
    "    \n",
    "    params = {\n",
    "    \"origins\": f\"{school_lat[i]},{school_long[i]}\", \n",
    "    \"key\": gkey2, \n",
    "    \"destinations\": store_address[i], \n",
    "    \"units\": \"imperial\"}\n",
    "    \n",
    "    data = requests.get(base_url, params = params).json()\n",
    "    \n",
    "    dest_address.append(data[\"destination_addresses\"][0])\n",
    "    orig_address.append(data[\"origin_addresses\"][0])\n",
    "    \n",
    "    temp = (data[\"rows\"][0][\"elements\"][0][\"distance\"][\"text\"])\n",
    "    temp = temp[:-3]\n",
    "    driving_distance.append(float(temp))\n",
    "    \n",
    "    break\n",
    "    i += 1\n"
   ]
  },
  {
   "cell_type": "markdown",
   "metadata": {},
   "source": [
    "Checking the addresses pulled by the API allowed me to double-check that I had the right origin and destination. I had school addresses in a dataframe not listed here, so I was able to use those for comparison, and the outputted addresses matched the input. I would have preferred to output the school name, but the Distance Matrix API does not include a name in its results -- only addresses and distances.\n",
    "\n",
    "You can see below that the H-E-B addresses in the output and in the existing dataframe match."
   ]
  },
  {
   "cell_type": "code",
   "execution_count": 168,
   "metadata": {},
   "outputs": [
    {
     "name": "stdout",
     "output_type": "stream",
     "text": [
      "['10113 Aly May Dr, Austin, TX 78748, USA'] ['2110 W Slaughter Ln, Austin, TX 78748, USA'] [1.0]\n"
     ]
    }
   ],
   "source": [
    "print(orig_address, dest_address, driving_distance)"
   ]
  },
  {
   "cell_type": "code",
   "execution_count": 178,
   "metadata": {},
   "outputs": [
    {
     "data": {
      "text/html": [
       "<div>\n",
       "<style scoped>\n",
       "    .dataframe tbody tr th:only-of-type {\n",
       "        vertical-align: middle;\n",
       "    }\n",
       "\n",
       "    .dataframe tbody tr th {\n",
       "        vertical-align: top;\n",
       "    }\n",
       "\n",
       "    .dataframe thead th {\n",
       "        text-align: right;\n",
       "    }\n",
       "</style>\n",
       "<table border=\"1\" class=\"dataframe\">\n",
       "  <thead>\n",
       "    <tr style=\"text-align: right;\">\n",
       "      <th></th>\n",
       "      <th>School Name</th>\n",
       "      <th>Location</th>\n",
       "      <th>Closest Store</th>\n",
       "      <th>Store Address</th>\n",
       "      <th>Distance in Miles</th>\n",
       "      <th>Percent in Poverty</th>\n",
       "    </tr>\n",
       "  </thead>\n",
       "  <tbody>\n",
       "    <tr>\n",
       "      <th>0</th>\n",
       "      <td>Allison Elementary</td>\n",
       "      <td>Austin</td>\n",
       "      <td>H-E-B</td>\n",
       "      <td>2110 W Slaughter Ln, Austin</td>\n",
       "      <td>0.660205</td>\n",
       "      <td>92.0</td>\n",
       "    </tr>\n",
       "  </tbody>\n",
       "</table>\n",
       "</div>"
      ],
      "text/plain": [
       "          School Name Location Closest Store                Store Address  \\\n",
       "0  Allison Elementary   Austin         H-E-B  2110 W Slaughter Ln, Austin   \n",
       "\n",
       "   Distance in Miles  Percent in Poverty  \n",
       "0           0.660205                92.0  "
      ]
     },
     "execution_count": 178,
     "metadata": {},
     "output_type": "execute_result"
    }
   ],
   "source": [
    "updated_df.head(1)"
   ]
  },
  {
   "cell_type": "markdown",
   "metadata": {},
   "source": [
    "The outputted driving distance for Allison Elementary is significantly longer than the point-to-point \n",
    "distance. This school barely made it into the 'not a food desert' category. \n",
    "Had the distance been greater than one mile, it would have qualified as a food desert. \n",
    "Many other schools had a status change when the driving distance turned out to be longer \n",
    "a mile."
   ]
  },
  {
   "cell_type": "code",
   "execution_count": 185,
   "metadata": {},
   "outputs": [
    {
     "name": "stdout",
     "output_type": "stream",
     "text": [
      "Driving distance was 1.0 miles\n",
      "Point-to-point distance was 0.6602052745641682 miles\n"
     ]
    }
   ],
   "source": [
    "print(f'Driving distance was {driving_distance[0]} miles')\n",
    "print(f'Point-to-point distance was {updated_df[\"Distance in Miles\"][0]} miles')"
   ]
  },
  {
   "cell_type": "markdown",
   "metadata": {},
   "source": [
    "# Merging Dataframes\n",
    "Once I had all of the data I needed from each city, I combined them into one dataframe. I left the store address in the combined dataframe because I wanted to know how many grocery stores we were working with, and store name is not a unique identifier."
   ]
  },
  {
   "cell_type": "code",
   "execution_count": 187,
   "metadata": {},
   "outputs": [
    {
     "data": {
      "text/plain": [
       "Bus Distance (miles)         46\n",
       "Closest Store                33\n",
       "Driving Distance (miles)     40\n",
       "Location                      3\n",
       "Percent in Poverty          187\n",
       "Poverty Groups                7\n",
       "School Name                 219\n",
       "Store Address                94\n",
       "Walking Distance (miles)     34\n",
       "Zip Code                     58\n",
       "Food Desert                   2\n",
       "dtype: int64"
      ]
     },
     "execution_count": 187,
     "metadata": {},
     "output_type": "execute_result"
    }
   ],
   "source": [
    "infile = pd.read_csv(\"Combined_Cities.csv\")\n",
    "df = pd.DataFrame(infile)\n",
    "df.nunique()"
   ]
  },
  {
   "cell_type": "markdown",
   "metadata": {},
   "source": [
    "As you can see, we had 33 unique names for closest store, but 94 unique addresses -- so there were 94 grocery stores in the dataset. I also found the walking and bus-riding distances for some cities using the Distance Matrix API, but we ended up not using them in the data analysis."
   ]
  },
  {
   "cell_type": "code",
   "execution_count": null,
   "metadata": {},
   "outputs": [],
   "source": []
  }
 ],
 "metadata": {
  "kernelspec": {
   "display_name": "Python 3",
   "language": "python",
   "name": "python3"
  },
  "language_info": {
   "codemirror_mode": {
    "name": "ipython",
    "version": 3
   },
   "file_extension": ".py",
   "mimetype": "text/x-python",
   "name": "python",
   "nbconvert_exporter": "python",
   "pygments_lexer": "ipython3",
   "version": "3.6.8"
  }
 },
 "nbformat": 4,
 "nbformat_minor": 2
}

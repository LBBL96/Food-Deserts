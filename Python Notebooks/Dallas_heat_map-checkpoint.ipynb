{
 "cells": [
  {
   "cell_type": "code",
   "execution_count": 2,
   "metadata": {},
   "outputs": [],
   "source": [
    "import pandas as pd\n",
    "from config import gkey\n",
    "import gmaps\n",
    "import numpy as np\n",
    "import requests\n",
    "\n",
    "gmaps.configure(api_key=gkey)"
   ]
  },
  {
   "cell_type": "code",
   "execution_count": 3,
   "metadata": {},
   "outputs": [
    {
     "data": {
      "text/html": [
       "<div>\n",
       "<style scoped>\n",
       "    .dataframe tbody tr th:only-of-type {\n",
       "        vertical-align: middle;\n",
       "    }\n",
       "\n",
       "    .dataframe tbody tr th {\n",
       "        vertical-align: top;\n",
       "    }\n",
       "\n",
       "    .dataframe thead th {\n",
       "        text-align: right;\n",
       "    }\n",
       "</style>\n",
       "<table border=\"1\" class=\"dataframe\">\n",
       "  <thead>\n",
       "    <tr style=\"text-align: right;\">\n",
       "      <th></th>\n",
       "      <th>School Name</th>\n",
       "      <th>Location</th>\n",
       "      <th>Percent in Poverty</th>\n",
       "      <th>Lat</th>\n",
       "      <th>Long</th>\n",
       "      <th>Google Place ID</th>\n",
       "    </tr>\n",
       "  </thead>\n",
       "  <tbody>\n",
       "    <tr>\n",
       "      <th>0</th>\n",
       "      <td>William M Anderson Elementary</td>\n",
       "      <td>Dallas</td>\n",
       "      <td>97.13</td>\n",
       "      <td>32.722293</td>\n",
       "      <td>-96.655593</td>\n",
       "      <td>ChIJCbZ4NlO7ToYRv7DYsyn6ETw</td>\n",
       "    </tr>\n",
       "    <tr>\n",
       "      <th>1</th>\n",
       "      <td>Arcadia Park Elementary School</td>\n",
       "      <td>Dallas</td>\n",
       "      <td>96.33</td>\n",
       "      <td>32.759033</td>\n",
       "      <td>-96.910502</td>\n",
       "      <td>ChIJqe794iWbToYRjwbEYrqUy68</td>\n",
       "    </tr>\n",
       "    <tr>\n",
       "      <th>2</th>\n",
       "      <td>Jose \"Joe\" May Elementary School</td>\n",
       "      <td>Dallas</td>\n",
       "      <td>96.24</td>\n",
       "      <td>32.871896</td>\n",
       "      <td>-96.875018</td>\n",
       "      <td>ChIJn_6JKTadToYROcaO8wodk6c</td>\n",
       "    </tr>\n",
       "    <tr>\n",
       "      <th>3</th>\n",
       "      <td>Bayles Elementary School</td>\n",
       "      <td>Dallas</td>\n",
       "      <td>98.00</td>\n",
       "      <td>32.800938</td>\n",
       "      <td>-96.706953</td>\n",
       "      <td>ChIJW0n6KS2iToYRr3_cVUo--SE</td>\n",
       "    </tr>\n",
       "    <tr>\n",
       "      <th>4</th>\n",
       "      <td>W A Blair Elementary School</td>\n",
       "      <td>Dallas</td>\n",
       "      <td>86.67</td>\n",
       "      <td>32.708937</td>\n",
       "      <td>-96.689292</td>\n",
       "      <td>ChIJiUIVoci8ToYRCk6ojehYKI0</td>\n",
       "    </tr>\n",
       "  </tbody>\n",
       "</table>\n",
       "</div>"
      ],
      "text/plain": [
       "                        School Name Location  Percent in Poverty        Lat  \\\n",
       "0     William M Anderson Elementary   Dallas               97.13  32.722293   \n",
       "1    Arcadia Park Elementary School   Dallas               96.33  32.759033   \n",
       "2  Jose \"Joe\" May Elementary School   Dallas               96.24  32.871896   \n",
       "3          Bayles Elementary School   Dallas               98.00  32.800938   \n",
       "4       W A Blair Elementary School   Dallas               86.67  32.708937   \n",
       "\n",
       "        Long              Google Place ID  \n",
       "0 -96.655593  ChIJCbZ4NlO7ToYRv7DYsyn6ETw  \n",
       "1 -96.910502  ChIJqe794iWbToYRjwbEYrqUy68  \n",
       "2 -96.875018  ChIJn_6JKTadToYROcaO8wodk6c  \n",
       "3 -96.706953  ChIJW0n6KS2iToYRr3_cVUo--SE  \n",
       "4 -96.689292  ChIJiUIVoci8ToYRCk6ojehYKI0  "
      ]
     },
     "execution_count": 3,
     "metadata": {},
     "output_type": "execute_result"
    }
   ],
   "source": [
    "# Read Laredo data set\n",
    "\n",
    "Dallas_csv_file = pd.read_csv(\"Resources/Dallas_coords.csv\")\n",
    "Dallas_df = pd.DataFrame(Dallas_csv_file)\n",
    "Dallas_df.head()"
   ]
  },
  {
   "cell_type": "code",
   "execution_count": 4,
   "metadata": {},
   "outputs": [
    {
     "data": {
      "text/html": [
       "<div>\n",
       "<style scoped>\n",
       "    .dataframe tbody tr th:only-of-type {\n",
       "        vertical-align: middle;\n",
       "    }\n",
       "\n",
       "    .dataframe tbody tr th {\n",
       "        vertical-align: top;\n",
       "    }\n",
       "\n",
       "    .dataframe thead th {\n",
       "        text-align: right;\n",
       "    }\n",
       "</style>\n",
       "<table border=\"1\" class=\"dataframe\">\n",
       "  <thead>\n",
       "    <tr style=\"text-align: right;\">\n",
       "      <th></th>\n",
       "      <th>Lat</th>\n",
       "      <th>Long</th>\n",
       "    </tr>\n",
       "  </thead>\n",
       "  <tbody>\n",
       "    <tr>\n",
       "      <th>0</th>\n",
       "      <td>32.722293</td>\n",
       "      <td>-96.655593</td>\n",
       "    </tr>\n",
       "    <tr>\n",
       "      <th>1</th>\n",
       "      <td>32.759033</td>\n",
       "      <td>-96.910502</td>\n",
       "    </tr>\n",
       "    <tr>\n",
       "      <th>2</th>\n",
       "      <td>32.871896</td>\n",
       "      <td>-96.875018</td>\n",
       "    </tr>\n",
       "    <tr>\n",
       "      <th>3</th>\n",
       "      <td>32.800938</td>\n",
       "      <td>-96.706953</td>\n",
       "    </tr>\n",
       "    <tr>\n",
       "      <th>4</th>\n",
       "      <td>32.708937</td>\n",
       "      <td>-96.689292</td>\n",
       "    </tr>\n",
       "  </tbody>\n",
       "</table>\n",
       "</div>"
      ],
      "text/plain": [
       "         Lat       Long\n",
       "0  32.722293 -96.655593\n",
       "1  32.759033 -96.910502\n",
       "2  32.871896 -96.875018\n",
       "3  32.800938 -96.706953\n",
       "4  32.708937 -96.689292"
      ]
     },
     "execution_count": 4,
     "metadata": {},
     "output_type": "execute_result"
    }
   ],
   "source": [
    "locations = Dallas_df[[\"Lat\", \"Long\"]]\n",
    "locations.head()"
   ]
  },
  {
   "cell_type": "code",
   "execution_count": 5,
   "metadata": {},
   "outputs": [
    {
     "data": {
      "application/vnd.jupyter.widget-view+json": {
       "model_id": "f4443d143dc745f9820751d45d959f12",
       "version_major": 2,
       "version_minor": 0
      },
      "text/plain": [
       "Figure(layout=FigureLayout(height='420px'))"
      ]
     },
     "metadata": {},
     "output_type": "display_data"
    }
   ],
   "source": [
    "#Creating heat map\n",
    "\n",
    "# Store latitude and longitude in locations variable\n",
    "\n",
    "locations = Dallas_df[[\"Lat\", \"Long\"]]\n",
    "\n",
    "#Fill NaN values and convert to a float\n",
    "\n",
    "locations = Dallas_df[[\"Lat\", \"Long\"]].astype(float)\n",
    "weights = Dallas_df[\"Percent in Poverty\"]\n",
    "\n",
    "fig = gmaps.figure()\n",
    "\n",
    "#heat layer\n",
    "heat_layer = gmaps.heatmap_layer(locations, weights=weights, dissipating=False, max_intensity=50, \n",
    "                                point_radius=5)\n",
    "\n",
    "# add layer\n",
    "fig.add_layer(heat_layer)\n",
    "\n",
    "fig"
   ]
  },
  {
   "cell_type": "code",
   "execution_count": 6,
   "metadata": {},
   "outputs": [
    {
     "data": {
      "application/vnd.jupyter.widget-view+json": {
       "model_id": "5db9c6aa64f34f0bb13589a08b71ac66",
       "version_major": 2,
       "version_minor": 0
      },
      "text/plain": [
       "Figure(layout=FigureLayout(height='420px'))"
      ]
     },
     "metadata": {},
     "output_type": "display_data"
    }
   ],
   "source": [
    "#Adding Hybrid map\n",
    "\n",
    "fig = gmaps.figure(map_type=\"HYBRID\")\n",
    "\n",
    "# creating heat layer\n",
    "\n",
    "heat_layer = gmaps.heatmap_layer(locations, weights=weights, dissipating=False, max_intensity=20, \n",
    "                                 point_radius=1)\n",
    "\n",
    "fig.add_layer(heat_layer)\n",
    "fig"
   ]
  },
  {
   "cell_type": "code",
   "execution_count": null,
   "metadata": {},
   "outputs": [],
   "source": []
  }
 ],
 "metadata": {
  "kernelspec": {
   "display_name": "Conda [PythonData]",
   "language": "python",
   "name": "pythondata"
  },
  "language_info": {
   "codemirror_mode": {
    "name": "ipython",
    "version": 3
   },
   "file_extension": ".py",
   "mimetype": "text/x-python",
   "name": "python",
   "nbconvert_exporter": "python",
   "pygments_lexer": "ipython3",
   "version": "3.6.9"
  }
 },
 "nbformat": 4,
 "nbformat_minor": 2
}

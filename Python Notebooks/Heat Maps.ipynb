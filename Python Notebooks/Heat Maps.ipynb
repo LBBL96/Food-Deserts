{
 "cells": [
  {
   "cell_type": "code",
   "execution_count": 1,
   "metadata": {},
   "outputs": [],
   "source": [
    "import pandas as pd\n",
    "from config import gkey\n",
    "import gmaps\n",
    "import numpy as np\n",
    "import requests"
   ]
  },
  {
   "cell_type": "code",
   "execution_count": 2,
   "metadata": {},
   "outputs": [
    {
     "data": {
      "text/html": [
       "<div>\n",
       "<style scoped>\n",
       "    .dataframe tbody tr th:only-of-type {\n",
       "        vertical-align: middle;\n",
       "    }\n",
       "\n",
       "    .dataframe tbody tr th {\n",
       "        vertical-align: top;\n",
       "    }\n",
       "\n",
       "    .dataframe thead th {\n",
       "        text-align: right;\n",
       "    }\n",
       "</style>\n",
       "<table border=\"1\" class=\"dataframe\">\n",
       "  <thead>\n",
       "    <tr style=\"text-align: right;\">\n",
       "      <th></th>\n",
       "      <th>School Name</th>\n",
       "      <th>Location</th>\n",
       "      <th>Percent in Poverty</th>\n",
       "      <th>Lat</th>\n",
       "      <th>Long</th>\n",
       "      <th>Google Place ID</th>\n",
       "    </tr>\n",
       "  </thead>\n",
       "  <tbody>\n",
       "    <tr>\n",
       "      <th>0</th>\n",
       "      <td>Allison Elementary</td>\n",
       "      <td>Austin</td>\n",
       "      <td>92.00</td>\n",
       "      <td>30.168207</td>\n",
       "      <td>-97.817760</td>\n",
       "      <td>ChIJ04RBdWa3RIYRgJ7aGK5dgXM</td>\n",
       "    </tr>\n",
       "    <tr>\n",
       "      <th>1</th>\n",
       "      <td>Andrews Elementary School</td>\n",
       "      <td>Austin</td>\n",
       "      <td>91.02</td>\n",
       "      <td>30.317554</td>\n",
       "      <td>-97.679663</td>\n",
       "      <td>ChIJ6YaMBenJRIYRhrPJHKXhGBU</td>\n",
       "    </tr>\n",
       "    <tr>\n",
       "      <th>2</th>\n",
       "      <td>Becker Elementary School</td>\n",
       "      <td>Austin</td>\n",
       "      <td>64.52</td>\n",
       "      <td>30.250336</td>\n",
       "      <td>-97.759642</td>\n",
       "      <td>ChIJbSvrueG0RIYRxmI7kMMuRAY</td>\n",
       "    </tr>\n",
       "    <tr>\n",
       "      <th>3</th>\n",
       "      <td>Blackshear Elementary School</td>\n",
       "      <td>Austin</td>\n",
       "      <td>82.49</td>\n",
       "      <td>30.266967</td>\n",
       "      <td>-97.722169</td>\n",
       "      <td>ChIJORLPNri1RIYRiP9HBkbu5Iw</td>\n",
       "    </tr>\n",
       "    <tr>\n",
       "      <th>4</th>\n",
       "      <td>Blanton Elementary</td>\n",
       "      <td>Austin</td>\n",
       "      <td>65.23</td>\n",
       "      <td>30.306930</td>\n",
       "      <td>-97.690631</td>\n",
       "      <td>ChIJt00JZfzJRIYR5xqZyz3qn0M</td>\n",
       "    </tr>\n",
       "  </tbody>\n",
       "</table>\n",
       "</div>"
      ],
      "text/plain": [
       "                    School Name Location  Percent in Poverty        Lat  \\\n",
       "0            Allison Elementary   Austin               92.00  30.168207   \n",
       "1     Andrews Elementary School   Austin               91.02  30.317554   \n",
       "2      Becker Elementary School   Austin               64.52  30.250336   \n",
       "3  Blackshear Elementary School   Austin               82.49  30.266967   \n",
       "4            Blanton Elementary   Austin               65.23  30.306930   \n",
       "\n",
       "        Long              Google Place ID  \n",
       "0 -97.817760  ChIJ04RBdWa3RIYRgJ7aGK5dgXM  \n",
       "1 -97.679663  ChIJ6YaMBenJRIYRhrPJHKXhGBU  \n",
       "2 -97.759642  ChIJbSvrueG0RIYRxmI7kMMuRAY  \n",
       "3 -97.722169  ChIJORLPNri1RIYRiP9HBkbu5Iw  \n",
       "4 -97.690631  ChIJt00JZfzJRIYR5xqZyz3qn0M  "
      ]
     },
     "execution_count": 2,
     "metadata": {},
     "output_type": "execute_result"
    }
   ],
   "source": [
    "# Pulling in Austin data for a poverty heatmap\n",
    "infile = pd.read_csv(\"Austin_Coords.csv\")\n",
    "Austin_df = pd.DataFrame(infile)\n",
    "Austin_df.head()"
   ]
  },
  {
   "cell_type": "code",
   "execution_count": 3,
   "metadata": {},
   "outputs": [],
   "source": [
    "# Setting locations and poverty variables\n",
    "locations = Austin_df[[\"Lat\", \"Long\"]].astype(float)\n",
    "weights = Austin_df[\"Percent in Poverty\"]"
   ]
  },
  {
   "cell_type": "code",
   "execution_count": 4,
   "metadata": {},
   "outputs": [
    {
     "data": {
      "text/html": [
       "<div>\n",
       "<style scoped>\n",
       "    .dataframe tbody tr th:only-of-type {\n",
       "        vertical-align: middle;\n",
       "    }\n",
       "\n",
       "    .dataframe tbody tr th {\n",
       "        vertical-align: top;\n",
       "    }\n",
       "\n",
       "    .dataframe thead th {\n",
       "        text-align: right;\n",
       "    }\n",
       "</style>\n",
       "<table border=\"1\" class=\"dataframe\">\n",
       "  <thead>\n",
       "    <tr style=\"text-align: right;\">\n",
       "      <th></th>\n",
       "      <th>Store Name</th>\n",
       "      <th>Location</th>\n",
       "      <th>Lat</th>\n",
       "      <th>Long</th>\n",
       "      <th>Vicinity</th>\n",
       "    </tr>\n",
       "  </thead>\n",
       "  <tbody>\n",
       "    <tr>\n",
       "      <th>0</th>\n",
       "      <td>H-E-B</td>\n",
       "      <td>Austin</td>\n",
       "      <td>30.216284</td>\n",
       "      <td>-97.830988</td>\n",
       "      <td>6900 Brodie Ln, Austin</td>\n",
       "    </tr>\n",
       "    <tr>\n",
       "      <th>1</th>\n",
       "      <td>H-E-B</td>\n",
       "      <td>Austin</td>\n",
       "      <td>30.197923</td>\n",
       "      <td>-97.786481</td>\n",
       "      <td>600 W William Cannon Dr, Austin</td>\n",
       "    </tr>\n",
       "  </tbody>\n",
       "</table>\n",
       "</div>"
      ],
      "text/plain": [
       "  Store Name Location        Lat       Long                         Vicinity\n",
       "0      H-E-B   Austin  30.216284 -97.830988           6900 Brodie Ln, Austin\n",
       "1      H-E-B   Austin  30.197923 -97.786481  600 W William Cannon Dr, Austin"
      ]
     },
     "execution_count": 4,
     "metadata": {},
     "output_type": "execute_result"
    }
   ],
   "source": [
    "# Adding grocery stores\n",
    "\n",
    "infile = pd.read_csv(\"Austin_groceries.csv\")\n",
    "A_Groc_df = pd.DataFrame(infile)\n",
    "A_Groc_df.head(2)"
   ]
  },
  {
   "cell_type": "code",
   "execution_count": 5,
   "metadata": {},
   "outputs": [],
   "source": [
    "# Locations\n",
    "\n",
    "grocery_df = A_Groc_df[[\"Lat\", \"Long\"]].astype(float)\n",
    "names = A_Groc_df[\"Store Name\"]\n",
    "\n",
    "grocery_layer = gmaps.symbol_layer(grocery_df, fill_color = 'blue',\n",
    "                                  stroke_color = 'blue', scale = 2, hover_text=names)\n"
   ]
  },
  {
   "cell_type": "code",
   "execution_count": null,
   "metadata": {},
   "outputs": [],
   "source": []
  },
  {
   "cell_type": "code",
   "execution_count": 6,
   "metadata": {},
   "outputs": [
    {
     "data": {
      "application/vnd.jupyter.widget-view+json": {
       "model_id": "382d7782103d4289bd578048a0775d26",
       "version_major": 2,
       "version_minor": 0
      },
      "text/plain": [
       "Figure(layout=FigureLayout(height='420px'))"
      ]
     },
     "metadata": {},
     "output_type": "display_data"
    }
   ],
   "source": [
    "# Setting up the heat map\n",
    "gmaps.configure(api_key = gkey)\n",
    "\n",
    "fig = gmaps.figure()\n",
    "\n",
    "heat_layer = gmaps.heatmap_layer(locations, weights=weights, max_intensity = 100, point_radius = 15)\n",
    "grocery_layer = gmaps.symbol_layer(grocery_df, fill_color = 'blue',\n",
    "                                  stroke_color = 'blue', scale = 3, hover_text = names)\n",
    "\n",
    "fig.add_layer(heat_layer)\n",
    "fig.add_layer(grocery_layer)\n",
    "# fig.add_layer(HEB_layer)\n",
    "# fig.add_layer(Randalls_layer)\n",
    "fig"
   ]
  },
  {
   "cell_type": "code",
   "execution_count": null,
   "metadata": {},
   "outputs": [],
   "source": [
    "# alternate map with Casis and Mills added in\n",
    "\n",
    "temp = pd.read_csv(\"Austin_Coords copy.csv\")\n",
    "alt_df = pd.DataFrame(temp)\n",
    "alt_df.tail()"
   ]
  },
  {
   "cell_type": "code",
   "execution_count": null,
   "metadata": {},
   "outputs": [],
   "source": [
    "# Setting locations and weights\n",
    "locations = alt_df[[\"Lat\", \"Long\"]].astype(float)\n",
    "weights = alt_df[\"Percent in Poverty\"]"
   ]
  },
  {
   "cell_type": "code",
   "execution_count": null,
   "metadata": {},
   "outputs": [],
   "source": [
    "# Setting up the heat map\n",
    "gmaps.configure(api_key = gkey)\n",
    "\n",
    "fig = gmaps.figure()\n",
    "\n",
    "heat_layer = gmaps.heatmap_layer(locations, weights=weights, max_intensity = 100, point_radius = 20)\n",
    "\n",
    "fig.add_layer(heat_layer)\n",
    "\n",
    "fig.add_layer(gmaps.transit_layer())\n",
    "\n",
    "fig"
   ]
  },
  {
   "cell_type": "code",
   "execution_count": 13,
   "metadata": {},
   "outputs": [
    {
     "data": {
      "text/html": [
       "<div>\n",
       "<style scoped>\n",
       "    .dataframe tbody tr th:only-of-type {\n",
       "        vertical-align: middle;\n",
       "    }\n",
       "\n",
       "    .dataframe tbody tr th {\n",
       "        vertical-align: top;\n",
       "    }\n",
       "\n",
       "    .dataframe thead th {\n",
       "        text-align: right;\n",
       "    }\n",
       "</style>\n",
       "<table border=\"1\" class=\"dataframe\">\n",
       "  <thead>\n",
       "    <tr style=\"text-align: right;\">\n",
       "      <th></th>\n",
       "      <th>School Name</th>\n",
       "      <th>Location</th>\n",
       "      <th>Percent in Poverty</th>\n",
       "      <th>Lat</th>\n",
       "      <th>Long</th>\n",
       "      <th>Google Place ID</th>\n",
       "    </tr>\n",
       "  </thead>\n",
       "  <tbody>\n",
       "    <tr>\n",
       "      <th>0</th>\n",
       "      <td>Antonio M. Bruni Elementary School</td>\n",
       "      <td>Laredo</td>\n",
       "      <td>100.0</td>\n",
       "      <td>27.513232</td>\n",
       "      <td>-99.502200</td>\n",
       "      <td>ChIJNX9vQIIhYYYRYxMSm6Ws-r8</td>\n",
       "    </tr>\n",
       "    <tr>\n",
       "      <th>1</th>\n",
       "      <td>Don Jose Gallego</td>\n",
       "      <td>Laredo</td>\n",
       "      <td>100.0</td>\n",
       "      <td>27.517265</td>\n",
       "      <td>-99.491829</td>\n",
       "      <td>ChIJu3mShXohYYYRF2uzDZdl5QE</td>\n",
       "    </tr>\n",
       "    <tr>\n",
       "      <th>2</th>\n",
       "      <td>Leon Daiches Elementary School</td>\n",
       "      <td>Laredo</td>\n",
       "      <td>100.0</td>\n",
       "      <td>27.496955</td>\n",
       "      <td>-99.481249</td>\n",
       "      <td>ChIJxYFlGN0jYYYRasSi-cCd6sw</td>\n",
       "    </tr>\n",
       "    <tr>\n",
       "      <th>3</th>\n",
       "      <td>Francisco Farias Elementary School</td>\n",
       "      <td>Laredo</td>\n",
       "      <td>100.0</td>\n",
       "      <td>27.538260</td>\n",
       "      <td>-99.511320</td>\n",
       "      <td>ChIJW-ZJGaUhYYYRiRbv-huhLaM</td>\n",
       "    </tr>\n",
       "    <tr>\n",
       "      <th>4</th>\n",
       "      <td>Heights Elementary School</td>\n",
       "      <td>Laredo</td>\n",
       "      <td>100.0</td>\n",
       "      <td>27.503979</td>\n",
       "      <td>-99.484182</td>\n",
       "      <td>ChIJQb-m1NgjYYYRrefQzglRrWs</td>\n",
       "    </tr>\n",
       "  </tbody>\n",
       "</table>\n",
       "</div>"
      ],
      "text/plain": [
       "                          School Name Location  Percent in Poverty        Lat  \\\n",
       "0  Antonio M. Bruni Elementary School   Laredo               100.0  27.513232   \n",
       "1                    Don Jose Gallego   Laredo               100.0  27.517265   \n",
       "2      Leon Daiches Elementary School   Laredo               100.0  27.496955   \n",
       "3  Francisco Farias Elementary School   Laredo               100.0  27.538260   \n",
       "4           Heights Elementary School   Laredo               100.0  27.503979   \n",
       "\n",
       "        Long               Google Place ID  \n",
       "0 -99.502200   ChIJNX9vQIIhYYYRYxMSm6Ws-r8  \n",
       "1 -99.491829   ChIJu3mShXohYYYRF2uzDZdl5QE  \n",
       "2 -99.481249   ChIJxYFlGN0jYYYRasSi-cCd6sw  \n",
       "3 -99.511320   ChIJW-ZJGaUhYYYRiRbv-huhLaM  \n",
       "4 -99.484182   ChIJQb-m1NgjYYYRrefQzglRrWs  "
      ]
     },
     "execution_count": 13,
     "metadata": {},
     "output_type": "execute_result"
    }
   ],
   "source": [
    "file = pd.read_csv(\"Laredo_coords.csv\")\n",
    "Laredo_df = pd.DataFrame(file)\n",
    "Laredo_df.head()"
   ]
  },
  {
   "cell_type": "code",
   "execution_count": 14,
   "metadata": {},
   "outputs": [],
   "source": [
    "# Setting locations and weights\n",
    "Laredo_locations = Laredo_df[[\"Lat\", \"Long\"]].astype(float)\n",
    "Laredo_weights = Laredo_df[\"Percent in Poverty\"]"
   ]
  },
  {
   "cell_type": "code",
   "execution_count": 20,
   "metadata": {},
   "outputs": [],
   "source": [
    "# Bringing in grocery stores\n",
    "\n",
    "infile = pd.read_csv(\"Laredo_grocery.csv\")\n",
    "dftemp2 = pd.DataFrame(infile)"
   ]
  },
  {
   "cell_type": "code",
   "execution_count": 21,
   "metadata": {},
   "outputs": [
    {
     "data": {
      "text/html": [
       "<div>\n",
       "<style scoped>\n",
       "    .dataframe tbody tr th:only-of-type {\n",
       "        vertical-align: middle;\n",
       "    }\n",
       "\n",
       "    .dataframe tbody tr th {\n",
       "        vertical-align: top;\n",
       "    }\n",
       "\n",
       "    .dataframe thead th {\n",
       "        text-align: right;\n",
       "    }\n",
       "</style>\n",
       "<table border=\"1\" class=\"dataframe\">\n",
       "  <thead>\n",
       "    <tr style=\"text-align: right;\">\n",
       "      <th></th>\n",
       "      <th>Store Name</th>\n",
       "      <th>Address</th>\n",
       "      <th>Location</th>\n",
       "      <th>Lat</th>\n",
       "      <th>Long</th>\n",
       "    </tr>\n",
       "  </thead>\n",
       "  <tbody>\n",
       "    <tr>\n",
       "      <th>0</th>\n",
       "      <td>Walmart Supercenter</td>\n",
       "      <td>2320 Bob Bullock Loop</td>\n",
       "      <td>Laredo</td>\n",
       "      <td>27.518318</td>\n",
       "      <td>-99.451814</td>\n",
       "    </tr>\n",
       "    <tr>\n",
       "      <th>1</th>\n",
       "      <td>Walmart</td>\n",
       "      <td>5610 San Bernardo Ave</td>\n",
       "      <td>Laredo</td>\n",
       "      <td>27.552559</td>\n",
       "      <td>-99.506268</td>\n",
       "    </tr>\n",
       "  </tbody>\n",
       "</table>\n",
       "</div>"
      ],
      "text/plain": [
       "            Store Name                Address Location        Lat       Long\n",
       "0  Walmart Supercenter  2320 Bob Bullock Loop   Laredo  27.518318 -99.451814\n",
       "1              Walmart  5610 San Bernardo Ave   Laredo  27.552559 -99.506268"
      ]
     },
     "execution_count": 21,
     "metadata": {},
     "output_type": "execute_result"
    }
   ],
   "source": [
    "dftemp2.head(2)"
   ]
  },
  {
   "cell_type": "code",
   "execution_count": 23,
   "metadata": {},
   "outputs": [],
   "source": [
    "# Setting up grocery layer\n",
    "\n",
    "Lar_groc =dftemp2[[\"Lat\", \"Long\"]].astype(float)\n",
    "names = dftemp2[\"Store Name\"]\n",
    "\n",
    "Lar_grocery_layer = gmaps.symbol_layer(Lar_groc, fill_color = 'blue',\n",
    "                                  stroke_color = 'blue', scale = 2, hover_text=names)"
   ]
  },
  {
   "cell_type": "code",
   "execution_count": 24,
   "metadata": {},
   "outputs": [
    {
     "data": {
      "application/vnd.jupyter.widget-view+json": {
       "model_id": "676a52f3e62344c09982b129c0d7b204",
       "version_major": 2,
       "version_minor": 0
      },
      "text/plain": [
       "Figure(layout=FigureLayout(height='420px'))"
      ]
     },
     "metadata": {},
     "output_type": "display_data"
    }
   ],
   "source": [
    "# Setting up the heat map\n",
    "gmaps.configure(api_key = gkey)\n",
    "\n",
    "fig = gmaps.figure()\n",
    "\n",
    "heat_layer = gmaps.heatmap_layer(locations = Laredo_locations, weights=Laredo_weights, \n",
    "                                 max_intensity = 100, point_radius = 15)\n",
    "\n",
    "fig.add_layer(heat_layer)\n",
    "fig.add_layer(Lar_grocery_layer)\n",
    "fig"
   ]
  },
  {
   "cell_type": "code",
   "execution_count": 7,
   "metadata": {},
   "outputs": [
    {
     "data": {
      "text/html": [
       "<div>\n",
       "<style scoped>\n",
       "    .dataframe tbody tr th:only-of-type {\n",
       "        vertical-align: middle;\n",
       "    }\n",
       "\n",
       "    .dataframe tbody tr th {\n",
       "        vertical-align: top;\n",
       "    }\n",
       "\n",
       "    .dataframe thead th {\n",
       "        text-align: right;\n",
       "    }\n",
       "</style>\n",
       "<table border=\"1\" class=\"dataframe\">\n",
       "  <thead>\n",
       "    <tr style=\"text-align: right;\">\n",
       "      <th></th>\n",
       "      <th>School Name</th>\n",
       "      <th>Location</th>\n",
       "      <th>Percent in Poverty</th>\n",
       "      <th>Lat</th>\n",
       "      <th>Long</th>\n",
       "      <th>Google Place ID</th>\n",
       "    </tr>\n",
       "  </thead>\n",
       "  <tbody>\n",
       "    <tr>\n",
       "      <th>0</th>\n",
       "      <td>William M Anderson Elementary</td>\n",
       "      <td>Dallas</td>\n",
       "      <td>97.13</td>\n",
       "      <td>32.722293</td>\n",
       "      <td>-96.655593</td>\n",
       "      <td>ChIJCbZ4NlO7ToYRv7DYsyn6ETw</td>\n",
       "    </tr>\n",
       "    <tr>\n",
       "      <th>1</th>\n",
       "      <td>Arcadia Park Elementary School</td>\n",
       "      <td>Dallas</td>\n",
       "      <td>96.33</td>\n",
       "      <td>32.759033</td>\n",
       "      <td>-96.910502</td>\n",
       "      <td>ChIJqe794iWbToYRjwbEYrqUy68</td>\n",
       "    </tr>\n",
       "    <tr>\n",
       "      <th>2</th>\n",
       "      <td>Jose \"Joe\" May Elementary School</td>\n",
       "      <td>Dallas</td>\n",
       "      <td>96.24</td>\n",
       "      <td>32.871896</td>\n",
       "      <td>-96.875018</td>\n",
       "      <td>ChIJn_6JKTadToYROcaO8wodk6c</td>\n",
       "    </tr>\n",
       "    <tr>\n",
       "      <th>3</th>\n",
       "      <td>Bayles Elementary School</td>\n",
       "      <td>Dallas</td>\n",
       "      <td>98.00</td>\n",
       "      <td>32.800938</td>\n",
       "      <td>-96.706953</td>\n",
       "      <td>ChIJW0n6KS2iToYRr3_cVUo--SE</td>\n",
       "    </tr>\n",
       "    <tr>\n",
       "      <th>4</th>\n",
       "      <td>W A Blair Elementary School</td>\n",
       "      <td>Dallas</td>\n",
       "      <td>86.67</td>\n",
       "      <td>32.708937</td>\n",
       "      <td>-96.689292</td>\n",
       "      <td>ChIJiUIVoci8ToYRCk6ojehYKI0</td>\n",
       "    </tr>\n",
       "  </tbody>\n",
       "</table>\n",
       "</div>"
      ],
      "text/plain": [
       "                        School Name Location  Percent in Poverty        Lat  \\\n",
       "0     William M Anderson Elementary   Dallas               97.13  32.722293   \n",
       "1    Arcadia Park Elementary School   Dallas               96.33  32.759033   \n",
       "2  Jose \"Joe\" May Elementary School   Dallas               96.24  32.871896   \n",
       "3          Bayles Elementary School   Dallas               98.00  32.800938   \n",
       "4       W A Blair Elementary School   Dallas               86.67  32.708937   \n",
       "\n",
       "        Long              Google Place ID  \n",
       "0 -96.655593  ChIJCbZ4NlO7ToYRv7DYsyn6ETw  \n",
       "1 -96.910502  ChIJqe794iWbToYRjwbEYrqUy68  \n",
       "2 -96.875018  ChIJn_6JKTadToYROcaO8wodk6c  \n",
       "3 -96.706953  ChIJW0n6KS2iToYRr3_cVUo--SE  \n",
       "4 -96.689292  ChIJiUIVoci8ToYRCk6ojehYKI0  "
      ]
     },
     "execution_count": 7,
     "metadata": {},
     "output_type": "execute_result"
    }
   ],
   "source": [
    "Dallas = pd.read_csv(\"Dallas_coords.csv\")\n",
    "Dallas_df = pd.DataFrame(Dallas)\n",
    "Dallas_df.head()"
   ]
  },
  {
   "cell_type": "code",
   "execution_count": 8,
   "metadata": {},
   "outputs": [],
   "source": [
    "# Setting locations and weights\n",
    "Dallas_locations = Dallas_df[[\"Lat\", \"Long\"]].astype(float)\n",
    "Dallas_weights = Dallas_df[\"Percent in Poverty\"]"
   ]
  },
  {
   "cell_type": "code",
   "execution_count": 16,
   "metadata": {},
   "outputs": [],
   "source": [
    "# Bringing in grocery lat/long for Dallas\n",
    "\n",
    "infile = pd.read_csv('Dallas_grocery_lat_long.csv')\n",
    "dftemp = pd.DataFrame(infile)"
   ]
  },
  {
   "cell_type": "code",
   "execution_count": 17,
   "metadata": {},
   "outputs": [
    {
     "data": {
      "text/html": [
       "<div>\n",
       "<style scoped>\n",
       "    .dataframe tbody tr th:only-of-type {\n",
       "        vertical-align: middle;\n",
       "    }\n",
       "\n",
       "    .dataframe tbody tr th {\n",
       "        vertical-align: top;\n",
       "    }\n",
       "\n",
       "    .dataframe thead th {\n",
       "        text-align: right;\n",
       "    }\n",
       "</style>\n",
       "<table border=\"1\" class=\"dataframe\">\n",
       "  <thead>\n",
       "    <tr style=\"text-align: right;\">\n",
       "      <th></th>\n",
       "      <th>School Name</th>\n",
       "      <th>Closest Store</th>\n",
       "      <th>Store Lat</th>\n",
       "      <th>Store Long</th>\n",
       "    </tr>\n",
       "  </thead>\n",
       "  <tbody>\n",
       "    <tr>\n",
       "      <th>0</th>\n",
       "      <td>William M Anderson Elementary</td>\n",
       "      <td>Fiesta Mart</td>\n",
       "      <td>32.734868</td>\n",
       "      <td>-96.650196</td>\n",
       "    </tr>\n",
       "    <tr>\n",
       "      <th>1</th>\n",
       "      <td>Arcadia Park Elementary School</td>\n",
       "      <td>Supermercado Monterrey</td>\n",
       "      <td>32.749288</td>\n",
       "      <td>-96.913445</td>\n",
       "    </tr>\n",
       "  </tbody>\n",
       "</table>\n",
       "</div>"
      ],
      "text/plain": [
       "                      School Name           Closest Store  Store Lat  \\\n",
       "0   William M Anderson Elementary             Fiesta Mart  32.734868   \n",
       "1  Arcadia Park Elementary School  Supermercado Monterrey  32.749288   \n",
       "\n",
       "   Store Long  \n",
       "0  -96.650196  \n",
       "1  -96.913445  "
      ]
     },
     "execution_count": 17,
     "metadata": {},
     "output_type": "execute_result"
    }
   ],
   "source": [
    "dftemp.head(2)"
   ]
  },
  {
   "cell_type": "code",
   "execution_count": 18,
   "metadata": {},
   "outputs": [],
   "source": [
    "Dal_groc =dftemp[[\"Store Lat\", \"Store Long\"]].astype(float)\n",
    "names = dftemp[\"Closest Store\"]\n",
    "\n",
    "grocery_layer = gmaps.symbol_layer(Dal_groc, fill_color = 'blue',\n",
    "                                  stroke_color = 'blue', scale = 2, hover_text=names)\n"
   ]
  },
  {
   "cell_type": "code",
   "execution_count": 19,
   "metadata": {
    "scrolled": true
   },
   "outputs": [
    {
     "data": {
      "application/vnd.jupyter.widget-view+json": {
       "model_id": "f38967ec2eca423ab0fd5c0f40f78693",
       "version_major": 2,
       "version_minor": 0
      },
      "text/plain": [
       "Figure(layout=FigureLayout(height='420px'))"
      ]
     },
     "metadata": {},
     "output_type": "display_data"
    }
   ],
   "source": [
    "# Setting up the heat map\n",
    "gmaps.configure(api_key = gkey)\n",
    "\n",
    "fig = gmaps.figure()\n",
    "\n",
    "heat_layer = gmaps.heatmap_layer(locations = Dallas_locations, weights=Dallas_weights, \n",
    "                                 max_intensity = 100, point_radius = 15)\n",
    "\n",
    "fig.add_layer(heat_layer)\n",
    "fig.add_layer(grocery_layer)\n",
    "\n",
    "fig"
   ]
  },
  {
   "cell_type": "code",
   "execution_count": 10,
   "metadata": {
    "scrolled": true
   },
   "outputs": [
    {
     "data": {
      "text/html": [
       "<div>\n",
       "<style scoped>\n",
       "    .dataframe tbody tr th:only-of-type {\n",
       "        vertical-align: middle;\n",
       "    }\n",
       "\n",
       "    .dataframe tbody tr th {\n",
       "        vertical-align: top;\n",
       "    }\n",
       "\n",
       "    .dataframe thead th {\n",
       "        text-align: right;\n",
       "    }\n",
       "</style>\n",
       "<table border=\"1\" class=\"dataframe\">\n",
       "  <thead>\n",
       "    <tr style=\"text-align: right;\">\n",
       "      <th></th>\n",
       "      <th>Name</th>\n",
       "      <th>Location</th>\n",
       "      <th>Percent in Poverty</th>\n",
       "      <th>Lat</th>\n",
       "      <th>Long</th>\n",
       "      <th>Google Place ID</th>\n",
       "    </tr>\n",
       "  </thead>\n",
       "  <tbody>\n",
       "    <tr>\n",
       "      <th>0</th>\n",
       "      <td>Alcott Elementary School</td>\n",
       "      <td>Houston</td>\n",
       "      <td>96.26</td>\n",
       "      <td>29.666799</td>\n",
       "      <td>-95.329739</td>\n",
       "      <td>ChIJY3O44eyVQIYRkd7gUx2R1cU</td>\n",
       "    </tr>\n",
       "    <tr>\n",
       "      <th>1</th>\n",
       "      <td>Almeda Elementary</td>\n",
       "      <td>Houston</td>\n",
       "      <td>85.43</td>\n",
       "      <td>29.600464</td>\n",
       "      <td>-95.417465</td>\n",
       "      <td>ChIJHTuzqmnrQIYR4WZU7Nytzc8</td>\n",
       "    </tr>\n",
       "    <tr>\n",
       "      <th>2</th>\n",
       "      <td>Anderson Elementary School</td>\n",
       "      <td>Houston</td>\n",
       "      <td>87.79</td>\n",
       "      <td>29.648826</td>\n",
       "      <td>-95.487168</td>\n",
       "      <td>ChIJEza6443pQIYR38BS3Xn8zOA</td>\n",
       "    </tr>\n",
       "    <tr>\n",
       "      <th>3</th>\n",
       "      <td>Atherton Elementary School</td>\n",
       "      <td>Houston</td>\n",
       "      <td>97.06</td>\n",
       "      <td>29.779675</td>\n",
       "      <td>-95.321932</td>\n",
       "      <td>ChIJ-UwU8025QIYRMHCmAsROrjg</td>\n",
       "    </tr>\n",
       "    <tr>\n",
       "      <th>4</th>\n",
       "      <td>Barrick Elementary School</td>\n",
       "      <td>Houston</td>\n",
       "      <td>94.60</td>\n",
       "      <td>29.874547</td>\n",
       "      <td>-95.370621</td>\n",
       "      <td>ChIJCyOuB423QIYRYerLRb56eYM</td>\n",
       "    </tr>\n",
       "  </tbody>\n",
       "</table>\n",
       "</div>"
      ],
      "text/plain": [
       "                         Name Location  Percent in Poverty        Lat  \\\n",
       "0    Alcott Elementary School  Houston               96.26  29.666799   \n",
       "1           Almeda Elementary  Houston               85.43  29.600464   \n",
       "2  Anderson Elementary School  Houston               87.79  29.648826   \n",
       "3  Atherton Elementary School  Houston               97.06  29.779675   \n",
       "4   Barrick Elementary School  Houston               94.60  29.874547   \n",
       "\n",
       "        Long              Google Place ID  \n",
       "0 -95.329739  ChIJY3O44eyVQIYRkd7gUx2R1cU  \n",
       "1 -95.417465  ChIJHTuzqmnrQIYR4WZU7Nytzc8  \n",
       "2 -95.487168  ChIJEza6443pQIYR38BS3Xn8zOA  \n",
       "3 -95.321932  ChIJ-UwU8025QIYRMHCmAsROrjg  \n",
       "4 -95.370621  ChIJCyOuB423QIYRYerLRb56eYM  "
      ]
     },
     "execution_count": 10,
     "metadata": {},
     "output_type": "execute_result"
    }
   ],
   "source": [
    "Houston = pd.read_csv(\"Houston_coords.csv\")\n",
    "Houston_df = pd.DataFrame(Houston)\n",
    "Houston_df.head()"
   ]
  },
  {
   "cell_type": "code",
   "execution_count": 11,
   "metadata": {},
   "outputs": [],
   "source": [
    "# Setting locations and weights\n",
    "Houston_locations = Houston_df[[\"Lat\", \"Long\"]].astype(float)\n",
    "Houston_weights = Houston_df[\"Percent in Poverty\"]"
   ]
  },
  {
   "cell_type": "code",
   "execution_count": 12,
   "metadata": {},
   "outputs": [
    {
     "data": {
      "application/vnd.jupyter.widget-view+json": {
       "model_id": "9fdaf1223bf541adbdb39a3bfa20399b",
       "version_major": 2,
       "version_minor": 0
      },
      "text/plain": [
       "Figure(layout=FigureLayout(height='420px'))"
      ]
     },
     "metadata": {},
     "output_type": "display_data"
    }
   ],
   "source": [
    "# Setting up the heat map\n",
    "gmaps.configure(api_key = gkey)\n",
    "\n",
    "fig = gmaps.figure()\n",
    "\n",
    "heat_layer = gmaps.heatmap_layer(locations = Houston_locations, weights=Houston_weights, \n",
    "                                 max_intensity = 100, point_radius = 15)\n",
    "\n",
    "fig.add_layer(heat_layer)\n",
    "\n",
    "fig"
   ]
  },
  {
   "cell_type": "code",
   "execution_count": null,
   "metadata": {},
   "outputs": [],
   "source": []
  }
 ],
 "metadata": {
  "kernelspec": {
   "display_name": "Python 3",
   "language": "python",
   "name": "python3"
  },
  "language_info": {
   "codemirror_mode": {
    "name": "ipython",
    "version": 3
   },
   "file_extension": ".py",
   "mimetype": "text/x-python",
   "name": "python",
   "nbconvert_exporter": "python",
   "pygments_lexer": "ipython3",
   "version": "3.6.8"
  }
 },
 "nbformat": 4,
 "nbformat_minor": 2
}
